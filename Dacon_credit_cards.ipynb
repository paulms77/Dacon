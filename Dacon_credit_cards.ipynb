{
  "nbformat": 4,
  "nbformat_minor": 0,
  "metadata": {
    "colab": {
      "name": "Dacon_credit_cards.ipynb",
      "provenance": [],
      "collapsed_sections": []
    },
    "kernelspec": {
      "display_name": "Python 3",
      "name": "python3"
    },
    "language_info": {
      "name": "python"
    }
  },
  "cells": [
    {
      "cell_type": "code",
      "metadata": {
        "colab": {
          "base_uri": "https://localhost:8080/"
        },
        "id": "rQRdKaBYjANT",
        "outputId": "72ced84b-3520-4ece-fc04-0c320cd8be37"
      },
      "source": [
        "pip install catboost"
      ],
      "execution_count": null,
      "outputs": [
        {
          "output_type": "stream",
          "text": [
            "Requirement already satisfied: catboost in /usr/local/lib/python3.7/dist-packages (0.25.1)\n",
            "Requirement already satisfied: matplotlib in /usr/local/lib/python3.7/dist-packages (from catboost) (3.2.2)\n",
            "Requirement already satisfied: scipy in /usr/local/lib/python3.7/dist-packages (from catboost) (1.4.1)\n",
            "Requirement already satisfied: graphviz in /usr/local/lib/python3.7/dist-packages (from catboost) (0.10.1)\n",
            "Requirement already satisfied: plotly in /usr/local/lib/python3.7/dist-packages (from catboost) (4.4.1)\n",
            "Requirement already satisfied: six in /usr/local/lib/python3.7/dist-packages (from catboost) (1.15.0)\n",
            "Requirement already satisfied: numpy>=1.16.0 in /usr/local/lib/python3.7/dist-packages (from catboost) (1.19.5)\n",
            "Requirement already satisfied: pandas>=0.24.0 in /usr/local/lib/python3.7/dist-packages (from catboost) (1.1.5)\n",
            "Requirement already satisfied: pyparsing!=2.0.4,!=2.1.2,!=2.1.6,>=2.0.1 in /usr/local/lib/python3.7/dist-packages (from matplotlib->catboost) (2.4.7)\n",
            "Requirement already satisfied: python-dateutil>=2.1 in /usr/local/lib/python3.7/dist-packages (from matplotlib->catboost) (2.8.1)\n",
            "Requirement already satisfied: kiwisolver>=1.0.1 in /usr/local/lib/python3.7/dist-packages (from matplotlib->catboost) (1.3.1)\n",
            "Requirement already satisfied: cycler>=0.10 in /usr/local/lib/python3.7/dist-packages (from matplotlib->catboost) (0.10.0)\n",
            "Requirement already satisfied: retrying>=1.3.3 in /usr/local/lib/python3.7/dist-packages (from plotly->catboost) (1.3.3)\n",
            "Requirement already satisfied: pytz>=2017.2 in /usr/local/lib/python3.7/dist-packages (from pandas>=0.24.0->catboost) (2018.9)\n"
          ],
          "name": "stdout"
        }
      ]
    },
    {
      "cell_type": "code",
      "metadata": {
        "colab": {
          "base_uri": "https://localhost:8080/"
        },
        "id": "yoErxVO1UuR0",
        "outputId": "2aa4f3ac-0142-47eb-b0e4-c14e82c73b39"
      },
      "source": [
        "pip install hyperopt"
      ],
      "execution_count": null,
      "outputs": [
        {
          "output_type": "stream",
          "text": [
            "Requirement already satisfied: hyperopt in /usr/local/lib/python3.7/dist-packages (0.1.2)\n",
            "Requirement already satisfied: six in /usr/local/lib/python3.7/dist-packages (from hyperopt) (1.15.0)\n",
            "Requirement already satisfied: pymongo in /usr/local/lib/python3.7/dist-packages (from hyperopt) (3.11.4)\n",
            "Requirement already satisfied: scipy in /usr/local/lib/python3.7/dist-packages (from hyperopt) (1.4.1)\n",
            "Requirement already satisfied: future in /usr/local/lib/python3.7/dist-packages (from hyperopt) (0.16.0)\n",
            "Requirement already satisfied: networkx in /usr/local/lib/python3.7/dist-packages (from hyperopt) (2.5.1)\n",
            "Requirement already satisfied: tqdm in /usr/local/lib/python3.7/dist-packages (from hyperopt) (4.41.1)\n",
            "Requirement already satisfied: numpy in /usr/local/lib/python3.7/dist-packages (from hyperopt) (1.19.5)\n",
            "Requirement already satisfied: decorator<5,>=4.3 in /usr/local/lib/python3.7/dist-packages (from networkx->hyperopt) (4.4.2)\n"
          ],
          "name": "stdout"
        }
      ]
    },
    {
      "cell_type": "code",
      "metadata": {
        "id": "nv0A-pdojKc4"
      },
      "source": [
        "import warnings\n",
        "warnings.filterwarnings('ignore')\n",
        "import glob\n",
        "import pandas as pd\n",
        "import numpy as np\n",
        "import random\n",
        "import xgboost as xgb\n",
        "from sklearn.preprocessing import OneHotEncoder, LabelEncoder, LabelBinarizer\n",
        "from sklearn.model_selection import train_test_split\n",
        "from sklearn.model_selection import StratifiedKFold\n",
        "from lightgbm import LGBMClassifier\n",
        "import hyperopt\n",
        "from hyperopt import fmin, tpe, hp, STATUS_OK, Trials"
      ],
      "execution_count": null,
      "outputs": []
    },
    {
      "cell_type": "code",
      "metadata": {
        "id": "xKU6tjg6jcx4"
      },
      "source": [
        "train = pd.read_csv('train.csv')\n",
        "test = pd.read_csv('test.csv')\n",
        "submission = pd.read_csv('sample_submission.csv')"
      ],
      "execution_count": null,
      "outputs": []
    },
    {
      "cell_type": "code",
      "metadata": {
        "colab": {
          "base_uri": "https://localhost:8080/",
          "height": 366
        },
        "id": "TzAy7_kCkzMb",
        "outputId": "00071c3a-303c-4cfe-b5b3-ff62badc8eb8"
      },
      "source": [
        "train.head(5)"
      ],
      "execution_count": null,
      "outputs": [
        {
          "output_type": "execute_result",
          "data": {
            "text/html": [
              "<div>\n",
              "<style scoped>\n",
              "    .dataframe tbody tr th:only-of-type {\n",
              "        vertical-align: middle;\n",
              "    }\n",
              "\n",
              "    .dataframe tbody tr th {\n",
              "        vertical-align: top;\n",
              "    }\n",
              "\n",
              "    .dataframe thead th {\n",
              "        text-align: right;\n",
              "    }\n",
              "</style>\n",
              "<table border=\"1\" class=\"dataframe\">\n",
              "  <thead>\n",
              "    <tr style=\"text-align: right;\">\n",
              "      <th></th>\n",
              "      <th>index</th>\n",
              "      <th>gender</th>\n",
              "      <th>car</th>\n",
              "      <th>reality</th>\n",
              "      <th>child_num</th>\n",
              "      <th>income_total</th>\n",
              "      <th>income_type</th>\n",
              "      <th>edu_type</th>\n",
              "      <th>family_type</th>\n",
              "      <th>house_type</th>\n",
              "      <th>DAYS_BIRTH</th>\n",
              "      <th>DAYS_EMPLOYED</th>\n",
              "      <th>FLAG_MOBIL</th>\n",
              "      <th>work_phone</th>\n",
              "      <th>phone</th>\n",
              "      <th>email</th>\n",
              "      <th>occyp_type</th>\n",
              "      <th>family_size</th>\n",
              "      <th>begin_month</th>\n",
              "      <th>credit</th>\n",
              "    </tr>\n",
              "  </thead>\n",
              "  <tbody>\n",
              "    <tr>\n",
              "      <th>0</th>\n",
              "      <td>0</td>\n",
              "      <td>F</td>\n",
              "      <td>N</td>\n",
              "      <td>N</td>\n",
              "      <td>0</td>\n",
              "      <td>202500.0</td>\n",
              "      <td>Commercial associate</td>\n",
              "      <td>Higher education</td>\n",
              "      <td>Married</td>\n",
              "      <td>Municipal apartment</td>\n",
              "      <td>-13899</td>\n",
              "      <td>-4709</td>\n",
              "      <td>1</td>\n",
              "      <td>0</td>\n",
              "      <td>0</td>\n",
              "      <td>0</td>\n",
              "      <td>NaN</td>\n",
              "      <td>2.0</td>\n",
              "      <td>-6.0</td>\n",
              "      <td>1.0</td>\n",
              "    </tr>\n",
              "    <tr>\n",
              "      <th>1</th>\n",
              "      <td>1</td>\n",
              "      <td>F</td>\n",
              "      <td>N</td>\n",
              "      <td>Y</td>\n",
              "      <td>1</td>\n",
              "      <td>247500.0</td>\n",
              "      <td>Commercial associate</td>\n",
              "      <td>Secondary / secondary special</td>\n",
              "      <td>Civil marriage</td>\n",
              "      <td>House / apartment</td>\n",
              "      <td>-11380</td>\n",
              "      <td>-1540</td>\n",
              "      <td>1</td>\n",
              "      <td>0</td>\n",
              "      <td>0</td>\n",
              "      <td>1</td>\n",
              "      <td>Laborers</td>\n",
              "      <td>3.0</td>\n",
              "      <td>-5.0</td>\n",
              "      <td>1.0</td>\n",
              "    </tr>\n",
              "    <tr>\n",
              "      <th>2</th>\n",
              "      <td>2</td>\n",
              "      <td>M</td>\n",
              "      <td>Y</td>\n",
              "      <td>Y</td>\n",
              "      <td>0</td>\n",
              "      <td>450000.0</td>\n",
              "      <td>Working</td>\n",
              "      <td>Higher education</td>\n",
              "      <td>Married</td>\n",
              "      <td>House / apartment</td>\n",
              "      <td>-19087</td>\n",
              "      <td>-4434</td>\n",
              "      <td>1</td>\n",
              "      <td>0</td>\n",
              "      <td>1</td>\n",
              "      <td>0</td>\n",
              "      <td>Managers</td>\n",
              "      <td>2.0</td>\n",
              "      <td>-22.0</td>\n",
              "      <td>2.0</td>\n",
              "    </tr>\n",
              "    <tr>\n",
              "      <th>3</th>\n",
              "      <td>3</td>\n",
              "      <td>F</td>\n",
              "      <td>N</td>\n",
              "      <td>Y</td>\n",
              "      <td>0</td>\n",
              "      <td>202500.0</td>\n",
              "      <td>Commercial associate</td>\n",
              "      <td>Secondary / secondary special</td>\n",
              "      <td>Married</td>\n",
              "      <td>House / apartment</td>\n",
              "      <td>-15088</td>\n",
              "      <td>-2092</td>\n",
              "      <td>1</td>\n",
              "      <td>0</td>\n",
              "      <td>1</td>\n",
              "      <td>0</td>\n",
              "      <td>Sales staff</td>\n",
              "      <td>2.0</td>\n",
              "      <td>-37.0</td>\n",
              "      <td>0.0</td>\n",
              "    </tr>\n",
              "    <tr>\n",
              "      <th>4</th>\n",
              "      <td>4</td>\n",
              "      <td>F</td>\n",
              "      <td>Y</td>\n",
              "      <td>Y</td>\n",
              "      <td>0</td>\n",
              "      <td>157500.0</td>\n",
              "      <td>State servant</td>\n",
              "      <td>Higher education</td>\n",
              "      <td>Married</td>\n",
              "      <td>House / apartment</td>\n",
              "      <td>-15037</td>\n",
              "      <td>-2105</td>\n",
              "      <td>1</td>\n",
              "      <td>0</td>\n",
              "      <td>0</td>\n",
              "      <td>0</td>\n",
              "      <td>Managers</td>\n",
              "      <td>2.0</td>\n",
              "      <td>-26.0</td>\n",
              "      <td>2.0</td>\n",
              "    </tr>\n",
              "  </tbody>\n",
              "</table>\n",
              "</div>"
            ],
            "text/plain": [
              "   index gender car reality  ...   occyp_type  family_size begin_month credit\n",
              "0      0      F   N       N  ...          NaN          2.0        -6.0    1.0\n",
              "1      1      F   N       Y  ...     Laborers          3.0        -5.0    1.0\n",
              "2      2      M   Y       Y  ...     Managers          2.0       -22.0    2.0\n",
              "3      3      F   N       Y  ...  Sales staff          2.0       -37.0    0.0\n",
              "4      4      F   Y       Y  ...     Managers          2.0       -26.0    2.0\n",
              "\n",
              "[5 rows x 20 columns]"
            ]
          },
          "metadata": {
            "tags": []
          },
          "execution_count": 43
        }
      ]
    },
    {
      "cell_type": "code",
      "metadata": {
        "colab": {
          "base_uri": "https://localhost:8080/"
        },
        "id": "blNFy5Bckv1w",
        "outputId": "dca8dee0-cdf4-4762-809d-aba001e7756a"
      },
      "source": [
        "train.columns"
      ],
      "execution_count": null,
      "outputs": [
        {
          "output_type": "execute_result",
          "data": {
            "text/plain": [
              "Index(['index', 'gender', 'car', 'reality', 'child_num', 'income_total',\n",
              "       'income_type', 'edu_type', 'family_type', 'house_type', 'DAYS_BIRTH',\n",
              "       'DAYS_EMPLOYED', 'FLAG_MOBIL', 'work_phone', 'phone', 'email',\n",
              "       'occyp_type', 'family_size', 'begin_month', 'credit'],\n",
              "      dtype='object')"
            ]
          },
          "metadata": {
            "tags": []
          },
          "execution_count": 44
        }
      ]
    },
    {
      "cell_type": "markdown",
      "metadata": {
        "id": "NnwhdU7dlFYR"
      },
      "source": [
        "# gender 성별"
      ]
    },
    {
      "cell_type": "code",
      "metadata": {
        "colab": {
          "base_uri": "https://localhost:8080/"
        },
        "id": "rcOHSAu6kwiv",
        "outputId": "8102cc3a-f17d-4c92-c600-eeb0515e55c7"
      },
      "source": [
        "print(train.gender.value_counts())\n",
        "print(test.gender.value_counts())"
      ],
      "execution_count": null,
      "outputs": [
        {
          "output_type": "stream",
          "text": [
            "F    17697\n",
            "M     8760\n",
            "Name: gender, dtype: int64\n",
            "F    6733\n",
            "M    3267\n",
            "Name: gender, dtype: int64\n"
          ],
          "name": "stdout"
        }
      ]
    },
    {
      "cell_type": "markdown",
      "metadata": {
        "id": "baJvi8balLVq"
      },
      "source": [
        "# car 차량 소유 여부"
      ]
    },
    {
      "cell_type": "code",
      "metadata": {
        "colab": {
          "base_uri": "https://localhost:8080/"
        },
        "id": "2ht_-FsAlOip",
        "outputId": "5559d7fd-81fc-498f-9660-3eb894c17727"
      },
      "source": [
        "print(train.car.value_counts())\n",
        "print(test.car.value_counts())"
      ],
      "execution_count": null,
      "outputs": [
        {
          "output_type": "stream",
          "text": [
            "N    16410\n",
            "Y    10047\n",
            "Name: car, dtype: int64\n",
            "N    6204\n",
            "Y    3796\n",
            "Name: car, dtype: int64\n"
          ],
          "name": "stdout"
        }
      ]
    },
    {
      "cell_type": "markdown",
      "metadata": {
        "id": "2QVqqTKHlSsw"
      },
      "source": [
        "# reality 부동산 소유 여부"
      ]
    },
    {
      "cell_type": "code",
      "metadata": {
        "colab": {
          "base_uri": "https://localhost:8080/"
        },
        "id": "pPTGOJy1lv0Q",
        "outputId": "b805e574-bbec-4d7d-98e0-a9b575b76bca"
      },
      "source": [
        "print(train.reality.value_counts())\n",
        "print(test.reality.value_counts())"
      ],
      "execution_count": null,
      "outputs": [
        {
          "output_type": "stream",
          "text": [
            "Y    17830\n",
            "N     8627\n",
            "Name: reality, dtype: int64\n",
            "Y    6676\n",
            "N    3324\n",
            "Name: reality, dtype: int64\n"
          ],
          "name": "stdout"
        }
      ]
    },
    {
      "cell_type": "markdown",
      "metadata": {
        "id": "FkHLqXekncCZ"
      },
      "source": [
        "- 범주형 변수 그룹화 (성별, 차량 소유 여부, 부동산 소유 여부)"
      ]
    },
    {
      "cell_type": "code",
      "metadata": {
        "colab": {
          "base_uri": "https://localhost:8080/"
        },
        "id": "YEZgcSYNn5iX",
        "outputId": "382c66e9-af93-4f66-cd59-2303d92361da"
      },
      "source": [
        "train.gender.value_counts().index"
      ],
      "execution_count": null,
      "outputs": [
        {
          "output_type": "execute_result",
          "data": {
            "text/plain": [
              "Index(['F', 'M'], dtype='object')"
            ]
          },
          "metadata": {
            "tags": []
          },
          "execution_count": 48
        }
      ]
    },
    {
      "cell_type": "code",
      "metadata": {
        "colab": {
          "base_uri": "https://localhost:8080/",
          "height": 282
        },
        "id": "jI7uEEz3nbsW",
        "outputId": "98db2b4a-a9ee-44d8-eca2-a8b1cf157044"
      },
      "source": [
        "train['gender_car_reality'] = (train.gender + '_' + train.car + '_' + train.reality).astype(str)\n",
        "test['gender_car_reality'] = (test.gender + '_' + test.car + '_' + test.reality).astype(str)\n",
        "train.groupby(['gender_car_reality'])['index'].count().reset_index(name = 'count').sort_values(by = 'count')"
      ],
      "execution_count": null,
      "outputs": [
        {
          "output_type": "execute_result",
          "data": {
            "text/html": [
              "<div>\n",
              "<style scoped>\n",
              "    .dataframe tbody tr th:only-of-type {\n",
              "        vertical-align: middle;\n",
              "    }\n",
              "\n",
              "    .dataframe tbody tr th {\n",
              "        vertical-align: top;\n",
              "    }\n",
              "\n",
              "    .dataframe thead th {\n",
              "        text-align: right;\n",
              "    }\n",
              "</style>\n",
              "<table border=\"1\" class=\"dataframe\">\n",
              "  <thead>\n",
              "    <tr style=\"text-align: right;\">\n",
              "      <th></th>\n",
              "      <th>gender_car_reality</th>\n",
              "      <th>count</th>\n",
              "    </tr>\n",
              "  </thead>\n",
              "  <tbody>\n",
              "    <tr>\n",
              "      <th>4</th>\n",
              "      <td>M_N_N</td>\n",
              "      <td>1231</td>\n",
              "    </tr>\n",
              "    <tr>\n",
              "      <th>2</th>\n",
              "      <td>F_Y_N</td>\n",
              "      <td>1465</td>\n",
              "    </tr>\n",
              "    <tr>\n",
              "      <th>6</th>\n",
              "      <td>M_Y_N</td>\n",
              "      <td>1911</td>\n",
              "    </tr>\n",
              "    <tr>\n",
              "      <th>5</th>\n",
              "      <td>M_N_Y</td>\n",
              "      <td>2013</td>\n",
              "    </tr>\n",
              "    <tr>\n",
              "      <th>3</th>\n",
              "      <td>F_Y_Y</td>\n",
              "      <td>3066</td>\n",
              "    </tr>\n",
              "    <tr>\n",
              "      <th>7</th>\n",
              "      <td>M_Y_Y</td>\n",
              "      <td>3605</td>\n",
              "    </tr>\n",
              "    <tr>\n",
              "      <th>0</th>\n",
              "      <td>F_N_N</td>\n",
              "      <td>4020</td>\n",
              "    </tr>\n",
              "    <tr>\n",
              "      <th>1</th>\n",
              "      <td>F_N_Y</td>\n",
              "      <td>9146</td>\n",
              "    </tr>\n",
              "  </tbody>\n",
              "</table>\n",
              "</div>"
            ],
            "text/plain": [
              "  gender_car_reality  count\n",
              "4              M_N_N   1231\n",
              "2              F_Y_N   1465\n",
              "6              M_Y_N   1911\n",
              "5              M_N_Y   2013\n",
              "3              F_Y_Y   3066\n",
              "7              M_Y_Y   3605\n",
              "0              F_N_N   4020\n",
              "1              F_N_Y   9146"
            ]
          },
          "metadata": {
            "tags": []
          },
          "execution_count": 49
        }
      ]
    },
    {
      "cell_type": "markdown",
      "metadata": {
        "id": "pA4vZAUjl22-"
      },
      "source": [
        "# FLAG_MOBIL 핸드폰 소유 여부\n",
        "- 모두 1, 카드를 사용한 사람들은 모두 모바일 핸드폰을 소유하고 있다.\n",
        "- 필요없는 변수"
      ]
    },
    {
      "cell_type": "code",
      "metadata": {
        "colab": {
          "base_uri": "https://localhost:8080/"
        },
        "id": "iPchOVbjlzuG",
        "outputId": "36e2d4e0-b157-455c-e246-2421db93c117"
      },
      "source": [
        "print(train.FLAG_MOBIL.value_counts())\n",
        "print(test.FLAG_MOBIL.value_counts())"
      ],
      "execution_count": null,
      "outputs": [
        {
          "output_type": "stream",
          "text": [
            "1    26457\n",
            "Name: FLAG_MOBIL, dtype: int64\n",
            "1    10000\n",
            "Name: FLAG_MOBIL, dtype: int64\n"
          ],
          "name": "stdout"
        }
      ]
    },
    {
      "cell_type": "markdown",
      "metadata": {
        "id": "oYtyqv24mNe4"
      },
      "source": [
        "# work_phone 업무용 전화 소유 여부"
      ]
    },
    {
      "cell_type": "code",
      "metadata": {
        "colab": {
          "base_uri": "https://localhost:8080/"
        },
        "id": "P6_TJArrmAu5",
        "outputId": "55534d17-5360-4b20-9669-2a249086f329"
      },
      "source": [
        "print(train.work_phone.value_counts())\n",
        "print(test.work_phone.value_counts())"
      ],
      "execution_count": null,
      "outputs": [
        {
          "output_type": "stream",
          "text": [
            "0    20511\n",
            "1     5946\n",
            "Name: work_phone, dtype: int64\n",
            "0    7724\n",
            "1    2276\n",
            "Name: work_phone, dtype: int64\n"
          ],
          "name": "stdout"
        }
      ]
    },
    {
      "cell_type": "markdown",
      "metadata": {
        "id": "8te8F4rUmXhQ"
      },
      "source": [
        "# phone 전화 소유 여부"
      ]
    },
    {
      "cell_type": "code",
      "metadata": {
        "colab": {
          "base_uri": "https://localhost:8080/"
        },
        "id": "nfB3_YAsmVZY",
        "outputId": "0b5ab244-5d7e-4413-f624-86a9afa2ff97"
      },
      "source": [
        "print(train.phone.value_counts())\n",
        "print(train.phone.value_counts())"
      ],
      "execution_count": null,
      "outputs": [
        {
          "output_type": "stream",
          "text": [
            "0    18672\n",
            "1     7785\n",
            "Name: phone, dtype: int64\n",
            "0    18672\n",
            "1     7785\n",
            "Name: phone, dtype: int64\n"
          ],
          "name": "stdout"
        }
      ]
    },
    {
      "cell_type": "markdown",
      "metadata": {
        "id": "m7BWdihcnBzL"
      },
      "source": [
        "# email 이메일 소유 여부"
      ]
    },
    {
      "cell_type": "code",
      "metadata": {
        "colab": {
          "base_uri": "https://localhost:8080/"
        },
        "id": "ir528yupm_fx",
        "outputId": "11da8825-3d64-4026-926c-def5ca8c54fa"
      },
      "source": [
        "print(train.email.value_counts())\n",
        "print(test.email.value_counts())"
      ],
      "execution_count": null,
      "outputs": [
        {
          "output_type": "stream",
          "text": [
            "0    24042\n",
            "1     2415\n",
            "Name: email, dtype: int64\n",
            "0    9144\n",
            "1     856\n",
            "Name: email, dtype: int64\n"
          ],
          "name": "stdout"
        }
      ]
    },
    {
      "cell_type": "markdown",
      "metadata": {
        "id": "5GwOzfPb4hz3"
      },
      "source": [
        "- 매핑 후 범주형 변수 그룹화 (핸드폰 소유 여부, 업무용 폰 소유 여부, 전화 소유 여부, 이메일 소유 여부)"
      ]
    },
    {
      "cell_type": "code",
      "metadata": {
        "id": "ZeeW5hWU2tTu"
      },
      "source": [
        "for col in ['FLAG_MOBIL','work_phone','phone','email']:\n",
        "  train[col] = train[col].map(lambda x: 'N' if x == 0 else 'Y')\n",
        "  test[col] = test[col].map(lambda x: 'N' if x == 0 else 'Y')"
      ],
      "execution_count": null,
      "outputs": []
    },
    {
      "cell_type": "code",
      "metadata": {
        "colab": {
          "base_uri": "https://localhost:8080/",
          "height": 282
        },
        "id": "pmDxDXk2nGGh",
        "outputId": "85279a29-6ba5-4de8-96c9-a0ed3f6bb24a"
      },
      "source": [
        "train['phones_email'] = (train.FLAG_MOBIL + '_' + train.work_phone + '_' + train.phone + '_' + train.email).astype(str)\n",
        "test['phones_email'] = (test.FLAG_MOBIL + '_' + test.work_phone + '_' + test.phone + '_' + test.email).astype(str)\n",
        "train.groupby(['phones_email'])['index'].count().reset_index(name = 'count').sort_values(by = 'count')"
      ],
      "execution_count": null,
      "outputs": [
        {
          "output_type": "execute_result",
          "data": {
            "text/html": [
              "<div>\n",
              "<style scoped>\n",
              "    .dataframe tbody tr th:only-of-type {\n",
              "        vertical-align: middle;\n",
              "    }\n",
              "\n",
              "    .dataframe tbody tr th {\n",
              "        vertical-align: top;\n",
              "    }\n",
              "\n",
              "    .dataframe thead th {\n",
              "        text-align: right;\n",
              "    }\n",
              "</style>\n",
              "<table border=\"1\" class=\"dataframe\">\n",
              "  <thead>\n",
              "    <tr style=\"text-align: right;\">\n",
              "      <th></th>\n",
              "      <th>phones_email</th>\n",
              "      <th>count</th>\n",
              "    </tr>\n",
              "  </thead>\n",
              "  <tbody>\n",
              "    <tr>\n",
              "      <th>5</th>\n",
              "      <td>Y_Y_N_Y</td>\n",
              "      <td>166</td>\n",
              "    </tr>\n",
              "    <tr>\n",
              "      <th>7</th>\n",
              "      <td>Y_Y_Y_Y</td>\n",
              "      <td>278</td>\n",
              "    </tr>\n",
              "    <tr>\n",
              "      <th>3</th>\n",
              "      <td>Y_N_Y_Y</td>\n",
              "      <td>476</td>\n",
              "    </tr>\n",
              "    <tr>\n",
              "      <th>1</th>\n",
              "      <td>Y_N_N_Y</td>\n",
              "      <td>1495</td>\n",
              "    </tr>\n",
              "    <tr>\n",
              "      <th>4</th>\n",
              "      <td>Y_Y_N_N</td>\n",
              "      <td>2469</td>\n",
              "    </tr>\n",
              "    <tr>\n",
              "      <th>6</th>\n",
              "      <td>Y_Y_Y_N</td>\n",
              "      <td>3033</td>\n",
              "    </tr>\n",
              "    <tr>\n",
              "      <th>2</th>\n",
              "      <td>Y_N_Y_N</td>\n",
              "      <td>3998</td>\n",
              "    </tr>\n",
              "    <tr>\n",
              "      <th>0</th>\n",
              "      <td>Y_N_N_N</td>\n",
              "      <td>14542</td>\n",
              "    </tr>\n",
              "  </tbody>\n",
              "</table>\n",
              "</div>"
            ],
            "text/plain": [
              "  phones_email  count\n",
              "5      Y_Y_N_Y    166\n",
              "7      Y_Y_Y_Y    278\n",
              "3      Y_N_Y_Y    476\n",
              "1      Y_N_N_Y   1495\n",
              "4      Y_Y_N_N   2469\n",
              "6      Y_Y_Y_N   3033\n",
              "2      Y_N_Y_N   3998\n",
              "0      Y_N_N_N  14542"
            ]
          },
          "metadata": {
            "tags": []
          },
          "execution_count": 55
        }
      ]
    },
    {
      "cell_type": "markdown",
      "metadata": {
        "id": "mLBohfR54143"
      },
      "source": [
        "# family_size 가족 규모"
      ]
    },
    {
      "cell_type": "code",
      "metadata": {
        "colab": {
          "base_uri": "https://localhost:8080/"
        },
        "id": "HhnQuinZ4Mxk",
        "outputId": "8881dca1-5710-41fc-e212-4a458b25dff4"
      },
      "source": [
        "print(train.family_size.value_counts())\n",
        "print(test.family_size.value_counts())"
      ],
      "execution_count": null,
      "outputs": [
        {
          "output_type": "stream",
          "text": [
            "2.0     14106\n",
            "1.0      5109\n",
            "3.0      4632\n",
            "4.0      2260\n",
            "5.0       291\n",
            "6.0        44\n",
            "7.0         9\n",
            "15.0        3\n",
            "9.0         2\n",
            "20.0        1\n",
            "Name: family_size, dtype: int64\n",
            "2.0    5357\n",
            "1.0    1878\n",
            "3.0    1789\n",
            "4.0     846\n",
            "5.0     106\n",
            "6.0      14\n",
            "7.0      10\n",
            "Name: family_size, dtype: int64\n"
          ],
          "name": "stdout"
        }
      ]
    },
    {
      "cell_type": "markdown",
      "metadata": {
        "id": "cZ1tCdHw6pLz"
      },
      "source": [
        "- 가족 수가 5 이상 부터는 규모가 큰 것으로 판단 5 이상부터는 동일하게 처리"
      ]
    },
    {
      "cell_type": "code",
      "metadata": {
        "id": "V-G732374_xM"
      },
      "source": [
        "train['family_size'][train['family_size'] >= 5] = 5\n",
        "test['family_size'][test['family_size'] >= 5] = 5"
      ],
      "execution_count": null,
      "outputs": []
    },
    {
      "cell_type": "markdown",
      "metadata": {
        "id": "aolD0jZc8gwA"
      },
      "source": [
        "# income_total 전체소득"
      ]
    },
    {
      "cell_type": "markdown",
      "metadata": {
        "id": "YEDDj2MV9DRj"
      },
      "source": [
        "- 소득구간 나누기 방법1"
      ]
    },
    {
      "cell_type": "code",
      "metadata": {
        "colab": {
          "base_uri": "https://localhost:8080/",
          "height": 366
        },
        "id": "7WGIEqJx8kDo",
        "outputId": "4bdad749-932f-4961-a75d-fb9a1ee103a9"
      },
      "source": [
        "count, bins = np.histogram(train.income_total, bins = 5)\n",
        "train['income_total_bins'] = pd.cut(train.income_total, bins = bins, labels = ['소득구간1','소득구간2','소득구간3','소득구간4','소득구간5'],include_lowest=True)\n",
        "test['income_total_bins'] = pd.cut(test.income_total, bins = bins, labels = ['소득구간1','소득구간2','소득구간3','소득구간4','소득구간5'],include_lowest=True)\n",
        "train.head()"
      ],
      "execution_count": null,
      "outputs": [
        {
          "output_type": "execute_result",
          "data": {
            "text/html": [
              "<div>\n",
              "<style scoped>\n",
              "    .dataframe tbody tr th:only-of-type {\n",
              "        vertical-align: middle;\n",
              "    }\n",
              "\n",
              "    .dataframe tbody tr th {\n",
              "        vertical-align: top;\n",
              "    }\n",
              "\n",
              "    .dataframe thead th {\n",
              "        text-align: right;\n",
              "    }\n",
              "</style>\n",
              "<table border=\"1\" class=\"dataframe\">\n",
              "  <thead>\n",
              "    <tr style=\"text-align: right;\">\n",
              "      <th></th>\n",
              "      <th>index</th>\n",
              "      <th>gender</th>\n",
              "      <th>car</th>\n",
              "      <th>reality</th>\n",
              "      <th>child_num</th>\n",
              "      <th>income_total</th>\n",
              "      <th>income_type</th>\n",
              "      <th>edu_type</th>\n",
              "      <th>family_type</th>\n",
              "      <th>house_type</th>\n",
              "      <th>DAYS_BIRTH</th>\n",
              "      <th>DAYS_EMPLOYED</th>\n",
              "      <th>FLAG_MOBIL</th>\n",
              "      <th>work_phone</th>\n",
              "      <th>phone</th>\n",
              "      <th>email</th>\n",
              "      <th>occyp_type</th>\n",
              "      <th>family_size</th>\n",
              "      <th>begin_month</th>\n",
              "      <th>credit</th>\n",
              "      <th>gender_car_reality</th>\n",
              "      <th>phones_email</th>\n",
              "      <th>income_total_bins</th>\n",
              "    </tr>\n",
              "  </thead>\n",
              "  <tbody>\n",
              "    <tr>\n",
              "      <th>0</th>\n",
              "      <td>0</td>\n",
              "      <td>F</td>\n",
              "      <td>N</td>\n",
              "      <td>N</td>\n",
              "      <td>0</td>\n",
              "      <td>202500.0</td>\n",
              "      <td>Commercial associate</td>\n",
              "      <td>Higher education</td>\n",
              "      <td>Married</td>\n",
              "      <td>Municipal apartment</td>\n",
              "      <td>-13899</td>\n",
              "      <td>-4709</td>\n",
              "      <td>Y</td>\n",
              "      <td>N</td>\n",
              "      <td>N</td>\n",
              "      <td>N</td>\n",
              "      <td>NaN</td>\n",
              "      <td>2.0</td>\n",
              "      <td>-6.0</td>\n",
              "      <td>1.0</td>\n",
              "      <td>F_N_N</td>\n",
              "      <td>Y_N_N_N</td>\n",
              "      <td>소득구간1</td>\n",
              "    </tr>\n",
              "    <tr>\n",
              "      <th>1</th>\n",
              "      <td>1</td>\n",
              "      <td>F</td>\n",
              "      <td>N</td>\n",
              "      <td>Y</td>\n",
              "      <td>1</td>\n",
              "      <td>247500.0</td>\n",
              "      <td>Commercial associate</td>\n",
              "      <td>Secondary / secondary special</td>\n",
              "      <td>Civil marriage</td>\n",
              "      <td>House / apartment</td>\n",
              "      <td>-11380</td>\n",
              "      <td>-1540</td>\n",
              "      <td>Y</td>\n",
              "      <td>N</td>\n",
              "      <td>N</td>\n",
              "      <td>Y</td>\n",
              "      <td>Laborers</td>\n",
              "      <td>3.0</td>\n",
              "      <td>-5.0</td>\n",
              "      <td>1.0</td>\n",
              "      <td>F_N_Y</td>\n",
              "      <td>Y_N_N_Y</td>\n",
              "      <td>소득구간1</td>\n",
              "    </tr>\n",
              "    <tr>\n",
              "      <th>2</th>\n",
              "      <td>2</td>\n",
              "      <td>M</td>\n",
              "      <td>Y</td>\n",
              "      <td>Y</td>\n",
              "      <td>0</td>\n",
              "      <td>450000.0</td>\n",
              "      <td>Working</td>\n",
              "      <td>Higher education</td>\n",
              "      <td>Married</td>\n",
              "      <td>House / apartment</td>\n",
              "      <td>-19087</td>\n",
              "      <td>-4434</td>\n",
              "      <td>Y</td>\n",
              "      <td>N</td>\n",
              "      <td>Y</td>\n",
              "      <td>N</td>\n",
              "      <td>Managers</td>\n",
              "      <td>2.0</td>\n",
              "      <td>-22.0</td>\n",
              "      <td>2.0</td>\n",
              "      <td>M_Y_Y</td>\n",
              "      <td>Y_N_Y_N</td>\n",
              "      <td>소득구간2</td>\n",
              "    </tr>\n",
              "    <tr>\n",
              "      <th>3</th>\n",
              "      <td>3</td>\n",
              "      <td>F</td>\n",
              "      <td>N</td>\n",
              "      <td>Y</td>\n",
              "      <td>0</td>\n",
              "      <td>202500.0</td>\n",
              "      <td>Commercial associate</td>\n",
              "      <td>Secondary / secondary special</td>\n",
              "      <td>Married</td>\n",
              "      <td>House / apartment</td>\n",
              "      <td>-15088</td>\n",
              "      <td>-2092</td>\n",
              "      <td>Y</td>\n",
              "      <td>N</td>\n",
              "      <td>Y</td>\n",
              "      <td>N</td>\n",
              "      <td>Sales staff</td>\n",
              "      <td>2.0</td>\n",
              "      <td>-37.0</td>\n",
              "      <td>0.0</td>\n",
              "      <td>F_N_Y</td>\n",
              "      <td>Y_N_Y_N</td>\n",
              "      <td>소득구간1</td>\n",
              "    </tr>\n",
              "    <tr>\n",
              "      <th>4</th>\n",
              "      <td>4</td>\n",
              "      <td>F</td>\n",
              "      <td>Y</td>\n",
              "      <td>Y</td>\n",
              "      <td>0</td>\n",
              "      <td>157500.0</td>\n",
              "      <td>State servant</td>\n",
              "      <td>Higher education</td>\n",
              "      <td>Married</td>\n",
              "      <td>House / apartment</td>\n",
              "      <td>-15037</td>\n",
              "      <td>-2105</td>\n",
              "      <td>Y</td>\n",
              "      <td>N</td>\n",
              "      <td>N</td>\n",
              "      <td>N</td>\n",
              "      <td>Managers</td>\n",
              "      <td>2.0</td>\n",
              "      <td>-26.0</td>\n",
              "      <td>2.0</td>\n",
              "      <td>F_Y_Y</td>\n",
              "      <td>Y_N_N_N</td>\n",
              "      <td>소득구간1</td>\n",
              "    </tr>\n",
              "  </tbody>\n",
              "</table>\n",
              "</div>"
            ],
            "text/plain": [
              "   index gender car  ... gender_car_reality  phones_email  income_total_bins\n",
              "0      0      F   N  ...              F_N_N       Y_N_N_N              소득구간1\n",
              "1      1      F   N  ...              F_N_Y       Y_N_N_Y              소득구간1\n",
              "2      2      M   Y  ...              M_Y_Y       Y_N_Y_N              소득구간2\n",
              "3      3      F   N  ...              F_N_Y       Y_N_Y_N              소득구간1\n",
              "4      4      F   Y  ...              F_Y_Y       Y_N_N_N              소득구간1\n",
              "\n",
              "[5 rows x 23 columns]"
            ]
          },
          "metadata": {
            "tags": []
          },
          "execution_count": 58
        }
      ]
    },
    {
      "cell_type": "code",
      "metadata": {
        "id": "Gkyb326w6Qu3"
      },
      "source": [
        "label_encoder = LabelEncoder()\n",
        "train['income_total_bins']=label_encoder.fit_transform(train['income_total_bins'])\n",
        "test['income_total_bins']=label_encoder.fit_transform(test['income_total_bins'])"
      ],
      "execution_count": null,
      "outputs": []
    },
    {
      "cell_type": "markdown",
      "metadata": {
        "id": "hEjD_QfS9KAg"
      },
      "source": [
        "- 소득구간 나누기 방법2"
      ]
    },
    {
      "cell_type": "code",
      "metadata": {
        "colab": {
          "base_uri": "https://localhost:8080/",
          "height": 88
        },
        "id": "L90wf3QQ9Cus",
        "outputId": "d318a3ec-655b-4bfc-ec45-795cf2ce56e5"
      },
      "source": [
        "\"\"\"\n",
        "def bins_divider(data):\n",
        "  data['income_total_bins'] = 0\n",
        "  data.loc[(data['income_total']*100 >= 1000000) & (data['income_total']*100 < 5000000 ),'income_total_bins'] = '소득구간1'\n",
        "  data.loc[(data['income_total']*100 >= 5000000) & (data['income_total']*100 < 10000000 ),'income_total_bins'] = '소득구간2'\n",
        "  data.loc[(data['income_total']*100 >= 10000000) & (data['income_total']*100 < 40000000),'income_total_bins'] = '소득구간3'\n",
        "  data.loc[(data['income_total']*100 >= 40000000) & (data['income_total']*100 < 100000000),'income_total_bins'] = '소득구간4'\n",
        "  data.loc[(data['income_total']*100 >= 100000000),'income_total_bins'] = '소득구간5'\n",
        "\n",
        "bins_divider(train)\n",
        "bins_divider(test)\n",
        "\"\"\""
      ],
      "execution_count": null,
      "outputs": [
        {
          "output_type": "execute_result",
          "data": {
            "application/vnd.google.colaboratory.intrinsic+json": {
              "type": "string"
            },
            "text/plain": [
              "\"\\ndef bins_divider(data):\\n  data['income_total_bins'] = 0\\n  data.loc[(data['income_total']*100 >= 1000000) & (data['income_total']*100 < 5000000 ),'income_total_bins'] = '소득구간1'\\n  data.loc[(data['income_total']*100 >= 5000000) & (data['income_total']*100 < 10000000 ),'income_total_bins'] = '소득구간2'\\n  data.loc[(data['income_total']*100 >= 10000000) & (data['income_total']*100 < 40000000),'income_total_bins'] = '소득구간3'\\n  data.loc[(data['income_total']*100 >= 40000000) & (data['income_total']*100 < 100000000),'income_total_bins'] = '소득구간4'\\n  data.loc[(data['income_total']*100 >= 100000000),'income_total_bins'] = '소득구간5'\\n\\nbins_divider(train)\\nbins_divider(test)\\n\""
            ]
          },
          "metadata": {
            "tags": []
          },
          "execution_count": 60
        }
      ]
    },
    {
      "cell_type": "markdown",
      "metadata": {
        "id": "WDXmNM5i6p-X"
      },
      "source": [
        "# house_type 생활방식\n",
        "['Municipal apartment', 'House/apartment', 'With parents','Co-op apartment', 'Rented apartment','Office apartment']"
      ]
    },
    {
      "cell_type": "code",
      "metadata": {
        "colab": {
          "base_uri": "https://localhost:8080/"
        },
        "id": "iEBE219m6s-F",
        "outputId": "edfc98be-9fe1-4606-f36c-60cc4c0cb71e"
      },
      "source": [
        "print(train.house_type.value_counts())\n",
        "print('='*30)\n",
        "print(test.house_type.value_counts())"
      ],
      "execution_count": null,
      "outputs": [
        {
          "output_type": "stream",
          "text": [
            "House / apartment      23653\n",
            "With parents            1257\n",
            "Municipal apartment      818\n",
            "Rented apartment         429\n",
            "Office apartment         190\n",
            "Co-op apartment          110\n",
            "Name: house_type, dtype: int64\n",
            "==============================\n",
            "House / apartment      8895\n",
            "With parents            519\n",
            "Municipal apartment     310\n",
            "Rented apartment        146\n",
            "Office apartment         72\n",
            "Co-op apartment          58\n",
            "Name: house_type, dtype: int64\n"
          ],
          "name": "stdout"
        }
      ]
    },
    {
      "cell_type": "markdown",
      "metadata": {
        "id": "u81RIPNu7Q87"
      },
      "source": [
        "# occyp_type 직업 유형"
      ]
    },
    {
      "cell_type": "markdown",
      "metadata": {
        "id": "GoMb336KCwlV"
      },
      "source": [
        "- laborers 노동자 x\n",
        "- core staff 핵심 직원 o\n",
        "- sales staff 영업 직원 o\n",
        "- managers 관리자 o\n",
        "- drivers 운전기사 x\n",
        "- high skill tech staff 전문 기술 직원 o\n",
        "- accountants 회계사 o\n",
        "- medicine staff 의료진 o\n",
        "- cooking staff 요리 직원 x\n",
        "- security staff 보안 요원 x\n",
        "- cleaning staff 청소 직원 x\n",
        "- private service staff 개인 서비스 직원 x\n",
        "- Low-skill Laborers 저 숙련 노동자 x\n",
        "- Waiters/barmen staff 웨이터 / 바멘 스태프 x\n",
        "- Secretaries 비서 o\n",
        "- Realty agents 부동산 에이전트 o\n",
        "- HR staff HR 직원 o\n",
        "- IT staff IT 직원 o"
      ]
    },
    {
      "cell_type": "code",
      "metadata": {
        "colab": {
          "base_uri": "https://localhost:8080/"
        },
        "id": "i4Oh_ZYF69gk",
        "outputId": "c11a3809-7da0-4325-95fe-a5249efb21a1"
      },
      "source": [
        "print(train.occyp_type.value_counts())\n",
        "print('='*30)\n",
        "print(train.occyp_type.value_counts())"
      ],
      "execution_count": null,
      "outputs": [
        {
          "output_type": "stream",
          "text": [
            "Laborers                 4512\n",
            "Core staff               2646\n",
            "Sales staff              2539\n",
            "Managers                 2167\n",
            "Drivers                  1575\n",
            "High skill tech staff    1040\n",
            "Accountants               902\n",
            "Medicine staff            864\n",
            "Cooking staff             457\n",
            "Security staff            424\n",
            "Cleaning staff            403\n",
            "Private service staff     243\n",
            "Low-skill Laborers        127\n",
            "Waiters/barmen staff      124\n",
            "Secretaries                97\n",
            "Realty agents              63\n",
            "HR staff                   62\n",
            "IT staff                   41\n",
            "Name: occyp_type, dtype: int64\n",
            "==============================\n",
            "Laborers                 4512\n",
            "Core staff               2646\n",
            "Sales staff              2539\n",
            "Managers                 2167\n",
            "Drivers                  1575\n",
            "High skill tech staff    1040\n",
            "Accountants               902\n",
            "Medicine staff            864\n",
            "Cooking staff             457\n",
            "Security staff            424\n",
            "Cleaning staff            403\n",
            "Private service staff     243\n",
            "Low-skill Laborers        127\n",
            "Waiters/barmen staff      124\n",
            "Secretaries                97\n",
            "Realty agents              63\n",
            "HR staff                   62\n",
            "IT staff                   41\n",
            "Name: occyp_type, dtype: int64\n"
          ],
          "name": "stdout"
        }
      ]
    },
    {
      "cell_type": "markdown",
      "metadata": {
        "id": "Jl2y_iZgB8_b"
      },
      "source": [
        "- 전문/비전문 직종 그룹화\n",
        "- 비슷한 직종 그룹화\n",
        "- 자격증 필요 직종 그룹화"
      ]
    },
    {
      "cell_type": "code",
      "metadata": {
        "id": "NPGhTkFycA_x"
      },
      "source": [
        "def professional(data):\n",
        "  data['professional'] = 'N'\n",
        "  prof = ['Core staff','Sales staff','Managers','High skill tech staff','Accountants','Medicine staff','Secretaries','Realty agents','HR staff','IT staff']\n",
        "  for p in prof:\n",
        "    data['professional'][data['occyp_type'] == p] = 'Y'\n",
        "\n",
        "professional(train)\n",
        "professional(test)"
      ],
      "execution_count": null,
      "outputs": []
    },
    {
      "cell_type": "code",
      "metadata": {
        "colab": {
          "base_uri": "https://localhost:8080/"
        },
        "id": "xLV2CSPoY9Ks",
        "outputId": "0f0d1834-84bd-4cf2-c411-5f174ddad4ce"
      },
      "source": [
        "print(train['professional'].value_counts())\n",
        "print(test['professional'].value_counts())"
      ],
      "execution_count": null,
      "outputs": [
        {
          "output_type": "stream",
          "text": [
            "N    16036\n",
            "Y    10421\n",
            "Name: professional, dtype: int64\n",
            "N    6127\n",
            "Y    3873\n",
            "Name: professional, dtype: int64\n"
          ],
          "name": "stdout"
        }
      ]
    },
    {
      "cell_type": "markdown",
      "metadata": {
        "id": "bYpn76yDYtLz"
      },
      "source": [
        "- occyp_type 결측치의 경우 직업이 없는 백수로 판단"
      ]
    },
    {
      "cell_type": "code",
      "metadata": {
        "id": "VbufPdgKYZxW"
      },
      "source": [
        "train.isnull().sum() # occyp_type 에 결측치 존재\n",
        "train = train.replace(np.nan, 'Nojob')\n",
        "test = test.replace(np.nan, 'Nojob')"
      ],
      "execution_count": null,
      "outputs": []
    },
    {
      "cell_type": "code",
      "metadata": {
        "colab": {
          "base_uri": "https://localhost:8080/",
          "height": 1000
        },
        "id": "PDzcMtIr_fX2",
        "outputId": "e50183d5-8f4d-4ece-9d37-236b6091f23d"
      },
      "source": [
        "#pd.DataFrame(train.groupby(['occyp_type','edu_type'])['edu_type'].count())\n",
        "pre_df = train[['occyp_type','edu_type']].value_counts().reset_index()\n",
        "pre_df.columns = ['occyp_type','edu_type','count']\n",
        "pre_df\n",
        "\n",
        "import matplotlib.pyplot as plt\n",
        "import seaborn as sns\n",
        "plt.subplots(figsize = (30,30))\n",
        "sns.barplot(pre_df['occyp_type'],pre_df['count'],hue=pre_df['edu_type'])\n",
        "# train[['occyp_type','income_total']].groupby(['occyp_type']).mean().sort_values(by='income_total')"
      ],
      "execution_count": null,
      "outputs": [
        {
          "output_type": "execute_result",
          "data": {
            "text/plain": [
              "<matplotlib.axes._subplots.AxesSubplot at 0x7fd182690c90>"
            ]
          },
          "metadata": {
            "tags": []
          },
          "execution_count": 66
        },
        {
          "output_type": "display_data",
          "data": {
            "image/png": "[encoded data removed]",
            "text/plain": [
              "<Figure size 2160x2160 with 1 Axes>"
            ]
          },
          "metadata": {
            "tags": []
          }
        }
      ]
    },
    {
      "cell_type": "markdown",
      "metadata": {
        "id": "3gFxW6Ss7khp"
      },
      "source": [
        "# imcome_type 소득 분류\n",
        "['Commercial associate', 'Working', 'State servant', 'Pensioner', 'Student']"
      ]
    },
    {
      "cell_type": "code",
      "metadata": {
        "colab": {
          "base_uri": "https://localhost:8080/"
        },
        "id": "LwPiheX1gRdY",
        "outputId": "83ced047-f1d9-4dc6-a0d6-298c443d8e35"
      },
      "source": [
        "train['occyp_type'][train['income_type']=='State servant'].value_counts()"
      ],
      "execution_count": null,
      "outputs": [
        {
          "output_type": "execute_result",
          "data": {
            "text/plain": [
              "Core staff               655\n",
              "Nojob                    392\n",
              "Medicine staff           274\n",
              "Managers                 226\n",
              "High skill tech staff    148\n",
              "Laborers                 142\n",
              "Drivers                   87\n",
              "Accountants               69\n",
              "Cooking staff             41\n",
              "Waiters/barmen staff      31\n",
              "Secretaries               22\n",
              "Cleaning staff            16\n",
              "Private service staff     15\n",
              "Security staff            14\n",
              "Sales staff               10\n",
              "IT staff                   6\n",
              "Low-skill Laborers         3\n",
              "HR staff                   3\n",
              "Name: occyp_type, dtype: int64"
            ]
          },
          "metadata": {
            "tags": []
          },
          "execution_count": 67
        }
      ]
    },
    {
      "cell_type": "code",
      "metadata": {
        "colab": {
          "base_uri": "https://localhost:8080/"
        },
        "id": "oBstEh3Y7ZM6",
        "outputId": "cd4795ae-040f-4ba1-a1d2-2b0dc59369dd"
      },
      "source": [
        "print(train.income_type.value_counts())\n",
        "print(test.income_type.value_counts())"
      ],
      "execution_count": null,
      "outputs": [
        {
          "output_type": "stream",
          "text": [
            "Working                 13645\n",
            "Commercial associate     6202\n",
            "Pensioner                4449\n",
            "State servant            2154\n",
            "Student                     7\n",
            "Name: income_type, dtype: int64\n",
            "Working                 5174\n",
            "Commercial associate    2288\n",
            "Pensioner               1703\n",
            "State servant            831\n",
            "Student                    4\n",
            "Name: income_type, dtype: int64\n"
          ],
          "name": "stdout"
        }
      ]
    },
    {
      "cell_type": "markdown",
      "metadata": {
        "id": "uJa3mhC_7rnn"
      },
      "source": [
        "# family_type 결혼 여부\n",
        "['Married', 'Civil marriage', 'Separated', 'Single / not married', 'Widow']"
      ]
    },
    {
      "cell_type": "code",
      "metadata": {
        "colab": {
          "base_uri": "https://localhost:8080/"
        },
        "id": "nqV9a6fd72yy",
        "outputId": "ef787dc3-5ffe-4401-af8f-86302d6b2d73"
      },
      "source": [
        "print(train.family_type.value_counts())\n",
        "print(test.family_type.value_counts())"
      ],
      "execution_count": null,
      "outputs": [
        {
          "output_type": "stream",
          "text": [
            "Married                 18196\n",
            "Single / not married     3496\n",
            "Civil marriage           2123\n",
            "Separated                1539\n",
            "Widow                    1103\n",
            "Name: family_type, dtype: int64\n",
            "Married                 6852\n",
            "Single / not married    1333\n",
            "Civil marriage           822\n",
            "Separated                564\n",
            "Widow                    429\n",
            "Name: family_type, dtype: int64\n"
          ],
          "name": "stdout"
        }
      ]
    },
    {
      "cell_type": "markdown",
      "metadata": {
        "id": "hH0p0oSnivTX"
      },
      "source": [
        "- 싱글 / 미혼모 (구분)"
      ]
    },
    {
      "cell_type": "code",
      "metadata": {
        "colab": {
          "base_uri": "https://localhost:8080/"
        },
        "id": "w7-__M0PheBe",
        "outputId": "cbafea40-cca7-4c99-a30e-bb1da8286e3a"
      },
      "source": [
        "train['child_num'][train['family_type']=='Single / not married'].value_counts()\n"
      ],
      "execution_count": null,
      "outputs": [
        {
          "output_type": "execute_result",
          "data": {
            "text/plain": [
              "0     2987\n",
              "1      440\n",
              "2       56\n",
              "3       12\n",
              "19       1\n",
              "Name: child_num, dtype: int64"
            ]
          },
          "metadata": {
            "tags": []
          },
          "execution_count": 70
        }
      ]
    },
    {
      "cell_type": "code",
      "metadata": {
        "id": "-Tk_Y7d_i7C5"
      },
      "source": [
        "train['family_type'][(train['family_type'] == 'Single / not married') & (train['child_num'] > 0)] = 'not married'\n",
        "train['family_type'][(train['family_type'] == 'Single / not married') & (train['child_num'] == 0)] = 'Single'\n",
        "\n",
        "test['family_type'][(test['family_type'] == 'Single / not married') & (test['child_num'] > 0)] = 'not married'\n",
        "test['family_type'][(test['family_type'] =='Single / not married') & (test['child_num'] == 0)] = 'Single'"
      ],
      "execution_count": null,
      "outputs": []
    },
    {
      "cell_type": "code",
      "metadata": {
        "colab": {
          "base_uri": "https://localhost:8080/"
        },
        "id": "4q9_czQwmLF7",
        "outputId": "e88bbd10-ccaa-458c-99db-da2df7ec1ff7"
      },
      "source": [
        "train['family_type'].value_counts()"
      ],
      "execution_count": null,
      "outputs": [
        {
          "output_type": "execute_result",
          "data": {
            "text/plain": [
              "Married           18196\n",
              "Single             2987\n",
              "Civil marriage     2123\n",
              "Separated          1539\n",
              "Widow              1103\n",
              "not married         509\n",
              "Name: family_type, dtype: int64"
            ]
          },
          "metadata": {
            "tags": []
          },
          "execution_count": 72
        }
      ]
    },
    {
      "cell_type": "markdown",
      "metadata": {
        "id": "CmbcPCNg73pQ"
      },
      "source": [
        "# edu_type 교육 수준\n",
        "['Higher education' ,'Secondary / secondary special', 'Incomplete higher', 'Lower secondary', 'Academic degree']\n",
        "\n",
        "['고등교육','중등교육','불완전한 고등(자퇴)','하급중등교육','학사학위']"
      ]
    },
    {
      "cell_type": "code",
      "metadata": {
        "colab": {
          "base_uri": "https://localhost:8080/"
        },
        "id": "PYKeIvJc8Amq",
        "outputId": "35f5ea9d-65bb-4447-afd7-10dc077d17d1"
      },
      "source": [
        "train.edu_type.value_counts()"
      ],
      "execution_count": null,
      "outputs": [
        {
          "output_type": "execute_result",
          "data": {
            "text/plain": [
              "Secondary / secondary special    17995\n",
              "Higher education                  7162\n",
              "Incomplete higher                 1020\n",
              "Lower secondary                    257\n",
              "Academic degree                     23\n",
              "Name: edu_type, dtype: int64"
            ]
          },
          "metadata": {
            "tags": []
          },
          "execution_count": 73
        }
      ]
    },
    {
      "cell_type": "markdown",
      "metadata": {
        "id": "XG15_g9F8BRe"
      },
      "source": [
        "# credit 신용 기준(사용자의 신용카드 대금 연체를 기준으로 한 신용도)"
      ]
    },
    {
      "cell_type": "code",
      "metadata": {
        "id": "cx6Z5qoC8Izd"
      },
      "source": [
        ""
      ],
      "execution_count": null,
      "outputs": []
    },
    {
      "cell_type": "markdown",
      "metadata": {
        "id": "jk5Lb9iuCGDd"
      },
      "source": [
        "# child_num 소아 수"
      ]
    },
    {
      "cell_type": "code",
      "metadata": {
        "colab": {
          "base_uri": "https://localhost:8080/"
        },
        "id": "xFGjLuA5CHor",
        "outputId": "e327309a-5d41-432a-ea63-41b5746eaa54"
      },
      "source": [
        "train.child_num.value_counts()"
      ],
      "execution_count": null,
      "outputs": [
        {
          "output_type": "execute_result",
          "data": {
            "text/plain": [
              "0     18340\n",
              "1      5386\n",
              "2      2362\n",
              "3       306\n",
              "4        47\n",
              "5        10\n",
              "14        3\n",
              "7         2\n",
              "19        1\n",
              "Name: child_num, dtype: int64"
            ]
          },
          "metadata": {
            "tags": []
          },
          "execution_count": 74
        }
      ]
    },
    {
      "cell_type": "code",
      "metadata": {
        "colab": {
          "base_uri": "https://localhost:8080/",
          "height": 627
        },
        "id": "58dDRgw82R3M",
        "outputId": "769a999f-6f19-4f38-bfd5-4f0102c90703"
      },
      "source": [
        "train[(train['family_size'] - train['child_num'])<0]"
      ],
      "execution_count": null,
      "outputs": [
        {
          "output_type": "execute_result",
          "data": {
            "text/html": [
              "<div>\n",
              "<style scoped>\n",
              "    .dataframe tbody tr th:only-of-type {\n",
              "        vertical-align: middle;\n",
              "    }\n",
              "\n",
              "    .dataframe tbody tr th {\n",
              "        vertical-align: top;\n",
              "    }\n",
              "\n",
              "    .dataframe thead th {\n",
              "        text-align: right;\n",
              "    }\n",
              "</style>\n",
              "<table border=\"1\" class=\"dataframe\">\n",
              "  <thead>\n",
              "    <tr style=\"text-align: right;\">\n",
              "      <th></th>\n",
              "      <th>index</th>\n",
              "      <th>gender</th>\n",
              "      <th>car</th>\n",
              "      <th>reality</th>\n",
              "      <th>child_num</th>\n",
              "      <th>income_total</th>\n",
              "      <th>income_type</th>\n",
              "      <th>edu_type</th>\n",
              "      <th>family_type</th>\n",
              "      <th>house_type</th>\n",
              "      <th>DAYS_BIRTH</th>\n",
              "      <th>DAYS_EMPLOYED</th>\n",
              "      <th>FLAG_MOBIL</th>\n",
              "      <th>work_phone</th>\n",
              "      <th>phone</th>\n",
              "      <th>email</th>\n",
              "      <th>occyp_type</th>\n",
              "      <th>family_size</th>\n",
              "      <th>begin_month</th>\n",
              "      <th>credit</th>\n",
              "      <th>gender_car_reality</th>\n",
              "      <th>phones_email</th>\n",
              "      <th>income_total_bins</th>\n",
              "      <th>professional</th>\n",
              "    </tr>\n",
              "  </thead>\n",
              "  <tbody>\n",
              "    <tr>\n",
              "      <th>8462</th>\n",
              "      <td>8462</td>\n",
              "      <td>M</td>\n",
              "      <td>Y</td>\n",
              "      <td>Y</td>\n",
              "      <td>14</td>\n",
              "      <td>225000.0</td>\n",
              "      <td>Working</td>\n",
              "      <td>Secondary / secondary special</td>\n",
              "      <td>Separated</td>\n",
              "      <td>House / apartment</td>\n",
              "      <td>-17754</td>\n",
              "      <td>-1689</td>\n",
              "      <td>Y</td>\n",
              "      <td>N</td>\n",
              "      <td>N</td>\n",
              "      <td>N</td>\n",
              "      <td>Drivers</td>\n",
              "      <td>5.0</td>\n",
              "      <td>-7.0</td>\n",
              "      <td>2.0</td>\n",
              "      <td>M_Y_Y</td>\n",
              "      <td>Y_N_N_N</td>\n",
              "      <td>0</td>\n",
              "      <td>N</td>\n",
              "    </tr>\n",
              "    <tr>\n",
              "      <th>9021</th>\n",
              "      <td>9021</td>\n",
              "      <td>M</td>\n",
              "      <td>Y</td>\n",
              "      <td>Y</td>\n",
              "      <td>14</td>\n",
              "      <td>225000.0</td>\n",
              "      <td>Working</td>\n",
              "      <td>Secondary / secondary special</td>\n",
              "      <td>Separated</td>\n",
              "      <td>House / apartment</td>\n",
              "      <td>-17754</td>\n",
              "      <td>-1689</td>\n",
              "      <td>Y</td>\n",
              "      <td>N</td>\n",
              "      <td>N</td>\n",
              "      <td>N</td>\n",
              "      <td>Drivers</td>\n",
              "      <td>5.0</td>\n",
              "      <td>-58.0</td>\n",
              "      <td>2.0</td>\n",
              "      <td>M_Y_Y</td>\n",
              "      <td>Y_N_N_N</td>\n",
              "      <td>0</td>\n",
              "      <td>N</td>\n",
              "    </tr>\n",
              "    <tr>\n",
              "      <th>10731</th>\n",
              "      <td>10731</td>\n",
              "      <td>F</td>\n",
              "      <td>N</td>\n",
              "      <td>Y</td>\n",
              "      <td>19</td>\n",
              "      <td>112500.0</td>\n",
              "      <td>Working</td>\n",
              "      <td>Secondary / secondary special</td>\n",
              "      <td>not married</td>\n",
              "      <td>House / apartment</td>\n",
              "      <td>-11057</td>\n",
              "      <td>-1853</td>\n",
              "      <td>Y</td>\n",
              "      <td>Y</td>\n",
              "      <td>Y</td>\n",
              "      <td>N</td>\n",
              "      <td>Waiters/barmen staff</td>\n",
              "      <td>5.0</td>\n",
              "      <td>-5.0</td>\n",
              "      <td>2.0</td>\n",
              "      <td>F_N_Y</td>\n",
              "      <td>Y_Y_Y_N</td>\n",
              "      <td>0</td>\n",
              "      <td>N</td>\n",
              "    </tr>\n",
              "    <tr>\n",
              "      <th>14900</th>\n",
              "      <td>14900</td>\n",
              "      <td>M</td>\n",
              "      <td>Y</td>\n",
              "      <td>N</td>\n",
              "      <td>2</td>\n",
              "      <td>225000.0</td>\n",
              "      <td>Working</td>\n",
              "      <td>Secondary / secondary special</td>\n",
              "      <td>Married</td>\n",
              "      <td>House / apartment</td>\n",
              "      <td>-14776</td>\n",
              "      <td>-2212</td>\n",
              "      <td>Y</td>\n",
              "      <td>N</td>\n",
              "      <td>N</td>\n",
              "      <td>N</td>\n",
              "      <td>Drivers</td>\n",
              "      <td>1.0</td>\n",
              "      <td>-30.0</td>\n",
              "      <td>2.0</td>\n",
              "      <td>M_Y_N</td>\n",
              "      <td>Y_N_N_N</td>\n",
              "      <td>0</td>\n",
              "      <td>N</td>\n",
              "    </tr>\n",
              "    <tr>\n",
              "      <th>25313</th>\n",
              "      <td>25313</td>\n",
              "      <td>F</td>\n",
              "      <td>N</td>\n",
              "      <td>N</td>\n",
              "      <td>7</td>\n",
              "      <td>157500.0</td>\n",
              "      <td>Working</td>\n",
              "      <td>Secondary / secondary special</td>\n",
              "      <td>Married</td>\n",
              "      <td>House / apartment</td>\n",
              "      <td>-13827</td>\n",
              "      <td>-1649</td>\n",
              "      <td>Y</td>\n",
              "      <td>Y</td>\n",
              "      <td>Y</td>\n",
              "      <td>N</td>\n",
              "      <td>Cleaning staff</td>\n",
              "      <td>5.0</td>\n",
              "      <td>-26.0</td>\n",
              "      <td>2.0</td>\n",
              "      <td>F_N_N</td>\n",
              "      <td>Y_Y_Y_N</td>\n",
              "      <td>0</td>\n",
              "      <td>N</td>\n",
              "    </tr>\n",
              "    <tr>\n",
              "      <th>25390</th>\n",
              "      <td>25390</td>\n",
              "      <td>M</td>\n",
              "      <td>Y</td>\n",
              "      <td>Y</td>\n",
              "      <td>14</td>\n",
              "      <td>225000.0</td>\n",
              "      <td>Working</td>\n",
              "      <td>Secondary / secondary special</td>\n",
              "      <td>Separated</td>\n",
              "      <td>House / apartment</td>\n",
              "      <td>-17754</td>\n",
              "      <td>-1689</td>\n",
              "      <td>Y</td>\n",
              "      <td>N</td>\n",
              "      <td>N</td>\n",
              "      <td>N</td>\n",
              "      <td>Drivers</td>\n",
              "      <td>5.0</td>\n",
              "      <td>-43.0</td>\n",
              "      <td>2.0</td>\n",
              "      <td>M_Y_Y</td>\n",
              "      <td>Y_N_N_N</td>\n",
              "      <td>0</td>\n",
              "      <td>N</td>\n",
              "    </tr>\n",
              "    <tr>\n",
              "      <th>25638</th>\n",
              "      <td>25638</td>\n",
              "      <td>F</td>\n",
              "      <td>N</td>\n",
              "      <td>N</td>\n",
              "      <td>7</td>\n",
              "      <td>157500.0</td>\n",
              "      <td>Working</td>\n",
              "      <td>Secondary / secondary special</td>\n",
              "      <td>Married</td>\n",
              "      <td>House / apartment</td>\n",
              "      <td>-13827</td>\n",
              "      <td>-1649</td>\n",
              "      <td>Y</td>\n",
              "      <td>Y</td>\n",
              "      <td>Y</td>\n",
              "      <td>N</td>\n",
              "      <td>Cleaning staff</td>\n",
              "      <td>5.0</td>\n",
              "      <td>-31.0</td>\n",
              "      <td>2.0</td>\n",
              "      <td>F_N_N</td>\n",
              "      <td>Y_Y_Y_N</td>\n",
              "      <td>0</td>\n",
              "      <td>N</td>\n",
              "    </tr>\n",
              "  </tbody>\n",
              "</table>\n",
              "</div>"
            ],
            "text/plain": [
              "       index gender car  ... phones_email  income_total_bins  professional\n",
              "8462    8462      M   Y  ...      Y_N_N_N                  0             N\n",
              "9021    9021      M   Y  ...      Y_N_N_N                  0             N\n",
              "10731  10731      F   N  ...      Y_Y_Y_N                  0             N\n",
              "14900  14900      M   Y  ...      Y_N_N_N                  0             N\n",
              "25313  25313      F   N  ...      Y_Y_Y_N                  0             N\n",
              "25390  25390      M   Y  ...      Y_N_N_N                  0             N\n",
              "25638  25638      F   N  ...      Y_Y_Y_N                  0             N\n",
              "\n",
              "[7 rows x 24 columns]"
            ]
          },
          "metadata": {
            "tags": []
          },
          "execution_count": 75
        }
      ]
    },
    {
      "cell_type": "code",
      "metadata": {
        "colab": {
          "base_uri": "https://localhost:8080/",
          "height": 147
        },
        "id": "4_p_mpj92UyR",
        "outputId": "13884b3b-3ea4-4e85-ac3c-4b71a654c613"
      },
      "source": [
        "test[(test['family_size'] - test['child_num'])<0]"
      ],
      "execution_count": null,
      "outputs": [
        {
          "output_type": "execute_result",
          "data": {
            "text/html": [
              "<div>\n",
              "<style scoped>\n",
              "    .dataframe tbody tr th:only-of-type {\n",
              "        vertical-align: middle;\n",
              "    }\n",
              "\n",
              "    .dataframe tbody tr th {\n",
              "        vertical-align: top;\n",
              "    }\n",
              "\n",
              "    .dataframe thead th {\n",
              "        text-align: right;\n",
              "    }\n",
              "</style>\n",
              "<table border=\"1\" class=\"dataframe\">\n",
              "  <thead>\n",
              "    <tr style=\"text-align: right;\">\n",
              "      <th></th>\n",
              "      <th>index</th>\n",
              "      <th>gender</th>\n",
              "      <th>car</th>\n",
              "      <th>reality</th>\n",
              "      <th>child_num</th>\n",
              "      <th>income_total</th>\n",
              "      <th>income_type</th>\n",
              "      <th>edu_type</th>\n",
              "      <th>family_type</th>\n",
              "      <th>house_type</th>\n",
              "      <th>DAYS_BIRTH</th>\n",
              "      <th>DAYS_EMPLOYED</th>\n",
              "      <th>FLAG_MOBIL</th>\n",
              "      <th>work_phone</th>\n",
              "      <th>phone</th>\n",
              "      <th>email</th>\n",
              "      <th>occyp_type</th>\n",
              "      <th>family_size</th>\n",
              "      <th>begin_month</th>\n",
              "      <th>gender_car_reality</th>\n",
              "      <th>phones_email</th>\n",
              "      <th>income_total_bins</th>\n",
              "      <th>professional</th>\n",
              "    </tr>\n",
              "  </thead>\n",
              "  <tbody>\n",
              "    <tr>\n",
              "      <th>4918</th>\n",
              "      <td>31375</td>\n",
              "      <td>M</td>\n",
              "      <td>Y</td>\n",
              "      <td>N</td>\n",
              "      <td>2</td>\n",
              "      <td>180000.0</td>\n",
              "      <td>Commercial associate</td>\n",
              "      <td>Secondary / secondary special</td>\n",
              "      <td>Married</td>\n",
              "      <td>House / apartment</td>\n",
              "      <td>-14452</td>\n",
              "      <td>-4249</td>\n",
              "      <td>Y</td>\n",
              "      <td>N</td>\n",
              "      <td>N</td>\n",
              "      <td>N</td>\n",
              "      <td>Drivers</td>\n",
              "      <td>1.0</td>\n",
              "      <td>-35.0</td>\n",
              "      <td>M_Y_N</td>\n",
              "      <td>Y_N_N_N</td>\n",
              "      <td>0</td>\n",
              "      <td>N</td>\n",
              "    </tr>\n",
              "  </tbody>\n",
              "</table>\n",
              "</div>"
            ],
            "text/plain": [
              "      index gender car  ... phones_email  income_total_bins  professional\n",
              "4918  31375      M   Y  ...      Y_N_N_N                  0             N\n",
              "\n",
              "[1 rows x 23 columns]"
            ]
          },
          "metadata": {
            "tags": []
          },
          "execution_count": 76
        }
      ]
    },
    {
      "cell_type": "markdown",
      "metadata": {
        "id": "7AcfNE80nIMM"
      },
      "source": [
        "- 자녀 수가  이상 부터는 규모가 큰 것으로 판단  이상부터는 동일하게 처리\n"
      ]
    },
    {
      "cell_type": "code",
      "metadata": {
        "id": "s3xHW4LfnHod"
      },
      "source": [
        "train.loc[train['child_num'] >=3,'child_num']=3\n",
        "test.loc[test['child_num']>=3, 'child_num']=3"
      ],
      "execution_count": null,
      "outputs": []
    },
    {
      "cell_type": "code",
      "metadata": {
        "id": "K0a_oQEH2YsQ"
      },
      "source": [
        "#train['family_size'] = train['family_size'].astype(int)\n",
        "#test['family_size'] = test['family_size'].astype(int)\n",
        "#train.loc[14900,'child_num'] = 0\n",
        "#test.loc[4918,'child_num'] = 0\n",
        "#train.drop(14900,axis=0,inplace=True)\n",
        "#test.drop(4918,axis=0,inplace=True)"
      ],
      "execution_count": null,
      "outputs": []
    },
    {
      "cell_type": "markdown",
      "metadata": {
        "id": "N5s1EPYqCRdv"
      },
      "source": [
        "# DAYS_BIRTH 출생일"
      ]
    },
    {
      "cell_type": "code",
      "metadata": {
        "colab": {
          "base_uri": "https://localhost:8080/"
        },
        "id": "CPpi43PgCUYZ",
        "outputId": "c7843939-87ef-40a9-e0e1-d10bf141fadd"
      },
      "source": [
        "train.DAYS_BIRTH.value_counts()"
      ],
      "execution_count": null,
      "outputs": [
        {
          "output_type": "execute_result",
          "data": {
            "text/plain": [
              "-12676    40\n",
              "-15519    38\n",
              "-14667    32\n",
              "-15140    26\n",
              "-16768    24\n",
              "          ..\n",
              "-9353      1\n",
              "-9901      1\n",
              "-21655     1\n",
              "-11767     1\n",
              "-15726     1\n",
              "Name: DAYS_BIRTH, Length: 6621, dtype: int64"
            ]
          },
          "metadata": {
            "tags": []
          },
          "execution_count": 79
        }
      ]
    },
    {
      "cell_type": "code",
      "metadata": {
        "colab": {
          "base_uri": "https://localhost:8080/"
        },
        "id": "Mp3T_EgdQ3B9",
        "outputId": "fde50d70-4617-411a-82f1-918ab67f4421"
      },
      "source": [
        "np.abs(train.DAYS_BIRTH/365)"
      ],
      "execution_count": null,
      "outputs": [
        {
          "output_type": "execute_result",
          "data": {
            "text/plain": [
              "0        38.079452\n",
              "1        31.178082\n",
              "2        52.293151\n",
              "3        41.336986\n",
              "4        41.197260\n",
              "           ...    \n",
              "26452    33.093151\n",
              "26453    41.893151\n",
              "26454    27.621918\n",
              "26455    27.794521\n",
              "26456    53.613699\n",
              "Name: DAYS_BIRTH, Length: 26457, dtype: float64"
            ]
          },
          "metadata": {
            "tags": []
          },
          "execution_count": 80
        }
      ]
    },
    {
      "cell_type": "markdown",
      "metadata": {
        "id": "ygGTSuHnqyqv"
      },
      "source": [
        "- 부호 변환 ( 음수 -> 양수 )"
      ]
    },
    {
      "cell_type": "code",
      "metadata": {
        "id": "-mgeKaoFqvPc"
      },
      "source": [
        "train['DAYS_BIRTH'] = abs(train['DAYS_BIRTH'])\n",
        "test['DAYS_BIRTH'] = abs(test['DAYS_BIRTH'])"
      ],
      "execution_count": null,
      "outputs": []
    },
    {
      "cell_type": "markdown",
      "metadata": {
        "id": "zJ-aAF-vq8TN"
      },
      "source": [
        "- 나이 변환"
      ]
    },
    {
      "cell_type": "code",
      "metadata": {
        "id": "9twlN8Z7q0lQ"
      },
      "source": [
        "#train['AGE'] = train['DAYS_BIRTH']/365\n",
        "#test['AGE'] = test['DAYS_BIRTH']/365\n",
        "\n",
        "#train['AGE'] = train['DAYS_EMPLOYED']/365\n",
        "#test['AGE'] = test['DAYS_EMPLOYED']/365"
      ],
      "execution_count": null,
      "outputs": []
    },
    {
      "cell_type": "markdown",
      "metadata": {
        "id": "n08qqMYjCIEf"
      },
      "source": [
        "# DAYS_EMPLOYED 업무시작일\n"
      ]
    },
    {
      "cell_type": "code",
      "metadata": {
        "colab": {
          "base_uri": "https://localhost:8080/"
        },
        "id": "l_WlYEaZCM4V",
        "outputId": "33e66e47-2be6-40bd-8c10-26852515a364"
      },
      "source": [
        "train.DAYS_EMPLOYED.value_counts()"
      ],
      "execution_count": null,
      "outputs": [
        {
          "output_type": "execute_result",
          "data": {
            "text/plain": [
              " 365243    4438\n",
              "-401         57\n",
              "-1539        47\n",
              "-200         45\n",
              "-2087        44\n",
              "           ... \n",
              "-8171         1\n",
              "-12253        1\n",
              "-6060         1\n",
              "-1898         1\n",
              "-2103         1\n",
              "Name: DAYS_EMPLOYED, Length: 3470, dtype: int64"
            ]
          },
          "metadata": {
            "tags": []
          },
          "execution_count": 83
        }
      ]
    },
    {
      "cell_type": "code",
      "metadata": {
        "id": "ptlMWzs_RtxG"
      },
      "source": [
        "# np.abs(train.DAYS_EMPLOYED)/365"
      ],
      "execution_count": null,
      "outputs": []
    },
    {
      "cell_type": "markdown",
      "metadata": {
        "id": "_FMuvTqSsoFX"
      },
      "source": [
        "양수는 고용되지 않은 상태를 의미 0으로 변경"
      ]
    },
    {
      "cell_type": "code",
      "metadata": {
        "id": "WQWxVUDist-6"
      },
      "source": [
        "train['DAYS_EMPLOYED'][train['DAYS_EMPLOYED'] > 0] = 0\n",
        "test['DAYS_EMPLOYED'][test['DAYS_EMPLOYED'] > 0] = 0"
      ],
      "execution_count": null,
      "outputs": []
    },
    {
      "cell_type": "code",
      "metadata": {
        "id": "7KI4u1bOuRng"
      },
      "source": [
        "train['DAYS_EMPLOYED'] = abs(train['DAYS_EMPLOYED'])\n",
        "test['DAYS_EMPLOYED'] = abs(test['DAYS_EMPLOYED'])"
      ],
      "execution_count": null,
      "outputs": []
    },
    {
      "cell_type": "markdown",
      "metadata": {
        "id": "dqWwzAmrrevu"
      },
      "source": [
        "- 날짜 변환 (월 , 주, 년)"
      ]
    },
    {
      "cell_type": "code",
      "metadata": {
        "id": "j_zp2SAap6_N"
      },
      "source": [
        "# DAYS_BIRTH\n",
        "train['DAYS_BIRTH_month']=np.floor((train['DAYS_BIRTH'])/30)-((np.floor((train['DAYS_BIRTH'])/30)/12).astype(int)*12)\n",
        "train['DAYS_BIRTH_week']=np.floor((train['DAYS_BIRTH'])/7)-((np.floor((train['DAYS_BIRTH'])/7)/4).astype(int)*4)\n",
        "train['DAYS_BIRTH_year'] = round((train['DAYS_BIRTH']/12))\n",
        "\n",
        "# DAYS_EMPLOYED\n",
        "train['DAYS_EMPLOYED_month']=np.floor((train['DAYS_EMPLOYED'])/30)-((np.floor((train['DAYS_EMPLOYED'])/30)/12).astype(int)*12)\n",
        "train['DAYS_EMPLOYED_week']=np.floor((train['DAYS_EMPLOYED'])/7)-((np.floor((train['DAYS_EMPLOYED'])/7)/4).astype(int)*4)\n",
        "train['DAYS_EMPLOYED_year'] = round((train['DAYS_EMPLOYED']/12))\n",
        "\n",
        "# before_EMPLOYED\n",
        "train['before_EMPLOYED']=train['DAYS_BIRTH']-train['DAYS_EMPLOYED']\n",
        "train['before_EMPLOYED_month']=np.floor((train['before_EMPLOYED'])/30)-((np.floor((train['before_EMPLOYED'])/30)/12).astype(int)*12)\n",
        "train['before_EMPLOYED_week']=np.floor((train['before_EMPLOYED'])/7)-((np.floor((train['before_EMPLOYED'])/7)/4).astype(int)*4)\n",
        "train['before_EMPLOYED_year'] = train['DAYS_BIRTH_year'] - train['DAYS_EMPLOYED_year']\n",
        "\n",
        "# DAYS_BIRTH\n",
        "test['DAYS_BIRTH_month']=np.floor((test['DAYS_BIRTH'])/30)-((np.floor((test['DAYS_BIRTH'])/30)/12).astype(int)*12)\n",
        "test['DAYS_BIRTH_week']=np.floor((test['DAYS_BIRTH'])/7)-((np.floor((test['DAYS_BIRTH'])/7)/4).astype(int)*4)\n",
        "test['DAYS_BIRTH_year'] = round((test['DAYS_BIRTH']/12))\n",
        "\n",
        "# DAYS_EMPLOYED\n",
        "test['DAYS_EMPLOYED_month']=np.floor((test['DAYS_EMPLOYED'])/30)-((np.floor((test['DAYS_EMPLOYED'])/30)/12).astype(int)*12)\n",
        "test['DAYS_EMPLOYED_week']=np.floor((test['DAYS_EMPLOYED'])/7)-((np.floor((test['DAYS_EMPLOYED'])/7)/4).astype(int)*4)\n",
        "test['DAYS_EMPLOYED_year'] = round((test['DAYS_EMPLOYED']/12))\n",
        "\n",
        "# before_EMPLOYED\n",
        "test['before_EMPLOYED']=test['DAYS_BIRTH']-test['DAYS_EMPLOYED']\n",
        "test['before_EMPLOYED_month']=np.floor((test['before_EMPLOYED'])/30)-((np.floor((test['before_EMPLOYED'])/30)/12).astype(int)*12)\n",
        "test['before_EMPLOYED_week']=np.floor((test['before_EMPLOYED'])/7)-((np.floor((test['before_EMPLOYED'])/7)/4).astype(int)*4)\n",
        "test['before_EMPLOYED_year'] = test['DAYS_BIRTH_year'] - test['DAYS_EMPLOYED_year']"
      ],
      "execution_count": null,
      "outputs": []
    },
    {
      "cell_type": "code",
      "metadata": {
        "colab": {
          "base_uri": "https://localhost:8080/",
          "height": 214
        },
        "id": "UxRRDyccwSjC",
        "outputId": "7b0e154a-97cc-45b8-8b20-d7c628d6036e"
      },
      "source": [
        "train.iloc[:,-10:].head()"
      ],
      "execution_count": null,
      "outputs": [
        {
          "output_type": "execute_result",
          "data": {
            "text/html": [
              "<div>\n",
              "<style scoped>\n",
              "    .dataframe tbody tr th:only-of-type {\n",
              "        vertical-align: middle;\n",
              "    }\n",
              "\n",
              "    .dataframe tbody tr th {\n",
              "        vertical-align: top;\n",
              "    }\n",
              "\n",
              "    .dataframe thead th {\n",
              "        text-align: right;\n",
              "    }\n",
              "</style>\n",
              "<table border=\"1\" class=\"dataframe\">\n",
              "  <thead>\n",
              "    <tr style=\"text-align: right;\">\n",
              "      <th></th>\n",
              "      <th>DAYS_BIRTH_month</th>\n",
              "      <th>DAYS_BIRTH_week</th>\n",
              "      <th>DAYS_BIRTH_year</th>\n",
              "      <th>DAYS_EMPLOYED_month</th>\n",
              "      <th>DAYS_EMPLOYED_week</th>\n",
              "      <th>DAYS_EMPLOYED_year</th>\n",
              "      <th>before_EMPLOYED</th>\n",
              "      <th>before_EMPLOYED_month</th>\n",
              "      <th>before_EMPLOYED_week</th>\n",
              "      <th>before_EMPLOYED_year</th>\n",
              "    </tr>\n",
              "  </thead>\n",
              "  <tbody>\n",
              "    <tr>\n",
              "      <th>0</th>\n",
              "      <td>7.0</td>\n",
              "      <td>1.0</td>\n",
              "      <td>1158.0</td>\n",
              "      <td>0.0</td>\n",
              "      <td>0.0</td>\n",
              "      <td>392.0</td>\n",
              "      <td>9190</td>\n",
              "      <td>6.0</td>\n",
              "      <td>0.0</td>\n",
              "      <td>766.0</td>\n",
              "    </tr>\n",
              "    <tr>\n",
              "      <th>1</th>\n",
              "      <td>7.0</td>\n",
              "      <td>1.0</td>\n",
              "      <td>948.0</td>\n",
              "      <td>3.0</td>\n",
              "      <td>0.0</td>\n",
              "      <td>128.0</td>\n",
              "      <td>9840</td>\n",
              "      <td>4.0</td>\n",
              "      <td>1.0</td>\n",
              "      <td>820.0</td>\n",
              "    </tr>\n",
              "    <tr>\n",
              "      <th>2</th>\n",
              "      <td>0.0</td>\n",
              "      <td>2.0</td>\n",
              "      <td>1591.0</td>\n",
              "      <td>3.0</td>\n",
              "      <td>1.0</td>\n",
              "      <td>370.0</td>\n",
              "      <td>14653</td>\n",
              "      <td>8.0</td>\n",
              "      <td>1.0</td>\n",
              "      <td>1221.0</td>\n",
              "    </tr>\n",
              "    <tr>\n",
              "      <th>3</th>\n",
              "      <td>10.0</td>\n",
              "      <td>3.0</td>\n",
              "      <td>1257.0</td>\n",
              "      <td>9.0</td>\n",
              "      <td>2.0</td>\n",
              "      <td>174.0</td>\n",
              "      <td>12996</td>\n",
              "      <td>1.0</td>\n",
              "      <td>0.0</td>\n",
              "      <td>1083.0</td>\n",
              "    </tr>\n",
              "    <tr>\n",
              "      <th>4</th>\n",
              "      <td>9.0</td>\n",
              "      <td>0.0</td>\n",
              "      <td>1253.0</td>\n",
              "      <td>10.0</td>\n",
              "      <td>0.0</td>\n",
              "      <td>175.0</td>\n",
              "      <td>12932</td>\n",
              "      <td>11.0</td>\n",
              "      <td>3.0</td>\n",
              "      <td>1078.0</td>\n",
              "    </tr>\n",
              "  </tbody>\n",
              "</table>\n",
              "</div>"
            ],
            "text/plain": [
              "   DAYS_BIRTH_month  ...  before_EMPLOYED_year\n",
              "0               7.0  ...                 766.0\n",
              "1               7.0  ...                 820.0\n",
              "2               0.0  ...                1221.0\n",
              "3              10.0  ...                1083.0\n",
              "4               9.0  ...                1078.0\n",
              "\n",
              "[5 rows x 10 columns]"
            ]
          },
          "metadata": {
            "tags": []
          },
          "execution_count": 88
        }
      ]
    },
    {
      "cell_type": "markdown",
      "metadata": {
        "id": "oThCNPORCNVZ"
      },
      "source": [
        "# begin_month 신용카드 발급 월"
      ]
    },
    {
      "cell_type": "code",
      "metadata": {
        "colab": {
          "base_uri": "https://localhost:8080/"
        },
        "id": "KoO9_81rCQTh",
        "outputId": "62194466-fb52-4653-c0ae-28824bd2ac24"
      },
      "source": [
        "train.begin_month.value_counts()"
      ],
      "execution_count": null,
      "outputs": [
        {
          "output_type": "execute_result",
          "data": {
            "text/plain": [
              "-7.0     662\n",
              "-11.0    617\n",
              "-8.0     612\n",
              "-3.0     593\n",
              "-6.0     591\n",
              "        ... \n",
              "-58.0    244\n",
              "-59.0    242\n",
              "-60.0    235\n",
              " 0.0     231\n",
              "-57.0    228\n",
              "Name: begin_month, Length: 61, dtype: int64"
            ]
          },
          "metadata": {
            "tags": []
          },
          "execution_count": 89
        }
      ]
    },
    {
      "cell_type": "code",
      "metadata": {
        "colab": {
          "base_uri": "https://localhost:8080/"
        },
        "id": "jp1iFUkuQSEn",
        "outputId": "e43ee340-36e4-46e9-e317-9d168af10286"
      },
      "source": [
        "np.abs(train.begin_month)/12"
      ],
      "execution_count": null,
      "outputs": [
        {
          "output_type": "execute_result",
          "data": {
            "text/plain": [
              "0        0.500000\n",
              "1        0.416667\n",
              "2        1.833333\n",
              "3        3.083333\n",
              "4        2.166667\n",
              "           ...   \n",
              "26452    0.166667\n",
              "26453    3.916667\n",
              "26454    2.083333\n",
              "26455    4.916667\n",
              "26456    0.750000\n",
              "Name: begin_month, Length: 26457, dtype: float64"
            ]
          },
          "metadata": {
            "tags": []
          },
          "execution_count": 90
        }
      ]
    },
    {
      "cell_type": "code",
      "metadata": {
        "id": "-i3zsu8xx6O9"
      },
      "source": [
        "train['begin_month'] = abs(train['begin_month'])\n",
        "test['begin_month'] = abs(test['begin_month'])"
      ],
      "execution_count": null,
      "outputs": []
    },
    {
      "cell_type": "markdown",
      "metadata": {
        "id": "x79JLVtSzcRH"
      },
      "source": [
        "- 날짜 변환 ( 월 -> 일)"
      ]
    },
    {
      "cell_type": "code",
      "metadata": {
        "id": "n80_C8eXzb8S"
      },
      "source": [
        "train['begin_year'] = (train.begin_month)/12\n",
        "test['begin_year'] = (test.begin_month)/12\n",
        "\n",
        "train['begin_week'] = (train.begin_month)*4.345\n",
        "test['begin_week'] = (test.begin_month)*4.345\n",
        "\n",
        "#train['begin_day'] = (train.begin_month)*30.417\n",
        "#test['begin_day'] = (test.begin_month)*30.417"
      ],
      "execution_count": null,
      "outputs": []
    },
    {
      "cell_type": "markdown",
      "metadata": {
        "id": "ujuEQ-RJz6Li"
      },
      "source": [
        "# ALL Version 인사이트"
      ]
    },
    {
      "cell_type": "markdown",
      "metadata": {
        "id": "UvUPRr6jJ7fw"
      },
      "source": [
        "- 평균 연령 소득 이상/미만"
      ]
    },
    {
      "cell_type": "code",
      "metadata": {
        "id": "ERXkmnWHJ6uD"
      },
      "source": [
        "train['AGE'] = round(train.DAYS_BIRTH/365)\n",
        "test['AGE'] = round(test.DAYS_BIRTH/365)"
      ],
      "execution_count": null,
      "outputs": []
    },
    {
      "cell_type": "code",
      "metadata": {
        "id": "CqkZ91I3MZEO"
      },
      "source": [
        "mean_income = train[['AGE','income_total']].groupby(['AGE'])['income_total'].mean().reset_index()\n",
        "mean_income['AGE_cut'] = pd.cut(mean_income.AGE, bins = 5, labels = ['20대','30대','40대','50대','60대'],include_lowest=True)\n",
        "\n",
        "mean_income1 = test[['AGE','income_total']].groupby(['AGE'])['income_total'].mean().reset_index()\n",
        "mean_income1['AGE_cut'] = pd.cut(mean_income1.AGE, bins = 5, labels = ['20대','30대','40대','50대','60대'],include_lowest=True)"
      ],
      "execution_count": null,
      "outputs": []
    },
    {
      "cell_type": "code",
      "metadata": {
        "id": "Gs_McJ2sPY-0"
      },
      "source": [
        "mean_cut_income = mean_income[['AGE_cut','income_total']].groupby(['AGE_cut'])['income_total'].mean().reset_index()\n",
        "mean_cut_income['income_total'] = round(mean_cut_income['income_total']).astype(int)\n",
        "train['income_total'] = train['income_total'].astype(int)\n",
        "\n",
        "mean_cut_income1 = mean_income1[['AGE_cut','income_total']].groupby(['AGE_cut'])['income_total'].mean().reset_index()\n",
        "mean_cut_income1['income_total'] = round(mean_cut_income1['income_total']).astype(int)\n",
        "test['income_total'] = test['income_total'].astype(int)"
      ],
      "execution_count": null,
      "outputs": []
    },
    {
      "cell_type": "code",
      "metadata": {
        "colab": {
          "base_uri": "https://localhost:8080/",
          "height": 194
        },
        "id": "cXnls99ITaha",
        "outputId": "550d39d9-a129-40c6-d6d4-82ac41ef9316"
      },
      "source": [
        "mean_cut_income"
      ],
      "execution_count": null,
      "outputs": [
        {
          "output_type": "execute_result",
          "data": {
            "text/html": [
              "<div>\n",
              "<style scoped>\n",
              "    .dataframe tbody tr th:only-of-type {\n",
              "        vertical-align: middle;\n",
              "    }\n",
              "\n",
              "    .dataframe tbody tr th {\n",
              "        vertical-align: top;\n",
              "    }\n",
              "\n",
              "    .dataframe thead th {\n",
              "        text-align: right;\n",
              "    }\n",
              "</style>\n",
              "<table border=\"1\" class=\"dataframe\">\n",
              "  <thead>\n",
              "    <tr style=\"text-align: right;\">\n",
              "      <th></th>\n",
              "      <th>AGE_cut</th>\n",
              "      <th>income_total</th>\n",
              "    </tr>\n",
              "  </thead>\n",
              "  <tbody>\n",
              "    <tr>\n",
              "      <th>0</th>\n",
              "      <td>20대</td>\n",
              "      <td>170356</td>\n",
              "    </tr>\n",
              "    <tr>\n",
              "      <th>1</th>\n",
              "      <td>30대</td>\n",
              "      <td>194040</td>\n",
              "    </tr>\n",
              "    <tr>\n",
              "      <th>2</th>\n",
              "      <td>40대</td>\n",
              "      <td>201513</td>\n",
              "    </tr>\n",
              "    <tr>\n",
              "      <th>3</th>\n",
              "      <td>50대</td>\n",
              "      <td>182585</td>\n",
              "    </tr>\n",
              "    <tr>\n",
              "      <th>4</th>\n",
              "      <td>60대</td>\n",
              "      <td>147290</td>\n",
              "    </tr>\n",
              "  </tbody>\n",
              "</table>\n",
              "</div>"
            ],
            "text/plain": [
              "  AGE_cut  income_total\n",
              "0     20대        170356\n",
              "1     30대        194040\n",
              "2     40대        201513\n",
              "3     50대        182585\n",
              "4     60대        147290"
            ]
          },
          "metadata": {
            "tags": []
          },
          "execution_count": 96
        }
      ]
    },
    {
      "cell_type": "code",
      "metadata": {
        "colab": {
          "base_uri": "https://localhost:8080/",
          "height": 194
        },
        "id": "JQgpCfAH_2gq",
        "outputId": "9e32e6f2-ae09-4038-dfcf-dea859c28dee"
      },
      "source": [
        "mean_cut_income1"
      ],
      "execution_count": null,
      "outputs": [
        {
          "output_type": "execute_result",
          "data": {
            "text/html": [
              "<div>\n",
              "<style scoped>\n",
              "    .dataframe tbody tr th:only-of-type {\n",
              "        vertical-align: middle;\n",
              "    }\n",
              "\n",
              "    .dataframe tbody tr th {\n",
              "        vertical-align: top;\n",
              "    }\n",
              "\n",
              "    .dataframe thead th {\n",
              "        text-align: right;\n",
              "    }\n",
              "</style>\n",
              "<table border=\"1\" class=\"dataframe\">\n",
              "  <thead>\n",
              "    <tr style=\"text-align: right;\">\n",
              "      <th></th>\n",
              "      <th>AGE_cut</th>\n",
              "      <th>income_total</th>\n",
              "    </tr>\n",
              "  </thead>\n",
              "  <tbody>\n",
              "    <tr>\n",
              "      <th>0</th>\n",
              "      <td>20대</td>\n",
              "      <td>168829</td>\n",
              "    </tr>\n",
              "    <tr>\n",
              "      <th>1</th>\n",
              "      <td>30대</td>\n",
              "      <td>189959</td>\n",
              "    </tr>\n",
              "    <tr>\n",
              "      <th>2</th>\n",
              "      <td>40대</td>\n",
              "      <td>203286</td>\n",
              "    </tr>\n",
              "    <tr>\n",
              "      <th>3</th>\n",
              "      <td>50대</td>\n",
              "      <td>179152</td>\n",
              "    </tr>\n",
              "    <tr>\n",
              "      <th>4</th>\n",
              "      <td>60대</td>\n",
              "      <td>160888</td>\n",
              "    </tr>\n",
              "  </tbody>\n",
              "</table>\n",
              "</div>"
            ],
            "text/plain": [
              "  AGE_cut  income_total\n",
              "0     20대        168829\n",
              "1     30대        189959\n",
              "2     40대        203286\n",
              "3     50대        179152\n",
              "4     60대        160888"
            ]
          },
          "metadata": {
            "tags": []
          },
          "execution_count": 97
        }
      ]
    },
    {
      "cell_type": "code",
      "metadata": {
        "id": "oWrkTQWdRkOa"
      },
      "source": [
        "#(train['income_total'][train['AGE'] < 30])\n",
        "#(mean_cut_income['income_total'][mean_cut_income['AGE_cut'] == '20대'])"
      ],
      "execution_count": null,
      "outputs": []
    },
    {
      "cell_type": "code",
      "metadata": {
        "id": "_57Ci1tbK04O"
      },
      "source": [
        "# train\n",
        "train['mean_income'] = 0\n",
        "\n",
        "train['mean_income'][(train['AGE'] < 30) & (train['income_total'] >= 170356)] = '20대평균소득이상'\n",
        "train['mean_income'][(train['AGE'] < 30) & (train['income_total'] < 170356)] = '20대평균소득미만'\n",
        "\n",
        "train['mean_income'][((train['AGE'] >= 30) & (train['AGE'] < 40)) & (train['income_total'] >= 194040)] = '30대평균소득이상'\n",
        "train['mean_income'][((train['AGE'] >= 30) & (train['AGE'] < 40)) & (train['income_total'] < 194040)] = '30대평균소득미만'\n",
        "\n",
        "train['mean_income'][((train['AGE'] >= 40) & (train['AGE'] < 50)) & (train['income_total'] >= 201513)] = '40대평균소득이상'\n",
        "train['mean_income'][((train['AGE'] >= 40) & (train['AGE'] < 50)) & (train['income_total'] < 201513)] = '40대평균소득미만'\n",
        "\n",
        "train['mean_income'][((train['AGE'] >= 50) & (train['AGE'] < 60)) & (train['income_total'] >= 182585)] = '50대평균소득이상'\n",
        "train['mean_income'][((train['AGE'] >= 50) & (train['AGE'] < 60)) & (train['income_total'] < 182585)] = '50대평균소득미만'\n",
        "\n",
        "train['mean_income'][((train['AGE'] >= 60) & (train['AGE'] < 70)) & (train['income_total'] >= 147290)] = '60대평균소득이상'\n",
        "train['mean_income'][((train['AGE'] >= 60) & (train['AGE'] < 70)) & (train['income_total'] < 147290)] = '60대평균소득미만'\n",
        "\n",
        "# test\n",
        "test['mean_income'] = 0\n",
        "\n",
        "test['mean_income'][(test['AGE'] < 30) & (test['income_total'] >= 168829)] = '20대평균소득이상'\n",
        "test['mean_income'][(test['AGE'] < 30) & (test['income_total'] < 168829)] = '20대평균소득미만'\n",
        "\n",
        "test['mean_income'][((test['AGE'] >= 30) & (test['AGE'] < 40)) & (test['income_total'] >= 189959)] = '30대평균소득이상'\n",
        "test['mean_income'][((test['AGE'] >= 30) & (test['AGE'] < 40)) & (test['income_total'] < 189959)] = '30대평균소득미만'\n",
        "\n",
        "test['mean_income'][((test['AGE'] >= 40) & (test['AGE'] < 50)) & (test['income_total'] >= 203286)] = '40대평균소득이상'\n",
        "test['mean_income'][((test['AGE'] >= 40) & (test['AGE'] < 50)) & (test['income_total'] < 203286)] = '40대평균소득미만'\n",
        "\n",
        "test['mean_income'][((test['AGE'] >= 50) & (test['AGE'] < 60)) & (test['income_total'] >= 179152)] = '50대평균소득이상'\n",
        "test['mean_income'][((test['AGE'] >= 50) & (test['AGE'] < 60)) & (test['income_total'] < 179152)] = '50대평균소득미만'\n",
        "\n",
        "test['mean_income'][((test['AGE'] >= 60) & (test['AGE'] < 70)) & (test['income_total'] >= 160888)] = '60대평균소득이상'\n",
        "test['mean_income'][((test['AGE'] >= 60) & (test['AGE'] < 70)) & (test['income_total'] < 160888)] = '60대평균소득미만'"
      ],
      "execution_count": null,
      "outputs": []
    },
    {
      "cell_type": "code",
      "metadata": {
        "colab": {
          "base_uri": "https://localhost:8080/",
          "height": 757
        },
        "id": "_K3u-MESKwlJ",
        "outputId": "28e413f2-a1cb-4f2e-8bbd-4b01a37c3405"
      },
      "source": [
        "train"
      ],
      "execution_count": null,
      "outputs": [
        {
          "output_type": "execute_result",
          "data": {
            "text/html": [
              "<div>\n",
              "<style scoped>\n",
              "    .dataframe tbody tr th:only-of-type {\n",
              "        vertical-align: middle;\n",
              "    }\n",
              "\n",
              "    .dataframe tbody tr th {\n",
              "        vertical-align: top;\n",
              "    }\n",
              "\n",
              "    .dataframe thead th {\n",
              "        text-align: right;\n",
              "    }\n",
              "</style>\n",
              "<table border=\"1\" class=\"dataframe\">\n",
              "  <thead>\n",
              "    <tr style=\"text-align: right;\">\n",
              "      <th></th>\n",
              "      <th>index</th>\n",
              "      <th>gender</th>\n",
              "      <th>car</th>\n",
              "      <th>reality</th>\n",
              "      <th>child_num</th>\n",
              "      <th>income_total</th>\n",
              "      <th>income_type</th>\n",
              "      <th>edu_type</th>\n",
              "      <th>family_type</th>\n",
              "      <th>house_type</th>\n",
              "      <th>DAYS_BIRTH</th>\n",
              "      <th>DAYS_EMPLOYED</th>\n",
              "      <th>FLAG_MOBIL</th>\n",
              "      <th>work_phone</th>\n",
              "      <th>phone</th>\n",
              "      <th>email</th>\n",
              "      <th>occyp_type</th>\n",
              "      <th>family_size</th>\n",
              "      <th>begin_month</th>\n",
              "      <th>credit</th>\n",
              "      <th>gender_car_reality</th>\n",
              "      <th>phones_email</th>\n",
              "      <th>income_total_bins</th>\n",
              "      <th>professional</th>\n",
              "      <th>DAYS_BIRTH_month</th>\n",
              "      <th>DAYS_BIRTH_week</th>\n",
              "      <th>DAYS_BIRTH_year</th>\n",
              "      <th>DAYS_EMPLOYED_month</th>\n",
              "      <th>DAYS_EMPLOYED_week</th>\n",
              "      <th>DAYS_EMPLOYED_year</th>\n",
              "      <th>before_EMPLOYED</th>\n",
              "      <th>before_EMPLOYED_month</th>\n",
              "      <th>before_EMPLOYED_week</th>\n",
              "      <th>before_EMPLOYED_year</th>\n",
              "      <th>begin_year</th>\n",
              "      <th>begin_week</th>\n",
              "      <th>AGE</th>\n",
              "      <th>mean_income</th>\n",
              "    </tr>\n",
              "  </thead>\n",
              "  <tbody>\n",
              "    <tr>\n",
              "      <th>0</th>\n",
              "      <td>0</td>\n",
              "      <td>F</td>\n",
              "      <td>N</td>\n",
              "      <td>N</td>\n",
              "      <td>0</td>\n",
              "      <td>202500</td>\n",
              "      <td>Commercial associate</td>\n",
              "      <td>Higher education</td>\n",
              "      <td>Married</td>\n",
              "      <td>Municipal apartment</td>\n",
              "      <td>13899</td>\n",
              "      <td>4709</td>\n",
              "      <td>Y</td>\n",
              "      <td>N</td>\n",
              "      <td>N</td>\n",
              "      <td>N</td>\n",
              "      <td>Nojob</td>\n",
              "      <td>2.0</td>\n",
              "      <td>6.0</td>\n",
              "      <td>1.0</td>\n",
              "      <td>F_N_N</td>\n",
              "      <td>Y_N_N_N</td>\n",
              "      <td>0</td>\n",
              "      <td>N</td>\n",
              "      <td>7.0</td>\n",
              "      <td>1.0</td>\n",
              "      <td>1158.0</td>\n",
              "      <td>0.0</td>\n",
              "      <td>0.0</td>\n",
              "      <td>392.0</td>\n",
              "      <td>9190</td>\n",
              "      <td>6.0</td>\n",
              "      <td>0.0</td>\n",
              "      <td>766.0</td>\n",
              "      <td>0.500000</td>\n",
              "      <td>26.070</td>\n",
              "      <td>38.0</td>\n",
              "      <td>30대평균소득이상</td>\n",
              "    </tr>\n",
              "    <tr>\n",
              "      <th>1</th>\n",
              "      <td>1</td>\n",
              "      <td>F</td>\n",
              "      <td>N</td>\n",
              "      <td>Y</td>\n",
              "      <td>1</td>\n",
              "      <td>247500</td>\n",
              "      <td>Commercial associate</td>\n",
              "      <td>Secondary / secondary special</td>\n",
              "      <td>Civil marriage</td>\n",
              "      <td>House / apartment</td>\n",
              "      <td>11380</td>\n",
              "      <td>1540</td>\n",
              "      <td>Y</td>\n",
              "      <td>N</td>\n",
              "      <td>N</td>\n",
              "      <td>Y</td>\n",
              "      <td>Laborers</td>\n",
              "      <td>3.0</td>\n",
              "      <td>5.0</td>\n",
              "      <td>1.0</td>\n",
              "      <td>F_N_Y</td>\n",
              "      <td>Y_N_N_Y</td>\n",
              "      <td>0</td>\n",
              "      <td>N</td>\n",
              "      <td>7.0</td>\n",
              "      <td>1.0</td>\n",
              "      <td>948.0</td>\n",
              "      <td>3.0</td>\n",
              "      <td>0.0</td>\n",
              "      <td>128.0</td>\n",
              "      <td>9840</td>\n",
              "      <td>4.0</td>\n",
              "      <td>1.0</td>\n",
              "      <td>820.0</td>\n",
              "      <td>0.416667</td>\n",
              "      <td>21.725</td>\n",
              "      <td>31.0</td>\n",
              "      <td>30대평균소득이상</td>\n",
              "    </tr>\n",
              "    <tr>\n",
              "      <th>2</th>\n",
              "      <td>2</td>\n",
              "      <td>M</td>\n",
              "      <td>Y</td>\n",
              "      <td>Y</td>\n",
              "      <td>0</td>\n",
              "      <td>450000</td>\n",
              "      <td>Working</td>\n",
              "      <td>Higher education</td>\n",
              "      <td>Married</td>\n",
              "      <td>House / apartment</td>\n",
              "      <td>19087</td>\n",
              "      <td>4434</td>\n",
              "      <td>Y</td>\n",
              "      <td>N</td>\n",
              "      <td>Y</td>\n",
              "      <td>N</td>\n",
              "      <td>Managers</td>\n",
              "      <td>2.0</td>\n",
              "      <td>22.0</td>\n",
              "      <td>2.0</td>\n",
              "      <td>M_Y_Y</td>\n",
              "      <td>Y_N_Y_N</td>\n",
              "      <td>1</td>\n",
              "      <td>Y</td>\n",
              "      <td>0.0</td>\n",
              "      <td>2.0</td>\n",
              "      <td>1591.0</td>\n",
              "      <td>3.0</td>\n",
              "      <td>1.0</td>\n",
              "      <td>370.0</td>\n",
              "      <td>14653</td>\n",
              "      <td>8.0</td>\n",
              "      <td>1.0</td>\n",
              "      <td>1221.0</td>\n",
              "      <td>1.833333</td>\n",
              "      <td>95.590</td>\n",
              "      <td>52.0</td>\n",
              "      <td>50대평균소득이상</td>\n",
              "    </tr>\n",
              "    <tr>\n",
              "      <th>3</th>\n",
              "      <td>3</td>\n",
              "      <td>F</td>\n",
              "      <td>N</td>\n",
              "      <td>Y</td>\n",
              "      <td>0</td>\n",
              "      <td>202500</td>\n",
              "      <td>Commercial associate</td>\n",
              "      <td>Secondary / secondary special</td>\n",
              "      <td>Married</td>\n",
              "      <td>House / apartment</td>\n",
              "      <td>15088</td>\n",
              "      <td>2092</td>\n",
              "      <td>Y</td>\n",
              "      <td>N</td>\n",
              "      <td>Y</td>\n",
              "      <td>N</td>\n",
              "      <td>Sales staff</td>\n",
              "      <td>2.0</td>\n",
              "      <td>37.0</td>\n",
              "      <td>0.0</td>\n",
              "      <td>F_N_Y</td>\n",
              "      <td>Y_N_Y_N</td>\n",
              "      <td>0</td>\n",
              "      <td>Y</td>\n",
              "      <td>10.0</td>\n",
              "      <td>3.0</td>\n",
              "      <td>1257.0</td>\n",
              "      <td>9.0</td>\n",
              "      <td>2.0</td>\n",
              "      <td>174.0</td>\n",
              "      <td>12996</td>\n",
              "      <td>1.0</td>\n",
              "      <td>0.0</td>\n",
              "      <td>1083.0</td>\n",
              "      <td>3.083333</td>\n",
              "      <td>160.765</td>\n",
              "      <td>41.0</td>\n",
              "      <td>40대평균소득이상</td>\n",
              "    </tr>\n",
              "    <tr>\n",
              "      <th>4</th>\n",
              "      <td>4</td>\n",
              "      <td>F</td>\n",
              "      <td>Y</td>\n",
              "      <td>Y</td>\n",
              "      <td>0</td>\n",
              "      <td>157500</td>\n",
              "      <td>State servant</td>\n",
              "      <td>Higher education</td>\n",
              "      <td>Married</td>\n",
              "      <td>House / apartment</td>\n",
              "      <td>15037</td>\n",
              "      <td>2105</td>\n",
              "      <td>Y</td>\n",
              "      <td>N</td>\n",
              "      <td>N</td>\n",
              "      <td>N</td>\n",
              "      <td>Managers</td>\n",
              "      <td>2.0</td>\n",
              "      <td>26.0</td>\n",
              "      <td>2.0</td>\n",
              "      <td>F_Y_Y</td>\n",
              "      <td>Y_N_N_N</td>\n",
              "      <td>0</td>\n",
              "      <td>Y</td>\n",
              "      <td>9.0</td>\n",
              "      <td>0.0</td>\n",
              "      <td>1253.0</td>\n",
              "      <td>10.0</td>\n",
              "      <td>0.0</td>\n",
              "      <td>175.0</td>\n",
              "      <td>12932</td>\n",
              "      <td>11.0</td>\n",
              "      <td>3.0</td>\n",
              "      <td>1078.0</td>\n",
              "      <td>2.166667</td>\n",
              "      <td>112.970</td>\n",
              "      <td>41.0</td>\n",
              "      <td>40대평균소득미만</td>\n",
              "    </tr>\n",
              "    <tr>\n",
              "      <th>...</th>\n",
              "      <td>...</td>\n",
              "      <td>...</td>\n",
              "      <td>...</td>\n",
              "      <td>...</td>\n",
              "      <td>...</td>\n",
              "      <td>...</td>\n",
              "      <td>...</td>\n",
              "      <td>...</td>\n",
              "      <td>...</td>\n",
              "      <td>...</td>\n",
              "      <td>...</td>\n",
              "      <td>...</td>\n",
              "      <td>...</td>\n",
              "      <td>...</td>\n",
              "      <td>...</td>\n",
              "      <td>...</td>\n",
              "      <td>...</td>\n",
              "      <td>...</td>\n",
              "      <td>...</td>\n",
              "      <td>...</td>\n",
              "      <td>...</td>\n",
              "      <td>...</td>\n",
              "      <td>...</td>\n",
              "      <td>...</td>\n",
              "      <td>...</td>\n",
              "      <td>...</td>\n",
              "      <td>...</td>\n",
              "      <td>...</td>\n",
              "      <td>...</td>\n",
              "      <td>...</td>\n",
              "      <td>...</td>\n",
              "      <td>...</td>\n",
              "      <td>...</td>\n",
              "      <td>...</td>\n",
              "      <td>...</td>\n",
              "      <td>...</td>\n",
              "      <td>...</td>\n",
              "      <td>...</td>\n",
              "    </tr>\n",
              "    <tr>\n",
              "      <th>26452</th>\n",
              "      <td>26452</td>\n",
              "      <td>F</td>\n",
              "      <td>N</td>\n",
              "      <td>N</td>\n",
              "      <td>2</td>\n",
              "      <td>225000</td>\n",
              "      <td>State servant</td>\n",
              "      <td>Secondary / secondary special</td>\n",
              "      <td>Married</td>\n",
              "      <td>House / apartment</td>\n",
              "      <td>12079</td>\n",
              "      <td>1984</td>\n",
              "      <td>Y</td>\n",
              "      <td>N</td>\n",
              "      <td>N</td>\n",
              "      <td>N</td>\n",
              "      <td>Core staff</td>\n",
              "      <td>4.0</td>\n",
              "      <td>2.0</td>\n",
              "      <td>1.0</td>\n",
              "      <td>F_N_N</td>\n",
              "      <td>Y_N_N_N</td>\n",
              "      <td>0</td>\n",
              "      <td>Y</td>\n",
              "      <td>6.0</td>\n",
              "      <td>1.0</td>\n",
              "      <td>1007.0</td>\n",
              "      <td>6.0</td>\n",
              "      <td>3.0</td>\n",
              "      <td>165.0</td>\n",
              "      <td>10095</td>\n",
              "      <td>0.0</td>\n",
              "      <td>2.0</td>\n",
              "      <td>842.0</td>\n",
              "      <td>0.166667</td>\n",
              "      <td>8.690</td>\n",
              "      <td>33.0</td>\n",
              "      <td>30대평균소득이상</td>\n",
              "    </tr>\n",
              "    <tr>\n",
              "      <th>26453</th>\n",
              "      <td>26453</td>\n",
              "      <td>F</td>\n",
              "      <td>N</td>\n",
              "      <td>Y</td>\n",
              "      <td>1</td>\n",
              "      <td>180000</td>\n",
              "      <td>Working</td>\n",
              "      <td>Higher education</td>\n",
              "      <td>Separated</td>\n",
              "      <td>House / apartment</td>\n",
              "      <td>15291</td>\n",
              "      <td>2475</td>\n",
              "      <td>Y</td>\n",
              "      <td>N</td>\n",
              "      <td>N</td>\n",
              "      <td>N</td>\n",
              "      <td>Nojob</td>\n",
              "      <td>2.0</td>\n",
              "      <td>47.0</td>\n",
              "      <td>2.0</td>\n",
              "      <td>F_N_Y</td>\n",
              "      <td>Y_N_N_N</td>\n",
              "      <td>0</td>\n",
              "      <td>N</td>\n",
              "      <td>5.0</td>\n",
              "      <td>0.0</td>\n",
              "      <td>1274.0</td>\n",
              "      <td>10.0</td>\n",
              "      <td>1.0</td>\n",
              "      <td>206.0</td>\n",
              "      <td>12816</td>\n",
              "      <td>7.0</td>\n",
              "      <td>2.0</td>\n",
              "      <td>1068.0</td>\n",
              "      <td>3.916667</td>\n",
              "      <td>204.215</td>\n",
              "      <td>42.0</td>\n",
              "      <td>40대평균소득미만</td>\n",
              "    </tr>\n",
              "    <tr>\n",
              "      <th>26454</th>\n",
              "      <td>26454</td>\n",
              "      <td>F</td>\n",
              "      <td>Y</td>\n",
              "      <td>N</td>\n",
              "      <td>0</td>\n",
              "      <td>292500</td>\n",
              "      <td>Working</td>\n",
              "      <td>Secondary / secondary special</td>\n",
              "      <td>Civil marriage</td>\n",
              "      <td>With parents</td>\n",
              "      <td>10082</td>\n",
              "      <td>2015</td>\n",
              "      <td>Y</td>\n",
              "      <td>N</td>\n",
              "      <td>N</td>\n",
              "      <td>N</td>\n",
              "      <td>Core staff</td>\n",
              "      <td>2.0</td>\n",
              "      <td>25.0</td>\n",
              "      <td>2.0</td>\n",
              "      <td>F_Y_N</td>\n",
              "      <td>Y_N_N_N</td>\n",
              "      <td>0</td>\n",
              "      <td>Y</td>\n",
              "      <td>0.0</td>\n",
              "      <td>0.0</td>\n",
              "      <td>840.0</td>\n",
              "      <td>7.0</td>\n",
              "      <td>3.0</td>\n",
              "      <td>168.0</td>\n",
              "      <td>8067</td>\n",
              "      <td>4.0</td>\n",
              "      <td>0.0</td>\n",
              "      <td>672.0</td>\n",
              "      <td>2.083333</td>\n",
              "      <td>108.625</td>\n",
              "      <td>28.0</td>\n",
              "      <td>20대평균소득이상</td>\n",
              "    </tr>\n",
              "    <tr>\n",
              "      <th>26455</th>\n",
              "      <td>26455</td>\n",
              "      <td>M</td>\n",
              "      <td>N</td>\n",
              "      <td>Y</td>\n",
              "      <td>0</td>\n",
              "      <td>171000</td>\n",
              "      <td>Working</td>\n",
              "      <td>Incomplete higher</td>\n",
              "      <td>Single</td>\n",
              "      <td>House / apartment</td>\n",
              "      <td>10145</td>\n",
              "      <td>107</td>\n",
              "      <td>Y</td>\n",
              "      <td>N</td>\n",
              "      <td>N</td>\n",
              "      <td>N</td>\n",
              "      <td>Laborers</td>\n",
              "      <td>1.0</td>\n",
              "      <td>59.0</td>\n",
              "      <td>2.0</td>\n",
              "      <td>M_N_Y</td>\n",
              "      <td>Y_N_N_N</td>\n",
              "      <td>0</td>\n",
              "      <td>N</td>\n",
              "      <td>2.0</td>\n",
              "      <td>1.0</td>\n",
              "      <td>845.0</td>\n",
              "      <td>3.0</td>\n",
              "      <td>3.0</td>\n",
              "      <td>9.0</td>\n",
              "      <td>10038</td>\n",
              "      <td>10.0</td>\n",
              "      <td>2.0</td>\n",
              "      <td>836.0</td>\n",
              "      <td>4.916667</td>\n",
              "      <td>256.355</td>\n",
              "      <td>28.0</td>\n",
              "      <td>20대평균소득이상</td>\n",
              "    </tr>\n",
              "    <tr>\n",
              "      <th>26456</th>\n",
              "      <td>26456</td>\n",
              "      <td>F</td>\n",
              "      <td>N</td>\n",
              "      <td>N</td>\n",
              "      <td>0</td>\n",
              "      <td>81000</td>\n",
              "      <td>Working</td>\n",
              "      <td>Secondary / secondary special</td>\n",
              "      <td>Civil marriage</td>\n",
              "      <td>House / apartment</td>\n",
              "      <td>19569</td>\n",
              "      <td>1013</td>\n",
              "      <td>Y</td>\n",
              "      <td>N</td>\n",
              "      <td>N</td>\n",
              "      <td>N</td>\n",
              "      <td>Security staff</td>\n",
              "      <td>2.0</td>\n",
              "      <td>9.0</td>\n",
              "      <td>2.0</td>\n",
              "      <td>F_N_N</td>\n",
              "      <td>Y_N_N_N</td>\n",
              "      <td>0</td>\n",
              "      <td>N</td>\n",
              "      <td>4.0</td>\n",
              "      <td>3.0</td>\n",
              "      <td>1631.0</td>\n",
              "      <td>9.0</td>\n",
              "      <td>0.0</td>\n",
              "      <td>84.0</td>\n",
              "      <td>18556</td>\n",
              "      <td>6.0</td>\n",
              "      <td>2.0</td>\n",
              "      <td>1547.0</td>\n",
              "      <td>0.750000</td>\n",
              "      <td>39.105</td>\n",
              "      <td>54.0</td>\n",
              "      <td>50대평균소득미만</td>\n",
              "    </tr>\n",
              "  </tbody>\n",
              "</table>\n",
              "<p>26457 rows × 38 columns</p>\n",
              "</div>"
            ],
            "text/plain": [
              "       index gender car reality  ...  begin_year  begin_week   AGE mean_income\n",
              "0          0      F   N       N  ...    0.500000      26.070  38.0   30대평균소득이상\n",
              "1          1      F   N       Y  ...    0.416667      21.725  31.0   30대평균소득이상\n",
              "2          2      M   Y       Y  ...    1.833333      95.590  52.0   50대평균소득이상\n",
              "3          3      F   N       Y  ...    3.083333     160.765  41.0   40대평균소득이상\n",
              "4          4      F   Y       Y  ...    2.166667     112.970  41.0   40대평균소득미만\n",
              "...      ...    ...  ..     ...  ...         ...         ...   ...         ...\n",
              "26452  26452      F   N       N  ...    0.166667       8.690  33.0   30대평균소득이상\n",
              "26453  26453      F   N       Y  ...    3.916667     204.215  42.0   40대평균소득미만\n",
              "26454  26454      F   Y       N  ...    2.083333     108.625  28.0   20대평균소득이상\n",
              "26455  26455      M   N       Y  ...    4.916667     256.355  28.0   20대평균소득이상\n",
              "26456  26456      F   N       N  ...    0.750000      39.105  54.0   50대평균소득미만\n",
              "\n",
              "[26457 rows x 38 columns]"
            ]
          },
          "metadata": {
            "tags": []
          },
          "execution_count": 100
        }
      ]
    },
    {
      "cell_type": "markdown",
      "metadata": {
        "id": "Y43DTBgPmTEz"
      },
      "source": [
        "- 가족 수 - 자녀 수\n"
      ]
    },
    {
      "cell_type": "code",
      "metadata": {
        "id": "U7GbiRKRmgEO"
      },
      "source": [
        "# train['family_size by child_num'] = np.abs(train['family_size'] - train['child_num'])\n",
        "# test['family_size by child_num'] = np.abs(test['family_size'] - test['child_num'])"
      ],
      "execution_count": null,
      "outputs": []
    },
    {
      "cell_type": "markdown",
      "metadata": {
        "id": "cUx9_Jg_0GBO"
      },
      "source": [
        "- 동일인물 처리\n",
        "> 중복인물 중 가장 처음or마지막 행만 남기기\n",
        "\n",
        "  > 중복인물을 구별하는 새로운 컬럼 생성\n",
        "    \n",
        "    > 중복될만한 컬럼 파악하기"
      ]
    },
    {
      "cell_type": "code",
      "metadata": {
        "id": "oNfgcxAq0VDQ"
      },
      "source": [
        "#train['duplicated'] = 0\n",
        "#train['duplicated'][(train.drop(['index'],axis=1).duplicated(keep=False)) == True] = 1\n",
        "#train.drop(train.loc[train['duplicated']>0,'duplicated'],axis=0,inplace=True)\n",
        "\n",
        "#test['duplicated'] = 0\n",
        "#test['duplicated'][(test.drop(['index'],axis=1).duplicated(keep=False)) == True] = 1\n",
        "#test.drop(test.loc[test['duplicated']>0,'duplicated'],axis=0,inplace=True)"
      ],
      "execution_count": null,
      "outputs": []
    },
    {
      "cell_type": "code",
      "metadata": {
        "colab": {
          "base_uri": "https://localhost:8080/"
        },
        "id": "Ckw7shb9jEga",
        "outputId": "d757c1a9-ed56-4457-c59e-f792f31df79e"
      },
      "source": [
        "test.columns"
      ],
      "execution_count": null,
      "outputs": [
        {
          "output_type": "execute_result",
          "data": {
            "text/plain": [
              "Index(['index', 'gender', 'car', 'reality', 'child_num', 'income_total',\n",
              "       'income_type', 'edu_type', 'family_type', 'house_type', 'DAYS_BIRTH',\n",
              "       'DAYS_EMPLOYED', 'FLAG_MOBIL', 'work_phone', 'phone', 'email',\n",
              "       'occyp_type', 'family_size', 'begin_month', 'gender_car_reality',\n",
              "       'phones_email', 'income_total_bins', 'professional', 'DAYS_BIRTH_month',\n",
              "       'DAYS_BIRTH_week', 'DAYS_BIRTH_year', 'DAYS_EMPLOYED_month',\n",
              "       'DAYS_EMPLOYED_week', 'DAYS_EMPLOYED_year', 'before_EMPLOYED',\n",
              "       'before_EMPLOYED_month', 'before_EMPLOYED_week', 'before_EMPLOYED_year',\n",
              "       'begin_year', 'begin_week', 'AGE', 'mean_income'],\n",
              "      dtype='object')"
            ]
          },
          "metadata": {
            "tags": []
          },
          "execution_count": 103
        }
      ]
    },
    {
      "cell_type": "code",
      "metadata": {
        "colab": {
          "base_uri": "https://localhost:8080/",
          "height": 124
        },
        "id": "yedZVwb5oj05",
        "outputId": "881526c5-7954-4e03-d3cd-0cbab9d25821"
      },
      "source": [
        "\"\"\"\n",
        "train['duplicated'] = '중복x'\n",
        "train['duplicated_first'] = '중복x'\n",
        "train['duplicated_last'] = '중복x'\n",
        "train['duplicated'][train.duplicated(['gender_car_reality','income_total','DAYS_BIRTH','DAYS_EMPLOYED'],keep=False)] = '중복o'\n",
        "train['duplicated_last'][train.duplicated(['gender_car_reality','income_total','DAYS_BIRTH','DAYS_EMPLOYED'],keep='last')] = '중복o/마지막값'\n",
        "train['duplicated_first'][train.duplicated(['gender_car_reality','income_total','DAYS_BIRTH','DAYS_EMPLOYED'],keep='first')] = '중복o/첫번째값'\n",
        "\n",
        "def train_duplicated():\n",
        "  train['duplicated'][train['duplicated_last'] == '중복o/마지막값'] = '중복o/마지막값'\n",
        "  train['duplicated'][train['duplicated_first'] == '중복o/첫번째값'] = '중복o/첫번째값'\n",
        "  train.drop(['duplicated_last','duplicated_first'],axis=1,inplace=True)\n",
        "\n",
        "test['duplicated'] = '중복x'\n",
        "test['duplicated_first'] = '중복x'\n",
        "test['duplicated_last'] = '중복x'\n",
        "test['duplicated'][test.duplicated(['gender_car_reality','income_total','DAYS_BIRTH','DAYS_EMPLOYED'],keep=False)] = '중복o'\n",
        "test['duplicated_last'][test.duplicated(['gender_car_reality','income_total','DAYS_BIRTH','DAYS_EMPLOYED'],keep='last')] = '중복o/마지막값'\n",
        "test['duplicated_first'][test.duplicated(['gender_car_reality','income_total','DAYS_BIRTH','DAYS_EMPLOYED'],keep='first')] = '중복o/첫번째값'\n",
        "def test_duplicated():\n",
        "  test['duplicated'][test['duplicated_last'] == '중복o/마지막값'] = '중복o/마지막값'\n",
        "  test['duplicated'][test['duplicated_first'] == '중복o/첫번째값'] = '중복o/첫번째값'\n",
        "  test.drop(['duplicated_last','duplicated_first'],axis=1,inplace=True)\n",
        "\n",
        "train_duplicated()\n",
        "test_duplicated()\n",
        "\"\"\""
      ],
      "execution_count": null,
      "outputs": [
        {
          "output_type": "execute_result",
          "data": {
            "application/vnd.google.colaboratory.intrinsic+json": {
              "type": "string"
            },
            "text/plain": [
              "\"\\ntrain['duplicated'] = '중복x'\\ntrain['duplicated_first'] = '중복x'\\ntrain['duplicated_last'] = '중복x'\\ntrain['duplicated'][train.duplicated(['gender_car_reality','income_total','DAYS_BIRTH','DAYS_EMPLOYED'],keep=False)] = '중복o'\\ntrain['duplicated_last'][train.duplicated(['gender_car_reality','income_total','DAYS_BIRTH','DAYS_EMPLOYED'],keep='last')] = '중복o/마지막값'\\ntrain['duplicated_first'][train.duplicated(['gender_car_reality','income_total','DAYS_BIRTH','DAYS_EMPLOYED'],keep='first')] = '중복o/첫번째값'\\n\\ndef train_duplicated():\\n  train['duplicated'][train['duplicated_last'] == '중복o/마지막값'] = '중복o/마지막값'\\n  train['duplicated'][train['duplicated_first'] == '중복o/첫번째값'] = '중복o/첫번째값'\\n  train.drop(['duplicated_last','duplicated_first'],axis=1,inplace=True)\\n\\ntest['duplicated'] = '중복x'\\ntest['duplicated_first'] = '중복x'\\ntest['duplicated_last'] = '중복x'\\ntest['duplicated'][test.duplicated(['gender_car_reality','income_total','DAYS_BIRTH','DAYS_EMPLOYED'],keep=False)] = '중복o'\\ntest['duplicated_last'][test.duplicated(['gender_car_reality','income_total','DAYS_BIRTH','DAYS_EMPLOYED'],keep='last')] = '중복o/마지막값'\\ntest['duplicated_first'][test.duplicated(['gender_car_reality','income_total','DAYS_BIRTH','DAYS_EMPLOYED'],keep='first')] = '중복o/첫번째값'\\ndef test_duplicated():\\n  test['duplicated'][test['duplicated_last'] == '중복o/마지막값'] = '중복o/마지막값'\\n  test['duplicated'][test['duplicated_first'] == '중복o/첫번째값'] = '중복o/첫번째값'\\n  test.drop(['duplicated_last','duplicated_first'],axis=1,inplace=True)\\n\\ntrain_duplicated()\\ntest_duplicated()\\n\""
            ]
          },
          "metadata": {
            "tags": []
          },
          "execution_count": 104
        }
      ]
    },
    {
      "cell_type": "code",
      "metadata": {
        "id": "8DV8_bCqsEax"
      },
      "source": [
        "#train['duplicated'].value_counts()"
      ],
      "execution_count": null,
      "outputs": []
    },
    {
      "cell_type": "code",
      "metadata": {
        "id": "zHUGoBw1sp_w"
      },
      "source": [
        "# 모든 컬럼에 해당하는 중복인물 중 가장 첫번째만 남기고 처리\n",
        "#train.drop_duplicates(train.drop(['index','begin_month','begin_day','begin_week','begin_year','credit'],axis=1).columns,keep='last',inplace=True) # keep='last'\n",
        "#test.drop_duplicates(test.drop(['index','begin_month','begin_day','begin_week','begin_year'],axis=1).columns,keep='last',inplace=True) # keep='last'"
      ],
      "execution_count": null,
      "outputs": []
    },
    {
      "cell_type": "code",
      "metadata": {
        "colab": {
          "base_uri": "https://localhost:8080/"
        },
        "id": "kRpFcrVz-ECH",
        "outputId": "e0b8b491-2d93-4b30-8d6e-329b7f4a4cf6"
      },
      "source": [
        "len(train.drop(['begin_month','credit'],axis=1).columns),len(test.drop(['begin_month'],axis=1).columns)"
      ],
      "execution_count": null,
      "outputs": [
        {
          "output_type": "execute_result",
          "data": {
            "text/plain": [
              "(36, 36)"
            ]
          },
          "metadata": {
            "tags": []
          },
          "execution_count": 107
        }
      ]
    },
    {
      "cell_type": "code",
      "metadata": {
        "colab": {
          "base_uri": "https://localhost:8080/"
        },
        "id": "F9cbS6Llsi4l",
        "outputId": "8d888345-39e0-455e-c00c-60c2c46b8987"
      },
      "source": [
        "train.columns"
      ],
      "execution_count": null,
      "outputs": [
        {
          "output_type": "execute_result",
          "data": {
            "text/plain": [
              "Index(['index', 'gender', 'car', 'reality', 'child_num', 'income_total',\n",
              "       'income_type', 'edu_type', 'family_type', 'house_type', 'DAYS_BIRTH',\n",
              "       'DAYS_EMPLOYED', 'FLAG_MOBIL', 'work_phone', 'phone', 'email',\n",
              "       'occyp_type', 'family_size', 'begin_month', 'credit',\n",
              "       'gender_car_reality', 'phones_email', 'income_total_bins',\n",
              "       'professional', 'DAYS_BIRTH_month', 'DAYS_BIRTH_week',\n",
              "       'DAYS_BIRTH_year', 'DAYS_EMPLOYED_month', 'DAYS_EMPLOYED_week',\n",
              "       'DAYS_EMPLOYED_year', 'before_EMPLOYED', 'before_EMPLOYED_month',\n",
              "       'before_EMPLOYED_week', 'before_EMPLOYED_year', 'begin_year',\n",
              "       'begin_week', 'AGE', 'mean_income'],\n",
              "      dtype='object')"
            ]
          },
          "metadata": {
            "tags": []
          },
          "execution_count": 108
        }
      ]
    },
    {
      "cell_type": "code",
      "metadata": {
        "id": "ZhwY6wHK1HBb"
      },
      "source": [
        "#train['duplicated'] = [str(a0)+'_'+str(a1)+'_'+str(a2)+'_'+str(a3)+'_'+str(a4)+'_'+str(a5)+'_'+str(a6)+'_'+str(a7)+'_'+str(a8) for a0,a1,a2,a3,a4,a5,a6,a7,a8 in zip(train['income_type'],train['DAYS_BIRTH'],train['DAYS_EMPLOYED'],train['income_total_bins'],train['DAYS_BIRTH_month'],train['DAYS_BIRTH_year'],train['DAYS_EMPLOYED_month'],train['DAYS_EMPLOYED_year'],train['mean_income'])]\n",
        "#test['duplicated'] = [str(a0)+'_'+str(a1)+'_'+str(a2)+'_'+str(a3)+'_'+str(a4)+'_'+str(a5)+'_'+str(a6)+'_'+str(a7)+'_'+str(a8) for a0,a1,a2,a3,a4,a5,a6,a7,a8 in zip(test['income_type'],test['DAYS_BIRTH'],test['DAYS_EMPLOYED'],test['income_total_bins'],test['DAYS_BIRTH_month'],test['DAYS_BIRTH_year'],test['DAYS_EMPLOYED_month'],test['DAYS_EMPLOYED_year'],test['mean_income'])]\n",
        "#train['identity'] = [str(i) + str(j) + str(k) + str(l) for i,j,k,l in zip(train['gender'],train['income_total_bins'],train['DAYS_BIRTH'],train['DAYS_EMPLOYED_year'])]\n",
        "#test['identity'] = [str(i) + str(j) + str(k) + str(l) for i,j,k,l in zip(test['gender'],test['income_total_bins'],test['DAYS_BIRTH'],test['DAYS_EMPLOYED_year'])]"
      ],
      "execution_count": null,
      "outputs": []
    },
    {
      "cell_type": "markdown",
      "metadata": {
        "id": "SE6MtwArO40-"
      },
      "source": [
        "- 필요없는 변수 처리"
      ]
    },
    {
      "cell_type": "code",
      "metadata": {
        "id": "490RXbEk01Gh"
      },
      "source": [
        "train.drop(['index'],axis=1,inplace=True)\n",
        "test.drop(['index'],axis=1,inplace=True)\n",
        "train.drop(['gender'],axis=1,inplace=True)\n",
        "test.drop(['gender'],axis=1,inplace=True)\n",
        "train.drop(['car'],axis=1,inplace=True)\n",
        "test.drop(['car'],axis=1,inplace=True)\n",
        "train.drop(['reality'],axis=1,inplace=True)\n",
        "test.drop(['reality'],axis=1,inplace=True)\n",
        "train.drop(['phone'],axis=1,inplace=True)\n",
        "test.drop(['phone'],axis=1,inplace=True)\n",
        "train.drop(['email'],axis=1,inplace=True)\n",
        "test.drop(['email'],axis=1,inplace=True)\n",
        "train.drop(['work_phone'],axis=1,inplace=True)\n",
        "test.drop(['work_phone'],axis=1,inplace=True)\n",
        "train.drop(['FLAG_MOBIL'],axis=1,inplace=True)\n",
        "test.drop(['FLAG_MOBIL'],axis=1,inplace=True)\n",
        "#train.drop(['DAYS_BIRTH'],axis=1,inplace=True)\n",
        "#test.drop(['DAYS_BIRTH'],axis=1,inplace=True)\n",
        "#train.drop(['DAYS_EMPLOYED'],axis=1,inplace=True)\n",
        "#test.drop(['DAYS_EMPLOYED'],axis=1,inplace=True)\n",
        "#train.drop(['family_size'],axis=1,inplace=True)\n",
        "#test.drop(['family_size'],axis=1,inplace=True)\n",
        "#train.drop(['child_num'],axis=1,inplace=True)\n",
        "#test.drop(['child_num'],axis=1,inplace=True)\n",
        "train.drop(['professional'],axis=1,inplace=True)\n",
        "test.drop(['professional'],axis=1,inplace=True)\n",
        "#train.drop(['AGE'],axis=1,inplace=True)\n",
        "#test.drop(['AGE'],axis=1,inplace=True)"
      ],
      "execution_count": null,
      "outputs": []
    },
    {
      "cell_type": "code",
      "metadata": {
        "colab": {
          "base_uri": "https://localhost:8080/",
          "height": 676
        },
        "id": "Kb0EA0l-Leox",
        "outputId": "ca3685dd-34f9-46ec-aadd-091bfbac55a5"
      },
      "source": [
        "import matplotlib.pyplot as plt\n",
        "import seaborn as sns\n",
        "plt.figure(figsize =(9,9))\n",
        "corr = train.corr()\n",
        "sns.heatmap(corr,cmap='RdBu')"
      ],
      "execution_count": null,
      "outputs": [
        {
          "output_type": "execute_result",
          "data": {
            "text/plain": [
              "<matplotlib.axes._subplots.AxesSubplot at 0x7fd181c4d690>"
            ]
          },
          "metadata": {
            "tags": []
          },
          "execution_count": 111
        },
        {
          "output_type": "display_data",
          "data": {
            "image/png": "[encoded data removed]",
            "text/plain": [
              "<Figure size 648x648 with 2 Axes>"
            ]
          },
          "metadata": {
            "tags": []
          }
        }
      ]
    },
    {
      "cell_type": "code",
      "metadata": {
        "id": "-588Z0sMLWQD"
      },
      "source": [
        "#train.drop(['DAYS_BIRTH_month'],axis=1,inplace=True)\n",
        "#test.drop(['DAYS_BIRTH_month'],axis=1,inplace=True)\n",
        "#train.drop(['before_EMPLOYED_month'],axis=1,inplace=True)\n",
        "#test.drop(['before_EMPLOYED_month'],axis=1,inplace=True)\n",
        "#train.drop(['DAYS_BIRTH_week'],axis=1,inplace=True)\n",
        "#test.drop(['DAYS_BIRTH_week'],axis=1,inplace=True)\n",
        "#train.drop(['before_EMPLOYED_week'],axis=1,inplace=True)\n",
        "#test.drop(['before_EMPLOYED_week'],axis=1,inplace=True)"
      ],
      "execution_count": null,
      "outputs": []
    },
    {
      "cell_type": "code",
      "metadata": {
        "colab": {
          "base_uri": "https://localhost:8080/"
        },
        "id": "0qoidQFy05KM",
        "outputId": "27109a77-0fba-455a-c4f2-939dd4f49682"
      },
      "source": [
        "train.drop(['begin_month','credit'],axis=1).columns\n",
        "len(train.drop(['begin_month','credit'],axis=1).columns)"
      ],
      "execution_count": null,
      "outputs": [
        {
          "output_type": "execute_result",
          "data": {
            "text/plain": [
              "27"
            ]
          },
          "metadata": {
            "tags": []
          },
          "execution_count": 113
        }
      ]
    },
    {
      "cell_type": "code",
      "metadata": {
        "id": "r3SOvcWStLJ4"
      },
      "source": [
        "#label_encoder = LabelEncoder()\n",
        "#train['duplicated']=label_encoder.fit_transform(train['duplicated'])\n",
        "#test['duplicated']=label_encoder.fit_transform(test['duplicated'])\n",
        "\n",
        "#label_encoder = LabelEncoder()\n",
        "#train['identity']=label_encoder.fit_transform(train['identity'])\n",
        "#test['identity']=label_encoder.fit_transform(test['identity'])"
      ],
      "execution_count": null,
      "outputs": []
    },
    {
      "cell_type": "code",
      "metadata": {
        "id": "qqNRNxxCJlUR"
      },
      "source": [
        "#train['duplicated'].value_counts()\n",
        "#train['identity'].value_counts()"
      ],
      "execution_count": null,
      "outputs": []
    },
    {
      "cell_type": "code",
      "metadata": {
        "colab": {
          "base_uri": "https://localhost:8080/"
        },
        "id": "c3b30fwC6i0Q",
        "outputId": "7af1e7c6-662a-4555-c97f-134719262cdd"
      },
      "source": [
        "train.columns"
      ],
      "execution_count": null,
      "outputs": [
        {
          "output_type": "execute_result",
          "data": {
            "text/plain": [
              "Index(['child_num', 'income_total', 'income_type', 'edu_type', 'family_type',\n",
              "       'house_type', 'DAYS_BIRTH', 'DAYS_EMPLOYED', 'occyp_type',\n",
              "       'family_size', 'begin_month', 'credit', 'gender_car_reality',\n",
              "       'phones_email', 'income_total_bins', 'DAYS_BIRTH_month',\n",
              "       'DAYS_BIRTH_week', 'DAYS_BIRTH_year', 'DAYS_EMPLOYED_month',\n",
              "       'DAYS_EMPLOYED_week', 'DAYS_EMPLOYED_year', 'before_EMPLOYED',\n",
              "       'before_EMPLOYED_month', 'before_EMPLOYED_week', 'before_EMPLOYED_year',\n",
              "       'begin_year', 'begin_week', 'AGE', 'mean_income'],\n",
              "      dtype='object')"
            ]
          },
          "metadata": {
            "tags": []
          },
          "execution_count": 116
        }
      ]
    },
    {
      "cell_type": "markdown",
      "metadata": {
        "id": "DwwW_PCA3F7Y"
      },
      "source": [
        "- 라벨 인코딩 & 원 핫 인코딩"
      ]
    },
    {
      "cell_type": "code",
      "metadata": {
        "id": "HNg8kv-M3KVK"
      },
      "source": [
        "enc_col = []\n",
        "for col in train.columns:\n",
        "    if train[col].dtype == 'object':\n",
        "      enc_col = []\n",
        "      enc_col.append(col)\n",
        "\n",
        "enc = OneHotEncoder()\n",
        "enc.fit(train.loc[:,enc_col])\n",
        "\n",
        "train_onehot_df = pd.DataFrame(enc.transform(train.loc[:,enc_col]).toarray(),columns = enc.get_feature_names(enc_col))\n",
        "train.drop(enc_col,axis=1,inplace=True)\n",
        "train = pd.concat([train,train_onehot_df],axis=1)\n",
        "\n",
        "test_onehot_df = pd.DataFrame(enc.transform(test.loc[:,enc_col]).toarray(),columns = enc.get_feature_names(enc_col))\n",
        "test.drop(enc_col,axis=1,inplace=True)\n",
        "test = pd.concat([test,test_onehot_df],axis=1)"
      ],
      "execution_count": null,
      "outputs": []
    },
    {
      "cell_type": "code",
      "metadata": {
        "colab": {
          "base_uri": "https://localhost:8080/"
        },
        "id": "vY0ISdOFiFl7",
        "outputId": "42dae49f-0a51-4780-cddd-21b5ea4a2c56"
      },
      "source": [
        "lab_col = []\n",
        "lab = LabelEncoder()\n",
        "for col in train.columns:\n",
        "    if train[col].dtype == 'object':\n",
        "      lab_col = []\n",
        "      lab_col.append(col)\n",
        "      print(lab_col)\n",
        "      train[lab_col]=lab.fit_transform(train[lab_col])\n",
        "      test[lab_col]=lab.fit_transform(test[lab_col])"
      ],
      "execution_count": null,
      "outputs": [
        {
          "output_type": "stream",
          "text": [
            "['income_type']\n",
            "['edu_type']\n",
            "['family_type']\n",
            "['house_type']\n",
            "['occyp_type']\n",
            "['gender_car_reality']\n",
            "['phones_email']\n"
          ],
          "name": "stdout"
        }
      ]
    },
    {
      "cell_type": "code",
      "metadata": {
        "colab": {
          "base_uri": "https://localhost:8080/"
        },
        "id": "uYulVu8e3MKy",
        "outputId": "e2e214c0-5561-478a-a6eb-b5ad44fa751f"
      },
      "source": [
        "train.isnull().sum(),test.isnull().sum()"
      ],
      "execution_count": null,
      "outputs": [
        {
          "output_type": "execute_result",
          "data": {
            "text/plain": [
              "(child_num                0\n",
              " income_total             0\n",
              " income_type              0\n",
              " edu_type                 0\n",
              " family_type              0\n",
              " house_type               0\n",
              " DAYS_BIRTH               0\n",
              " DAYS_EMPLOYED            0\n",
              " occyp_type               0\n",
              " family_size              0\n",
              " begin_month              0\n",
              " credit                   0\n",
              " gender_car_reality       0\n",
              " phones_email             0\n",
              " income_total_bins        0\n",
              " DAYS_BIRTH_month         0\n",
              " DAYS_BIRTH_week          0\n",
              " DAYS_BIRTH_year          0\n",
              " DAYS_EMPLOYED_month      0\n",
              " DAYS_EMPLOYED_week       0\n",
              " DAYS_EMPLOYED_year       0\n",
              " before_EMPLOYED          0\n",
              " before_EMPLOYED_month    0\n",
              " before_EMPLOYED_week     0\n",
              " before_EMPLOYED_year     0\n",
              " begin_year               0\n",
              " begin_week               0\n",
              " AGE                      0\n",
              " mean_income_20대평균소득미만    0\n",
              " mean_income_20대평균소득이상    0\n",
              " mean_income_30대평균소득미만    0\n",
              " mean_income_30대평균소득이상    0\n",
              " mean_income_40대평균소득미만    0\n",
              " mean_income_40대평균소득이상    0\n",
              " mean_income_50대평균소득미만    0\n",
              " mean_income_50대평균소득이상    0\n",
              " mean_income_60대평균소득미만    0\n",
              " mean_income_60대평균소득이상    0\n",
              " dtype: int64, child_num                0\n",
              " income_total             0\n",
              " income_type              0\n",
              " edu_type                 0\n",
              " family_type              0\n",
              " house_type               0\n",
              " DAYS_BIRTH               0\n",
              " DAYS_EMPLOYED            0\n",
              " occyp_type               0\n",
              " family_size              0\n",
              " begin_month              0\n",
              " gender_car_reality       0\n",
              " phones_email             0\n",
              " income_total_bins        0\n",
              " DAYS_BIRTH_month         0\n",
              " DAYS_BIRTH_week          0\n",
              " DAYS_BIRTH_year          0\n",
              " DAYS_EMPLOYED_month      0\n",
              " DAYS_EMPLOYED_week       0\n",
              " DAYS_EMPLOYED_year       0\n",
              " before_EMPLOYED          0\n",
              " before_EMPLOYED_month    0\n",
              " before_EMPLOYED_week     0\n",
              " before_EMPLOYED_year     0\n",
              " begin_year               0\n",
              " begin_week               0\n",
              " AGE                      0\n",
              " mean_income_20대평균소득미만    0\n",
              " mean_income_20대평균소득이상    0\n",
              " mean_income_30대평균소득미만    0\n",
              " mean_income_30대평균소득이상    0\n",
              " mean_income_40대평균소득미만    0\n",
              " mean_income_40대평균소득이상    0\n",
              " mean_income_50대평균소득미만    0\n",
              " mean_income_50대평균소득이상    0\n",
              " mean_income_60대평균소득미만    0\n",
              " mean_income_60대평균소득이상    0\n",
              " dtype: int64)"
            ]
          },
          "metadata": {
            "tags": []
          },
          "execution_count": 119
        }
      ]
    },
    {
      "cell_type": "markdown",
      "metadata": {
        "id": "zswLCuidiL4f"
      },
      "source": [
        "- 정수형 변환"
      ]
    },
    {
      "cell_type": "code",
      "metadata": {
        "id": "BMAdNEixPS6r"
      },
      "source": [
        "for col in train.columns:\n",
        "    if train[col].dtype == 'float':\n",
        "      train[col] = train[col].astype(int)\n",
        "\n",
        "for col in test.columns:\n",
        "    if test[col].dtype == 'float':\n",
        "      test[col] = test[col].astype(int)"
      ],
      "execution_count": null,
      "outputs": []
    },
    {
      "cell_type": "code",
      "metadata": {
        "colab": {
          "base_uri": "https://localhost:8080/",
          "height": 436
        },
        "id": "hi6cqf43k7-l",
        "outputId": "1bc0fc24-dcc0-4b26-d4b9-b4940e11d82f"
      },
      "source": [
        "train"
      ],
      "execution_count": null,
      "outputs": [
        {
          "output_type": "execute_result",
          "data": {
            "text/html": [
              "<div>\n",
              "<style scoped>\n",
              "    .dataframe tbody tr th:only-of-type {\n",
              "        vertical-align: middle;\n",
              "    }\n",
              "\n",
              "    .dataframe tbody tr th {\n",
              "        vertical-align: top;\n",
              "    }\n",
              "\n",
              "    .dataframe thead th {\n",
              "        text-align: right;\n",
              "    }\n",
              "</style>\n",
              "<table border=\"1\" class=\"dataframe\">\n",
              "  <thead>\n",
              "    <tr style=\"text-align: right;\">\n",
              "      <th></th>\n",
              "      <th>child_num</th>\n",
              "      <th>income_total</th>\n",
              "      <th>income_type</th>\n",
              "      <th>edu_type</th>\n",
              "      <th>family_type</th>\n",
              "      <th>house_type</th>\n",
              "      <th>DAYS_BIRTH</th>\n",
              "      <th>DAYS_EMPLOYED</th>\n",
              "      <th>occyp_type</th>\n",
              "      <th>family_size</th>\n",
              "      <th>begin_month</th>\n",
              "      <th>credit</th>\n",
              "      <th>gender_car_reality</th>\n",
              "      <th>phones_email</th>\n",
              "      <th>income_total_bins</th>\n",
              "      <th>DAYS_BIRTH_month</th>\n",
              "      <th>DAYS_BIRTH_week</th>\n",
              "      <th>DAYS_BIRTH_year</th>\n",
              "      <th>DAYS_EMPLOYED_month</th>\n",
              "      <th>DAYS_EMPLOYED_week</th>\n",
              "      <th>DAYS_EMPLOYED_year</th>\n",
              "      <th>before_EMPLOYED</th>\n",
              "      <th>before_EMPLOYED_month</th>\n",
              "      <th>before_EMPLOYED_week</th>\n",
              "      <th>before_EMPLOYED_year</th>\n",
              "      <th>begin_year</th>\n",
              "      <th>begin_week</th>\n",
              "      <th>AGE</th>\n",
              "      <th>mean_income_20대평균소득미만</th>\n",
              "      <th>mean_income_20대평균소득이상</th>\n",
              "      <th>mean_income_30대평균소득미만</th>\n",
              "      <th>mean_income_30대평균소득이상</th>\n",
              "      <th>mean_income_40대평균소득미만</th>\n",
              "      <th>mean_income_40대평균소득이상</th>\n",
              "      <th>mean_income_50대평균소득미만</th>\n",
              "      <th>mean_income_50대평균소득이상</th>\n",
              "      <th>mean_income_60대평균소득미만</th>\n",
              "      <th>mean_income_60대평균소득이상</th>\n",
              "    </tr>\n",
              "  </thead>\n",
              "  <tbody>\n",
              "    <tr>\n",
              "      <th>0</th>\n",
              "      <td>0</td>\n",
              "      <td>202500</td>\n",
              "      <td>0</td>\n",
              "      <td>1</td>\n",
              "      <td>1</td>\n",
              "      <td>2</td>\n",
              "      <td>13899</td>\n",
              "      <td>4709</td>\n",
              "      <td>12</td>\n",
              "      <td>2</td>\n",
              "      <td>6</td>\n",
              "      <td>1</td>\n",
              "      <td>0</td>\n",
              "      <td>0</td>\n",
              "      <td>0</td>\n",
              "      <td>7</td>\n",
              "      <td>1</td>\n",
              "      <td>1158</td>\n",
              "      <td>0</td>\n",
              "      <td>0</td>\n",
              "      <td>392</td>\n",
              "      <td>9190</td>\n",
              "      <td>6</td>\n",
              "      <td>0</td>\n",
              "      <td>766</td>\n",
              "      <td>0</td>\n",
              "      <td>26</td>\n",
              "      <td>38</td>\n",
              "      <td>0</td>\n",
              "      <td>0</td>\n",
              "      <td>0</td>\n",
              "      <td>1</td>\n",
              "      <td>0</td>\n",
              "      <td>0</td>\n",
              "      <td>0</td>\n",
              "      <td>0</td>\n",
              "      <td>0</td>\n",
              "      <td>0</td>\n",
              "    </tr>\n",
              "    <tr>\n",
              "      <th>1</th>\n",
              "      <td>1</td>\n",
              "      <td>247500</td>\n",
              "      <td>0</td>\n",
              "      <td>4</td>\n",
              "      <td>0</td>\n",
              "      <td>1</td>\n",
              "      <td>11380</td>\n",
              "      <td>1540</td>\n",
              "      <td>8</td>\n",
              "      <td>3</td>\n",
              "      <td>5</td>\n",
              "      <td>1</td>\n",
              "      <td>1</td>\n",
              "      <td>1</td>\n",
              "      <td>0</td>\n",
              "      <td>7</td>\n",
              "      <td>1</td>\n",
              "      <td>948</td>\n",
              "      <td>3</td>\n",
              "      <td>0</td>\n",
              "      <td>128</td>\n",
              "      <td>9840</td>\n",
              "      <td>4</td>\n",
              "      <td>1</td>\n",
              "      <td>820</td>\n",
              "      <td>0</td>\n",
              "      <td>21</td>\n",
              "      <td>31</td>\n",
              "      <td>0</td>\n",
              "      <td>0</td>\n",
              "      <td>0</td>\n",
              "      <td>1</td>\n",
              "      <td>0</td>\n",
              "      <td>0</td>\n",
              "      <td>0</td>\n",
              "      <td>0</td>\n",
              "      <td>0</td>\n",
              "      <td>0</td>\n",
              "    </tr>\n",
              "    <tr>\n",
              "      <th>2</th>\n",
              "      <td>0</td>\n",
              "      <td>450000</td>\n",
              "      <td>4</td>\n",
              "      <td>1</td>\n",
              "      <td>1</td>\n",
              "      <td>1</td>\n",
              "      <td>19087</td>\n",
              "      <td>4434</td>\n",
              "      <td>10</td>\n",
              "      <td>2</td>\n",
              "      <td>22</td>\n",
              "      <td>2</td>\n",
              "      <td>7</td>\n",
              "      <td>2</td>\n",
              "      <td>1</td>\n",
              "      <td>0</td>\n",
              "      <td>2</td>\n",
              "      <td>1591</td>\n",
              "      <td>3</td>\n",
              "      <td>1</td>\n",
              "      <td>370</td>\n",
              "      <td>14653</td>\n",
              "      <td>8</td>\n",
              "      <td>1</td>\n",
              "      <td>1221</td>\n",
              "      <td>1</td>\n",
              "      <td>95</td>\n",
              "      <td>52</td>\n",
              "      <td>0</td>\n",
              "      <td>0</td>\n",
              "      <td>0</td>\n",
              "      <td>0</td>\n",
              "      <td>0</td>\n",
              "      <td>0</td>\n",
              "      <td>0</td>\n",
              "      <td>1</td>\n",
              "      <td>0</td>\n",
              "      <td>0</td>\n",
              "    </tr>\n",
              "    <tr>\n",
              "      <th>3</th>\n",
              "      <td>0</td>\n",
              "      <td>202500</td>\n",
              "      <td>0</td>\n",
              "      <td>4</td>\n",
              "      <td>1</td>\n",
              "      <td>1</td>\n",
              "      <td>15088</td>\n",
              "      <td>2092</td>\n",
              "      <td>15</td>\n",
              "      <td>2</td>\n",
              "      <td>37</td>\n",
              "      <td>0</td>\n",
              "      <td>1</td>\n",
              "      <td>2</td>\n",
              "      <td>0</td>\n",
              "      <td>10</td>\n",
              "      <td>3</td>\n",
              "      <td>1257</td>\n",
              "      <td>9</td>\n",
              "      <td>2</td>\n",
              "      <td>174</td>\n",
              "      <td>12996</td>\n",
              "      <td>1</td>\n",
              "      <td>0</td>\n",
              "      <td>1083</td>\n",
              "      <td>3</td>\n",
              "      <td>160</td>\n",
              "      <td>41</td>\n",
              "      <td>0</td>\n",
              "      <td>0</td>\n",
              "      <td>0</td>\n",
              "      <td>0</td>\n",
              "      <td>0</td>\n",
              "      <td>1</td>\n",
              "      <td>0</td>\n",
              "      <td>0</td>\n",
              "      <td>0</td>\n",
              "      <td>0</td>\n",
              "    </tr>\n",
              "    <tr>\n",
              "      <th>4</th>\n",
              "      <td>0</td>\n",
              "      <td>157500</td>\n",
              "      <td>2</td>\n",
              "      <td>1</td>\n",
              "      <td>1</td>\n",
              "      <td>1</td>\n",
              "      <td>15037</td>\n",
              "      <td>2105</td>\n",
              "      <td>10</td>\n",
              "      <td>2</td>\n",
              "      <td>26</td>\n",
              "      <td>2</td>\n",
              "      <td>3</td>\n",
              "      <td>0</td>\n",
              "      <td>0</td>\n",
              "      <td>9</td>\n",
              "      <td>0</td>\n",
              "      <td>1253</td>\n",
              "      <td>10</td>\n",
              "      <td>0</td>\n",
              "      <td>175</td>\n",
              "      <td>12932</td>\n",
              "      <td>11</td>\n",
              "      <td>3</td>\n",
              "      <td>1078</td>\n",
              "      <td>2</td>\n",
              "      <td>112</td>\n",
              "      <td>41</td>\n",
              "      <td>0</td>\n",
              "      <td>0</td>\n",
              "      <td>0</td>\n",
              "      <td>0</td>\n",
              "      <td>1</td>\n",
              "      <td>0</td>\n",
              "      <td>0</td>\n",
              "      <td>0</td>\n",
              "      <td>0</td>\n",
              "      <td>0</td>\n",
              "    </tr>\n",
              "    <tr>\n",
              "      <th>...</th>\n",
              "      <td>...</td>\n",
              "      <td>...</td>\n",
              "      <td>...</td>\n",
              "      <td>...</td>\n",
              "      <td>...</td>\n",
              "      <td>...</td>\n",
              "      <td>...</td>\n",
              "      <td>...</td>\n",
              "      <td>...</td>\n",
              "      <td>...</td>\n",
              "      <td>...</td>\n",
              "      <td>...</td>\n",
              "      <td>...</td>\n",
              "      <td>...</td>\n",
              "      <td>...</td>\n",
              "      <td>...</td>\n",
              "      <td>...</td>\n",
              "      <td>...</td>\n",
              "      <td>...</td>\n",
              "      <td>...</td>\n",
              "      <td>...</td>\n",
              "      <td>...</td>\n",
              "      <td>...</td>\n",
              "      <td>...</td>\n",
              "      <td>...</td>\n",
              "      <td>...</td>\n",
              "      <td>...</td>\n",
              "      <td>...</td>\n",
              "      <td>...</td>\n",
              "      <td>...</td>\n",
              "      <td>...</td>\n",
              "      <td>...</td>\n",
              "      <td>...</td>\n",
              "      <td>...</td>\n",
              "      <td>...</td>\n",
              "      <td>...</td>\n",
              "      <td>...</td>\n",
              "      <td>...</td>\n",
              "    </tr>\n",
              "    <tr>\n",
              "      <th>26452</th>\n",
              "      <td>2</td>\n",
              "      <td>225000</td>\n",
              "      <td>2</td>\n",
              "      <td>4</td>\n",
              "      <td>1</td>\n",
              "      <td>1</td>\n",
              "      <td>12079</td>\n",
              "      <td>1984</td>\n",
              "      <td>3</td>\n",
              "      <td>4</td>\n",
              "      <td>2</td>\n",
              "      <td>1</td>\n",
              "      <td>0</td>\n",
              "      <td>0</td>\n",
              "      <td>0</td>\n",
              "      <td>6</td>\n",
              "      <td>1</td>\n",
              "      <td>1007</td>\n",
              "      <td>6</td>\n",
              "      <td>3</td>\n",
              "      <td>165</td>\n",
              "      <td>10095</td>\n",
              "      <td>0</td>\n",
              "      <td>2</td>\n",
              "      <td>842</td>\n",
              "      <td>0</td>\n",
              "      <td>8</td>\n",
              "      <td>33</td>\n",
              "      <td>0</td>\n",
              "      <td>0</td>\n",
              "      <td>0</td>\n",
              "      <td>1</td>\n",
              "      <td>0</td>\n",
              "      <td>0</td>\n",
              "      <td>0</td>\n",
              "      <td>0</td>\n",
              "      <td>0</td>\n",
              "      <td>0</td>\n",
              "    </tr>\n",
              "    <tr>\n",
              "      <th>26453</th>\n",
              "      <td>1</td>\n",
              "      <td>180000</td>\n",
              "      <td>4</td>\n",
              "      <td>1</td>\n",
              "      <td>2</td>\n",
              "      <td>1</td>\n",
              "      <td>15291</td>\n",
              "      <td>2475</td>\n",
              "      <td>12</td>\n",
              "      <td>2</td>\n",
              "      <td>47</td>\n",
              "      <td>2</td>\n",
              "      <td>1</td>\n",
              "      <td>0</td>\n",
              "      <td>0</td>\n",
              "      <td>5</td>\n",
              "      <td>0</td>\n",
              "      <td>1274</td>\n",
              "      <td>10</td>\n",
              "      <td>1</td>\n",
              "      <td>206</td>\n",
              "      <td>12816</td>\n",
              "      <td>7</td>\n",
              "      <td>2</td>\n",
              "      <td>1068</td>\n",
              "      <td>3</td>\n",
              "      <td>204</td>\n",
              "      <td>42</td>\n",
              "      <td>0</td>\n",
              "      <td>0</td>\n",
              "      <td>0</td>\n",
              "      <td>0</td>\n",
              "      <td>1</td>\n",
              "      <td>0</td>\n",
              "      <td>0</td>\n",
              "      <td>0</td>\n",
              "      <td>0</td>\n",
              "      <td>0</td>\n",
              "    </tr>\n",
              "    <tr>\n",
              "      <th>26454</th>\n",
              "      <td>0</td>\n",
              "      <td>292500</td>\n",
              "      <td>4</td>\n",
              "      <td>4</td>\n",
              "      <td>0</td>\n",
              "      <td>5</td>\n",
              "      <td>10082</td>\n",
              "      <td>2015</td>\n",
              "      <td>3</td>\n",
              "      <td>2</td>\n",
              "      <td>25</td>\n",
              "      <td>2</td>\n",
              "      <td>2</td>\n",
              "      <td>0</td>\n",
              "      <td>0</td>\n",
              "      <td>0</td>\n",
              "      <td>0</td>\n",
              "      <td>840</td>\n",
              "      <td>7</td>\n",
              "      <td>3</td>\n",
              "      <td>168</td>\n",
              "      <td>8067</td>\n",
              "      <td>4</td>\n",
              "      <td>0</td>\n",
              "      <td>672</td>\n",
              "      <td>2</td>\n",
              "      <td>108</td>\n",
              "      <td>28</td>\n",
              "      <td>0</td>\n",
              "      <td>1</td>\n",
              "      <td>0</td>\n",
              "      <td>0</td>\n",
              "      <td>0</td>\n",
              "      <td>0</td>\n",
              "      <td>0</td>\n",
              "      <td>0</td>\n",
              "      <td>0</td>\n",
              "      <td>0</td>\n",
              "    </tr>\n",
              "    <tr>\n",
              "      <th>26455</th>\n",
              "      <td>0</td>\n",
              "      <td>171000</td>\n",
              "      <td>4</td>\n",
              "      <td>2</td>\n",
              "      <td>3</td>\n",
              "      <td>1</td>\n",
              "      <td>10145</td>\n",
              "      <td>107</td>\n",
              "      <td>8</td>\n",
              "      <td>1</td>\n",
              "      <td>59</td>\n",
              "      <td>2</td>\n",
              "      <td>5</td>\n",
              "      <td>0</td>\n",
              "      <td>0</td>\n",
              "      <td>2</td>\n",
              "      <td>1</td>\n",
              "      <td>845</td>\n",
              "      <td>3</td>\n",
              "      <td>3</td>\n",
              "      <td>9</td>\n",
              "      <td>10038</td>\n",
              "      <td>10</td>\n",
              "      <td>2</td>\n",
              "      <td>836</td>\n",
              "      <td>4</td>\n",
              "      <td>256</td>\n",
              "      <td>28</td>\n",
              "      <td>0</td>\n",
              "      <td>1</td>\n",
              "      <td>0</td>\n",
              "      <td>0</td>\n",
              "      <td>0</td>\n",
              "      <td>0</td>\n",
              "      <td>0</td>\n",
              "      <td>0</td>\n",
              "      <td>0</td>\n",
              "      <td>0</td>\n",
              "    </tr>\n",
              "    <tr>\n",
              "      <th>26456</th>\n",
              "      <td>0</td>\n",
              "      <td>81000</td>\n",
              "      <td>4</td>\n",
              "      <td>4</td>\n",
              "      <td>0</td>\n",
              "      <td>1</td>\n",
              "      <td>19569</td>\n",
              "      <td>1013</td>\n",
              "      <td>17</td>\n",
              "      <td>2</td>\n",
              "      <td>9</td>\n",
              "      <td>2</td>\n",
              "      <td>0</td>\n",
              "      <td>0</td>\n",
              "      <td>0</td>\n",
              "      <td>4</td>\n",
              "      <td>3</td>\n",
              "      <td>1631</td>\n",
              "      <td>9</td>\n",
              "      <td>0</td>\n",
              "      <td>84</td>\n",
              "      <td>18556</td>\n",
              "      <td>6</td>\n",
              "      <td>2</td>\n",
              "      <td>1547</td>\n",
              "      <td>0</td>\n",
              "      <td>39</td>\n",
              "      <td>54</td>\n",
              "      <td>0</td>\n",
              "      <td>0</td>\n",
              "      <td>0</td>\n",
              "      <td>0</td>\n",
              "      <td>0</td>\n",
              "      <td>0</td>\n",
              "      <td>1</td>\n",
              "      <td>0</td>\n",
              "      <td>0</td>\n",
              "      <td>0</td>\n",
              "    </tr>\n",
              "  </tbody>\n",
              "</table>\n",
              "<p>26457 rows × 38 columns</p>\n",
              "</div>"
            ],
            "text/plain": [
              "       child_num  income_total  ...  mean_income_60대평균소득미만  mean_income_60대평균소득이상\n",
              "0              0        202500  ...                      0                      0\n",
              "1              1        247500  ...                      0                      0\n",
              "2              0        450000  ...                      0                      0\n",
              "3              0        202500  ...                      0                      0\n",
              "4              0        157500  ...                      0                      0\n",
              "...          ...           ...  ...                    ...                    ...\n",
              "26452          2        225000  ...                      0                      0\n",
              "26453          1        180000  ...                      0                      0\n",
              "26454          0        292500  ...                      0                      0\n",
              "26455          0        171000  ...                      0                      0\n",
              "26456          0         81000  ...                      0                      0\n",
              "\n",
              "[26457 rows x 38 columns]"
            ]
          },
          "metadata": {
            "tags": []
          },
          "execution_count": 121
        }
      ]
    },
    {
      "cell_type": "markdown",
      "metadata": {
        "id": "RVIhdJ1X3XuE"
      },
      "source": [
        "# preprocessing"
      ]
    },
    {
      "cell_type": "markdown",
      "metadata": {
        "id": "IFmt75xeVRGA"
      },
      "source": [
        "- Kmeans Clustering"
      ]
    },
    {
      "cell_type": "code",
      "metadata": {
        "id": "ikeh6Y0mblR4"
      },
      "source": [
        "from sklearn.cluster import KMeans\n",
        "model = KMeans(n_clusters=5,random_state=31) # 5, 6\n",
        "model.fit(train.drop('credit', axis=1))\n",
        "train_predict = model.predict(train.drop('credit', axis=1))\n",
        "train['cluster']=train_predict\n",
        "\n",
        "test_predict = model.predict(test)\n",
        "test['cluster']=test_predict"
      ],
      "execution_count": null,
      "outputs": []
    },
    {
      "cell_type": "code",
      "metadata": {
        "colab": {
          "base_uri": "https://localhost:8080/",
          "height": 290
        },
        "id": "9Wv2Bm_3brhD",
        "outputId": "04c3c040-45e5-4d1a-b278-cba5a0284f37"
      },
      "source": [
        "ks = range(1,10)\n",
        "\n",
        "inertias = []\n",
        "\n",
        "for k in ks:\n",
        "    model = KMeans(n_clusters=k)\n",
        "    model.fit(train.drop('credit', axis=1))\n",
        "    inertias.append(model.inertia_)\n",
        "\n",
        "    \n",
        "\n",
        "# Plot ks vs inertias\n",
        "plt.plot(ks, inertias, '-o')\n",
        "plt.xlabel('number of clusters, k')\n",
        "plt.ylabel('inertia')\n",
        "plt.xticks(ks)\n",
        "plt.show()"
      ],
      "execution_count": null,
      "outputs": [
        {
          "output_type": "display_data",
          "data": {
            "image/png": "[encoded data removed]",
            "text/plain": [
              "<Figure size 432x288 with 1 Axes>"
            ]
          },
          "metadata": {
            "tags": []
          }
        }
      ]
    },
    {
      "cell_type": "code",
      "metadata": {
        "colab": {
          "base_uri": "https://localhost:8080/",
          "height": 436
        },
        "id": "YopSlV4wdFsO",
        "outputId": "874b98b4-acef-4594-c600-9ebdb4213625"
      },
      "source": [
        "train"
      ],
      "execution_count": null,
      "outputs": [
        {
          "output_type": "execute_result",
          "data": {
            "text/html": [
              "<div>\n",
              "<style scoped>\n",
              "    .dataframe tbody tr th:only-of-type {\n",
              "        vertical-align: middle;\n",
              "    }\n",
              "\n",
              "    .dataframe tbody tr th {\n",
              "        vertical-align: top;\n",
              "    }\n",
              "\n",
              "    .dataframe thead th {\n",
              "        text-align: right;\n",
              "    }\n",
              "</style>\n",
              "<table border=\"1\" class=\"dataframe\">\n",
              "  <thead>\n",
              "    <tr style=\"text-align: right;\">\n",
              "      <th></th>\n",
              "      <th>child_num</th>\n",
              "      <th>income_total</th>\n",
              "      <th>income_type</th>\n",
              "      <th>edu_type</th>\n",
              "      <th>family_type</th>\n",
              "      <th>house_type</th>\n",
              "      <th>DAYS_BIRTH</th>\n",
              "      <th>DAYS_EMPLOYED</th>\n",
              "      <th>occyp_type</th>\n",
              "      <th>family_size</th>\n",
              "      <th>begin_month</th>\n",
              "      <th>credit</th>\n",
              "      <th>gender_car_reality</th>\n",
              "      <th>phones_email</th>\n",
              "      <th>income_total_bins</th>\n",
              "      <th>DAYS_BIRTH_month</th>\n",
              "      <th>DAYS_BIRTH_week</th>\n",
              "      <th>DAYS_BIRTH_year</th>\n",
              "      <th>DAYS_EMPLOYED_month</th>\n",
              "      <th>DAYS_EMPLOYED_week</th>\n",
              "      <th>DAYS_EMPLOYED_year</th>\n",
              "      <th>before_EMPLOYED</th>\n",
              "      <th>before_EMPLOYED_month</th>\n",
              "      <th>before_EMPLOYED_week</th>\n",
              "      <th>before_EMPLOYED_year</th>\n",
              "      <th>begin_year</th>\n",
              "      <th>begin_week</th>\n",
              "      <th>AGE</th>\n",
              "      <th>mean_income_20대평균소득미만</th>\n",
              "      <th>mean_income_20대평균소득이상</th>\n",
              "      <th>mean_income_30대평균소득미만</th>\n",
              "      <th>mean_income_30대평균소득이상</th>\n",
              "      <th>mean_income_40대평균소득미만</th>\n",
              "      <th>mean_income_40대평균소득이상</th>\n",
              "      <th>mean_income_50대평균소득미만</th>\n",
              "      <th>mean_income_50대평균소득이상</th>\n",
              "      <th>mean_income_60대평균소득미만</th>\n",
              "      <th>mean_income_60대평균소득이상</th>\n",
              "      <th>cluster</th>\n",
              "    </tr>\n",
              "  </thead>\n",
              "  <tbody>\n",
              "    <tr>\n",
              "      <th>0</th>\n",
              "      <td>0</td>\n",
              "      <td>202500</td>\n",
              "      <td>0</td>\n",
              "      <td>1</td>\n",
              "      <td>1</td>\n",
              "      <td>2</td>\n",
              "      <td>13899</td>\n",
              "      <td>4709</td>\n",
              "      <td>12</td>\n",
              "      <td>2</td>\n",
              "      <td>6</td>\n",
              "      <td>1</td>\n",
              "      <td>0</td>\n",
              "      <td>0</td>\n",
              "      <td>0</td>\n",
              "      <td>7</td>\n",
              "      <td>1</td>\n",
              "      <td>1158</td>\n",
              "      <td>0</td>\n",
              "      <td>0</td>\n",
              "      <td>392</td>\n",
              "      <td>9190</td>\n",
              "      <td>6</td>\n",
              "      <td>0</td>\n",
              "      <td>766</td>\n",
              "      <td>0</td>\n",
              "      <td>26</td>\n",
              "      <td>38</td>\n",
              "      <td>0</td>\n",
              "      <td>0</td>\n",
              "      <td>0</td>\n",
              "      <td>1</td>\n",
              "      <td>0</td>\n",
              "      <td>0</td>\n",
              "      <td>0</td>\n",
              "      <td>0</td>\n",
              "      <td>0</td>\n",
              "      <td>0</td>\n",
              "      <td>4</td>\n",
              "    </tr>\n",
              "    <tr>\n",
              "      <th>1</th>\n",
              "      <td>1</td>\n",
              "      <td>247500</td>\n",
              "      <td>0</td>\n",
              "      <td>4</td>\n",
              "      <td>0</td>\n",
              "      <td>1</td>\n",
              "      <td>11380</td>\n",
              "      <td>1540</td>\n",
              "      <td>8</td>\n",
              "      <td>3</td>\n",
              "      <td>5</td>\n",
              "      <td>1</td>\n",
              "      <td>1</td>\n",
              "      <td>1</td>\n",
              "      <td>0</td>\n",
              "      <td>7</td>\n",
              "      <td>1</td>\n",
              "      <td>948</td>\n",
              "      <td>3</td>\n",
              "      <td>0</td>\n",
              "      <td>128</td>\n",
              "      <td>9840</td>\n",
              "      <td>4</td>\n",
              "      <td>1</td>\n",
              "      <td>820</td>\n",
              "      <td>0</td>\n",
              "      <td>21</td>\n",
              "      <td>31</td>\n",
              "      <td>0</td>\n",
              "      <td>0</td>\n",
              "      <td>0</td>\n",
              "      <td>1</td>\n",
              "      <td>0</td>\n",
              "      <td>0</td>\n",
              "      <td>0</td>\n",
              "      <td>0</td>\n",
              "      <td>0</td>\n",
              "      <td>0</td>\n",
              "      <td>4</td>\n",
              "    </tr>\n",
              "    <tr>\n",
              "      <th>2</th>\n",
              "      <td>0</td>\n",
              "      <td>450000</td>\n",
              "      <td>4</td>\n",
              "      <td>1</td>\n",
              "      <td>1</td>\n",
              "      <td>1</td>\n",
              "      <td>19087</td>\n",
              "      <td>4434</td>\n",
              "      <td>10</td>\n",
              "      <td>2</td>\n",
              "      <td>22</td>\n",
              "      <td>2</td>\n",
              "      <td>7</td>\n",
              "      <td>2</td>\n",
              "      <td>1</td>\n",
              "      <td>0</td>\n",
              "      <td>2</td>\n",
              "      <td>1591</td>\n",
              "      <td>3</td>\n",
              "      <td>1</td>\n",
              "      <td>370</td>\n",
              "      <td>14653</td>\n",
              "      <td>8</td>\n",
              "      <td>1</td>\n",
              "      <td>1221</td>\n",
              "      <td>1</td>\n",
              "      <td>95</td>\n",
              "      <td>52</td>\n",
              "      <td>0</td>\n",
              "      <td>0</td>\n",
              "      <td>0</td>\n",
              "      <td>0</td>\n",
              "      <td>0</td>\n",
              "      <td>0</td>\n",
              "      <td>0</td>\n",
              "      <td>1</td>\n",
              "      <td>0</td>\n",
              "      <td>0</td>\n",
              "      <td>1</td>\n",
              "    </tr>\n",
              "    <tr>\n",
              "      <th>3</th>\n",
              "      <td>0</td>\n",
              "      <td>202500</td>\n",
              "      <td>0</td>\n",
              "      <td>4</td>\n",
              "      <td>1</td>\n",
              "      <td>1</td>\n",
              "      <td>15088</td>\n",
              "      <td>2092</td>\n",
              "      <td>15</td>\n",
              "      <td>2</td>\n",
              "      <td>37</td>\n",
              "      <td>0</td>\n",
              "      <td>1</td>\n",
              "      <td>2</td>\n",
              "      <td>0</td>\n",
              "      <td>10</td>\n",
              "      <td>3</td>\n",
              "      <td>1257</td>\n",
              "      <td>9</td>\n",
              "      <td>2</td>\n",
              "      <td>174</td>\n",
              "      <td>12996</td>\n",
              "      <td>1</td>\n",
              "      <td>0</td>\n",
              "      <td>1083</td>\n",
              "      <td>3</td>\n",
              "      <td>160</td>\n",
              "      <td>41</td>\n",
              "      <td>0</td>\n",
              "      <td>0</td>\n",
              "      <td>0</td>\n",
              "      <td>0</td>\n",
              "      <td>0</td>\n",
              "      <td>1</td>\n",
              "      <td>0</td>\n",
              "      <td>0</td>\n",
              "      <td>0</td>\n",
              "      <td>0</td>\n",
              "      <td>4</td>\n",
              "    </tr>\n",
              "    <tr>\n",
              "      <th>4</th>\n",
              "      <td>0</td>\n",
              "      <td>157500</td>\n",
              "      <td>2</td>\n",
              "      <td>1</td>\n",
              "      <td>1</td>\n",
              "      <td>1</td>\n",
              "      <td>15037</td>\n",
              "      <td>2105</td>\n",
              "      <td>10</td>\n",
              "      <td>2</td>\n",
              "      <td>26</td>\n",
              "      <td>2</td>\n",
              "      <td>3</td>\n",
              "      <td>0</td>\n",
              "      <td>0</td>\n",
              "      <td>9</td>\n",
              "      <td>0</td>\n",
              "      <td>1253</td>\n",
              "      <td>10</td>\n",
              "      <td>0</td>\n",
              "      <td>175</td>\n",
              "      <td>12932</td>\n",
              "      <td>11</td>\n",
              "      <td>3</td>\n",
              "      <td>1078</td>\n",
              "      <td>2</td>\n",
              "      <td>112</td>\n",
              "      <td>41</td>\n",
              "      <td>0</td>\n",
              "      <td>0</td>\n",
              "      <td>0</td>\n",
              "      <td>0</td>\n",
              "      <td>1</td>\n",
              "      <td>0</td>\n",
              "      <td>0</td>\n",
              "      <td>0</td>\n",
              "      <td>0</td>\n",
              "      <td>0</td>\n",
              "      <td>0</td>\n",
              "    </tr>\n",
              "    <tr>\n",
              "      <th>...</th>\n",
              "      <td>...</td>\n",
              "      <td>...</td>\n",
              "      <td>...</td>\n",
              "      <td>...</td>\n",
              "      <td>...</td>\n",
              "      <td>...</td>\n",
              "      <td>...</td>\n",
              "      <td>...</td>\n",
              "      <td>...</td>\n",
              "      <td>...</td>\n",
              "      <td>...</td>\n",
              "      <td>...</td>\n",
              "      <td>...</td>\n",
              "      <td>...</td>\n",
              "      <td>...</td>\n",
              "      <td>...</td>\n",
              "      <td>...</td>\n",
              "      <td>...</td>\n",
              "      <td>...</td>\n",
              "      <td>...</td>\n",
              "      <td>...</td>\n",
              "      <td>...</td>\n",
              "      <td>...</td>\n",
              "      <td>...</td>\n",
              "      <td>...</td>\n",
              "      <td>...</td>\n",
              "      <td>...</td>\n",
              "      <td>...</td>\n",
              "      <td>...</td>\n",
              "      <td>...</td>\n",
              "      <td>...</td>\n",
              "      <td>...</td>\n",
              "      <td>...</td>\n",
              "      <td>...</td>\n",
              "      <td>...</td>\n",
              "      <td>...</td>\n",
              "      <td>...</td>\n",
              "      <td>...</td>\n",
              "      <td>...</td>\n",
              "    </tr>\n",
              "    <tr>\n",
              "      <th>26452</th>\n",
              "      <td>2</td>\n",
              "      <td>225000</td>\n",
              "      <td>2</td>\n",
              "      <td>4</td>\n",
              "      <td>1</td>\n",
              "      <td>1</td>\n",
              "      <td>12079</td>\n",
              "      <td>1984</td>\n",
              "      <td>3</td>\n",
              "      <td>4</td>\n",
              "      <td>2</td>\n",
              "      <td>1</td>\n",
              "      <td>0</td>\n",
              "      <td>0</td>\n",
              "      <td>0</td>\n",
              "      <td>6</td>\n",
              "      <td>1</td>\n",
              "      <td>1007</td>\n",
              "      <td>6</td>\n",
              "      <td>3</td>\n",
              "      <td>165</td>\n",
              "      <td>10095</td>\n",
              "      <td>0</td>\n",
              "      <td>2</td>\n",
              "      <td>842</td>\n",
              "      <td>0</td>\n",
              "      <td>8</td>\n",
              "      <td>33</td>\n",
              "      <td>0</td>\n",
              "      <td>0</td>\n",
              "      <td>0</td>\n",
              "      <td>1</td>\n",
              "      <td>0</td>\n",
              "      <td>0</td>\n",
              "      <td>0</td>\n",
              "      <td>0</td>\n",
              "      <td>0</td>\n",
              "      <td>0</td>\n",
              "      <td>4</td>\n",
              "    </tr>\n",
              "    <tr>\n",
              "      <th>26453</th>\n",
              "      <td>1</td>\n",
              "      <td>180000</td>\n",
              "      <td>4</td>\n",
              "      <td>1</td>\n",
              "      <td>2</td>\n",
              "      <td>1</td>\n",
              "      <td>15291</td>\n",
              "      <td>2475</td>\n",
              "      <td>12</td>\n",
              "      <td>2</td>\n",
              "      <td>47</td>\n",
              "      <td>2</td>\n",
              "      <td>1</td>\n",
              "      <td>0</td>\n",
              "      <td>0</td>\n",
              "      <td>5</td>\n",
              "      <td>0</td>\n",
              "      <td>1274</td>\n",
              "      <td>10</td>\n",
              "      <td>1</td>\n",
              "      <td>206</td>\n",
              "      <td>12816</td>\n",
              "      <td>7</td>\n",
              "      <td>2</td>\n",
              "      <td>1068</td>\n",
              "      <td>3</td>\n",
              "      <td>204</td>\n",
              "      <td>42</td>\n",
              "      <td>0</td>\n",
              "      <td>0</td>\n",
              "      <td>0</td>\n",
              "      <td>0</td>\n",
              "      <td>1</td>\n",
              "      <td>0</td>\n",
              "      <td>0</td>\n",
              "      <td>0</td>\n",
              "      <td>0</td>\n",
              "      <td>0</td>\n",
              "      <td>0</td>\n",
              "    </tr>\n",
              "    <tr>\n",
              "      <th>26454</th>\n",
              "      <td>0</td>\n",
              "      <td>292500</td>\n",
              "      <td>4</td>\n",
              "      <td>4</td>\n",
              "      <td>0</td>\n",
              "      <td>5</td>\n",
              "      <td>10082</td>\n",
              "      <td>2015</td>\n",
              "      <td>3</td>\n",
              "      <td>2</td>\n",
              "      <td>25</td>\n",
              "      <td>2</td>\n",
              "      <td>2</td>\n",
              "      <td>0</td>\n",
              "      <td>0</td>\n",
              "      <td>0</td>\n",
              "      <td>0</td>\n",
              "      <td>840</td>\n",
              "      <td>7</td>\n",
              "      <td>3</td>\n",
              "      <td>168</td>\n",
              "      <td>8067</td>\n",
              "      <td>4</td>\n",
              "      <td>0</td>\n",
              "      <td>672</td>\n",
              "      <td>2</td>\n",
              "      <td>108</td>\n",
              "      <td>28</td>\n",
              "      <td>0</td>\n",
              "      <td>1</td>\n",
              "      <td>0</td>\n",
              "      <td>0</td>\n",
              "      <td>0</td>\n",
              "      <td>0</td>\n",
              "      <td>0</td>\n",
              "      <td>0</td>\n",
              "      <td>0</td>\n",
              "      <td>0</td>\n",
              "      <td>4</td>\n",
              "    </tr>\n",
              "    <tr>\n",
              "      <th>26455</th>\n",
              "      <td>0</td>\n",
              "      <td>171000</td>\n",
              "      <td>4</td>\n",
              "      <td>2</td>\n",
              "      <td>3</td>\n",
              "      <td>1</td>\n",
              "      <td>10145</td>\n",
              "      <td>107</td>\n",
              "      <td>8</td>\n",
              "      <td>1</td>\n",
              "      <td>59</td>\n",
              "      <td>2</td>\n",
              "      <td>5</td>\n",
              "      <td>0</td>\n",
              "      <td>0</td>\n",
              "      <td>2</td>\n",
              "      <td>1</td>\n",
              "      <td>845</td>\n",
              "      <td>3</td>\n",
              "      <td>3</td>\n",
              "      <td>9</td>\n",
              "      <td>10038</td>\n",
              "      <td>10</td>\n",
              "      <td>2</td>\n",
              "      <td>836</td>\n",
              "      <td>4</td>\n",
              "      <td>256</td>\n",
              "      <td>28</td>\n",
              "      <td>0</td>\n",
              "      <td>1</td>\n",
              "      <td>0</td>\n",
              "      <td>0</td>\n",
              "      <td>0</td>\n",
              "      <td>0</td>\n",
              "      <td>0</td>\n",
              "      <td>0</td>\n",
              "      <td>0</td>\n",
              "      <td>0</td>\n",
              "      <td>0</td>\n",
              "    </tr>\n",
              "    <tr>\n",
              "      <th>26456</th>\n",
              "      <td>0</td>\n",
              "      <td>81000</td>\n",
              "      <td>4</td>\n",
              "      <td>4</td>\n",
              "      <td>0</td>\n",
              "      <td>1</td>\n",
              "      <td>19569</td>\n",
              "      <td>1013</td>\n",
              "      <td>17</td>\n",
              "      <td>2</td>\n",
              "      <td>9</td>\n",
              "      <td>2</td>\n",
              "      <td>0</td>\n",
              "      <td>0</td>\n",
              "      <td>0</td>\n",
              "      <td>4</td>\n",
              "      <td>3</td>\n",
              "      <td>1631</td>\n",
              "      <td>9</td>\n",
              "      <td>0</td>\n",
              "      <td>84</td>\n",
              "      <td>18556</td>\n",
              "      <td>6</td>\n",
              "      <td>2</td>\n",
              "      <td>1547</td>\n",
              "      <td>0</td>\n",
              "      <td>39</td>\n",
              "      <td>54</td>\n",
              "      <td>0</td>\n",
              "      <td>0</td>\n",
              "      <td>0</td>\n",
              "      <td>0</td>\n",
              "      <td>0</td>\n",
              "      <td>0</td>\n",
              "      <td>1</td>\n",
              "      <td>0</td>\n",
              "      <td>0</td>\n",
              "      <td>0</td>\n",
              "      <td>2</td>\n",
              "    </tr>\n",
              "  </tbody>\n",
              "</table>\n",
              "<p>26457 rows × 39 columns</p>\n",
              "</div>"
            ],
            "text/plain": [
              "       child_num  income_total  ...  mean_income_60대평균소득이상  cluster\n",
              "0              0        202500  ...                      0        4\n",
              "1              1        247500  ...                      0        4\n",
              "2              0        450000  ...                      0        1\n",
              "3              0        202500  ...                      0        4\n",
              "4              0        157500  ...                      0        0\n",
              "...          ...           ...  ...                    ...      ...\n",
              "26452          2        225000  ...                      0        4\n",
              "26453          1        180000  ...                      0        0\n",
              "26454          0        292500  ...                      0        4\n",
              "26455          0        171000  ...                      0        0\n",
              "26456          0         81000  ...                      0        2\n",
              "\n",
              "[26457 rows x 39 columns]"
            ]
          },
          "metadata": {
            "tags": []
          },
          "execution_count": 124
        }
      ]
    },
    {
      "cell_type": "code",
      "metadata": {
        "colab": {
          "base_uri": "https://localhost:8080/",
          "height": 436
        },
        "id": "0s061X57dHB1",
        "outputId": "92531ea3-baa7-441c-f344-b9c8d05e5f7b"
      },
      "source": [
        "test"
      ],
      "execution_count": null,
      "outputs": [
        {
          "output_type": "execute_result",
          "data": {
            "text/html": [
              "<div>\n",
              "<style scoped>\n",
              "    .dataframe tbody tr th:only-of-type {\n",
              "        vertical-align: middle;\n",
              "    }\n",
              "\n",
              "    .dataframe tbody tr th {\n",
              "        vertical-align: top;\n",
              "    }\n",
              "\n",
              "    .dataframe thead th {\n",
              "        text-align: right;\n",
              "    }\n",
              "</style>\n",
              "<table border=\"1\" class=\"dataframe\">\n",
              "  <thead>\n",
              "    <tr style=\"text-align: right;\">\n",
              "      <th></th>\n",
              "      <th>child_num</th>\n",
              "      <th>income_total</th>\n",
              "      <th>income_type</th>\n",
              "      <th>edu_type</th>\n",
              "      <th>family_type</th>\n",
              "      <th>house_type</th>\n",
              "      <th>DAYS_BIRTH</th>\n",
              "      <th>DAYS_EMPLOYED</th>\n",
              "      <th>occyp_type</th>\n",
              "      <th>family_size</th>\n",
              "      <th>begin_month</th>\n",
              "      <th>gender_car_reality</th>\n",
              "      <th>phones_email</th>\n",
              "      <th>income_total_bins</th>\n",
              "      <th>DAYS_BIRTH_month</th>\n",
              "      <th>DAYS_BIRTH_week</th>\n",
              "      <th>DAYS_BIRTH_year</th>\n",
              "      <th>DAYS_EMPLOYED_month</th>\n",
              "      <th>DAYS_EMPLOYED_week</th>\n",
              "      <th>DAYS_EMPLOYED_year</th>\n",
              "      <th>before_EMPLOYED</th>\n",
              "      <th>before_EMPLOYED_month</th>\n",
              "      <th>before_EMPLOYED_week</th>\n",
              "      <th>before_EMPLOYED_year</th>\n",
              "      <th>begin_year</th>\n",
              "      <th>begin_week</th>\n",
              "      <th>AGE</th>\n",
              "      <th>mean_income_20대평균소득미만</th>\n",
              "      <th>mean_income_20대평균소득이상</th>\n",
              "      <th>mean_income_30대평균소득미만</th>\n",
              "      <th>mean_income_30대평균소득이상</th>\n",
              "      <th>mean_income_40대평균소득미만</th>\n",
              "      <th>mean_income_40대평균소득이상</th>\n",
              "      <th>mean_income_50대평균소득미만</th>\n",
              "      <th>mean_income_50대평균소득이상</th>\n",
              "      <th>mean_income_60대평균소득미만</th>\n",
              "      <th>mean_income_60대평균소득이상</th>\n",
              "      <th>cluster</th>\n",
              "    </tr>\n",
              "  </thead>\n",
              "  <tbody>\n",
              "    <tr>\n",
              "      <th>0</th>\n",
              "      <td>0</td>\n",
              "      <td>112500</td>\n",
              "      <td>1</td>\n",
              "      <td>4</td>\n",
              "      <td>0</td>\n",
              "      <td>1</td>\n",
              "      <td>21990</td>\n",
              "      <td>0</td>\n",
              "      <td>12</td>\n",
              "      <td>2</td>\n",
              "      <td>60</td>\n",
              "      <td>6</td>\n",
              "      <td>2</td>\n",
              "      <td>0</td>\n",
              "      <td>1</td>\n",
              "      <td>1</td>\n",
              "      <td>1832</td>\n",
              "      <td>0</td>\n",
              "      <td>0</td>\n",
              "      <td>0</td>\n",
              "      <td>21990</td>\n",
              "      <td>1</td>\n",
              "      <td>1</td>\n",
              "      <td>1832</td>\n",
              "      <td>5</td>\n",
              "      <td>260</td>\n",
              "      <td>60</td>\n",
              "      <td>0</td>\n",
              "      <td>0</td>\n",
              "      <td>0</td>\n",
              "      <td>0</td>\n",
              "      <td>0</td>\n",
              "      <td>0</td>\n",
              "      <td>0</td>\n",
              "      <td>0</td>\n",
              "      <td>1</td>\n",
              "      <td>0</td>\n",
              "      <td>2</td>\n",
              "    </tr>\n",
              "    <tr>\n",
              "      <th>1</th>\n",
              "      <td>0</td>\n",
              "      <td>135000</td>\n",
              "      <td>2</td>\n",
              "      <td>1</td>\n",
              "      <td>1</td>\n",
              "      <td>1</td>\n",
              "      <td>18964</td>\n",
              "      <td>8671</td>\n",
              "      <td>3</td>\n",
              "      <td>2</td>\n",
              "      <td>36</td>\n",
              "      <td>1</td>\n",
              "      <td>2</td>\n",
              "      <td>0</td>\n",
              "      <td>8</td>\n",
              "      <td>1</td>\n",
              "      <td>1580</td>\n",
              "      <td>1</td>\n",
              "      <td>2</td>\n",
              "      <td>723</td>\n",
              "      <td>10293</td>\n",
              "      <td>7</td>\n",
              "      <td>2</td>\n",
              "      <td>857</td>\n",
              "      <td>3</td>\n",
              "      <td>156</td>\n",
              "      <td>52</td>\n",
              "      <td>0</td>\n",
              "      <td>0</td>\n",
              "      <td>0</td>\n",
              "      <td>0</td>\n",
              "      <td>0</td>\n",
              "      <td>0</td>\n",
              "      <td>1</td>\n",
              "      <td>0</td>\n",
              "      <td>0</td>\n",
              "      <td>0</td>\n",
              "      <td>0</td>\n",
              "    </tr>\n",
              "    <tr>\n",
              "      <th>2</th>\n",
              "      <td>0</td>\n",
              "      <td>69372</td>\n",
              "      <td>4</td>\n",
              "      <td>4</td>\n",
              "      <td>1</td>\n",
              "      <td>1</td>\n",
              "      <td>15887</td>\n",
              "      <td>217</td>\n",
              "      <td>8</td>\n",
              "      <td>2</td>\n",
              "      <td>40</td>\n",
              "      <td>1</td>\n",
              "      <td>6</td>\n",
              "      <td>0</td>\n",
              "      <td>1</td>\n",
              "      <td>1</td>\n",
              "      <td>1324</td>\n",
              "      <td>7</td>\n",
              "      <td>3</td>\n",
              "      <td>18</td>\n",
              "      <td>15670</td>\n",
              "      <td>6</td>\n",
              "      <td>2</td>\n",
              "      <td>1306</td>\n",
              "      <td>3</td>\n",
              "      <td>173</td>\n",
              "      <td>44</td>\n",
              "      <td>0</td>\n",
              "      <td>0</td>\n",
              "      <td>0</td>\n",
              "      <td>0</td>\n",
              "      <td>1</td>\n",
              "      <td>0</td>\n",
              "      <td>0</td>\n",
              "      <td>0</td>\n",
              "      <td>0</td>\n",
              "      <td>0</td>\n",
              "      <td>2</td>\n",
              "    </tr>\n",
              "    <tr>\n",
              "      <th>3</th>\n",
              "      <td>0</td>\n",
              "      <td>112500</td>\n",
              "      <td>0</td>\n",
              "      <td>4</td>\n",
              "      <td>1</td>\n",
              "      <td>1</td>\n",
              "      <td>19270</td>\n",
              "      <td>2531</td>\n",
              "      <td>4</td>\n",
              "      <td>2</td>\n",
              "      <td>41</td>\n",
              "      <td>6</td>\n",
              "      <td>4</td>\n",
              "      <td>0</td>\n",
              "      <td>6</td>\n",
              "      <td>0</td>\n",
              "      <td>1606</td>\n",
              "      <td>0</td>\n",
              "      <td>1</td>\n",
              "      <td>211</td>\n",
              "      <td>16739</td>\n",
              "      <td>5</td>\n",
              "      <td>3</td>\n",
              "      <td>1395</td>\n",
              "      <td>3</td>\n",
              "      <td>178</td>\n",
              "      <td>53</td>\n",
              "      <td>0</td>\n",
              "      <td>0</td>\n",
              "      <td>0</td>\n",
              "      <td>0</td>\n",
              "      <td>0</td>\n",
              "      <td>0</td>\n",
              "      <td>1</td>\n",
              "      <td>0</td>\n",
              "      <td>0</td>\n",
              "      <td>0</td>\n",
              "      <td>2</td>\n",
              "    </tr>\n",
              "    <tr>\n",
              "      <th>4</th>\n",
              "      <td>0</td>\n",
              "      <td>225000</td>\n",
              "      <td>2</td>\n",
              "      <td>1</td>\n",
              "      <td>1</td>\n",
              "      <td>1</td>\n",
              "      <td>17822</td>\n",
              "      <td>9385</td>\n",
              "      <td>10</td>\n",
              "      <td>2</td>\n",
              "      <td>8</td>\n",
              "      <td>3</td>\n",
              "      <td>4</td>\n",
              "      <td>0</td>\n",
              "      <td>6</td>\n",
              "      <td>2</td>\n",
              "      <td>1485</td>\n",
              "      <td>0</td>\n",
              "      <td>0</td>\n",
              "      <td>782</td>\n",
              "      <td>8437</td>\n",
              "      <td>5</td>\n",
              "      <td>1</td>\n",
              "      <td>703</td>\n",
              "      <td>0</td>\n",
              "      <td>34</td>\n",
              "      <td>49</td>\n",
              "      <td>0</td>\n",
              "      <td>0</td>\n",
              "      <td>0</td>\n",
              "      <td>0</td>\n",
              "      <td>0</td>\n",
              "      <td>1</td>\n",
              "      <td>0</td>\n",
              "      <td>0</td>\n",
              "      <td>0</td>\n",
              "      <td>0</td>\n",
              "      <td>4</td>\n",
              "    </tr>\n",
              "    <tr>\n",
              "      <th>...</th>\n",
              "      <td>...</td>\n",
              "      <td>...</td>\n",
              "      <td>...</td>\n",
              "      <td>...</td>\n",
              "      <td>...</td>\n",
              "      <td>...</td>\n",
              "      <td>...</td>\n",
              "      <td>...</td>\n",
              "      <td>...</td>\n",
              "      <td>...</td>\n",
              "      <td>...</td>\n",
              "      <td>...</td>\n",
              "      <td>...</td>\n",
              "      <td>...</td>\n",
              "      <td>...</td>\n",
              "      <td>...</td>\n",
              "      <td>...</td>\n",
              "      <td>...</td>\n",
              "      <td>...</td>\n",
              "      <td>...</td>\n",
              "      <td>...</td>\n",
              "      <td>...</td>\n",
              "      <td>...</td>\n",
              "      <td>...</td>\n",
              "      <td>...</td>\n",
              "      <td>...</td>\n",
              "      <td>...</td>\n",
              "      <td>...</td>\n",
              "      <td>...</td>\n",
              "      <td>...</td>\n",
              "      <td>...</td>\n",
              "      <td>...</td>\n",
              "      <td>...</td>\n",
              "      <td>...</td>\n",
              "      <td>...</td>\n",
              "      <td>...</td>\n",
              "      <td>...</td>\n",
              "      <td>...</td>\n",
              "    </tr>\n",
              "    <tr>\n",
              "      <th>9995</th>\n",
              "      <td>0</td>\n",
              "      <td>202500</td>\n",
              "      <td>4</td>\n",
              "      <td>2</td>\n",
              "      <td>1</td>\n",
              "      <td>1</td>\n",
              "      <td>18593</td>\n",
              "      <td>5434</td>\n",
              "      <td>0</td>\n",
              "      <td>2</td>\n",
              "      <td>19</td>\n",
              "      <td>3</td>\n",
              "      <td>6</td>\n",
              "      <td>0</td>\n",
              "      <td>7</td>\n",
              "      <td>0</td>\n",
              "      <td>1549</td>\n",
              "      <td>1</td>\n",
              "      <td>0</td>\n",
              "      <td>453</td>\n",
              "      <td>13159</td>\n",
              "      <td>6</td>\n",
              "      <td>3</td>\n",
              "      <td>1096</td>\n",
              "      <td>1</td>\n",
              "      <td>82</td>\n",
              "      <td>51</td>\n",
              "      <td>0</td>\n",
              "      <td>0</td>\n",
              "      <td>0</td>\n",
              "      <td>0</td>\n",
              "      <td>0</td>\n",
              "      <td>0</td>\n",
              "      <td>0</td>\n",
              "      <td>1</td>\n",
              "      <td>0</td>\n",
              "      <td>0</td>\n",
              "      <td>4</td>\n",
              "    </tr>\n",
              "    <tr>\n",
              "      <th>9996</th>\n",
              "      <td>0</td>\n",
              "      <td>202500</td>\n",
              "      <td>4</td>\n",
              "      <td>4</td>\n",
              "      <td>0</td>\n",
              "      <td>1</td>\n",
              "      <td>10886</td>\n",
              "      <td>1315</td>\n",
              "      <td>8</td>\n",
              "      <td>2</td>\n",
              "      <td>34</td>\n",
              "      <td>7</td>\n",
              "      <td>4</td>\n",
              "      <td>0</td>\n",
              "      <td>2</td>\n",
              "      <td>3</td>\n",
              "      <td>907</td>\n",
              "      <td>7</td>\n",
              "      <td>3</td>\n",
              "      <td>110</td>\n",
              "      <td>9571</td>\n",
              "      <td>7</td>\n",
              "      <td>3</td>\n",
              "      <td>797</td>\n",
              "      <td>2</td>\n",
              "      <td>147</td>\n",
              "      <td>30</td>\n",
              "      <td>0</td>\n",
              "      <td>0</td>\n",
              "      <td>0</td>\n",
              "      <td>1</td>\n",
              "      <td>0</td>\n",
              "      <td>0</td>\n",
              "      <td>0</td>\n",
              "      <td>0</td>\n",
              "      <td>0</td>\n",
              "      <td>0</td>\n",
              "      <td>4</td>\n",
              "    </tr>\n",
              "    <tr>\n",
              "      <th>9997</th>\n",
              "      <td>0</td>\n",
              "      <td>292500</td>\n",
              "      <td>4</td>\n",
              "      <td>4</td>\n",
              "      <td>1</td>\n",
              "      <td>1</td>\n",
              "      <td>21016</td>\n",
              "      <td>14018</td>\n",
              "      <td>11</td>\n",
              "      <td>2</td>\n",
              "      <td>55</td>\n",
              "      <td>1</td>\n",
              "      <td>0</td>\n",
              "      <td>0</td>\n",
              "      <td>4</td>\n",
              "      <td>2</td>\n",
              "      <td>1751</td>\n",
              "      <td>11</td>\n",
              "      <td>2</td>\n",
              "      <td>1168</td>\n",
              "      <td>6998</td>\n",
              "      <td>5</td>\n",
              "      <td>3</td>\n",
              "      <td>583</td>\n",
              "      <td>4</td>\n",
              "      <td>238</td>\n",
              "      <td>58</td>\n",
              "      <td>0</td>\n",
              "      <td>0</td>\n",
              "      <td>0</td>\n",
              "      <td>0</td>\n",
              "      <td>0</td>\n",
              "      <td>0</td>\n",
              "      <td>0</td>\n",
              "      <td>1</td>\n",
              "      <td>0</td>\n",
              "      <td>0</td>\n",
              "      <td>4</td>\n",
              "    </tr>\n",
              "    <tr>\n",
              "      <th>9998</th>\n",
              "      <td>0</td>\n",
              "      <td>180000</td>\n",
              "      <td>0</td>\n",
              "      <td>4</td>\n",
              "      <td>1</td>\n",
              "      <td>1</td>\n",
              "      <td>16541</td>\n",
              "      <td>1085</td>\n",
              "      <td>12</td>\n",
              "      <td>2</td>\n",
              "      <td>33</td>\n",
              "      <td>2</td>\n",
              "      <td>2</td>\n",
              "      <td>0</td>\n",
              "      <td>11</td>\n",
              "      <td>3</td>\n",
              "      <td>1378</td>\n",
              "      <td>0</td>\n",
              "      <td>3</td>\n",
              "      <td>90</td>\n",
              "      <td>15456</td>\n",
              "      <td>11</td>\n",
              "      <td>0</td>\n",
              "      <td>1288</td>\n",
              "      <td>2</td>\n",
              "      <td>143</td>\n",
              "      <td>45</td>\n",
              "      <td>0</td>\n",
              "      <td>0</td>\n",
              "      <td>0</td>\n",
              "      <td>0</td>\n",
              "      <td>1</td>\n",
              "      <td>0</td>\n",
              "      <td>0</td>\n",
              "      <td>0</td>\n",
              "      <td>0</td>\n",
              "      <td>0</td>\n",
              "      <td>0</td>\n",
              "    </tr>\n",
              "    <tr>\n",
              "      <th>9999</th>\n",
              "      <td>0</td>\n",
              "      <td>270000</td>\n",
              "      <td>4</td>\n",
              "      <td>1</td>\n",
              "      <td>1</td>\n",
              "      <td>1</td>\n",
              "      <td>9154</td>\n",
              "      <td>187</td>\n",
              "      <td>8</td>\n",
              "      <td>2</td>\n",
              "      <td>11</td>\n",
              "      <td>1</td>\n",
              "      <td>1</td>\n",
              "      <td>0</td>\n",
              "      <td>5</td>\n",
              "      <td>3</td>\n",
              "      <td>763</td>\n",
              "      <td>6</td>\n",
              "      <td>2</td>\n",
              "      <td>16</td>\n",
              "      <td>8967</td>\n",
              "      <td>10</td>\n",
              "      <td>1</td>\n",
              "      <td>747</td>\n",
              "      <td>0</td>\n",
              "      <td>47</td>\n",
              "      <td>25</td>\n",
              "      <td>0</td>\n",
              "      <td>1</td>\n",
              "      <td>0</td>\n",
              "      <td>0</td>\n",
              "      <td>0</td>\n",
              "      <td>0</td>\n",
              "      <td>0</td>\n",
              "      <td>0</td>\n",
              "      <td>0</td>\n",
              "      <td>0</td>\n",
              "      <td>4</td>\n",
              "    </tr>\n",
              "  </tbody>\n",
              "</table>\n",
              "<p>10000 rows × 38 columns</p>\n",
              "</div>"
            ],
            "text/plain": [
              "      child_num  income_total  ...  mean_income_60대평균소득이상  cluster\n",
              "0             0        112500  ...                      0        2\n",
              "1             0        135000  ...                      0        0\n",
              "2             0         69372  ...                      0        2\n",
              "3             0        112500  ...                      0        2\n",
              "4             0        225000  ...                      0        4\n",
              "...         ...           ...  ...                    ...      ...\n",
              "9995          0        202500  ...                      0        4\n",
              "9996          0        202500  ...                      0        4\n",
              "9997          0        292500  ...                      0        4\n",
              "9998          0        180000  ...                      0        0\n",
              "9999          0        270000  ...                      0        4\n",
              "\n",
              "[10000 rows x 38 columns]"
            ]
          },
          "metadata": {
            "tags": []
          },
          "execution_count": 125
        }
      ]
    },
    {
      "cell_type": "markdown",
      "metadata": {
        "id": "hgHiH0nf0LAi"
      },
      "source": [
        "# DACON 코드공유"
      ]
    },
    {
      "cell_type": "code",
      "metadata": {
        "colab": {
          "base_uri": "https://localhost:8080/"
        },
        "id": "jPZttK350k6s",
        "outputId": "b706e6a0-d025-4e4d-f112-848edac2ba04"
      },
      "source": [
        "pip install optuna"
      ],
      "execution_count": null,
      "outputs": [
        {
          "output_type": "stream",
          "text": [
            "Requirement already satisfied: optuna in /usr/local/lib/python3.7/dist-packages (2.7.0)\n",
            "Requirement already satisfied: cmaes>=0.8.2 in /usr/local/lib/python3.7/dist-packages (from optuna) (0.8.2)\n",
            "Requirement already satisfied: alembic in /usr/local/lib/python3.7/dist-packages (from optuna) (1.6.3)\n",
            "Requirement already satisfied: colorlog in /usr/local/lib/python3.7/dist-packages (from optuna) (5.0.1)\n",
            "Requirement already satisfied: cliff in /usr/local/lib/python3.7/dist-packages (from optuna) (3.7.0)\n",
            "Requirement already satisfied: packaging>=20.0 in /usr/local/lib/python3.7/dist-packages (from optuna) (20.9)\n",
            "Requirement already satisfied: numpy in /usr/local/lib/python3.7/dist-packages (from optuna) (1.19.5)\n",
            "Requirement already satisfied: tqdm in /usr/local/lib/python3.7/dist-packages (from optuna) (4.41.1)\n",
            "Requirement already satisfied: sqlalchemy>=1.1.0 in /usr/local/lib/python3.7/dist-packages (from optuna) (1.4.15)\n",
            "Requirement already satisfied: scipy!=1.4.0 in /usr/local/lib/python3.7/dist-packages (from optuna) (1.4.1)\n",
            "Requirement already satisfied: Mako in /usr/local/lib/python3.7/dist-packages (from alembic->optuna) (1.1.4)\n",
            "Requirement already satisfied: python-dateutil in /usr/local/lib/python3.7/dist-packages (from alembic->optuna) (2.8.1)\n",
            "Requirement already satisfied: python-editor>=0.3 in /usr/local/lib/python3.7/dist-packages (from alembic->optuna) (1.0.4)\n",
            "Requirement already satisfied: pbr!=2.1.0,>=2.0.0 in /usr/local/lib/python3.7/dist-packages (from cliff->optuna) (5.6.0)\n",
            "Requirement already satisfied: PrettyTable>=0.7.2 in /usr/local/lib/python3.7/dist-packages (from cliff->optuna) (2.1.0)\n",
            "Requirement already satisfied: stevedore>=2.0.1 in /usr/local/lib/python3.7/dist-packages (from cliff->optuna) (3.3.0)\n",
            "Requirement already satisfied: pyparsing>=2.1.0 in /usr/local/lib/python3.7/dist-packages (from cliff->optuna) (2.4.7)\n",
            "Requirement already satisfied: cmd2>=1.0.0 in /usr/local/lib/python3.7/dist-packages (from cliff->optuna) (1.5.0)\n",
            "Requirement already satisfied: PyYAML>=3.12 in /usr/local/lib/python3.7/dist-packages (from cliff->optuna) (3.13)\n",
            "Requirement already satisfied: importlib-metadata; python_version < \"3.8\" in /usr/local/lib/python3.7/dist-packages (from sqlalchemy>=1.1.0->optuna) (4.0.1)\n",
            "Requirement already satisfied: greenlet!=0.4.17; python_version >= \"3\" in /usr/local/lib/python3.7/dist-packages (from sqlalchemy>=1.1.0->optuna) (1.1.0)\n",
            "Requirement already satisfied: MarkupSafe>=0.9.2 in /usr/local/lib/python3.7/dist-packages (from Mako->alembic->optuna) (2.0.0)\n",
            "Requirement already satisfied: six>=1.5 in /usr/local/lib/python3.7/dist-packages (from python-dateutil->alembic->optuna) (1.15.0)\n",
            "Requirement already satisfied: wcwidth in /usr/local/lib/python3.7/dist-packages (from PrettyTable>=0.7.2->cliff->optuna) (0.2.5)\n",
            "Requirement already satisfied: colorama>=0.3.7 in /usr/local/lib/python3.7/dist-packages (from cmd2>=1.0.0->cliff->optuna) (0.4.4)\n",
            "Requirement already satisfied: attrs>=16.3.0 in /usr/local/lib/python3.7/dist-packages (from cmd2>=1.0.0->cliff->optuna) (21.2.0)\n",
            "Requirement already satisfied: pyperclip>=1.6 in /usr/local/lib/python3.7/dist-packages (from cmd2>=1.0.0->cliff->optuna) (1.8.2)\n",
            "Requirement already satisfied: typing-extensions>=3.6.4; python_version < \"3.8\" in /usr/local/lib/python3.7/dist-packages (from importlib-metadata; python_version < \"3.8\"->sqlalchemy>=1.1.0->optuna) (3.7.4.3)\n",
            "Requirement already satisfied: zipp>=0.5 in /usr/local/lib/python3.7/dist-packages (from importlib-metadata; python_version < \"3.8\"->sqlalchemy>=1.1.0->optuna) (3.4.1)\n"
          ],
          "name": "stdout"
        }
      ]
    },
    {
      "cell_type": "code",
      "metadata": {
        "id": "2Uaa__ar0h5y"
      },
      "source": [
        "from optuna import Trial\n",
        "from optuna.samplers import TPESampler\n",
        "from sklearn.metrics import log_loss\n",
        "import optuna"
      ],
      "execution_count": null,
      "outputs": []
    },
    {
      "cell_type": "code",
      "metadata": {
        "id": "VZEGWhg60KmW"
      },
      "source": [
        "X = train.drop([\"credit\"], axis=1)\n",
        "y = train[\"credit\"]\n",
        "X_test = test.copy()"
      ],
      "execution_count": null,
      "outputs": []
    },
    {
      "cell_type": "code",
      "metadata": {
        "id": "FRjwBdKU0am9"
      },
      "source": [
        "def objective(trial: Trial) -> float:\n",
        "    params_lgb = {\n",
        "        \"random_state\": 42,\n",
        "        \"verbosity\": -1,\n",
        "        \"learning_rate\": 0.01,\n",
        "        \"n_estimators\": 15000,\n",
        "        \"objective\": \"multiclass\",\n",
        "        \"metric\": \"multi_logloss\",\n",
        "        'boosting_type': 'gbdt',\n",
        "        \"reg_alpha\": trial.suggest_float(\"reg_alpha\", 1e-8, 3e-5),\n",
        "        \"reg_lambda\": trial.suggest_float(\"reg_lambda\", 1e-8, 9e-2),\n",
        "        \"max_depth\": trial.suggest_int(\"max_depth\", 1, 20),\n",
        "        \"num_leaves\": trial.suggest_int(\"num_leaves\", 2, 256),\n",
        "        \"colsample_bytree\": trial.suggest_float(\"colsample_bytree\", 0.4, 1.0),\n",
        "        \"subsample\": trial.suggest_float(\"subsample\", 0.3, 1.0),\n",
        "        \"subsample_freq\": trial.suggest_int(\"subsample_freq\", 1, 10),\n",
        "        \"min_child_samples\": trial.suggest_int(\"min_child_samples\", 5, 100),\n",
        "        \"max_bin\": trial.suggest_int(\"max_bin\", 200, 500),\n",
        "    }\n",
        "    \n",
        "    X_train, X_valid, y_train, y_valid = train_test_split(X, y, test_size=0.2)\n",
        "\n",
        "    model = LGBMClassifier(**params_lgb)\n",
        "    model.fit(\n",
        "        X_train,\n",
        "        y_train,\n",
        "        eval_set=[(X_train, y_train), (X_valid, y_valid)],\n",
        "        early_stopping_rounds=900,\n",
        "        verbose=False,\n",
        "    )\n",
        "\n",
        "    lgb_pred = model.predict_proba(X_valid)\n",
        "    log_score = log_loss(y_valid, lgb_pred)\n",
        "    \n",
        "    return log_score"
      ],
      "execution_count": null,
      "outputs": []
    },
    {
      "cell_type": "code",
      "metadata": {
        "colab": {
          "base_uri": "https://localhost:8080/"
        },
        "id": "Ab8HIf4V0vbB",
        "outputId": "dc45f66f-c58d-46ce-ae3c-42ed7189c316"
      },
      "source": [
        "sampler = TPESampler(seed=42)\n",
        "study = optuna.create_study(\n",
        "    study_name=\"lgbm_parameter_opt\",\n",
        "    direction=\"minimize\",\n",
        "    sampler=sampler,\n",
        ")\n",
        "study.optimize(objective, n_trials=10)\n",
        "print(\"Best Score:\", study.best_value)\n",
        "print(\"Best trial:\", study.best_trial.params)"
      ],
      "execution_count": null,
      "outputs": [
        {
          "output_type": "stream",
          "text": [
            "\u001b[32m[I 2021-05-23 18:12:11,114]\u001b[0m A new study created in memory with name: lgbm_parameter_opt\u001b[0m\n",
            "\u001b[32m[I 2021-05-23 18:13:27,361]\u001b[0m Trial 0 finished with value: 0.7281965511117017 and parameters: {'reg_alpha': 1.12424581642324e-05, 'reg_lambda': 0.08556428806974939, 'max_depth': 15, 'num_leaves': 154, 'colsample_bytree': 0.4936111842654619, 'subsample': 0.40919616423534183, 'subsample_freq': 1, 'min_child_samples': 88, 'max_bin': 380}. Best is trial 0 with value: 0.7281965511117017.\u001b[0m\n",
            "\u001b[32m[I 2021-05-23 18:14:40,245]\u001b[0m Trial 1 finished with value: 0.6941374311111144 and parameters: {'reg_alpha': 2.1245096608103405e-05, 'reg_lambda': 0.0018526142807772773, 'max_depth': 20, 'num_leaves': 214, 'colsample_bytree': 0.5274034664069657, 'subsample': 0.42727747704497043, 'subsample_freq': 2, 'min_child_samples': 34, 'max_bin': 357}. Best is trial 1 with value: 0.6941374311111144.\u001b[0m\n",
            "\u001b[32m[I 2021-05-23 18:16:05,593]\u001b[0m Trial 2 finished with value: 0.7196380418860033 and parameters: {'reg_alpha': 1.2964031109077052e-05, 'reg_lambda': 0.02621062970553237, 'max_depth': 13, 'num_leaves': 37, 'colsample_bytree': 0.5752867891211308, 'subsample': 0.5564532903055841, 'subsample_freq': 5, 'min_child_samples': 80, 'max_bin': 260}. Best is trial 1 with value: 0.6941374311111144.\u001b[0m\n",
            "\u001b[32m[I 2021-05-23 18:17:42,786]\u001b[0m Trial 3 finished with value: 0.8010478185642924 and parameters: {'reg_alpha': 1.5431890808024213e-05, 'reg_lambda': 0.05331731527343814, 'max_depth': 1, 'num_leaves': 156, 'colsample_bytree': 0.502314474212375, 'subsample': 0.3455361150896956, 'subsample_freq': 10, 'min_child_samples': 97, 'max_bin': 443}. Best is trial 1 with value: 0.6941374311111144.\u001b[0m\n",
            "\u001b[32m[I 2021-05-23 18:18:51,046]\u001b[0m Trial 4 finished with value: 0.7368146568674111 and parameters: {'reg_alpha': 9.145366937509386e-06, 'reg_lambda': 0.008790499283853408, 'max_depth': 14, 'num_leaves': 114, 'colsample_bytree': 0.47322294090686734, 'subsample': 0.6466238370778892, 'subsample_freq': 1, 'min_child_samples': 92, 'max_bin': 277}. Best is trial 1 with value: 0.6941374311111144.\u001b[0m\n",
            "\u001b[32m[I 2021-05-23 18:20:25,628]\u001b[0m Trial 5 finished with value: 0.7215271018362523 and parameters: {'reg_alpha': 1.987904330777592e-05, 'reg_lambda': 0.028054003730936226, 'max_depth': 11, 'num_leaves': 141, 'colsample_bytree': 0.5109126733153162, 'subsample': 0.9787092394351908, 'subsample_freq': 8, 'min_child_samples': 95, 'max_bin': 469}. Best is trial 1 with value: 0.6941374311111144.\u001b[0m\n",
            "\u001b[32m[I 2021-05-23 18:22:28,047]\u001b[0m Trial 6 finished with value: 0.7944552310657595 and parameters: {'reg_alpha': 1.7941020364544445e-05, 'reg_lambda': 0.08296868193333816, 'max_depth': 2, 'num_leaves': 51, 'colsample_bytree': 0.4271363733463229, 'subsample': 0.527731231534285, 'subsample_freq': 4, 'min_child_samples': 31, 'max_bin': 449}. Best is trial 1 with value: 0.6941374311111144.\u001b[0m\n",
            "\u001b[32m[I 2021-05-23 18:23:47,802]\u001b[0m Trial 7 finished with value: 0.7279475570293233 and parameters: {'reg_alpha': 1.0709032267540741e-05, 'reg_lambda': 0.025284113062519174, 'max_depth': 11, 'num_leaves': 37, 'colsample_bytree': 0.8813181884524238, 'subsample': 0.35218545057583955, 'subsample_freq': 10, 'min_child_samples': 79, 'max_bin': 259}. Best is trial 1 with value: 0.6941374311111144.\u001b[0m\n",
            "\u001b[32m[I 2021-05-23 18:25:12,552]\u001b[0m Trial 8 finished with value: 0.7194229534526093 and parameters: {'reg_alpha': 1.7560829253683595e-07, 'reg_lambda': 0.07339153040632079, 'max_depth': 15, 'num_leaves': 187, 'colsample_bytree': 0.8627622080115674, 'subsample': 0.35183125621386324, 'subsample_freq': 4, 'min_child_samples': 16, 'max_bin': 459}. Best is trial 1 with value: 0.6941374311111144.\u001b[0m\n",
            "\u001b[32m[I 2021-05-23 18:27:31,809]\u001b[0m Trial 9 finished with value: 0.7807348507355286 and parameters: {'reg_alpha': 1.8702710823558463e-05, 'reg_lambda': 0.02978082892775818, 'max_depth': 2, 'num_leaves': 81, 'colsample_bytree': 0.5951099932160482, 'subsample': 0.8107243248366449, 'subsample_freq': 7, 'min_child_samples': 90, 'max_bin': 342}. Best is trial 1 with value: 0.6941374311111144.\u001b[0m\n"
          ],
          "name": "stderr"
        },
        {
          "output_type": "stream",
          "text": [
            "Best Score: 0.6941374311111144\n",
            "Best trial: {'reg_alpha': 2.1245096608103405e-05, 'reg_lambda': 0.0018526142807772773, 'max_depth': 20, 'num_leaves': 214, 'colsample_bytree': 0.5274034664069657, 'subsample': 0.42727747704497043, 'subsample_freq': 2, 'min_child_samples': 34, 'max_bin': 357}\n"
          ],
          "name": "stdout"
        }
      ]
    },
    {
      "cell_type": "code",
      "metadata": {
        "colab": {
          "base_uri": "https://localhost:8080/",
          "height": 542
        },
        "id": "EOLWJZhB08bX",
        "outputId": "44dd7344-9f98-408f-f112-770e4e5b2961"
      },
      "source": [
        "# 시각화\n",
        "optuna.visualization.plot_optimization_history(study)"
      ],
      "execution_count": null,
      "outputs": [
        {
          "output_type": "display_data",
          "data": {
            "text/html": [
              "<html>\n",
              "<head><meta charset=\"utf-8\" /></head>\n",
              "<body>\n",
              "    <div>\n",
              "            <script src=\"https://cdnjs.cloudflare.com/ajax/libs/mathjax/2.7.5/MathJax.js?config=TeX-AMS-MML_SVG\"></script><script type=\"text/javascript\">if (window.MathJax) {MathJax.Hub.Config({SVG: {font: \"STIX-Web\"}});}</script>\n",
              "                <script type=\"text/javascript\">window.PlotlyConfig = {MathJaxConfig: 'local'};</script>\n",
              "        <script src=\"https://cdn.plot.ly/plotly-latest.min.js\"></script>    \n",
              "            <div id=\"edd2cd50-2238-48ad-b11e-c6a1309e1534\" class=\"plotly-graph-div\" style=\"height:525px; width:100%;\"></div>\n",
              "            <script type=\"text/javascript\">\n",
              "                \n",
              "                    window.PLOTLYENV=window.PLOTLYENV || {};\n",
              "                    \n",
              "                if (document.getElementById(\"edd2cd50-2238-48ad-b11e-c6a1309e1534\")) {\n",
              "                    Plotly.newPlot(\n",
              "                        'edd2cd50-2238-48ad-b11e-c6a1309e1534',\n",
              "                        [{\"mode\": \"markers\", \"name\": \"Objective Value\", \"type\": \"scatter\", \"x\": [0, 1, 2, 3, 4, 5, 6, 7, 8, 9], \"y\": [0.7281965511117017, 0.6941374311111144, 0.7196380418860033, 0.8010478185642924, 0.7368146568674111, 0.7215271018362523, 0.7944552310657595, 0.7279475570293233, 0.7194229534526093, 0.7807348507355286]}, {\"name\": \"Best Value\", \"type\": \"scatter\", \"x\": [0, 1, 2, 3, 4, 5, 6, 7, 8, 9], \"y\": [0.7281965511117017, 0.6941374311111144, 0.6941374311111144, 0.6941374311111144, 0.6941374311111144, 0.6941374311111144, 0.6941374311111144, 0.6941374311111144, 0.6941374311111144, 0.6941374311111144]}],\n",
              "                        {\"template\": {\"data\": {\"bar\": [{\"error_x\": {\"color\": \"#2a3f5f\"}, \"error_y\": {\"color\": \"#2a3f5f\"}, \"marker\": {\"line\": {\"color\": \"#E5ECF6\", \"width\": 0.5}}, \"type\": \"bar\"}], \"barpolar\": [{\"marker\": {\"line\": {\"color\": \"#E5ECF6\", \"width\": 0.5}}, \"type\": \"barpolar\"}], \"carpet\": [{\"aaxis\": {\"endlinecolor\": \"#2a3f5f\", \"gridcolor\": \"white\", \"linecolor\": \"white\", \"minorgridcolor\": \"white\", \"startlinecolor\": \"#2a3f5f\"}, \"baxis\": {\"endlinecolor\": \"#2a3f5f\", \"gridcolor\": \"white\", \"linecolor\": \"white\", \"minorgridcolor\": \"white\", \"startlinecolor\": \"#2a3f5f\"}, \"type\": \"carpet\"}], \"choropleth\": [{\"colorbar\": {\"outlinewidth\": 0, \"ticks\": \"\"}, \"type\": \"choropleth\"}], \"contour\": [{\"colorbar\": {\"outlinewidth\": 0, \"ticks\": \"\"}, \"colorscale\": [[0.0, \"#0d0887\"], [0.1111111111111111, \"#46039f\"], [0.2222222222222222, \"#7201a8\"], [0.3333333333333333, \"#9c179e\"], [0.4444444444444444, \"#bd3786\"], [0.5555555555555556, \"#d8576b\"], [0.6666666666666666, \"#ed7953\"], [0.7777777777777778, \"#fb9f3a\"], [0.8888888888888888, \"#fdca26\"], [1.0, \"#f0f921\"]], \"type\": \"contour\"}], \"contourcarpet\": [{\"colorbar\": {\"outlinewidth\": 0, \"ticks\": \"\"}, \"type\": \"contourcarpet\"}], \"heatmap\": [{\"colorbar\": {\"outlinewidth\": 0, \"ticks\": \"\"}, \"colorscale\": [[0.0, \"#0d0887\"], [0.1111111111111111, \"#46039f\"], [0.2222222222222222, \"#7201a8\"], [0.3333333333333333, \"#9c179e\"], [0.4444444444444444, \"#bd3786\"], [0.5555555555555556, \"#d8576b\"], [0.6666666666666666, \"#ed7953\"], [0.7777777777777778, \"#fb9f3a\"], [0.8888888888888888, \"#fdca26\"], [1.0, \"#f0f921\"]], \"type\": \"heatmap\"}], \"heatmapgl\": [{\"colorbar\": {\"outlinewidth\": 0, \"ticks\": \"\"}, \"colorscale\": [[0.0, \"#0d0887\"], [0.1111111111111111, \"#46039f\"], [0.2222222222222222, \"#7201a8\"], [0.3333333333333333, \"#9c179e\"], [0.4444444444444444, \"#bd3786\"], [0.5555555555555556, \"#d8576b\"], [0.6666666666666666, \"#ed7953\"], [0.7777777777777778, \"#fb9f3a\"], [0.8888888888888888, \"#fdca26\"], [1.0, \"#f0f921\"]], \"type\": \"heatmapgl\"}], \"histogram\": [{\"marker\": {\"colorbar\": {\"outlinewidth\": 0, \"ticks\": \"\"}}, \"type\": \"histogram\"}], \"histogram2d\": [{\"colorbar\": {\"outlinewidth\": 0, \"ticks\": \"\"}, \"colorscale\": [[0.0, \"#0d0887\"], [0.1111111111111111, \"#46039f\"], [0.2222222222222222, \"#7201a8\"], [0.3333333333333333, \"#9c179e\"], [0.4444444444444444, \"#bd3786\"], [0.5555555555555556, \"#d8576b\"], [0.6666666666666666, \"#ed7953\"], [0.7777777777777778, \"#fb9f3a\"], [0.8888888888888888, \"#fdca26\"], [1.0, \"#f0f921\"]], \"type\": \"histogram2d\"}], \"histogram2dcontour\": [{\"colorbar\": {\"outlinewidth\": 0, \"ticks\": \"\"}, \"colorscale\": [[0.0, \"#0d0887\"], [0.1111111111111111, \"#46039f\"], [0.2222222222222222, \"#7201a8\"], [0.3333333333333333, \"#9c179e\"], [0.4444444444444444, \"#bd3786\"], [0.5555555555555556, \"#d8576b\"], [0.6666666666666666, \"#ed7953\"], [0.7777777777777778, \"#fb9f3a\"], [0.8888888888888888, \"#fdca26\"], [1.0, \"#f0f921\"]], \"type\": \"histogram2dcontour\"}], \"mesh3d\": [{\"colorbar\": {\"outlinewidth\": 0, \"ticks\": \"\"}, \"type\": \"mesh3d\"}], \"parcoords\": [{\"line\": {\"colorbar\": {\"outlinewidth\": 0, \"ticks\": \"\"}}, \"type\": \"parcoords\"}], \"pie\": [{\"automargin\": true, \"type\": \"pie\"}], \"scatter\": [{\"marker\": {\"colorbar\": {\"outlinewidth\": 0, \"ticks\": \"\"}}, \"type\": \"scatter\"}], \"scatter3d\": [{\"line\": {\"colorbar\": {\"outlinewidth\": 0, \"ticks\": \"\"}}, \"marker\": {\"colorbar\": {\"outlinewidth\": 0, \"ticks\": \"\"}}, \"type\": \"scatter3d\"}], \"scattercarpet\": [{\"marker\": {\"colorbar\": {\"outlinewidth\": 0, \"ticks\": \"\"}}, \"type\": \"scattercarpet\"}], \"scattergeo\": [{\"marker\": {\"colorbar\": {\"outlinewidth\": 0, \"ticks\": \"\"}}, \"type\": \"scattergeo\"}], \"scattergl\": [{\"marker\": {\"colorbar\": {\"outlinewidth\": 0, \"ticks\": \"\"}}, \"type\": \"scattergl\"}], \"scattermapbox\": [{\"marker\": {\"colorbar\": {\"outlinewidth\": 0, \"ticks\": \"\"}}, \"type\": \"scattermapbox\"}], \"scatterpolar\": [{\"marker\": {\"colorbar\": {\"outlinewidth\": 0, \"ticks\": \"\"}}, \"type\": \"scatterpolar\"}], \"scatterpolargl\": [{\"marker\": {\"colorbar\": {\"outlinewidth\": 0, \"ticks\": \"\"}}, \"type\": \"scatterpolargl\"}], \"scatterternary\": [{\"marker\": {\"colorbar\": {\"outlinewidth\": 0, \"ticks\": \"\"}}, \"type\": \"scatterternary\"}], \"surface\": [{\"colorbar\": {\"outlinewidth\": 0, \"ticks\": \"\"}, \"colorscale\": [[0.0, \"#0d0887\"], [0.1111111111111111, \"#46039f\"], [0.2222222222222222, \"#7201a8\"], [0.3333333333333333, \"#9c179e\"], [0.4444444444444444, \"#bd3786\"], [0.5555555555555556, \"#d8576b\"], [0.6666666666666666, \"#ed7953\"], [0.7777777777777778, \"#fb9f3a\"], [0.8888888888888888, \"#fdca26\"], [1.0, \"#f0f921\"]], \"type\": \"surface\"}], \"table\": [{\"cells\": {\"fill\": {\"color\": \"#EBF0F8\"}, \"line\": {\"color\": \"white\"}}, \"header\": {\"fill\": {\"color\": \"#C8D4E3\"}, \"line\": {\"color\": \"white\"}}, \"type\": \"table\"}]}, \"layout\": {\"annotationdefaults\": {\"arrowcolor\": \"#2a3f5f\", \"arrowhead\": 0, \"arrowwidth\": 1}, \"coloraxis\": {\"colorbar\": {\"outlinewidth\": 0, \"ticks\": \"\"}}, \"colorscale\": {\"diverging\": [[0, \"#8e0152\"], [0.1, \"#c51b7d\"], [0.2, \"#de77ae\"], [0.3, \"#f1b6da\"], [0.4, \"#fde0ef\"], [0.5, \"#f7f7f7\"], [0.6, \"#e6f5d0\"], [0.7, \"#b8e186\"], [0.8, \"#7fbc41\"], [0.9, \"#4d9221\"], [1, \"#276419\"]], \"sequential\": [[0.0, \"#0d0887\"], [0.1111111111111111, \"#46039f\"], [0.2222222222222222, \"#7201a8\"], [0.3333333333333333, \"#9c179e\"], [0.4444444444444444, \"#bd3786\"], [0.5555555555555556, \"#d8576b\"], [0.6666666666666666, \"#ed7953\"], [0.7777777777777778, \"#fb9f3a\"], [0.8888888888888888, \"#fdca26\"], [1.0, \"#f0f921\"]], \"sequentialminus\": [[0.0, \"#0d0887\"], [0.1111111111111111, \"#46039f\"], [0.2222222222222222, \"#7201a8\"], [0.3333333333333333, \"#9c179e\"], [0.4444444444444444, \"#bd3786\"], [0.5555555555555556, \"#d8576b\"], [0.6666666666666666, \"#ed7953\"], [0.7777777777777778, \"#fb9f3a\"], [0.8888888888888888, \"#fdca26\"], [1.0, \"#f0f921\"]]}, \"colorway\": [\"#636efa\", \"#EF553B\", \"#00cc96\", \"#ab63fa\", \"#FFA15A\", \"#19d3f3\", \"#FF6692\", \"#B6E880\", \"#FF97FF\", \"#FECB52\"], \"font\": {\"color\": \"#2a3f5f\"}, \"geo\": {\"bgcolor\": \"white\", \"lakecolor\": \"white\", \"landcolor\": \"#E5ECF6\", \"showlakes\": true, \"showland\": true, \"subunitcolor\": \"white\"}, \"hoverlabel\": {\"align\": \"left\"}, \"hovermode\": \"closest\", \"mapbox\": {\"style\": \"light\"}, \"paper_bgcolor\": \"white\", \"plot_bgcolor\": \"#E5ECF6\", \"polar\": {\"angularaxis\": {\"gridcolor\": \"white\", \"linecolor\": \"white\", \"ticks\": \"\"}, \"bgcolor\": \"#E5ECF6\", \"radialaxis\": {\"gridcolor\": \"white\", \"linecolor\": \"white\", \"ticks\": \"\"}}, \"scene\": {\"xaxis\": {\"backgroundcolor\": \"#E5ECF6\", \"gridcolor\": \"white\", \"gridwidth\": 2, \"linecolor\": \"white\", \"showbackground\": true, \"ticks\": \"\", \"zerolinecolor\": \"white\"}, \"yaxis\": {\"backgroundcolor\": \"#E5ECF6\", \"gridcolor\": \"white\", \"gridwidth\": 2, \"linecolor\": \"white\", \"showbackground\": true, \"ticks\": \"\", \"zerolinecolor\": \"white\"}, \"zaxis\": {\"backgroundcolor\": \"#E5ECF6\", \"gridcolor\": \"white\", \"gridwidth\": 2, \"linecolor\": \"white\", \"showbackground\": true, \"ticks\": \"\", \"zerolinecolor\": \"white\"}}, \"shapedefaults\": {\"line\": {\"color\": \"#2a3f5f\"}}, \"ternary\": {\"aaxis\": {\"gridcolor\": \"white\", \"linecolor\": \"white\", \"ticks\": \"\"}, \"baxis\": {\"gridcolor\": \"white\", \"linecolor\": \"white\", \"ticks\": \"\"}, \"bgcolor\": \"#E5ECF6\", \"caxis\": {\"gridcolor\": \"white\", \"linecolor\": \"white\", \"ticks\": \"\"}}, \"title\": {\"x\": 0.05}, \"xaxis\": {\"automargin\": true, \"gridcolor\": \"white\", \"linecolor\": \"white\", \"ticks\": \"\", \"title\": {\"standoff\": 15}, \"zerolinecolor\": \"white\", \"zerolinewidth\": 2}, \"yaxis\": {\"automargin\": true, \"gridcolor\": \"white\", \"linecolor\": \"white\", \"ticks\": \"\", \"title\": {\"standoff\": 15}, \"zerolinecolor\": \"white\", \"zerolinewidth\": 2}}}, \"title\": {\"text\": \"Optimization History Plot\"}, \"xaxis\": {\"title\": {\"text\": \"#Trials\"}}, \"yaxis\": {\"title\": {\"text\": \"Objective Value\"}}},\n",
              "                        {\"responsive\": true}\n",
              "                    ).then(function(){\n",
              "                            \n",
              "var gd = document.getElementById('edd2cd50-2238-48ad-b11e-c6a1309e1534');\n",
              "var x = new MutationObserver(function (mutations, observer) {{\n",
              "        var display = window.getComputedStyle(gd).display;\n",
              "        if (!display || display === 'none') {{\n",
              "            console.log([gd, 'removed!']);\n",
              "            Plotly.purge(gd);\n",
              "            observer.disconnect();\n",
              "        }}\n",
              "}});\n",
              "\n",
              "// Listen for the removal of the full notebook cells\n",
              "var notebookContainer = gd.closest('#notebook-container');\n",
              "if (notebookContainer) {{\n",
              "    x.observe(notebookContainer, {childList: true});\n",
              "}}\n",
              "\n",
              "// Listen for the clearing of the current output cell\n",
              "var outputEl = gd.closest('.output');\n",
              "if (outputEl) {{\n",
              "    x.observe(outputEl, {childList: true});\n",
              "}}\n",
              "\n",
              "                        })\n",
              "                };\n",
              "                \n",
              "            </script>\n",
              "        </div>\n",
              "</body>\n",
              "</html>"
            ]
          },
          "metadata": {
            "tags": []
          }
        }
      ]
    },
    {
      "cell_type": "code",
      "metadata": {
        "colab": {
          "base_uri": "https://localhost:8080/",
          "height": 542
        },
        "id": "EmBwMirq0_O9",
        "outputId": "a15bd18f-ce3a-4498-85c4-6fcd4b33ae37"
      },
      "source": [
        "# 파라미터들관의 관계\n",
        "optuna.visualization.plot_parallel_coordinate(study)"
      ],
      "execution_count": null,
      "outputs": [
        {
          "output_type": "display_data",
          "data": {
            "text/html": [
              "<html>\n",
              "<head><meta charset=\"utf-8\" /></head>\n",
              "<body>\n",
              "    <div>\n",
              "            <script src=\"https://cdnjs.cloudflare.com/ajax/libs/mathjax/2.7.5/MathJax.js?config=TeX-AMS-MML_SVG\"></script><script type=\"text/javascript\">if (window.MathJax) {MathJax.Hub.Config({SVG: {font: \"STIX-Web\"}});}</script>\n",
              "                <script type=\"text/javascript\">window.PlotlyConfig = {MathJaxConfig: 'local'};</script>\n",
              "        <script src=\"https://cdn.plot.ly/plotly-latest.min.js\"></script>    \n",
              "            <div id=\"3a23388c-879a-4922-8302-2cdd43c325d4\" class=\"plotly-graph-div\" style=\"height:525px; width:100%;\"></div>\n",
              "            <script type=\"text/javascript\">\n",
              "                \n",
              "                    window.PLOTLYENV=window.PLOTLYENV || {};\n",
              "                    \n",
              "                if (document.getElementById(\"3a23388c-879a-4922-8302-2cdd43c325d4\")) {\n",
              "                    Plotly.newPlot(\n",
              "                        '3a23388c-879a-4922-8302-2cdd43c325d4',\n",
              "                        [{\"dimensions\": [{\"label\": \"Objective Value\", \"range\": [0.6941374311111144, 0.8010478185642924], \"values\": [0.7281965511117017, 0.6941374311111144, 0.7196380418860033, 0.8010478185642924, 0.7368146568674111, 0.7215271018362523, 0.7944552310657595, 0.7279475570293233, 0.7194229534526093, 0.7807348507355286]}, {\"label\": \"colsample_bytree\", \"range\": [0.4271363733463229, 0.8813181884524238], \"values\": [0.4936111842654619, 0.5274034664069657, 0.5752867891211308, 0.502314474212375, 0.47322294090686734, 0.5109126733153162, 0.4271363733463229, 0.8813181884524238, 0.8627622080115674, 0.5951099932160482]}, {\"label\": \"max_bin\", \"range\": [259, 469], \"values\": [380, 357, 260, 443, 277, 469, 449, 259, 459, 342]}, {\"label\": \"max_depth\", \"range\": [1, 20], \"values\": [15, 20, 13, 1, 14, 11, 2, 11, 15, 2]}, {\"label\": \"min_child_samples\", \"range\": [16, 97], \"values\": [88, 34, 80, 97, 92, 95, 31, 79, 16, 90]}, {\"label\": \"num_leaves\", \"range\": [37, 214], \"values\": [154, 214, 37, 156, 114, 141, 51, 37, 187, 81]}, {\"label\": \"reg_alpha\", \"range\": [1.7560829253683595e-07, 2.1245096608103405e-05], \"values\": [1.12424581642324e-05, 2.1245096608103405e-05, 1.2964031109077052e-05, 1.5431890808024213e-05, 9.145366937509386e-06, 1.987904330777592e-05, 1.7941020364544445e-05, 1.0709032267540741e-05, 1.7560829253683595e-07, 1.8702710823558463e-05]}, {\"label\": \"reg_lambda\", \"range\": [0.0018526142807772773, 0.08556428806974939], \"values\": [0.08556428806974939, 0.0018526142807772773, 0.02621062970553237, 0.05331731527343814, 0.008790499283853408, 0.028054003730936226, 0.08296868193333816, 0.025284113062519174, 0.07339153040632079, 0.02978082892775818]}, {\"label\": \"subsample\", \"range\": [0.3455361150896956, 0.9787092394351908], \"values\": [0.40919616423534183, 0.42727747704497043, 0.5564532903055841, 0.3455361150896956, 0.6466238370778892, 0.9787092394351908, 0.527731231534285, 0.35218545057583955, 0.35183125621386324, 0.8107243248366449]}, {\"label\": \"subsample_freq\", \"range\": [1, 10], \"values\": [1, 2, 5, 10, 1, 8, 4, 10, 4, 7]}], \"labelangle\": 30, \"labelside\": \"bottom\", \"line\": {\"color\": [0.7281965511117017, 0.6941374311111144, 0.7196380418860033, 0.8010478185642924, 0.7368146568674111, 0.7215271018362523, 0.7944552310657595, 0.7279475570293233, 0.7194229534526093, 0.7807348507355286], \"colorbar\": {\"title\": {\"text\": \"Objective Value\"}}, \"colorscale\": [[0.0, \"rgb(247,251,255)\"], [0.125, \"rgb(222,235,247)\"], [0.25, \"rgb(198,219,239)\"], [0.375, \"rgb(158,202,225)\"], [0.5, \"rgb(107,174,214)\"], [0.625, \"rgb(66,146,198)\"], [0.75, \"rgb(33,113,181)\"], [0.875, \"rgb(8,81,156)\"], [1.0, \"rgb(8,48,107)\"]], \"reversescale\": true, \"showscale\": true}, \"type\": \"parcoords\"}],\n",
              "                        {\"template\": {\"data\": {\"bar\": [{\"error_x\": {\"color\": \"#2a3f5f\"}, \"error_y\": {\"color\": \"#2a3f5f\"}, \"marker\": {\"line\": {\"color\": \"#E5ECF6\", \"width\": 0.5}}, \"type\": \"bar\"}], \"barpolar\": [{\"marker\": {\"line\": {\"color\": \"#E5ECF6\", \"width\": 0.5}}, \"type\": \"barpolar\"}], \"carpet\": [{\"aaxis\": {\"endlinecolor\": \"#2a3f5f\", \"gridcolor\": \"white\", \"linecolor\": \"white\", \"minorgridcolor\": \"white\", \"startlinecolor\": \"#2a3f5f\"}, \"baxis\": {\"endlinecolor\": \"#2a3f5f\", \"gridcolor\": \"white\", \"linecolor\": \"white\", \"minorgridcolor\": \"white\", \"startlinecolor\": \"#2a3f5f\"}, \"type\": \"carpet\"}], \"choropleth\": [{\"colorbar\": {\"outlinewidth\": 0, \"ticks\": \"\"}, \"type\": \"choropleth\"}], \"contour\": [{\"colorbar\": {\"outlinewidth\": 0, \"ticks\": \"\"}, \"colorscale\": [[0.0, \"#0d0887\"], [0.1111111111111111, \"#46039f\"], [0.2222222222222222, \"#7201a8\"], [0.3333333333333333, \"#9c179e\"], [0.4444444444444444, \"#bd3786\"], [0.5555555555555556, \"#d8576b\"], [0.6666666666666666, \"#ed7953\"], [0.7777777777777778, \"#fb9f3a\"], [0.8888888888888888, \"#fdca26\"], [1.0, \"#f0f921\"]], \"type\": \"contour\"}], \"contourcarpet\": [{\"colorbar\": {\"outlinewidth\": 0, \"ticks\": \"\"}, \"type\": \"contourcarpet\"}], \"heatmap\": [{\"colorbar\": {\"outlinewidth\": 0, \"ticks\": \"\"}, \"colorscale\": [[0.0, \"#0d0887\"], [0.1111111111111111, \"#46039f\"], [0.2222222222222222, \"#7201a8\"], [0.3333333333333333, \"#9c179e\"], [0.4444444444444444, \"#bd3786\"], [0.5555555555555556, \"#d8576b\"], [0.6666666666666666, \"#ed7953\"], [0.7777777777777778, \"#fb9f3a\"], [0.8888888888888888, \"#fdca26\"], [1.0, \"#f0f921\"]], \"type\": \"heatmap\"}], \"heatmapgl\": [{\"colorbar\": {\"outlinewidth\": 0, \"ticks\": \"\"}, \"colorscale\": [[0.0, \"#0d0887\"], [0.1111111111111111, \"#46039f\"], [0.2222222222222222, \"#7201a8\"], [0.3333333333333333, \"#9c179e\"], [0.4444444444444444, \"#bd3786\"], [0.5555555555555556, \"#d8576b\"], [0.6666666666666666, \"#ed7953\"], [0.7777777777777778, \"#fb9f3a\"], [0.8888888888888888, \"#fdca26\"], [1.0, \"#f0f921\"]], \"type\": \"heatmapgl\"}], \"histogram\": [{\"marker\": {\"colorbar\": {\"outlinewidth\": 0, \"ticks\": \"\"}}, \"type\": \"histogram\"}], \"histogram2d\": [{\"colorbar\": {\"outlinewidth\": 0, \"ticks\": \"\"}, \"colorscale\": [[0.0, \"#0d0887\"], [0.1111111111111111, \"#46039f\"], [0.2222222222222222, \"#7201a8\"], [0.3333333333333333, \"#9c179e\"], [0.4444444444444444, \"#bd3786\"], [0.5555555555555556, \"#d8576b\"], [0.6666666666666666, \"#ed7953\"], [0.7777777777777778, \"#fb9f3a\"], [0.8888888888888888, \"#fdca26\"], [1.0, \"#f0f921\"]], \"type\": \"histogram2d\"}], \"histogram2dcontour\": [{\"colorbar\": {\"outlinewidth\": 0, \"ticks\": \"\"}, \"colorscale\": [[0.0, \"#0d0887\"], [0.1111111111111111, \"#46039f\"], [0.2222222222222222, \"#7201a8\"], [0.3333333333333333, \"#9c179e\"], [0.4444444444444444, \"#bd3786\"], [0.5555555555555556, \"#d8576b\"], [0.6666666666666666, \"#ed7953\"], [0.7777777777777778, \"#fb9f3a\"], [0.8888888888888888, \"#fdca26\"], [1.0, \"#f0f921\"]], \"type\": \"histogram2dcontour\"}], \"mesh3d\": [{\"colorbar\": {\"outlinewidth\": 0, \"ticks\": \"\"}, \"type\": \"mesh3d\"}], \"parcoords\": [{\"line\": {\"colorbar\": {\"outlinewidth\": 0, \"ticks\": \"\"}}, \"type\": \"parcoords\"}], \"pie\": [{\"automargin\": true, \"type\": \"pie\"}], \"scatter\": [{\"marker\": {\"colorbar\": {\"outlinewidth\": 0, \"ticks\": \"\"}}, \"type\": \"scatter\"}], \"scatter3d\": [{\"line\": {\"colorbar\": {\"outlinewidth\": 0, \"ticks\": \"\"}}, \"marker\": {\"colorbar\": {\"outlinewidth\": 0, \"ticks\": \"\"}}, \"type\": \"scatter3d\"}], \"scattercarpet\": [{\"marker\": {\"colorbar\": {\"outlinewidth\": 0, \"ticks\": \"\"}}, \"type\": \"scattercarpet\"}], \"scattergeo\": [{\"marker\": {\"colorbar\": {\"outlinewidth\": 0, \"ticks\": \"\"}}, \"type\": \"scattergeo\"}], \"scattergl\": [{\"marker\": {\"colorbar\": {\"outlinewidth\": 0, \"ticks\": \"\"}}, \"type\": \"scattergl\"}], \"scattermapbox\": [{\"marker\": {\"colorbar\": {\"outlinewidth\": 0, \"ticks\": \"\"}}, \"type\": \"scattermapbox\"}], \"scatterpolar\": [{\"marker\": {\"colorbar\": {\"outlinewidth\": 0, \"ticks\": \"\"}}, \"type\": \"scatterpolar\"}], \"scatterpolargl\": [{\"marker\": {\"colorbar\": {\"outlinewidth\": 0, \"ticks\": \"\"}}, \"type\": \"scatterpolargl\"}], \"scatterternary\": [{\"marker\": {\"colorbar\": {\"outlinewidth\": 0, \"ticks\": \"\"}}, \"type\": \"scatterternary\"}], \"surface\": [{\"colorbar\": {\"outlinewidth\": 0, \"ticks\": \"\"}, \"colorscale\": [[0.0, \"#0d0887\"], [0.1111111111111111, \"#46039f\"], [0.2222222222222222, \"#7201a8\"], [0.3333333333333333, \"#9c179e\"], [0.4444444444444444, \"#bd3786\"], [0.5555555555555556, \"#d8576b\"], [0.6666666666666666, \"#ed7953\"], [0.7777777777777778, \"#fb9f3a\"], [0.8888888888888888, \"#fdca26\"], [1.0, \"#f0f921\"]], \"type\": \"surface\"}], \"table\": [{\"cells\": {\"fill\": {\"color\": \"#EBF0F8\"}, \"line\": {\"color\": \"white\"}}, \"header\": {\"fill\": {\"color\": \"#C8D4E3\"}, \"line\": {\"color\": \"white\"}}, \"type\": \"table\"}]}, \"layout\": {\"annotationdefaults\": {\"arrowcolor\": \"#2a3f5f\", \"arrowhead\": 0, \"arrowwidth\": 1}, \"coloraxis\": {\"colorbar\": {\"outlinewidth\": 0, \"ticks\": \"\"}}, \"colorscale\": {\"diverging\": [[0, \"#8e0152\"], [0.1, \"#c51b7d\"], [0.2, \"#de77ae\"], [0.3, \"#f1b6da\"], [0.4, \"#fde0ef\"], [0.5, \"#f7f7f7\"], [0.6, \"#e6f5d0\"], [0.7, \"#b8e186\"], [0.8, \"#7fbc41\"], [0.9, \"#4d9221\"], [1, \"#276419\"]], \"sequential\": [[0.0, \"#0d0887\"], [0.1111111111111111, \"#46039f\"], [0.2222222222222222, \"#7201a8\"], [0.3333333333333333, \"#9c179e\"], [0.4444444444444444, \"#bd3786\"], [0.5555555555555556, \"#d8576b\"], [0.6666666666666666, \"#ed7953\"], [0.7777777777777778, \"#fb9f3a\"], [0.8888888888888888, \"#fdca26\"], [1.0, \"#f0f921\"]], \"sequentialminus\": [[0.0, \"#0d0887\"], [0.1111111111111111, \"#46039f\"], [0.2222222222222222, \"#7201a8\"], [0.3333333333333333, \"#9c179e\"], [0.4444444444444444, \"#bd3786\"], [0.5555555555555556, \"#d8576b\"], [0.6666666666666666, \"#ed7953\"], [0.7777777777777778, \"#fb9f3a\"], [0.8888888888888888, \"#fdca26\"], [1.0, \"#f0f921\"]]}, \"colorway\": [\"#636efa\", \"#EF553B\", \"#00cc96\", \"#ab63fa\", \"#FFA15A\", \"#19d3f3\", \"#FF6692\", \"#B6E880\", \"#FF97FF\", \"#FECB52\"], \"font\": {\"color\": \"#2a3f5f\"}, \"geo\": {\"bgcolor\": \"white\", \"lakecolor\": \"white\", \"landcolor\": \"#E5ECF6\", \"showlakes\": true, \"showland\": true, \"subunitcolor\": \"white\"}, \"hoverlabel\": {\"align\": \"left\"}, \"hovermode\": \"closest\", \"mapbox\": {\"style\": \"light\"}, \"paper_bgcolor\": \"white\", \"plot_bgcolor\": \"#E5ECF6\", \"polar\": {\"angularaxis\": {\"gridcolor\": \"white\", \"linecolor\": \"white\", \"ticks\": \"\"}, \"bgcolor\": \"#E5ECF6\", \"radialaxis\": {\"gridcolor\": \"white\", \"linecolor\": \"white\", \"ticks\": \"\"}}, \"scene\": {\"xaxis\": {\"backgroundcolor\": \"#E5ECF6\", \"gridcolor\": \"white\", \"gridwidth\": 2, \"linecolor\": \"white\", \"showbackground\": true, \"ticks\": \"\", \"zerolinecolor\": \"white\"}, \"yaxis\": {\"backgroundcolor\": \"#E5ECF6\", \"gridcolor\": \"white\", \"gridwidth\": 2, \"linecolor\": \"white\", \"showbackground\": true, \"ticks\": \"\", \"zerolinecolor\": \"white\"}, \"zaxis\": {\"backgroundcolor\": \"#E5ECF6\", \"gridcolor\": \"white\", \"gridwidth\": 2, \"linecolor\": \"white\", \"showbackground\": true, \"ticks\": \"\", \"zerolinecolor\": \"white\"}}, \"shapedefaults\": {\"line\": {\"color\": \"#2a3f5f\"}}, \"ternary\": {\"aaxis\": {\"gridcolor\": \"white\", \"linecolor\": \"white\", \"ticks\": \"\"}, \"baxis\": {\"gridcolor\": \"white\", \"linecolor\": \"white\", \"ticks\": \"\"}, \"bgcolor\": \"#E5ECF6\", \"caxis\": {\"gridcolor\": \"white\", \"linecolor\": \"white\", \"ticks\": \"\"}}, \"title\": {\"x\": 0.05}, \"xaxis\": {\"automargin\": true, \"gridcolor\": \"white\", \"linecolor\": \"white\", \"ticks\": \"\", \"title\": {\"standoff\": 15}, \"zerolinecolor\": \"white\", \"zerolinewidth\": 2}, \"yaxis\": {\"automargin\": true, \"gridcolor\": \"white\", \"linecolor\": \"white\", \"ticks\": \"\", \"title\": {\"standoff\": 15}, \"zerolinecolor\": \"white\", \"zerolinewidth\": 2}}}, \"title\": {\"text\": \"Parallel Coordinate Plot\"}},\n",
              "                        {\"responsive\": true}\n",
              "                    ).then(function(){\n",
              "                            \n",
              "var gd = document.getElementById('3a23388c-879a-4922-8302-2cdd43c325d4');\n",
              "var x = new MutationObserver(function (mutations, observer) {{\n",
              "        var display = window.getComputedStyle(gd).display;\n",
              "        if (!display || display === 'none') {{\n",
              "            console.log([gd, 'removed!']);\n",
              "            Plotly.purge(gd);\n",
              "            observer.disconnect();\n",
              "        }}\n",
              "}});\n",
              "\n",
              "// Listen for the removal of the full notebook cells\n",
              "var notebookContainer = gd.closest('#notebook-container');\n",
              "if (notebookContainer) {{\n",
              "    x.observe(notebookContainer, {childList: true});\n",
              "}}\n",
              "\n",
              "// Listen for the clearing of the current output cell\n",
              "var outputEl = gd.closest('.output');\n",
              "if (outputEl) {{\n",
              "    x.observe(outputEl, {childList: true});\n",
              "}}\n",
              "\n",
              "                        })\n",
              "                };\n",
              "                \n",
              "            </script>\n",
              "        </div>\n",
              "</body>\n",
              "</html>"
            ]
          },
          "metadata": {
            "tags": []
          }
        }
      ]
    },
    {
      "cell_type": "code",
      "metadata": {
        "colab": {
          "base_uri": "https://localhost:8080/",
          "height": 542
        },
        "id": "nOu-WCdc1Cfl",
        "outputId": "55681c70-268b-422a-c1f2-5500cf42aa48"
      },
      "source": [
        "# 각 파라미터들의 상관관계\n",
        "optuna.visualization.plot_contour(\n",
        "    study,\n",
        "    params=[\n",
        "        \"max_depth\",\n",
        "        \"num_leaves\",\n",
        "        \"colsample_bytree\",\n",
        "        \"subsample\",\n",
        "        \"subsample_freq\",\n",
        "        \"min_child_samples\",\n",
        "        \"max_bin\",\n",
        "    ],\n",
        ")\n"
      ],
      "execution_count": null,
      "outputs": [
        {
          "output_type": "display_data",
          "data": {
            "text/html": [
              "<html>\n",
              "<head><meta charset=\"utf-8\" /></head>\n",
              "<body>\n",
              "    <div>\n",
              "            <script src=\"https://cdnjs.cloudflare.com/ajax/libs/mathjax/2.7.5/MathJax.js?config=TeX-AMS-MML_SVG\"></script><script type=\"text/javascript\">if (window.MathJax) {MathJax.Hub.Config({SVG: {font: \"STIX-Web\"}});}</script>\n",
              "                <script type=\"text/javascript\">window.PlotlyConfig = {MathJaxConfig: 'local'};</script>\n",
              "        <script src=\"https://cdn.plot.ly/plotly-latest.min.js\"></script>    \n",
              "            <div id=\"0e5b8890-6ace-45b4-a4df-2a69e008245c\" class=\"plotly-graph-div\" style=\"height:525px; width:100%;\"></div>\n",
              "            <script type=\"text/javascript\">\n",
              "                \n",
              "                    window.PLOTLYENV=window.PLOTLYENV || {};\n",
              "                    \n",
              "                if (document.getElementById(\"0e5b8890-6ace-45b4-a4df-2a69e008245c\")) {\n",
              "                    Plotly.newPlot(\n",
              "                        '0e5b8890-6ace-45b4-a4df-2a69e008245c',\n",
              "                        [{\"type\": \"scatter\", \"xaxis\": \"x\", \"yaxis\": \"y\"}, {\"colorbar\": {\"title\": {\"text\": \"Objective Value\"}}, \"colorscale\": [[0, \"rgb(5,10,172)\"], [0.35, \"rgb(40,60,190)\"], [0.5, \"rgb(70,100,245)\"], [0.6, \"rgb(90,120,245)\"], [0.7, \"rgb(106,137,247)\"], [1, \"rgb(220,220,220)\"]], \"connectgaps\": true, \"contours\": {\"coloring\": \"heatmap\"}, \"hoverinfo\": \"none\", \"line\": {\"smoothing\": 1.3}, \"reversescale\": true, \"showscale\": true, \"type\": \"contour\", \"x\": [0.40442728259101784, 0.4271363733463229, 0.47322294090686734, 0.4936111842654619, 0.502314474212375, 0.5109126733153162, 0.5274034664069657, 0.5752867891211308, 0.5951099932160482, 0.8627622080115674, 0.8813181884524238, 0.9040272792077289], \"xaxis\": \"x8\", \"y\": [248.5, 259, 260, 277, 342, 357, 380, 443, 449, 459, 469, 479.5], \"yaxis\": \"y8\", \"z\": [[null, null, null, null, null, null, null, null, null, null, null, null], [null, null, null, null, null, null, null, null, null, null, 0.7279475570293233, null], [null, null, null, null, null, null, null, 0.7196380418860033, null, null, null, null], [null, null, 0.7368146568674111, null, null, null, null, null, null, null, null, null], [null, null, null, null, null, null, null, null, 0.7807348507355286, null, null, null], [null, null, null, null, null, null, 0.6941374311111144, null, null, null, null, null], [null, null, null, 0.7281965511117017, null, null, null, null, null, null, null, null], [null, null, null, null, 0.8010478185642924, null, null, null, null, null, null, null], [null, 0.7944552310657595, null, null, null, null, null, null, null, null, null, null], [null, null, null, null, null, null, null, null, null, 0.7194229534526093, null, null], [null, null, null, null, null, 0.7215271018362523, null, null, null, null, null, null], [null, null, null, null, null, null, null, null, null, null, null, null]]}, {\"marker\": {\"color\": \"black\", \"line\": {\"color\": \"Grey\", \"width\": 0.5}}, \"mode\": \"markers\", \"showlegend\": false, \"type\": \"scatter\", \"x\": [0.4936111842654619, 0.5274034664069657, 0.5752867891211308, 0.502314474212375, 0.47322294090686734, 0.5109126733153162, 0.4271363733463229, 0.8813181884524238, 0.8627622080115674, 0.5951099932160482], \"xaxis\": \"x8\", \"y\": [380, 357, 260, 443, 277, 469, 449, 259, 459, 342], \"yaxis\": \"y8\"}, {\"colorbar\": {\"title\": {\"text\": \"Objective Value\"}}, \"colorscale\": [[0, \"rgb(5,10,172)\"], [0.35, \"rgb(40,60,190)\"], [0.5, \"rgb(70,100,245)\"], [0.6, \"rgb(90,120,245)\"], [0.7, \"rgb(106,137,247)\"], [1, \"rgb(220,220,220)\"]], \"connectgaps\": true, \"contours\": {\"coloring\": \"heatmap\"}, \"hoverinfo\": \"none\", \"line\": {\"smoothing\": 1.3}, \"reversescale\": true, \"showscale\": false, \"type\": \"contour\", \"x\": [0.40442728259101784, 0.4271363733463229, 0.47322294090686734, 0.4936111842654619, 0.502314474212375, 0.5109126733153162, 0.5274034664069657, 0.5752867891211308, 0.5951099932160482, 0.8627622080115674, 0.8813181884524238, 0.9040272792077289], \"xaxis\": \"x15\", \"y\": [0.04999999999999993, 1, 2, 11, 13, 14, 15, 20, 20.95], \"yaxis\": \"y15\", \"z\": [[null, null, null, null, null, null, null, null, null, null, null, null], [null, null, null, null, 0.8010478185642924, null, null, null, null, null, null, null], [null, 0.7944552310657595, null, null, null, null, null, null, 0.7807348507355286, null, null, null], [null, null, null, null, null, 0.7215271018362523, null, null, null, null, 0.7279475570293233, null], [null, null, null, null, null, null, null, 0.7196380418860033, null, null, null, null], [null, null, 0.7368146568674111, null, null, null, null, null, null, null, null, null], [null, null, null, 0.7281965511117017, null, null, null, null, null, 0.7194229534526093, null, null], [null, null, null, null, null, null, 0.6941374311111144, null, null, null, null, null], [null, null, null, null, null, null, null, null, null, null, null, null]]}, {\"marker\": {\"color\": \"black\", \"line\": {\"color\": \"Grey\", \"width\": 0.5}}, \"mode\": \"markers\", \"showlegend\": false, \"type\": \"scatter\", \"x\": [0.4936111842654619, 0.5274034664069657, 0.5752867891211308, 0.502314474212375, 0.47322294090686734, 0.5109126733153162, 0.4271363733463229, 0.8813181884524238, 0.8627622080115674, 0.5951099932160482], \"xaxis\": \"x15\", \"y\": [15, 20, 13, 1, 14, 11, 2, 11, 15, 2], \"yaxis\": \"y15\"}, {\"colorbar\": {\"title\": {\"text\": \"Objective Value\"}}, \"colorscale\": [[0, \"rgb(5,10,172)\"], [0.35, \"rgb(40,60,190)\"], [0.5, \"rgb(70,100,245)\"], [0.6, \"rgb(90,120,245)\"], [0.7, \"rgb(106,137,247)\"], [1, \"rgb(220,220,220)\"]], \"connectgaps\": true, \"contours\": {\"coloring\": \"heatmap\"}, \"hoverinfo\": \"none\", \"line\": {\"smoothing\": 1.3}, \"reversescale\": true, \"showscale\": false, \"type\": \"contour\", \"x\": [0.40442728259101784, 0.4271363733463229, 0.47322294090686734, 0.4936111842654619, 0.502314474212375, 0.5109126733153162, 0.5274034664069657, 0.5752867891211308, 0.5951099932160482, 0.8627622080115674, 0.8813181884524238, 0.9040272792077289], \"xaxis\": \"x22\", \"y\": [11.95, 16, 31, 34, 79, 80, 88, 90, 92, 95, 97, 101.05], \"yaxis\": \"y22\", \"z\": [[null, null, null, null, null, null, null, null, null, null, null, null], [null, null, null, null, null, null, null, null, null, 0.7194229534526093, null, null], [null, 0.7944552310657595, null, null, null, null, null, null, null, null, null, null], [null, null, null, null, null, null, 0.6941374311111144, null, null, null, null, null], [null, null, null, null, null, null, null, null, null, null, 0.7279475570293233, null], [null, null, null, null, null, null, null, 0.7196380418860033, null, null, null, null], [null, null, null, 0.7281965511117017, null, null, null, null, null, null, null, null], [null, null, null, null, null, null, null, null, 0.7807348507355286, null, null, null], [null, null, 0.7368146568674111, null, null, null, null, null, null, null, null, null], [null, null, null, null, null, 0.7215271018362523, null, null, null, null, null, null], [null, null, null, null, 0.8010478185642924, null, null, null, null, null, null, null], [null, null, null, null, null, null, null, null, null, null, null, null]]}, {\"marker\": {\"color\": \"black\", \"line\": {\"color\": \"Grey\", \"width\": 0.5}}, \"mode\": \"markers\", \"showlegend\": false, \"type\": \"scatter\", \"x\": [0.4936111842654619, 0.5274034664069657, 0.5752867891211308, 0.502314474212375, 0.47322294090686734, 0.5109126733153162, 0.4271363733463229, 0.8813181884524238, 0.8627622080115674, 0.5951099932160482], \"xaxis\": \"x22\", \"y\": [88, 34, 80, 97, 92, 95, 31, 79, 16, 90], \"yaxis\": \"y22\"}, {\"colorbar\": {\"title\": {\"text\": \"Objective Value\"}}, \"colorscale\": [[0, \"rgb(5,10,172)\"], [0.35, \"rgb(40,60,190)\"], [0.5, \"rgb(70,100,245)\"], [0.6, \"rgb(90,120,245)\"], [0.7, \"rgb(106,137,247)\"], [1, \"rgb(220,220,220)\"]], \"connectgaps\": true, \"contours\": {\"coloring\": \"heatmap\"}, \"hoverinfo\": \"none\", \"line\": {\"smoothing\": 1.3}, \"reversescale\": true, \"showscale\": false, \"type\": \"contour\", \"x\": [0.40442728259101784, 0.4271363733463229, 0.47322294090686734, 0.4936111842654619, 0.502314474212375, 0.5109126733153162, 0.5274034664069657, 0.5752867891211308, 0.5951099932160482, 0.8627622080115674, 0.8813181884524238, 0.9040272792077289], \"xaxis\": \"x29\", \"y\": [28.15, 37, 51, 81, 114, 141, 154, 156, 187, 214, 222.85], \"yaxis\": \"y29\", \"z\": [[null, null, null, null, null, null, null, null, null, null, null, null], [null, null, null, null, null, null, null, 0.7196380418860033, null, null, 0.7279475570293233, null], [null, 0.7944552310657595, null, null, null, null, null, null, null, null, null, null], [null, null, null, null, null, null, null, null, 0.7807348507355286, null, null, null], [null, null, 0.7368146568674111, null, null, null, null, null, null, null, null, null], [null, null, null, null, null, 0.7215271018362523, null, null, null, null, null, null], [null, null, null, 0.7281965511117017, null, null, null, null, null, null, null, null], [null, null, null, null, 0.8010478185642924, null, null, null, null, null, null, null], [null, null, null, null, null, null, null, null, null, 0.7194229534526093, null, null], [null, null, null, null, null, null, 0.6941374311111144, null, null, null, null, null], [null, null, null, null, null, null, null, null, null, null, null, null]]}, {\"marker\": {\"color\": \"black\", \"line\": {\"color\": \"Grey\", \"width\": 0.5}}, \"mode\": \"markers\", \"showlegend\": false, \"type\": \"scatter\", \"x\": [0.4936111842654619, 0.5274034664069657, 0.5752867891211308, 0.502314474212375, 0.47322294090686734, 0.5109126733153162, 0.4271363733463229, 0.8813181884524238, 0.8627622080115674, 0.5951099932160482], \"xaxis\": \"x29\", \"y\": [154, 214, 37, 156, 114, 141, 51, 37, 187, 81], \"yaxis\": \"y29\"}, {\"colorbar\": {\"title\": {\"text\": \"Objective Value\"}}, \"colorscale\": [[0, \"rgb(5,10,172)\"], [0.35, \"rgb(40,60,190)\"], [0.5, \"rgb(70,100,245)\"], [0.6, \"rgb(90,120,245)\"], [0.7, \"rgb(106,137,247)\"], [1, \"rgb(220,220,220)\"]], \"connectgaps\": true, \"contours\": {\"coloring\": \"heatmap\"}, \"hoverinfo\": \"none\", \"line\": {\"smoothing\": 1.3}, \"reversescale\": true, \"showscale\": false, \"type\": \"contour\", \"x\": [0.40442728259101784, 0.4271363733463229, 0.47322294090686734, 0.4936111842654619, 0.502314474212375, 0.5109126733153162, 0.5274034664069657, 0.5752867891211308, 0.5951099932160482, 0.8627622080115674, 0.8813181884524238, 0.9040272792077289], \"xaxis\": \"x36\", \"y\": [0.31387745887242086, 0.3455361150896956, 0.35183125621386324, 0.35218545057583955, 0.40919616423534183, 0.42727747704497043, 0.527731231534285, 0.5564532903055841, 0.6466238370778892, 0.8107243248366449, 0.9787092394351908, 1.0103678956524655], \"yaxis\": \"y36\", \"z\": [[null, null, null, null, null, null, null, null, null, null, null, null], [null, null, null, null, 0.8010478185642924, null, null, null, null, null, null, null], [null, null, null, null, null, null, null, null, null, 0.7194229534526093, null, null], [null, null, null, null, null, null, null, null, null, null, 0.7279475570293233, null], [null, null, null, 0.7281965511117017, null, null, null, null, null, null, null, null], [null, null, null, null, null, null, 0.6941374311111144, null, null, null, null, null], [null, 0.7944552310657595, null, null, null, null, null, null, null, null, null, null], [null, null, null, null, null, null, null, 0.7196380418860033, null, null, null, null], [null, null, 0.7368146568674111, null, null, null, null, null, null, null, null, null], [null, null, null, null, null, null, null, null, 0.7807348507355286, null, null, null], [null, null, null, null, null, 0.7215271018362523, null, null, null, null, null, null], [null, null, null, null, null, null, null, null, null, null, null, null]]}, {\"marker\": {\"color\": \"black\", \"line\": {\"color\": \"Grey\", \"width\": 0.5}}, \"mode\": \"markers\", \"showlegend\": false, \"type\": \"scatter\", \"x\": [0.4936111842654619, 0.5274034664069657, 0.5752867891211308, 0.502314474212375, 0.47322294090686734, 0.5109126733153162, 0.4271363733463229, 0.8813181884524238, 0.8627622080115674, 0.5951099932160482], \"xaxis\": \"x36\", \"y\": [0.40919616423534183, 0.42727747704497043, 0.5564532903055841, 0.3455361150896956, 0.6466238370778892, 0.9787092394351908, 0.527731231534285, 0.35218545057583955, 0.35183125621386324, 0.8107243248366449], \"yaxis\": \"y36\"}, {\"colorbar\": {\"title\": {\"text\": \"Objective Value\"}}, \"colorscale\": [[0, \"rgb(5,10,172)\"], [0.35, \"rgb(40,60,190)\"], [0.5, \"rgb(70,100,245)\"], [0.6, \"rgb(90,120,245)\"], [0.7, \"rgb(106,137,247)\"], [1, \"rgb(220,220,220)\"]], \"connectgaps\": true, \"contours\": {\"coloring\": \"heatmap\"}, \"hoverinfo\": \"none\", \"line\": {\"smoothing\": 1.3}, \"reversescale\": true, \"showscale\": false, \"type\": \"contour\", \"x\": [0.40442728259101784, 0.4271363733463229, 0.47322294090686734, 0.4936111842654619, 0.502314474212375, 0.5109126733153162, 0.5274034664069657, 0.5752867891211308, 0.5951099932160482, 0.8627622080115674, 0.8813181884524238, 0.9040272792077289], \"xaxis\": \"x43\", \"y\": [0.55, 1, 2, 4, 5, 7, 8, 10, 10.45], \"yaxis\": \"y43\", \"z\": [[null, null, null, null, null, null, null, null, null, null, null, null], [null, null, 0.7368146568674111, 0.7281965511117017, null, null, null, null, null, null, null, null], [null, null, null, null, null, null, 0.6941374311111144, null, null, null, null, null], [null, 0.7944552310657595, null, null, null, null, null, null, null, 0.7194229534526093, null, null], [null, null, null, null, null, null, null, 0.7196380418860033, null, null, null, null], [null, null, null, null, null, null, null, null, 0.7807348507355286, null, null, null], [null, null, null, null, null, 0.7215271018362523, null, null, null, null, null, null], [null, null, null, null, 0.8010478185642924, null, null, null, null, null, 0.7279475570293233, null], [null, null, null, null, null, null, null, null, null, null, null, null]]}, {\"marker\": {\"color\": \"black\", \"line\": {\"color\": \"Grey\", \"width\": 0.5}}, \"mode\": \"markers\", \"showlegend\": false, \"type\": \"scatter\", \"x\": [0.4936111842654619, 0.5274034664069657, 0.5752867891211308, 0.502314474212375, 0.47322294090686734, 0.5109126733153162, 0.4271363733463229, 0.8813181884524238, 0.8627622080115674, 0.5951099932160482], \"xaxis\": \"x43\", \"y\": [1, 2, 5, 10, 1, 8, 4, 10, 4, 7], \"yaxis\": \"y43\"}, {\"colorbar\": {\"title\": {\"text\": \"Objective Value\"}}, \"colorscale\": [[0, \"rgb(5,10,172)\"], [0.35, \"rgb(40,60,190)\"], [0.5, \"rgb(70,100,245)\"], [0.6, \"rgb(90,120,245)\"], [0.7, \"rgb(106,137,247)\"], [1, \"rgb(220,220,220)\"]], \"connectgaps\": true, \"contours\": {\"coloring\": \"heatmap\"}, \"hoverinfo\": \"none\", \"line\": {\"smoothing\": 1.3}, \"reversescale\": true, \"showscale\": false, \"type\": \"contour\", \"x\": [248.5, 259, 260, 277, 342, 357, 380, 443, 449, 459, 469, 479.5], \"xaxis\": \"x2\", \"y\": [0.40442728259101784, 0.4271363733463229, 0.47322294090686734, 0.4936111842654619, 0.502314474212375, 0.5109126733153162, 0.5274034664069657, 0.5752867891211308, 0.5951099932160482, 0.8627622080115674, 0.8813181884524238, 0.9040272792077289], \"yaxis\": \"y2\", \"z\": [[null, null, null, null, null, null, null, null, null, null, null, null], [null, null, null, null, null, null, null, null, 0.7944552310657595, null, null, null], [null, null, null, 0.7368146568674111, null, null, null, null, null, null, null, null], [null, null, null, null, null, null, 0.7281965511117017, null, null, null, null, null], [null, null, null, null, null, null, null, 0.8010478185642924, null, null, null, null], [null, null, null, null, null, null, null, null, null, null, 0.7215271018362523, null], [null, null, null, null, null, 0.6941374311111144, null, null, null, null, null, null], [null, null, 0.7196380418860033, null, null, null, null, null, null, null, null, null], [null, null, null, null, 0.7807348507355286, null, null, null, null, null, null, null], [null, null, null, null, null, null, null, null, null, 0.7194229534526093, null, null], [null, 0.7279475570293233, null, null, null, null, null, null, null, null, null, null], [null, null, null, null, null, null, null, null, null, null, null, null]]}, {\"marker\": {\"color\": \"black\", \"line\": {\"color\": \"Grey\", \"width\": 0.5}}, \"mode\": \"markers\", \"showlegend\": false, \"type\": \"scatter\", \"x\": [380, 357, 260, 443, 277, 469, 449, 259, 459, 342], \"xaxis\": \"x2\", \"y\": [0.4936111842654619, 0.5274034664069657, 0.5752867891211308, 0.502314474212375, 0.47322294090686734, 0.5109126733153162, 0.4271363733463229, 0.8813181884524238, 0.8627622080115674, 0.5951099932160482], \"yaxis\": \"y2\"}, {\"type\": \"scatter\", \"xaxis\": \"x9\", \"yaxis\": \"y9\"}, {\"colorbar\": {\"title\": {\"text\": \"Objective Value\"}}, \"colorscale\": [[0, \"rgb(5,10,172)\"], [0.35, \"rgb(40,60,190)\"], [0.5, \"rgb(70,100,245)\"], [0.6, \"rgb(90,120,245)\"], [0.7, \"rgb(106,137,247)\"], [1, \"rgb(220,220,220)\"]], \"connectgaps\": true, \"contours\": {\"coloring\": \"heatmap\"}, \"hoverinfo\": \"none\", \"line\": {\"smoothing\": 1.3}, \"reversescale\": true, \"showscale\": false, \"type\": \"contour\", \"x\": [248.5, 259, 260, 277, 342, 357, 380, 443, 449, 459, 469, 479.5], \"xaxis\": \"x16\", \"y\": [0.04999999999999993, 1, 2, 11, 13, 14, 15, 20, 20.95], \"yaxis\": \"y16\", \"z\": [[null, null, null, null, null, null, null, null, null, null, null, null], [null, null, null, null, null, null, null, 0.8010478185642924, null, null, null, null], [null, null, null, null, 0.7807348507355286, null, null, null, 0.7944552310657595, null, null, null], [null, 0.7279475570293233, null, null, null, null, null, null, null, null, 0.7215271018362523, null], [null, null, 0.7196380418860033, null, null, null, null, null, null, null, null, null], [null, null, null, 0.7368146568674111, null, null, null, null, null, null, null, null], [null, null, null, null, null, null, 0.7281965511117017, null, null, 0.7194229534526093, null, null], [null, null, null, null, null, 0.6941374311111144, null, null, null, null, null, null], [null, null, null, null, null, null, null, null, null, null, null, null]]}, {\"marker\": {\"color\": \"black\", \"line\": {\"color\": \"Grey\", \"width\": 0.5}}, \"mode\": \"markers\", \"showlegend\": false, \"type\": \"scatter\", \"x\": [380, 357, 260, 443, 277, 469, 449, 259, 459, 342], \"xaxis\": \"x16\", \"y\": [15, 20, 13, 1, 14, 11, 2, 11, 15, 2], \"yaxis\": \"y16\"}, {\"colorbar\": {\"title\": {\"text\": \"Objective Value\"}}, \"colorscale\": [[0, \"rgb(5,10,172)\"], [0.35, \"rgb(40,60,190)\"], [0.5, \"rgb(70,100,245)\"], [0.6, \"rgb(90,120,245)\"], [0.7, \"rgb(106,137,247)\"], [1, \"rgb(220,220,220)\"]], \"connectgaps\": true, \"contours\": {\"coloring\": \"heatmap\"}, \"hoverinfo\": \"none\", \"line\": {\"smoothing\": 1.3}, \"reversescale\": true, \"showscale\": false, \"type\": \"contour\", \"x\": [248.5, 259, 260, 277, 342, 357, 380, 443, 449, 459, 469, 479.5], \"xaxis\": \"x23\", \"y\": [11.95, 16, 31, 34, 79, 80, 88, 90, 92, 95, 97, 101.05], \"yaxis\": \"y23\", \"z\": [[null, null, null, null, null, null, null, null, null, null, null, null], [null, null, null, null, null, null, null, null, null, 0.7194229534526093, null, null], [null, null, null, null, null, null, null, null, 0.7944552310657595, null, null, null], [null, null, null, null, null, 0.6941374311111144, null, null, null, null, null, null], [null, 0.7279475570293233, null, null, null, null, null, null, null, null, null, null], [null, null, 0.7196380418860033, null, null, null, null, null, null, null, null, null], [null, null, null, null, null, null, 0.7281965511117017, null, null, null, null, null], [null, null, null, null, 0.7807348507355286, null, null, null, null, null, null, null], [null, null, null, 0.7368146568674111, null, null, null, null, null, null, null, null], [null, null, null, null, null, null, null, null, null, null, 0.7215271018362523, null], [null, null, null, null, null, null, null, 0.8010478185642924, null, null, null, null], [null, null, null, null, null, null, null, null, null, null, null, null]]}, {\"marker\": {\"color\": \"black\", \"line\": {\"color\": \"Grey\", \"width\": 0.5}}, \"mode\": \"markers\", \"showlegend\": false, \"type\": \"scatter\", \"x\": [380, 357, 260, 443, 277, 469, 449, 259, 459, 342], \"xaxis\": \"x23\", \"y\": [88, 34, 80, 97, 92, 95, 31, 79, 16, 90], \"yaxis\": \"y23\"}, {\"colorbar\": {\"title\": {\"text\": \"Objective Value\"}}, \"colorscale\": [[0, \"rgb(5,10,172)\"], [0.35, \"rgb(40,60,190)\"], [0.5, \"rgb(70,100,245)\"], [0.6, \"rgb(90,120,245)\"], [0.7, \"rgb(106,137,247)\"], [1, \"rgb(220,220,220)\"]], \"connectgaps\": true, \"contours\": {\"coloring\": \"heatmap\"}, \"hoverinfo\": \"none\", \"line\": {\"smoothing\": 1.3}, \"reversescale\": true, \"showscale\": false, \"type\": \"contour\", \"x\": [248.5, 259, 260, 277, 342, 357, 380, 443, 449, 459, 469, 479.5], \"xaxis\": \"x30\", \"y\": [28.15, 37, 51, 81, 114, 141, 154, 156, 187, 214, 222.85], \"yaxis\": \"y30\", \"z\": [[null, null, null, null, null, null, null, null, null, null, null, null], [null, 0.7279475570293233, 0.7196380418860033, null, null, null, null, null, null, null, null, null], [null, null, null, null, null, null, null, null, 0.7944552310657595, null, null, null], [null, null, null, null, 0.7807348507355286, null, null, null, null, null, null, null], [null, null, null, 0.7368146568674111, null, null, null, null, null, null, null, null], [null, null, null, null, null, null, null, null, null, null, 0.7215271018362523, null], [null, null, null, null, null, null, 0.7281965511117017, null, null, null, null, null], [null, null, null, null, null, null, null, 0.8010478185642924, null, null, null, null], [null, null, null, null, null, null, null, null, null, 0.7194229534526093, null, null], [null, null, null, null, null, 0.6941374311111144, null, null, null, null, null, null], [null, null, null, null, null, null, null, null, null, null, null, null]]}, {\"marker\": {\"color\": \"black\", \"line\": {\"color\": \"Grey\", \"width\": 0.5}}, \"mode\": \"markers\", \"showlegend\": false, \"type\": \"scatter\", \"x\": [380, 357, 260, 443, 277, 469, 449, 259, 459, 342], \"xaxis\": \"x30\", \"y\": [154, 214, 37, 156, 114, 141, 51, 37, 187, 81], \"yaxis\": \"y30\"}, {\"colorbar\": {\"title\": {\"text\": \"Objective Value\"}}, \"colorscale\": [[0, \"rgb(5,10,172)\"], [0.35, \"rgb(40,60,190)\"], [0.5, \"rgb(70,100,245)\"], [0.6, \"rgb(90,120,245)\"], [0.7, \"rgb(106,137,247)\"], [1, \"rgb(220,220,220)\"]], \"connectgaps\": true, \"contours\": {\"coloring\": \"heatmap\"}, \"hoverinfo\": \"none\", \"line\": {\"smoothing\": 1.3}, \"reversescale\": true, \"showscale\": false, \"type\": \"contour\", \"x\": [248.5, 259, 260, 277, 342, 357, 380, 443, 449, 459, 469, 479.5], \"xaxis\": \"x37\", \"y\": [0.31387745887242086, 0.3455361150896956, 0.35183125621386324, 0.35218545057583955, 0.40919616423534183, 0.42727747704497043, 0.527731231534285, 0.5564532903055841, 0.6466238370778892, 0.8107243248366449, 0.9787092394351908, 1.0103678956524655], \"yaxis\": \"y37\", \"z\": [[null, null, null, null, null, null, null, null, null, null, null, null], [null, null, null, null, null, null, null, 0.8010478185642924, null, null, null, null], [null, null, null, null, null, null, null, null, null, 0.7194229534526093, null, null], [null, 0.7279475570293233, null, null, null, null, null, null, null, null, null, null], [null, null, null, null, null, null, 0.7281965511117017, null, null, null, null, null], [null, null, null, null, null, 0.6941374311111144, null, null, null, null, null, null], [null, null, null, null, null, null, null, null, 0.7944552310657595, null, null, null], [null, null, 0.7196380418860033, null, null, null, null, null, null, null, null, null], [null, null, null, 0.7368146568674111, null, null, null, null, null, null, null, null], [null, null, null, null, 0.7807348507355286, null, null, null, null, null, null, null], [null, null, null, null, null, null, null, null, null, null, 0.7215271018362523, null], [null, null, null, null, null, null, null, null, null, null, null, null]]}, {\"marker\": {\"color\": \"black\", \"line\": {\"color\": \"Grey\", \"width\": 0.5}}, \"mode\": \"markers\", \"showlegend\": false, \"type\": \"scatter\", \"x\": [380, 357, 260, 443, 277, 469, 449, 259, 459, 342], \"xaxis\": \"x37\", \"y\": [0.40919616423534183, 0.42727747704497043, 0.5564532903055841, 0.3455361150896956, 0.6466238370778892, 0.9787092394351908, 0.527731231534285, 0.35218545057583955, 0.35183125621386324, 0.8107243248366449], \"yaxis\": \"y37\"}, {\"colorbar\": {\"title\": {\"text\": \"Objective Value\"}}, \"colorscale\": [[0, \"rgb(5,10,172)\"], [0.35, \"rgb(40,60,190)\"], [0.5, \"rgb(70,100,245)\"], [0.6, \"rgb(90,120,245)\"], [0.7, \"rgb(106,137,247)\"], [1, \"rgb(220,220,220)\"]], \"connectgaps\": true, \"contours\": {\"coloring\": \"heatmap\"}, \"hoverinfo\": \"none\", \"line\": {\"smoothing\": 1.3}, \"reversescale\": true, \"showscale\": false, \"type\": \"contour\", \"x\": [248.5, 259, 260, 277, 342, 357, 380, 443, 449, 459, 469, 479.5], \"xaxis\": \"x44\", \"y\": [0.55, 1, 2, 4, 5, 7, 8, 10, 10.45], \"yaxis\": \"y44\", \"z\": [[null, null, null, null, null, null, null, null, null, null, null, null], [null, null, null, 0.7368146568674111, null, null, 0.7281965511117017, null, null, null, null, null], [null, null, null, null, null, 0.6941374311111144, null, null, null, null, null, null], [null, null, null, null, null, null, null, null, 0.7944552310657595, 0.7194229534526093, null, null], [null, null, 0.7196380418860033, null, null, null, null, null, null, null, null, null], [null, null, null, null, 0.7807348507355286, null, null, null, null, null, null, null], [null, null, null, null, null, null, null, null, null, null, 0.7215271018362523, null], [null, 0.7279475570293233, null, null, null, null, null, 0.8010478185642924, null, null, null, null], [null, null, null, null, null, null, null, null, null, null, null, null]]}, {\"marker\": {\"color\": \"black\", \"line\": {\"color\": \"Grey\", \"width\": 0.5}}, \"mode\": \"markers\", \"showlegend\": false, \"type\": \"scatter\", \"x\": [380, 357, 260, 443, 277, 469, 449, 259, 459, 342], \"xaxis\": \"x44\", \"y\": [1, 2, 5, 10, 1, 8, 4, 10, 4, 7], \"yaxis\": \"y44\"}, {\"colorbar\": {\"title\": {\"text\": \"Objective Value\"}}, \"colorscale\": [[0, \"rgb(5,10,172)\"], [0.35, \"rgb(40,60,190)\"], [0.5, \"rgb(70,100,245)\"], [0.6, \"rgb(90,120,245)\"], [0.7, \"rgb(106,137,247)\"], [1, \"rgb(220,220,220)\"]], \"connectgaps\": true, \"contours\": {\"coloring\": \"heatmap\"}, \"hoverinfo\": \"none\", \"line\": {\"smoothing\": 1.3}, \"reversescale\": true, \"showscale\": false, \"type\": \"contour\", \"x\": [0.04999999999999993, 1, 2, 11, 13, 14, 15, 20, 20.95], \"xaxis\": \"x3\", \"y\": [0.40442728259101784, 0.4271363733463229, 0.47322294090686734, 0.4936111842654619, 0.502314474212375, 0.5109126733153162, 0.5274034664069657, 0.5752867891211308, 0.5951099932160482, 0.8627622080115674, 0.8813181884524238, 0.9040272792077289], \"yaxis\": \"y3\", \"z\": [[null, null, null, null, null, null, null, null, null], [null, null, 0.7944552310657595, null, null, null, null, null, null], [null, null, null, null, null, 0.7368146568674111, null, null, null], [null, null, null, null, null, null, 0.7281965511117017, null, null], [null, 0.8010478185642924, null, null, null, null, null, null, null], [null, null, null, 0.7215271018362523, null, null, null, null, null], [null, null, null, null, null, null, null, 0.6941374311111144, null], [null, null, null, null, 0.7196380418860033, null, null, null, null], [null, null, 0.7807348507355286, null, null, null, null, null, null], [null, null, null, null, null, null, 0.7194229534526093, null, null], [null, null, null, 0.7279475570293233, null, null, null, null, null], [null, null, null, null, null, null, null, null, null]]}, {\"marker\": {\"color\": \"black\", \"line\": {\"color\": \"Grey\", \"width\": 0.5}}, \"mode\": \"markers\", \"showlegend\": false, \"type\": \"scatter\", \"x\": [15, 20, 13, 1, 14, 11, 2, 11, 15, 2], \"xaxis\": \"x3\", \"y\": [0.4936111842654619, 0.5274034664069657, 0.5752867891211308, 0.502314474212375, 0.47322294090686734, 0.5109126733153162, 0.4271363733463229, 0.8813181884524238, 0.8627622080115674, 0.5951099932160482], \"yaxis\": \"y3\"}, {\"colorbar\": {\"title\": {\"text\": \"Objective Value\"}}, \"colorscale\": [[0, \"rgb(5,10,172)\"], [0.35, \"rgb(40,60,190)\"], [0.5, \"rgb(70,100,245)\"], [0.6, \"rgb(90,120,245)\"], [0.7, \"rgb(106,137,247)\"], [1, \"rgb(220,220,220)\"]], \"connectgaps\": true, \"contours\": {\"coloring\": \"heatmap\"}, \"hoverinfo\": \"none\", \"line\": {\"smoothing\": 1.3}, \"reversescale\": true, \"showscale\": false, \"type\": \"contour\", \"x\": [0.04999999999999993, 1, 2, 11, 13, 14, 15, 20, 20.95], \"xaxis\": \"x10\", \"y\": [248.5, 259, 260, 277, 342, 357, 380, 443, 449, 459, 469, 479.5], \"yaxis\": \"y10\", \"z\": [[null, null, null, null, null, null, null, null, null], [null, null, null, 0.7279475570293233, null, null, null, null, null], [null, null, null, null, 0.7196380418860033, null, null, null, null], [null, null, null, null, null, 0.7368146568674111, null, null, null], [null, null, 0.7807348507355286, null, null, null, null, null, null], [null, null, null, null, null, null, null, 0.6941374311111144, null], [null, null, null, null, null, null, 0.7281965511117017, null, null], [null, 0.8010478185642924, null, null, null, null, null, null, null], [null, null, 0.7944552310657595, null, null, null, null, null, null], [null, null, null, null, null, null, 0.7194229534526093, null, null], [null, null, null, 0.7215271018362523, null, null, null, null, null], [null, null, null, null, null, null, null, null, null]]}, {\"marker\": {\"color\": \"black\", \"line\": {\"color\": \"Grey\", \"width\": 0.5}}, \"mode\": \"markers\", \"showlegend\": false, \"type\": \"scatter\", \"x\": [15, 20, 13, 1, 14, 11, 2, 11, 15, 2], \"xaxis\": \"x10\", \"y\": [380, 357, 260, 443, 277, 469, 449, 259, 459, 342], \"yaxis\": \"y10\"}, {\"type\": \"scatter\", \"xaxis\": \"x17\", \"yaxis\": \"y17\"}, {\"colorbar\": {\"title\": {\"text\": \"Objective Value\"}}, \"colorscale\": [[0, \"rgb(5,10,172)\"], [0.35, \"rgb(40,60,190)\"], [0.5, \"rgb(70,100,245)\"], [0.6, \"rgb(90,120,245)\"], [0.7, \"rgb(106,137,247)\"], [1, \"rgb(220,220,220)\"]], \"connectgaps\": true, \"contours\": {\"coloring\": \"heatmap\"}, \"hoverinfo\": \"none\", \"line\": {\"smoothing\": 1.3}, \"reversescale\": true, \"showscale\": false, \"type\": \"contour\", \"x\": [0.04999999999999993, 1, 2, 11, 13, 14, 15, 20, 20.95], \"xaxis\": \"x24\", \"y\": [11.95, 16, 31, 34, 79, 80, 88, 90, 92, 95, 97, 101.05], \"yaxis\": \"y24\", \"z\": [[null, null, null, null, null, null, null, null, null], [null, null, null, null, null, null, 0.7194229534526093, null, null], [null, null, 0.7944552310657595, null, null, null, null, null, null], [null, null, null, null, null, null, null, 0.6941374311111144, null], [null, null, null, 0.7279475570293233, null, null, null, null, null], [null, null, null, null, 0.7196380418860033, null, null, null, null], [null, null, null, null, null, null, 0.7281965511117017, null, null], [null, null, 0.7807348507355286, null, null, null, null, null, null], [null, null, null, null, null, 0.7368146568674111, null, null, null], [null, null, null, 0.7215271018362523, null, null, null, null, null], [null, 0.8010478185642924, null, null, null, null, null, null, null], [null, null, null, null, null, null, null, null, null]]}, {\"marker\": {\"color\": \"black\", \"line\": {\"color\": \"Grey\", \"width\": 0.5}}, \"mode\": \"markers\", \"showlegend\": false, \"type\": \"scatter\", \"x\": [15, 20, 13, 1, 14, 11, 2, 11, 15, 2], \"xaxis\": \"x24\", \"y\": [88, 34, 80, 97, 92, 95, 31, 79, 16, 90], \"yaxis\": \"y24\"}, {\"colorbar\": {\"title\": {\"text\": \"Objective Value\"}}, \"colorscale\": [[0, \"rgb(5,10,172)\"], [0.35, \"rgb(40,60,190)\"], [0.5, \"rgb(70,100,245)\"], [0.6, \"rgb(90,120,245)\"], [0.7, \"rgb(106,137,247)\"], [1, \"rgb(220,220,220)\"]], \"connectgaps\": true, \"contours\": {\"coloring\": \"heatmap\"}, \"hoverinfo\": \"none\", \"line\": {\"smoothing\": 1.3}, \"reversescale\": true, \"showscale\": false, \"type\": \"contour\", \"x\": [0.04999999999999993, 1, 2, 11, 13, 14, 15, 20, 20.95], \"xaxis\": \"x31\", \"y\": [28.15, 37, 51, 81, 114, 141, 154, 156, 187, 214, 222.85], \"yaxis\": \"y31\", \"z\": [[null, null, null, null, null, null, null, null, null], [null, null, null, 0.7279475570293233, 0.7196380418860033, null, null, null, null], [null, null, 0.7944552310657595, null, null, null, null, null, null], [null, null, 0.7807348507355286, null, null, null, null, null, null], [null, null, null, null, null, 0.7368146568674111, null, null, null], [null, null, null, 0.7215271018362523, null, null, null, null, null], [null, null, null, null, null, null, 0.7281965511117017, null, null], [null, 0.8010478185642924, null, null, null, null, null, null, null], [null, null, null, null, null, null, 0.7194229534526093, null, null], [null, null, null, null, null, null, null, 0.6941374311111144, null], [null, null, null, null, null, null, null, null, null]]}, {\"marker\": {\"color\": \"black\", \"line\": {\"color\": \"Grey\", \"width\": 0.5}}, \"mode\": \"markers\", \"showlegend\": false, \"type\": \"scatter\", \"x\": [15, 20, 13, 1, 14, 11, 2, 11, 15, 2], \"xaxis\": \"x31\", \"y\": [154, 214, 37, 156, 114, 141, 51, 37, 187, 81], \"yaxis\": \"y31\"}, {\"colorbar\": {\"title\": {\"text\": \"Objective Value\"}}, \"colorscale\": [[0, \"rgb(5,10,172)\"], [0.35, \"rgb(40,60,190)\"], [0.5, \"rgb(70,100,245)\"], [0.6, \"rgb(90,120,245)\"], [0.7, \"rgb(106,137,247)\"], [1, \"rgb(220,220,220)\"]], \"connectgaps\": true, \"contours\": {\"coloring\": \"heatmap\"}, \"hoverinfo\": \"none\", \"line\": {\"smoothing\": 1.3}, \"reversescale\": true, \"showscale\": false, \"type\": \"contour\", \"x\": [0.04999999999999993, 1, 2, 11, 13, 14, 15, 20, 20.95], \"xaxis\": \"x38\", \"y\": [0.31387745887242086, 0.3455361150896956, 0.35183125621386324, 0.35218545057583955, 0.40919616423534183, 0.42727747704497043, 0.527731231534285, 0.5564532903055841, 0.6466238370778892, 0.8107243248366449, 0.9787092394351908, 1.0103678956524655], \"yaxis\": \"y38\", \"z\": [[null, null, null, null, null, null, null, null, null], [null, 0.8010478185642924, null, null, null, null, null, null, null], [null, null, null, null, null, null, 0.7194229534526093, null, null], [null, null, null, 0.7279475570293233, null, null, null, null, null], [null, null, null, null, null, null, 0.7281965511117017, null, null], [null, null, null, null, null, null, null, 0.6941374311111144, null], [null, null, 0.7944552310657595, null, null, null, null, null, null], [null, null, null, null, 0.7196380418860033, null, null, null, null], [null, null, null, null, null, 0.7368146568674111, null, null, null], [null, null, 0.7807348507355286, null, null, null, null, null, null], [null, null, null, 0.7215271018362523, null, null, null, null, null], [null, null, null, null, null, null, null, null, null]]}, {\"marker\": {\"color\": \"black\", \"line\": {\"color\": \"Grey\", \"width\": 0.5}}, \"mode\": \"markers\", \"showlegend\": false, \"type\": \"scatter\", \"x\": [15, 20, 13, 1, 14, 11, 2, 11, 15, 2], \"xaxis\": \"x38\", \"y\": [0.40919616423534183, 0.42727747704497043, 0.5564532903055841, 0.3455361150896956, 0.6466238370778892, 0.9787092394351908, 0.527731231534285, 0.35218545057583955, 0.35183125621386324, 0.8107243248366449], \"yaxis\": \"y38\"}, {\"colorbar\": {\"title\": {\"text\": \"Objective Value\"}}, \"colorscale\": [[0, \"rgb(5,10,172)\"], [0.35, \"rgb(40,60,190)\"], [0.5, \"rgb(70,100,245)\"], [0.6, \"rgb(90,120,245)\"], [0.7, \"rgb(106,137,247)\"], [1, \"rgb(220,220,220)\"]], \"connectgaps\": true, \"contours\": {\"coloring\": \"heatmap\"}, \"hoverinfo\": \"none\", \"line\": {\"smoothing\": 1.3}, \"reversescale\": true, \"showscale\": false, \"type\": \"contour\", \"x\": [0.04999999999999993, 1, 2, 11, 13, 14, 15, 20, 20.95], \"xaxis\": \"x45\", \"y\": [0.55, 1, 2, 4, 5, 7, 8, 10, 10.45], \"yaxis\": \"y45\", \"z\": [[null, null, null, null, null, null, null, null, null], [null, null, null, null, null, 0.7368146568674111, 0.7281965511117017, null, null], [null, null, null, null, null, null, null, 0.6941374311111144, null], [null, null, 0.7944552310657595, null, null, null, 0.7194229534526093, null, null], [null, null, null, null, 0.7196380418860033, null, null, null, null], [null, null, 0.7807348507355286, null, null, null, null, null, null], [null, null, null, 0.7215271018362523, null, null, null, null, null], [null, 0.8010478185642924, null, 0.7279475570293233, null, null, null, null, null], [null, null, null, null, null, null, null, null, null]]}, {\"marker\": {\"color\": \"black\", \"line\": {\"color\": \"Grey\", \"width\": 0.5}}, \"mode\": \"markers\", \"showlegend\": false, \"type\": \"scatter\", \"x\": [15, 20, 13, 1, 14, 11, 2, 11, 15, 2], \"xaxis\": \"x45\", \"y\": [1, 2, 5, 10, 1, 8, 4, 10, 4, 7], \"yaxis\": \"y45\"}, {\"colorbar\": {\"title\": {\"text\": \"Objective Value\"}}, \"colorscale\": [[0, \"rgb(5,10,172)\"], [0.35, \"rgb(40,60,190)\"], [0.5, \"rgb(70,100,245)\"], [0.6, \"rgb(90,120,245)\"], [0.7, \"rgb(106,137,247)\"], [1, \"rgb(220,220,220)\"]], \"connectgaps\": true, \"contours\": {\"coloring\": \"heatmap\"}, \"hoverinfo\": \"none\", \"line\": {\"smoothing\": 1.3}, \"reversescale\": true, \"showscale\": false, \"type\": \"contour\", \"x\": [11.95, 16, 31, 34, 79, 80, 88, 90, 92, 95, 97, 101.05], \"xaxis\": \"x4\", \"y\": [0.40442728259101784, 0.4271363733463229, 0.47322294090686734, 0.4936111842654619, 0.502314474212375, 0.5109126733153162, 0.5274034664069657, 0.5752867891211308, 0.5951099932160482, 0.8627622080115674, 0.8813181884524238, 0.9040272792077289], \"yaxis\": \"y4\", \"z\": [[null, null, null, null, null, null, null, null, null, null, null, null], [null, null, 0.7944552310657595, null, null, null, null, null, null, null, null, null], [null, null, null, null, null, null, null, null, 0.7368146568674111, null, null, null], [null, null, null, null, null, null, 0.7281965511117017, null, null, null, null, null], [null, null, null, null, null, null, null, null, null, null, 0.8010478185642924, null], [null, null, null, null, null, null, null, null, null, 0.7215271018362523, null, null], [null, null, null, 0.6941374311111144, null, null, null, null, null, null, null, null], [null, null, null, null, null, 0.7196380418860033, null, null, null, null, null, null], [null, null, null, null, null, null, null, 0.7807348507355286, null, null, null, null], [null, 0.7194229534526093, null, null, null, null, null, null, null, null, null, null], [null, null, null, null, 0.7279475570293233, null, null, null, null, null, null, null], [null, null, null, null, null, null, null, null, null, null, null, null]]}, {\"marker\": {\"color\": \"black\", \"line\": {\"color\": \"Grey\", \"width\": 0.5}}, \"mode\": \"markers\", \"showlegend\": false, \"type\": \"scatter\", \"x\": [88, 34, 80, 97, 92, 95, 31, 79, 16, 90], \"xaxis\": \"x4\", \"y\": [0.4936111842654619, 0.5274034664069657, 0.5752867891211308, 0.502314474212375, 0.47322294090686734, 0.5109126733153162, 0.4271363733463229, 0.8813181884524238, 0.8627622080115674, 0.5951099932160482], \"yaxis\": \"y4\"}, {\"colorbar\": {\"title\": {\"text\": \"Objective Value\"}}, \"colorscale\": [[0, \"rgb(5,10,172)\"], [0.35, \"rgb(40,60,190)\"], [0.5, \"rgb(70,100,245)\"], [0.6, \"rgb(90,120,245)\"], [0.7, \"rgb(106,137,247)\"], [1, \"rgb(220,220,220)\"]], \"connectgaps\": true, \"contours\": {\"coloring\": \"heatmap\"}, \"hoverinfo\": \"none\", \"line\": {\"smoothing\": 1.3}, \"reversescale\": true, \"showscale\": false, \"type\": \"contour\", \"x\": [11.95, 16, 31, 34, 79, 80, 88, 90, 92, 95, 97, 101.05], \"xaxis\": \"x11\", \"y\": [248.5, 259, 260, 277, 342, 357, 380, 443, 449, 459, 469, 479.5], \"yaxis\": \"y11\", \"z\": [[null, null, null, null, null, null, null, null, null, null, null, null], [null, null, null, null, 0.7279475570293233, null, null, null, null, null, null, null], [null, null, null, null, null, 0.7196380418860033, null, null, null, null, null, null], [null, null, null, null, null, null, null, null, 0.7368146568674111, null, null, null], [null, null, null, null, null, null, null, 0.7807348507355286, null, null, null, null], [null, null, null, 0.6941374311111144, null, null, null, null, null, null, null, null], [null, null, null, null, null, null, 0.7281965511117017, null, null, null, null, null], [null, null, null, null, null, null, null, null, null, null, 0.8010478185642924, null], [null, null, 0.7944552310657595, null, null, null, null, null, null, null, null, null], [null, 0.7194229534526093, null, null, null, null, null, null, null, null, null, null], [null, null, null, null, null, null, null, null, null, 0.7215271018362523, null, null], [null, null, null, null, null, null, null, null, null, null, null, null]]}, {\"marker\": {\"color\": \"black\", \"line\": {\"color\": \"Grey\", \"width\": 0.5}}, \"mode\": \"markers\", \"showlegend\": false, \"type\": \"scatter\", \"x\": [88, 34, 80, 97, 92, 95, 31, 79, 16, 90], \"xaxis\": \"x11\", \"y\": [380, 357, 260, 443, 277, 469, 449, 259, 459, 342], \"yaxis\": \"y11\"}, {\"colorbar\": {\"title\": {\"text\": \"Objective Value\"}}, \"colorscale\": [[0, \"rgb(5,10,172)\"], [0.35, \"rgb(40,60,190)\"], [0.5, \"rgb(70,100,245)\"], [0.6, \"rgb(90,120,245)\"], [0.7, \"rgb(106,137,247)\"], [1, \"rgb(220,220,220)\"]], \"connectgaps\": true, \"contours\": {\"coloring\": \"heatmap\"}, \"hoverinfo\": \"none\", \"line\": {\"smoothing\": 1.3}, \"reversescale\": true, \"showscale\": false, \"type\": \"contour\", \"x\": [11.95, 16, 31, 34, 79, 80, 88, 90, 92, 95, 97, 101.05], \"xaxis\": \"x18\", \"y\": [0.04999999999999993, 1, 2, 11, 13, 14, 15, 20, 20.95], \"yaxis\": \"y18\", \"z\": [[null, null, null, null, null, null, null, null, null, null, null, null], [null, null, null, null, null, null, null, null, null, null, 0.8010478185642924, null], [null, null, 0.7944552310657595, null, null, null, null, 0.7807348507355286, null, null, null, null], [null, null, null, null, 0.7279475570293233, null, null, null, null, 0.7215271018362523, null, null], [null, null, null, null, null, 0.7196380418860033, null, null, null, null, null, null], [null, null, null, null, null, null, null, null, 0.7368146568674111, null, null, null], [null, 0.7194229534526093, null, null, null, null, 0.7281965511117017, null, null, null, null, null], [null, null, null, 0.6941374311111144, null, null, null, null, null, null, null, null], [null, null, null, null, null, null, null, null, null, null, null, null]]}, {\"marker\": {\"color\": \"black\", \"line\": {\"color\": \"Grey\", \"width\": 0.5}}, \"mode\": \"markers\", \"showlegend\": false, \"type\": \"scatter\", \"x\": [88, 34, 80, 97, 92, 95, 31, 79, 16, 90], \"xaxis\": \"x18\", \"y\": [15, 20, 13, 1, 14, 11, 2, 11, 15, 2], \"yaxis\": \"y18\"}, {\"type\": \"scatter\", \"xaxis\": \"x25\", \"yaxis\": \"y25\"}, {\"colorbar\": {\"title\": {\"text\": \"Objective Value\"}}, \"colorscale\": [[0, \"rgb(5,10,172)\"], [0.35, \"rgb(40,60,190)\"], [0.5, \"rgb(70,100,245)\"], [0.6, \"rgb(90,120,245)\"], [0.7, \"rgb(106,137,247)\"], [1, \"rgb(220,220,220)\"]], \"connectgaps\": true, \"contours\": {\"coloring\": \"heatmap\"}, \"hoverinfo\": \"none\", \"line\": {\"smoothing\": 1.3}, \"reversescale\": true, \"showscale\": false, \"type\": \"contour\", \"x\": [11.95, 16, 31, 34, 79, 80, 88, 90, 92, 95, 97, 101.05], \"xaxis\": \"x32\", \"y\": [28.15, 37, 51, 81, 114, 141, 154, 156, 187, 214, 222.85], \"yaxis\": \"y32\", \"z\": [[null, null, null, null, null, null, null, null, null, null, null, null], [null, null, null, null, 0.7279475570293233, 0.7196380418860033, null, null, null, null, null, null], [null, null, 0.7944552310657595, null, null, null, null, null, null, null, null, null], [null, null, null, null, null, null, null, 0.7807348507355286, null, null, null, null], [null, null, null, null, null, null, null, null, 0.7368146568674111, null, null, null], [null, null, null, null, null, null, null, null, null, 0.7215271018362523, null, null], [null, null, null, null, null, null, 0.7281965511117017, null, null, null, null, null], [null, null, null, null, null, null, null, null, null, null, 0.8010478185642924, null], [null, 0.7194229534526093, null, null, null, null, null, null, null, null, null, null], [null, null, null, 0.6941374311111144, null, null, null, null, null, null, null, null], [null, null, null, null, null, null, null, null, null, null, null, null]]}, {\"marker\": {\"color\": \"black\", \"line\": {\"color\": \"Grey\", \"width\": 0.5}}, \"mode\": \"markers\", \"showlegend\": false, \"type\": \"scatter\", \"x\": [88, 34, 80, 97, 92, 95, 31, 79, 16, 90], \"xaxis\": \"x32\", \"y\": [154, 214, 37, 156, 114, 141, 51, 37, 187, 81], \"yaxis\": \"y32\"}, {\"colorbar\": {\"title\": {\"text\": \"Objective Value\"}}, \"colorscale\": [[0, \"rgb(5,10,172)\"], [0.35, \"rgb(40,60,190)\"], [0.5, \"rgb(70,100,245)\"], [0.6, \"rgb(90,120,245)\"], [0.7, \"rgb(106,137,247)\"], [1, \"rgb(220,220,220)\"]], \"connectgaps\": true, \"contours\": {\"coloring\": \"heatmap\"}, \"hoverinfo\": \"none\", \"line\": {\"smoothing\": 1.3}, \"reversescale\": true, \"showscale\": false, \"type\": \"contour\", \"x\": [11.95, 16, 31, 34, 79, 80, 88, 90, 92, 95, 97, 101.05], \"xaxis\": \"x39\", \"y\": [0.31387745887242086, 0.3455361150896956, 0.35183125621386324, 0.35218545057583955, 0.40919616423534183, 0.42727747704497043, 0.527731231534285, 0.5564532903055841, 0.6466238370778892, 0.8107243248366449, 0.9787092394351908, 1.0103678956524655], \"yaxis\": \"y39\", \"z\": [[null, null, null, null, null, null, null, null, null, null, null, null], [null, null, null, null, null, null, null, null, null, null, 0.8010478185642924, null], [null, 0.7194229534526093, null, null, null, null, null, null, null, null, null, null], [null, null, null, null, 0.7279475570293233, null, null, null, null, null, null, null], [null, null, null, null, null, null, 0.7281965511117017, null, null, null, null, null], [null, null, null, 0.6941374311111144, null, null, null, null, null, null, null, null], [null, null, 0.7944552310657595, null, null, null, null, null, null, null, null, null], [null, null, null, null, null, 0.7196380418860033, null, null, null, null, null, null], [null, null, null, null, null, null, null, null, 0.7368146568674111, null, null, null], [null, null, null, null, null, null, null, 0.7807348507355286, null, null, null, null], [null, null, null, null, null, null, null, null, null, 0.7215271018362523, null, null], [null, null, null, null, null, null, null, null, null, null, null, null]]}, {\"marker\": {\"color\": \"black\", \"line\": {\"color\": \"Grey\", \"width\": 0.5}}, \"mode\": \"markers\", \"showlegend\": false, \"type\": \"scatter\", \"x\": [88, 34, 80, 97, 92, 95, 31, 79, 16, 90], \"xaxis\": \"x39\", \"y\": [0.40919616423534183, 0.42727747704497043, 0.5564532903055841, 0.3455361150896956, 0.6466238370778892, 0.9787092394351908, 0.527731231534285, 0.35218545057583955, 0.35183125621386324, 0.8107243248366449], \"yaxis\": \"y39\"}, {\"colorbar\": {\"title\": {\"text\": \"Objective Value\"}}, \"colorscale\": [[0, \"rgb(5,10,172)\"], [0.35, \"rgb(40,60,190)\"], [0.5, \"rgb(70,100,245)\"], [0.6, \"rgb(90,120,245)\"], [0.7, \"rgb(106,137,247)\"], [1, \"rgb(220,220,220)\"]], \"connectgaps\": true, \"contours\": {\"coloring\": \"heatmap\"}, \"hoverinfo\": \"none\", \"line\": {\"smoothing\": 1.3}, \"reversescale\": true, \"showscale\": false, \"type\": \"contour\", \"x\": [11.95, 16, 31, 34, 79, 80, 88, 90, 92, 95, 97, 101.05], \"xaxis\": \"x46\", \"y\": [0.55, 1, 2, 4, 5, 7, 8, 10, 10.45], \"yaxis\": \"y46\", \"z\": [[null, null, null, null, null, null, null, null, null, null, null, null], [null, null, null, null, null, null, 0.7281965511117017, null, 0.7368146568674111, null, null, null], [null, null, null, 0.6941374311111144, null, null, null, null, null, null, null, null], [null, 0.7194229534526093, 0.7944552310657595, null, null, null, null, null, null, null, null, null], [null, null, null, null, null, 0.7196380418860033, null, null, null, null, null, null], [null, null, null, null, null, null, null, 0.7807348507355286, null, null, null, null], [null, null, null, null, null, null, null, null, null, 0.7215271018362523, null, null], [null, null, null, null, 0.7279475570293233, null, null, null, null, null, 0.8010478185642924, null], [null, null, null, null, null, null, null, null, null, null, null, null]]}, {\"marker\": {\"color\": \"black\", \"line\": {\"color\": \"Grey\", \"width\": 0.5}}, \"mode\": \"markers\", \"showlegend\": false, \"type\": \"scatter\", \"x\": [88, 34, 80, 97, 92, 95, 31, 79, 16, 90], \"xaxis\": \"x46\", \"y\": [1, 2, 5, 10, 1, 8, 4, 10, 4, 7], \"yaxis\": \"y46\"}, {\"colorbar\": {\"title\": {\"text\": \"Objective Value\"}}, \"colorscale\": [[0, \"rgb(5,10,172)\"], [0.35, \"rgb(40,60,190)\"], [0.5, \"rgb(70,100,245)\"], [0.6, \"rgb(90,120,245)\"], [0.7, \"rgb(106,137,247)\"], [1, \"rgb(220,220,220)\"]], \"connectgaps\": true, \"contours\": {\"coloring\": \"heatmap\"}, \"hoverinfo\": \"none\", \"line\": {\"smoothing\": 1.3}, \"reversescale\": true, \"showscale\": false, \"type\": \"contour\", \"x\": [28.15, 37, 51, 81, 114, 141, 154, 156, 187, 214, 222.85], \"xaxis\": \"x5\", \"y\": [0.40442728259101784, 0.4271363733463229, 0.47322294090686734, 0.4936111842654619, 0.502314474212375, 0.5109126733153162, 0.5274034664069657, 0.5752867891211308, 0.5951099932160482, 0.8627622080115674, 0.8813181884524238, 0.9040272792077289], \"yaxis\": \"y5\", \"z\": [[null, null, null, null, null, null, null, null, null, null, null], [null, null, 0.7944552310657595, null, null, null, null, null, null, null, null], [null, null, null, null, 0.7368146568674111, null, null, null, null, null, null], [null, null, null, null, null, null, 0.7281965511117017, null, null, null, null], [null, null, null, null, null, null, null, 0.8010478185642924, null, null, null], [null, null, null, null, null, 0.7215271018362523, null, null, null, null, null], [null, null, null, null, null, null, null, null, null, 0.6941374311111144, null], [null, 0.7196380418860033, null, null, null, null, null, null, null, null, null], [null, null, null, 0.7807348507355286, null, null, null, null, null, null, null], [null, null, null, null, null, null, null, null, 0.7194229534526093, null, null], [null, 0.7279475570293233, null, null, null, null, null, null, null, null, null], [null, null, null, null, null, null, null, null, null, null, null]]}, {\"marker\": {\"color\": \"black\", \"line\": {\"color\": \"Grey\", \"width\": 0.5}}, \"mode\": \"markers\", \"showlegend\": false, \"type\": \"scatter\", \"x\": [154, 214, 37, 156, 114, 141, 51, 37, 187, 81], \"xaxis\": \"x5\", \"y\": [0.4936111842654619, 0.5274034664069657, 0.5752867891211308, 0.502314474212375, 0.47322294090686734, 0.5109126733153162, 0.4271363733463229, 0.8813181884524238, 0.8627622080115674, 0.5951099932160482], \"yaxis\": \"y5\"}, {\"colorbar\": {\"title\": {\"text\": \"Objective Value\"}}, \"colorscale\": [[0, \"rgb(5,10,172)\"], [0.35, \"rgb(40,60,190)\"], [0.5, \"rgb(70,100,245)\"], [0.6, \"rgb(90,120,245)\"], [0.7, \"rgb(106,137,247)\"], [1, \"rgb(220,220,220)\"]], \"connectgaps\": true, \"contours\": {\"coloring\": \"heatmap\"}, \"hoverinfo\": \"none\", \"line\": {\"smoothing\": 1.3}, \"reversescale\": true, \"showscale\": false, \"type\": \"contour\", \"x\": [28.15, 37, 51, 81, 114, 141, 154, 156, 187, 214, 222.85], \"xaxis\": \"x12\", \"y\": [248.5, 259, 260, 277, 342, 357, 380, 443, 449, 459, 469, 479.5], \"yaxis\": \"y12\", \"z\": [[null, null, null, null, null, null, null, null, null, null, null], [null, 0.7279475570293233, null, null, null, null, null, null, null, null, null], [null, 0.7196380418860033, null, null, null, null, null, null, null, null, null], [null, null, null, null, 0.7368146568674111, null, null, null, null, null, null], [null, null, null, 0.7807348507355286, null, null, null, null, null, null, null], [null, null, null, null, null, null, null, null, null, 0.6941374311111144, null], [null, null, null, null, null, null, 0.7281965511117017, null, null, null, null], [null, null, null, null, null, null, null, 0.8010478185642924, null, null, null], [null, null, 0.7944552310657595, null, null, null, null, null, null, null, null], [null, null, null, null, null, null, null, null, 0.7194229534526093, null, null], [null, null, null, null, null, 0.7215271018362523, null, null, null, null, null], [null, null, null, null, null, null, null, null, null, null, null]]}, {\"marker\": {\"color\": \"black\", \"line\": {\"color\": \"Grey\", \"width\": 0.5}}, \"mode\": \"markers\", \"showlegend\": false, \"type\": \"scatter\", \"x\": [154, 214, 37, 156, 114, 141, 51, 37, 187, 81], \"xaxis\": \"x12\", \"y\": [380, 357, 260, 443, 277, 469, 449, 259, 459, 342], \"yaxis\": \"y12\"}, {\"colorbar\": {\"title\": {\"text\": \"Objective Value\"}}, \"colorscale\": [[0, \"rgb(5,10,172)\"], [0.35, \"rgb(40,60,190)\"], [0.5, \"rgb(70,100,245)\"], [0.6, \"rgb(90,120,245)\"], [0.7, \"rgb(106,137,247)\"], [1, \"rgb(220,220,220)\"]], \"connectgaps\": true, \"contours\": {\"coloring\": \"heatmap\"}, \"hoverinfo\": \"none\", \"line\": {\"smoothing\": 1.3}, \"reversescale\": true, \"showscale\": false, \"type\": \"contour\", \"x\": [28.15, 37, 51, 81, 114, 141, 154, 156, 187, 214, 222.85], \"xaxis\": \"x19\", \"y\": [0.04999999999999993, 1, 2, 11, 13, 14, 15, 20, 20.95], \"yaxis\": \"y19\", \"z\": [[null, null, null, null, null, null, null, null, null, null, null], [null, null, null, null, null, null, null, 0.8010478185642924, null, null, null], [null, null, 0.7944552310657595, 0.7807348507355286, null, null, null, null, null, null, null], [null, 0.7279475570293233, null, null, null, 0.7215271018362523, null, null, null, null, null], [null, 0.7196380418860033, null, null, null, null, null, null, null, null, null], [null, null, null, null, 0.7368146568674111, null, null, null, null, null, null], [null, null, null, null, null, null, 0.7281965511117017, null, 0.7194229534526093, null, null], [null, null, null, null, null, null, null, null, null, 0.6941374311111144, null], [null, null, null, null, null, null, null, null, null, null, null]]}, {\"marker\": {\"color\": \"black\", \"line\": {\"color\": \"Grey\", \"width\": 0.5}}, \"mode\": \"markers\", \"showlegend\": false, \"type\": \"scatter\", \"x\": [154, 214, 37, 156, 114, 141, 51, 37, 187, 81], \"xaxis\": \"x19\", \"y\": [15, 20, 13, 1, 14, 11, 2, 11, 15, 2], \"yaxis\": \"y19\"}, {\"colorbar\": {\"title\": {\"text\": \"Objective Value\"}}, \"colorscale\": [[0, \"rgb(5,10,172)\"], [0.35, \"rgb(40,60,190)\"], [0.5, \"rgb(70,100,245)\"], [0.6, \"rgb(90,120,245)\"], [0.7, \"rgb(106,137,247)\"], [1, \"rgb(220,220,220)\"]], \"connectgaps\": true, \"contours\": {\"coloring\": \"heatmap\"}, \"hoverinfo\": \"none\", \"line\": {\"smoothing\": 1.3}, \"reversescale\": true, \"showscale\": false, \"type\": \"contour\", \"x\": [28.15, 37, 51, 81, 114, 141, 154, 156, 187, 214, 222.85], \"xaxis\": \"x26\", \"y\": [11.95, 16, 31, 34, 79, 80, 88, 90, 92, 95, 97, 101.05], \"yaxis\": \"y26\", \"z\": [[null, null, null, null, null, null, null, null, null, null, null], [null, null, null, null, null, null, null, null, 0.7194229534526093, null, null], [null, null, 0.7944552310657595, null, null, null, null, null, null, null, null], [null, null, null, null, null, null, null, null, null, 0.6941374311111144, null], [null, 0.7279475570293233, null, null, null, null, null, null, null, null, null], [null, 0.7196380418860033, null, null, null, null, null, null, null, null, null], [null, null, null, null, null, null, 0.7281965511117017, null, null, null, null], [null, null, null, 0.7807348507355286, null, null, null, null, null, null, null], [null, null, null, null, 0.7368146568674111, null, null, null, null, null, null], [null, null, null, null, null, 0.7215271018362523, null, null, null, null, null], [null, null, null, null, null, null, null, 0.8010478185642924, null, null, null], [null, null, null, null, null, null, null, null, null, null, null]]}, {\"marker\": {\"color\": \"black\", \"line\": {\"color\": \"Grey\", \"width\": 0.5}}, \"mode\": \"markers\", \"showlegend\": false, \"type\": \"scatter\", \"x\": [154, 214, 37, 156, 114, 141, 51, 37, 187, 81], \"xaxis\": \"x26\", \"y\": [88, 34, 80, 97, 92, 95, 31, 79, 16, 90], \"yaxis\": \"y26\"}, {\"type\": \"scatter\", \"xaxis\": \"x33\", \"yaxis\": \"y33\"}, {\"colorbar\": {\"title\": {\"text\": \"Objective Value\"}}, \"colorscale\": [[0, \"rgb(5,10,172)\"], [0.35, \"rgb(40,60,190)\"], [0.5, \"rgb(70,100,245)\"], [0.6, \"rgb(90,120,245)\"], [0.7, \"rgb(106,137,247)\"], [1, \"rgb(220,220,220)\"]], \"connectgaps\": true, \"contours\": {\"coloring\": \"heatmap\"}, \"hoverinfo\": \"none\", \"line\": {\"smoothing\": 1.3}, \"reversescale\": true, \"showscale\": false, \"type\": \"contour\", \"x\": [28.15, 37, 51, 81, 114, 141, 154, 156, 187, 214, 222.85], \"xaxis\": \"x40\", \"y\": [0.31387745887242086, 0.3455361150896956, 0.35183125621386324, 0.35218545057583955, 0.40919616423534183, 0.42727747704497043, 0.527731231534285, 0.5564532903055841, 0.6466238370778892, 0.8107243248366449, 0.9787092394351908, 1.0103678956524655], \"yaxis\": \"y40\", \"z\": [[null, null, null, null, null, null, null, null, null, null, null], [null, null, null, null, null, null, null, 0.8010478185642924, null, null, null], [null, null, null, null, null, null, null, null, 0.7194229534526093, null, null], [null, 0.7279475570293233, null, null, null, null, null, null, null, null, null], [null, null, null, null, null, null, 0.7281965511117017, null, null, null, null], [null, null, null, null, null, null, null, null, null, 0.6941374311111144, null], [null, null, 0.7944552310657595, null, null, null, null, null, null, null, null], [null, 0.7196380418860033, null, null, null, null, null, null, null, null, null], [null, null, null, null, 0.7368146568674111, null, null, null, null, null, null], [null, null, null, 0.7807348507355286, null, null, null, null, null, null, null], [null, null, null, null, null, 0.7215271018362523, null, null, null, null, null], [null, null, null, null, null, null, null, null, null, null, null]]}, {\"marker\": {\"color\": \"black\", \"line\": {\"color\": \"Grey\", \"width\": 0.5}}, \"mode\": \"markers\", \"showlegend\": false, \"type\": \"scatter\", \"x\": [154, 214, 37, 156, 114, 141, 51, 37, 187, 81], \"xaxis\": \"x40\", \"y\": [0.40919616423534183, 0.42727747704497043, 0.5564532903055841, 0.3455361150896956, 0.6466238370778892, 0.9787092394351908, 0.527731231534285, 0.35218545057583955, 0.35183125621386324, 0.8107243248366449], \"yaxis\": \"y40\"}, {\"colorbar\": {\"title\": {\"text\": \"Objective Value\"}}, \"colorscale\": [[0, \"rgb(5,10,172)\"], [0.35, \"rgb(40,60,190)\"], [0.5, \"rgb(70,100,245)\"], [0.6, \"rgb(90,120,245)\"], [0.7, \"rgb(106,137,247)\"], [1, \"rgb(220,220,220)\"]], \"connectgaps\": true, \"contours\": {\"coloring\": \"heatmap\"}, \"hoverinfo\": \"none\", \"line\": {\"smoothing\": 1.3}, \"reversescale\": true, \"showscale\": false, \"type\": \"contour\", \"x\": [28.15, 37, 51, 81, 114, 141, 154, 156, 187, 214, 222.85], \"xaxis\": \"x47\", \"y\": [0.55, 1, 2, 4, 5, 7, 8, 10, 10.45], \"yaxis\": \"y47\", \"z\": [[null, null, null, null, null, null, null, null, null, null, null], [null, null, null, null, 0.7368146568674111, null, 0.7281965511117017, null, null, null, null], [null, null, null, null, null, null, null, null, null, 0.6941374311111144, null], [null, null, 0.7944552310657595, null, null, null, null, null, 0.7194229534526093, null, null], [null, 0.7196380418860033, null, null, null, null, null, null, null, null, null], [null, null, null, 0.7807348507355286, null, null, null, null, null, null, null], [null, null, null, null, null, 0.7215271018362523, null, null, null, null, null], [null, 0.7279475570293233, null, null, null, null, null, 0.8010478185642924, null, null, null], [null, null, null, null, null, null, null, null, null, null, null]]}, {\"marker\": {\"color\": \"black\", \"line\": {\"color\": \"Grey\", \"width\": 0.5}}, \"mode\": \"markers\", \"showlegend\": false, \"type\": \"scatter\", \"x\": [154, 214, 37, 156, 114, 141, 51, 37, 187, 81], \"xaxis\": \"x47\", \"y\": [1, 2, 5, 10, 1, 8, 4, 10, 4, 7], \"yaxis\": \"y47\"}, {\"colorbar\": {\"title\": {\"text\": \"Objective Value\"}}, \"colorscale\": [[0, \"rgb(5,10,172)\"], [0.35, \"rgb(40,60,190)\"], [0.5, \"rgb(70,100,245)\"], [0.6, \"rgb(90,120,245)\"], [0.7, \"rgb(106,137,247)\"], [1, \"rgb(220,220,220)\"]], \"connectgaps\": true, \"contours\": {\"coloring\": \"heatmap\"}, \"hoverinfo\": \"none\", \"line\": {\"smoothing\": 1.3}, \"reversescale\": true, \"showscale\": false, \"type\": \"contour\", \"x\": [0.31387745887242086, 0.3455361150896956, 0.35183125621386324, 0.35218545057583955, 0.40919616423534183, 0.42727747704497043, 0.527731231534285, 0.5564532903055841, 0.6466238370778892, 0.8107243248366449, 0.9787092394351908, 1.0103678956524655], \"xaxis\": \"x6\", \"y\": [0.40442728259101784, 0.4271363733463229, 0.47322294090686734, 0.4936111842654619, 0.502314474212375, 0.5109126733153162, 0.5274034664069657, 0.5752867891211308, 0.5951099932160482, 0.8627622080115674, 0.8813181884524238, 0.9040272792077289], \"yaxis\": \"y6\", \"z\": [[null, null, null, null, null, null, null, null, null, null, null, null], [null, null, null, null, null, null, 0.7944552310657595, null, null, null, null, null], [null, null, null, null, null, null, null, null, 0.7368146568674111, null, null, null], [null, null, null, null, 0.7281965511117017, null, null, null, null, null, null, null], [null, 0.8010478185642924, null, null, null, null, null, null, null, null, null, null], [null, null, null, null, null, null, null, null, null, null, 0.7215271018362523, null], [null, null, null, null, null, 0.6941374311111144, null, null, null, null, null, null], [null, null, null, null, null, null, null, 0.7196380418860033, null, null, null, null], [null, null, null, null, null, null, null, null, null, 0.7807348507355286, null, null], [null, null, 0.7194229534526093, null, null, null, null, null, null, null, null, null], [null, null, null, 0.7279475570293233, null, null, null, null, null, null, null, null], [null, null, null, null, null, null, null, null, null, null, null, null]]}, {\"marker\": {\"color\": \"black\", \"line\": {\"color\": \"Grey\", \"width\": 0.5}}, \"mode\": \"markers\", \"showlegend\": false, \"type\": \"scatter\", \"x\": [0.40919616423534183, 0.42727747704497043, 0.5564532903055841, 0.3455361150896956, 0.6466238370778892, 0.9787092394351908, 0.527731231534285, 0.35218545057583955, 0.35183125621386324, 0.8107243248366449], \"xaxis\": \"x6\", \"y\": [0.4936111842654619, 0.5274034664069657, 0.5752867891211308, 0.502314474212375, 0.47322294090686734, 0.5109126733153162, 0.4271363733463229, 0.8813181884524238, 0.8627622080115674, 0.5951099932160482], \"yaxis\": \"y6\"}, {\"colorbar\": {\"title\": {\"text\": \"Objective Value\"}}, \"colorscale\": [[0, \"rgb(5,10,172)\"], [0.35, \"rgb(40,60,190)\"], [0.5, \"rgb(70,100,245)\"], [0.6, \"rgb(90,120,245)\"], [0.7, \"rgb(106,137,247)\"], [1, \"rgb(220,220,220)\"]], \"connectgaps\": true, \"contours\": {\"coloring\": \"heatmap\"}, \"hoverinfo\": \"none\", \"line\": {\"smoothing\": 1.3}, \"reversescale\": true, \"showscale\": false, \"type\": \"contour\", \"x\": [0.31387745887242086, 0.3455361150896956, 0.35183125621386324, 0.35218545057583955, 0.40919616423534183, 0.42727747704497043, 0.527731231534285, 0.5564532903055841, 0.6466238370778892, 0.8107243248366449, 0.9787092394351908, 1.0103678956524655], \"xaxis\": \"x13\", \"y\": [248.5, 259, 260, 277, 342, 357, 380, 443, 449, 459, 469, 479.5], \"yaxis\": \"y13\", \"z\": [[null, null, null, null, null, null, null, null, null, null, null, null], [null, null, null, 0.7279475570293233, null, null, null, null, null, null, null, null], [null, null, null, null, null, null, null, 0.7196380418860033, null, null, null, null], [null, null, null, null, null, null, null, null, 0.7368146568674111, null, null, null], [null, null, null, null, null, null, null, null, null, 0.7807348507355286, null, null], [null, null, null, null, null, 0.6941374311111144, null, null, null, null, null, null], [null, null, null, null, 0.7281965511117017, null, null, null, null, null, null, null], [null, 0.8010478185642924, null, null, null, null, null, null, null, null, null, null], [null, null, null, null, null, null, 0.7944552310657595, null, null, null, null, null], [null, null, 0.7194229534526093, null, null, null, null, null, null, null, null, null], [null, null, null, null, null, null, null, null, null, null, 0.7215271018362523, null], [null, null, null, null, null, null, null, null, null, null, null, null]]}, {\"marker\": {\"color\": \"black\", \"line\": {\"color\": \"Grey\", \"width\": 0.5}}, \"mode\": \"markers\", \"showlegend\": false, \"type\": \"scatter\", \"x\": [0.40919616423534183, 0.42727747704497043, 0.5564532903055841, 0.3455361150896956, 0.6466238370778892, 0.9787092394351908, 0.527731231534285, 0.35218545057583955, 0.35183125621386324, 0.8107243248366449], \"xaxis\": \"x13\", \"y\": [380, 357, 260, 443, 277, 469, 449, 259, 459, 342], \"yaxis\": \"y13\"}, {\"colorbar\": {\"title\": {\"text\": \"Objective Value\"}}, \"colorscale\": [[0, \"rgb(5,10,172)\"], [0.35, \"rgb(40,60,190)\"], [0.5, \"rgb(70,100,245)\"], [0.6, \"rgb(90,120,245)\"], [0.7, \"rgb(106,137,247)\"], [1, \"rgb(220,220,220)\"]], \"connectgaps\": true, \"contours\": {\"coloring\": \"heatmap\"}, \"hoverinfo\": \"none\", \"line\": {\"smoothing\": 1.3}, \"reversescale\": true, \"showscale\": false, \"type\": \"contour\", \"x\": [0.31387745887242086, 0.3455361150896956, 0.35183125621386324, 0.35218545057583955, 0.40919616423534183, 0.42727747704497043, 0.527731231534285, 0.5564532903055841, 0.6466238370778892, 0.8107243248366449, 0.9787092394351908, 1.0103678956524655], \"xaxis\": \"x20\", \"y\": [0.04999999999999993, 1, 2, 11, 13, 14, 15, 20, 20.95], \"yaxis\": \"y20\", \"z\": [[null, null, null, null, null, null, null, null, null, null, null, null], [null, 0.8010478185642924, null, null, null, null, null, null, null, null, null, null], [null, null, null, null, null, null, 0.7944552310657595, null, null, 0.7807348507355286, null, null], [null, null, null, 0.7279475570293233, null, null, null, null, null, null, 0.7215271018362523, null], [null, null, null, null, null, null, null, 0.7196380418860033, null, null, null, null], [null, null, null, null, null, null, null, null, 0.7368146568674111, null, null, null], [null, null, 0.7194229534526093, null, 0.7281965511117017, null, null, null, null, null, null, null], [null, null, null, null, null, 0.6941374311111144, null, null, null, null, null, null], [null, null, null, null, null, null, null, null, null, null, null, null]]}, {\"marker\": {\"color\": \"black\", \"line\": {\"color\": \"Grey\", \"width\": 0.5}}, \"mode\": \"markers\", \"showlegend\": false, \"type\": \"scatter\", \"x\": [0.40919616423534183, 0.42727747704497043, 0.5564532903055841, 0.3455361150896956, 0.6466238370778892, 0.9787092394351908, 0.527731231534285, 0.35218545057583955, 0.35183125621386324, 0.8107243248366449], \"xaxis\": \"x20\", \"y\": [15, 20, 13, 1, 14, 11, 2, 11, 15, 2], \"yaxis\": \"y20\"}, {\"colorbar\": {\"title\": {\"text\": \"Objective Value\"}}, \"colorscale\": [[0, \"rgb(5,10,172)\"], [0.35, \"rgb(40,60,190)\"], [0.5, \"rgb(70,100,245)\"], [0.6, \"rgb(90,120,245)\"], [0.7, \"rgb(106,137,247)\"], [1, \"rgb(220,220,220)\"]], \"connectgaps\": true, \"contours\": {\"coloring\": \"heatmap\"}, \"hoverinfo\": \"none\", \"line\": {\"smoothing\": 1.3}, \"reversescale\": true, \"showscale\": false, \"type\": \"contour\", \"x\": [0.31387745887242086, 0.3455361150896956, 0.35183125621386324, 0.35218545057583955, 0.40919616423534183, 0.42727747704497043, 0.527731231534285, 0.5564532903055841, 0.6466238370778892, 0.8107243248366449, 0.9787092394351908, 1.0103678956524655], \"xaxis\": \"x27\", \"y\": [11.95, 16, 31, 34, 79, 80, 88, 90, 92, 95, 97, 101.05], \"yaxis\": \"y27\", \"z\": [[null, null, null, null, null, null, null, null, null, null, null, null], [null, null, 0.7194229534526093, null, null, null, null, null, null, null, null, null], [null, null, null, null, null, null, 0.7944552310657595, null, null, null, null, null], [null, null, null, null, null, 0.6941374311111144, null, null, null, null, null, null], [null, null, null, 0.7279475570293233, null, null, null, null, null, null, null, null], [null, null, null, null, null, null, null, 0.7196380418860033, null, null, null, null], [null, null, null, null, 0.7281965511117017, null, null, null, null, null, null, null], [null, null, null, null, null, null, null, null, null, 0.7807348507355286, null, null], [null, null, null, null, null, null, null, null, 0.7368146568674111, null, null, null], [null, null, null, null, null, null, null, null, null, null, 0.7215271018362523, null], [null, 0.8010478185642924, null, null, null, null, null, null, null, null, null, null], [null, null, null, null, null, null, null, null, null, null, null, null]]}, {\"marker\": {\"color\": \"black\", \"line\": {\"color\": \"Grey\", \"width\": 0.5}}, \"mode\": \"markers\", \"showlegend\": false, \"type\": \"scatter\", \"x\": [0.40919616423534183, 0.42727747704497043, 0.5564532903055841, 0.3455361150896956, 0.6466238370778892, 0.9787092394351908, 0.527731231534285, 0.35218545057583955, 0.35183125621386324, 0.8107243248366449], \"xaxis\": \"x27\", \"y\": [88, 34, 80, 97, 92, 95, 31, 79, 16, 90], \"yaxis\": \"y27\"}, {\"colorbar\": {\"title\": {\"text\": \"Objective Value\"}}, \"colorscale\": [[0, \"rgb(5,10,172)\"], [0.35, \"rgb(40,60,190)\"], [0.5, \"rgb(70,100,245)\"], [0.6, \"rgb(90,120,245)\"], [0.7, \"rgb(106,137,247)\"], [1, \"rgb(220,220,220)\"]], \"connectgaps\": true, \"contours\": {\"coloring\": \"heatmap\"}, \"hoverinfo\": \"none\", \"line\": {\"smoothing\": 1.3}, \"reversescale\": true, \"showscale\": false, \"type\": \"contour\", \"x\": [0.31387745887242086, 0.3455361150896956, 0.35183125621386324, 0.35218545057583955, 0.40919616423534183, 0.42727747704497043, 0.527731231534285, 0.5564532903055841, 0.6466238370778892, 0.8107243248366449, 0.9787092394351908, 1.0103678956524655], \"xaxis\": \"x34\", \"y\": [28.15, 37, 51, 81, 114, 141, 154, 156, 187, 214, 222.85], \"yaxis\": \"y34\", \"z\": [[null, null, null, null, null, null, null, null, null, null, null, null], [null, null, null, 0.7279475570293233, null, null, null, 0.7196380418860033, null, null, null, null], [null, null, null, null, null, null, 0.7944552310657595, null, null, null, null, null], [null, null, null, null, null, null, null, null, null, 0.7807348507355286, null, null], [null, null, null, null, null, null, null, null, 0.7368146568674111, null, null, null], [null, null, null, null, null, null, null, null, null, null, 0.7215271018362523, null], [null, null, null, null, 0.7281965511117017, null, null, null, null, null, null, null], [null, 0.8010478185642924, null, null, null, null, null, null, null, null, null, null], [null, null, 0.7194229534526093, null, null, null, null, null, null, null, null, null], [null, null, null, null, null, 0.6941374311111144, null, null, null, null, null, null], [null, null, null, null, null, null, null, null, null, null, null, null]]}, {\"marker\": {\"color\": \"black\", \"line\": {\"color\": \"Grey\", \"width\": 0.5}}, \"mode\": \"markers\", \"showlegend\": false, \"type\": \"scatter\", \"x\": [0.40919616423534183, 0.42727747704497043, 0.5564532903055841, 0.3455361150896956, 0.6466238370778892, 0.9787092394351908, 0.527731231534285, 0.35218545057583955, 0.35183125621386324, 0.8107243248366449], \"xaxis\": \"x34\", \"y\": [154, 214, 37, 156, 114, 141, 51, 37, 187, 81], \"yaxis\": \"y34\"}, {\"type\": \"scatter\", \"xaxis\": \"x41\", \"yaxis\": \"y41\"}, {\"colorbar\": {\"title\": {\"text\": \"Objective Value\"}}, \"colorscale\": [[0, \"rgb(5,10,172)\"], [0.35, \"rgb(40,60,190)\"], [0.5, \"rgb(70,100,245)\"], [0.6, \"rgb(90,120,245)\"], [0.7, \"rgb(106,137,247)\"], [1, \"rgb(220,220,220)\"]], \"connectgaps\": true, \"contours\": {\"coloring\": \"heatmap\"}, \"hoverinfo\": \"none\", \"line\": {\"smoothing\": 1.3}, \"reversescale\": true, \"showscale\": false, \"type\": \"contour\", \"x\": [0.31387745887242086, 0.3455361150896956, 0.35183125621386324, 0.35218545057583955, 0.40919616423534183, 0.42727747704497043, 0.527731231534285, 0.5564532903055841, 0.6466238370778892, 0.8107243248366449, 0.9787092394351908, 1.0103678956524655], \"xaxis\": \"x48\", \"y\": [0.55, 1, 2, 4, 5, 7, 8, 10, 10.45], \"yaxis\": \"y48\", \"z\": [[null, null, null, null, null, null, null, null, null, null, null, null], [null, null, null, null, 0.7281965511117017, null, null, null, 0.7368146568674111, null, null, null], [null, null, null, null, null, 0.6941374311111144, null, null, null, null, null, null], [null, null, 0.7194229534526093, null, null, null, 0.7944552310657595, null, null, null, null, null], [null, null, null, null, null, null, null, 0.7196380418860033, null, null, null, null], [null, null, null, null, null, null, null, null, null, 0.7807348507355286, null, null], [null, null, null, null, null, null, null, null, null, null, 0.7215271018362523, null], [null, 0.8010478185642924, null, 0.7279475570293233, null, null, null, null, null, null, null, null], [null, null, null, null, null, null, null, null, null, null, null, null]]}, {\"marker\": {\"color\": \"black\", \"line\": {\"color\": \"Grey\", \"width\": 0.5}}, \"mode\": \"markers\", \"showlegend\": false, \"type\": \"scatter\", \"x\": [0.40919616423534183, 0.42727747704497043, 0.5564532903055841, 0.3455361150896956, 0.6466238370778892, 0.9787092394351908, 0.527731231534285, 0.35218545057583955, 0.35183125621386324, 0.8107243248366449], \"xaxis\": \"x48\", \"y\": [1, 2, 5, 10, 1, 8, 4, 10, 4, 7], \"yaxis\": \"y48\"}, {\"colorbar\": {\"title\": {\"text\": \"Objective Value\"}}, \"colorscale\": [[0, \"rgb(5,10,172)\"], [0.35, \"rgb(40,60,190)\"], [0.5, \"rgb(70,100,245)\"], [0.6, \"rgb(90,120,245)\"], [0.7, \"rgb(106,137,247)\"], [1, \"rgb(220,220,220)\"]], \"connectgaps\": true, \"contours\": {\"coloring\": \"heatmap\"}, \"hoverinfo\": \"none\", \"line\": {\"smoothing\": 1.3}, \"reversescale\": true, \"showscale\": false, \"type\": \"contour\", \"x\": [0.55, 1, 2, 4, 5, 7, 8, 10, 10.45], \"xaxis\": \"x7\", \"y\": [0.40442728259101784, 0.4271363733463229, 0.47322294090686734, 0.4936111842654619, 0.502314474212375, 0.5109126733153162, 0.5274034664069657, 0.5752867891211308, 0.5951099932160482, 0.8627622080115674, 0.8813181884524238, 0.9040272792077289], \"yaxis\": \"y7\", \"z\": [[null, null, null, null, null, null, null, null, null], [null, null, null, 0.7944552310657595, null, null, null, null, null], [null, 0.7368146568674111, null, null, null, null, null, null, null], [null, 0.7281965511117017, null, null, null, null, null, null, null], [null, null, null, null, null, null, null, 0.8010478185642924, null], [null, null, null, null, null, null, 0.7215271018362523, null, null], [null, null, 0.6941374311111144, null, null, null, null, null, null], [null, null, null, null, 0.7196380418860033, null, null, null, null], [null, null, null, null, null, 0.7807348507355286, null, null, null], [null, null, null, 0.7194229534526093, null, null, null, null, null], [null, null, null, null, null, null, null, 0.7279475570293233, null], [null, null, null, null, null, null, null, null, null]]}, {\"marker\": {\"color\": \"black\", \"line\": {\"color\": \"Grey\", \"width\": 0.5}}, \"mode\": \"markers\", \"showlegend\": false, \"type\": \"scatter\", \"x\": [1, 2, 5, 10, 1, 8, 4, 10, 4, 7], \"xaxis\": \"x7\", \"y\": [0.4936111842654619, 0.5274034664069657, 0.5752867891211308, 0.502314474212375, 0.47322294090686734, 0.5109126733153162, 0.4271363733463229, 0.8813181884524238, 0.8627622080115674, 0.5951099932160482], \"yaxis\": \"y7\"}, {\"colorbar\": {\"title\": {\"text\": \"Objective Value\"}}, \"colorscale\": [[0, \"rgb(5,10,172)\"], [0.35, \"rgb(40,60,190)\"], [0.5, \"rgb(70,100,245)\"], [0.6, \"rgb(90,120,245)\"], [0.7, \"rgb(106,137,247)\"], [1, \"rgb(220,220,220)\"]], \"connectgaps\": true, \"contours\": {\"coloring\": \"heatmap\"}, \"hoverinfo\": \"none\", \"line\": {\"smoothing\": 1.3}, \"reversescale\": true, \"showscale\": false, \"type\": \"contour\", \"x\": [0.55, 1, 2, 4, 5, 7, 8, 10, 10.45], \"xaxis\": \"x14\", \"y\": [248.5, 259, 260, 277, 342, 357, 380, 443, 449, 459, 469, 479.5], \"yaxis\": \"y14\", \"z\": [[null, null, null, null, null, null, null, null, null], [null, null, null, null, null, null, null, 0.7279475570293233, null], [null, null, null, null, 0.7196380418860033, null, null, null, null], [null, 0.7368146568674111, null, null, null, null, null, null, null], [null, null, null, null, null, 0.7807348507355286, null, null, null], [null, null, 0.6941374311111144, null, null, null, null, null, null], [null, 0.7281965511117017, null, null, null, null, null, null, null], [null, null, null, null, null, null, null, 0.8010478185642924, null], [null, null, null, 0.7944552310657595, null, null, null, null, null], [null, null, null, 0.7194229534526093, null, null, null, null, null], [null, null, null, null, null, null, 0.7215271018362523, null, null], [null, null, null, null, null, null, null, null, null]]}, {\"marker\": {\"color\": \"black\", \"line\": {\"color\": \"Grey\", \"width\": 0.5}}, \"mode\": \"markers\", \"showlegend\": false, \"type\": \"scatter\", \"x\": [1, 2, 5, 10, 1, 8, 4, 10, 4, 7], \"xaxis\": \"x14\", \"y\": [380, 357, 260, 443, 277, 469, 449, 259, 459, 342], \"yaxis\": \"y14\"}, {\"colorbar\": {\"title\": {\"text\": \"Objective Value\"}}, \"colorscale\": [[0, \"rgb(5,10,172)\"], [0.35, \"rgb(40,60,190)\"], [0.5, \"rgb(70,100,245)\"], [0.6, \"rgb(90,120,245)\"], [0.7, \"rgb(106,137,247)\"], [1, \"rgb(220,220,220)\"]], \"connectgaps\": true, \"contours\": {\"coloring\": \"heatmap\"}, \"hoverinfo\": \"none\", \"line\": {\"smoothing\": 1.3}, \"reversescale\": true, \"showscale\": false, \"type\": \"contour\", \"x\": [0.55, 1, 2, 4, 5, 7, 8, 10, 10.45], \"xaxis\": \"x21\", \"y\": [0.04999999999999993, 1, 2, 11, 13, 14, 15, 20, 20.95], \"yaxis\": \"y21\", \"z\": [[null, null, null, null, null, null, null, null, null], [null, null, null, null, null, null, null, 0.8010478185642924, null], [null, null, null, 0.7944552310657595, null, 0.7807348507355286, null, null, null], [null, null, null, null, null, null, 0.7215271018362523, 0.7279475570293233, null], [null, null, null, null, 0.7196380418860033, null, null, null, null], [null, 0.7368146568674111, null, null, null, null, null, null, null], [null, 0.7281965511117017, null, 0.7194229534526093, null, null, null, null, null], [null, null, 0.6941374311111144, null, null, null, null, null, null], [null, null, null, null, null, null, null, null, null]]}, {\"marker\": {\"color\": \"black\", \"line\": {\"color\": \"Grey\", \"width\": 0.5}}, \"mode\": \"markers\", \"showlegend\": false, \"type\": \"scatter\", \"x\": [1, 2, 5, 10, 1, 8, 4, 10, 4, 7], \"xaxis\": \"x21\", \"y\": [15, 20, 13, 1, 14, 11, 2, 11, 15, 2], \"yaxis\": \"y21\"}, {\"colorbar\": {\"title\": {\"text\": \"Objective Value\"}}, \"colorscale\": [[0, \"rgb(5,10,172)\"], [0.35, \"rgb(40,60,190)\"], [0.5, \"rgb(70,100,245)\"], [0.6, \"rgb(90,120,245)\"], [0.7, \"rgb(106,137,247)\"], [1, \"rgb(220,220,220)\"]], \"connectgaps\": true, \"contours\": {\"coloring\": \"heatmap\"}, \"hoverinfo\": \"none\", \"line\": {\"smoothing\": 1.3}, \"reversescale\": true, \"showscale\": false, \"type\": \"contour\", \"x\": [0.55, 1, 2, 4, 5, 7, 8, 10, 10.45], \"xaxis\": \"x28\", \"y\": [11.95, 16, 31, 34, 79, 80, 88, 90, 92, 95, 97, 101.05], \"yaxis\": \"y28\", \"z\": [[null, null, null, null, null, null, null, null, null], [null, null, null, 0.7194229534526093, null, null, null, null, null], [null, null, null, 0.7944552310657595, null, null, null, null, null], [null, null, 0.6941374311111144, null, null, null, null, null, null], [null, null, null, null, null, null, null, 0.7279475570293233, null], [null, null, null, null, 0.7196380418860033, null, null, null, null], [null, 0.7281965511117017, null, null, null, null, null, null, null], [null, null, null, null, null, 0.7807348507355286, null, null, null], [null, 0.7368146568674111, null, null, null, null, null, null, null], [null, null, null, null, null, null, 0.7215271018362523, null, null], [null, null, null, null, null, null, null, 0.8010478185642924, null], [null, null, null, null, null, null, null, null, null]]}, {\"marker\": {\"color\": \"black\", \"line\": {\"color\": \"Grey\", \"width\": 0.5}}, \"mode\": \"markers\", \"showlegend\": false, \"type\": \"scatter\", \"x\": [1, 2, 5, 10, 1, 8, 4, 10, 4, 7], \"xaxis\": \"x28\", \"y\": [88, 34, 80, 97, 92, 95, 31, 79, 16, 90], \"yaxis\": \"y28\"}, {\"colorbar\": {\"title\": {\"text\": \"Objective Value\"}}, \"colorscale\": [[0, \"rgb(5,10,172)\"], [0.35, \"rgb(40,60,190)\"], [0.5, \"rgb(70,100,245)\"], [0.6, \"rgb(90,120,245)\"], [0.7, \"rgb(106,137,247)\"], [1, \"rgb(220,220,220)\"]], \"connectgaps\": true, \"contours\": {\"coloring\": \"heatmap\"}, \"hoverinfo\": \"none\", \"line\": {\"smoothing\": 1.3}, \"reversescale\": true, \"showscale\": false, \"type\": \"contour\", \"x\": [0.55, 1, 2, 4, 5, 7, 8, 10, 10.45], \"xaxis\": \"x35\", \"y\": [28.15, 37, 51, 81, 114, 141, 154, 156, 187, 214, 222.85], \"yaxis\": \"y35\", \"z\": [[null, null, null, null, null, null, null, null, null], [null, null, null, null, 0.7196380418860033, null, null, 0.7279475570293233, null], [null, null, null, 0.7944552310657595, null, null, null, null, null], [null, null, null, null, null, 0.7807348507355286, null, null, null], [null, 0.7368146568674111, null, null, null, null, null, null, null], [null, null, null, null, null, null, 0.7215271018362523, null, null], [null, 0.7281965511117017, null, null, null, null, null, null, null], [null, null, null, null, null, null, null, 0.8010478185642924, null], [null, null, null, 0.7194229534526093, null, null, null, null, null], [null, null, 0.6941374311111144, null, null, null, null, null, null], [null, null, null, null, null, null, null, null, null]]}, {\"marker\": {\"color\": \"black\", \"line\": {\"color\": \"Grey\", \"width\": 0.5}}, \"mode\": \"markers\", \"showlegend\": false, \"type\": \"scatter\", \"x\": [1, 2, 5, 10, 1, 8, 4, 10, 4, 7], \"xaxis\": \"x35\", \"y\": [154, 214, 37, 156, 114, 141, 51, 37, 187, 81], \"yaxis\": \"y35\"}, {\"colorbar\": {\"title\": {\"text\": \"Objective Value\"}}, \"colorscale\": [[0, \"rgb(5,10,172)\"], [0.35, \"rgb(40,60,190)\"], [0.5, \"rgb(70,100,245)\"], [0.6, \"rgb(90,120,245)\"], [0.7, \"rgb(106,137,247)\"], [1, \"rgb(220,220,220)\"]], \"connectgaps\": true, \"contours\": {\"coloring\": \"heatmap\"}, \"hoverinfo\": \"none\", \"line\": {\"smoothing\": 1.3}, \"reversescale\": true, \"showscale\": false, \"type\": \"contour\", \"x\": [0.55, 1, 2, 4, 5, 7, 8, 10, 10.45], \"xaxis\": \"x42\", \"y\": [0.31387745887242086, 0.3455361150896956, 0.35183125621386324, 0.35218545057583955, 0.40919616423534183, 0.42727747704497043, 0.527731231534285, 0.5564532903055841, 0.6466238370778892, 0.8107243248366449, 0.9787092394351908, 1.0103678956524655], \"yaxis\": \"y42\", \"z\": [[null, null, null, null, null, null, null, null, null], [null, null, null, null, null, null, null, 0.8010478185642924, null], [null, null, null, 0.7194229534526093, null, null, null, null, null], [null, null, null, null, null, null, null, 0.7279475570293233, null], [null, 0.7281965511117017, null, null, null, null, null, null, null], [null, null, 0.6941374311111144, null, null, null, null, null, null], [null, null, null, 0.7944552310657595, null, null, null, null, null], [null, null, null, null, 0.7196380418860033, null, null, null, null], [null, 0.7368146568674111, null, null, null, null, null, null, null], [null, null, null, null, null, 0.7807348507355286, null, null, null], [null, null, null, null, null, null, 0.7215271018362523, null, null], [null, null, null, null, null, null, null, null, null]]}, {\"marker\": {\"color\": \"black\", \"line\": {\"color\": \"Grey\", \"width\": 0.5}}, \"mode\": \"markers\", \"showlegend\": false, \"type\": \"scatter\", \"x\": [1, 2, 5, 10, 1, 8, 4, 10, 4, 7], \"xaxis\": \"x42\", \"y\": [0.40919616423534183, 0.42727747704497043, 0.5564532903055841, 0.3455361150896956, 0.6466238370778892, 0.9787092394351908, 0.527731231534285, 0.35218545057583955, 0.35183125621386324, 0.8107243248366449], \"yaxis\": \"y42\"}, {\"type\": \"scatter\", \"xaxis\": \"x49\", \"yaxis\": \"y49\"}],\n",
              "                        {\"template\": {\"data\": {\"bar\": [{\"error_x\": {\"color\": \"#2a3f5f\"}, \"error_y\": {\"color\": \"#2a3f5f\"}, \"marker\": {\"line\": {\"color\": \"#E5ECF6\", \"width\": 0.5}}, \"type\": \"bar\"}], \"barpolar\": [{\"marker\": {\"line\": {\"color\": \"#E5ECF6\", \"width\": 0.5}}, \"type\": \"barpolar\"}], \"carpet\": [{\"aaxis\": {\"endlinecolor\": \"#2a3f5f\", \"gridcolor\": \"white\", \"linecolor\": \"white\", \"minorgridcolor\": \"white\", \"startlinecolor\": \"#2a3f5f\"}, \"baxis\": {\"endlinecolor\": \"#2a3f5f\", \"gridcolor\": \"white\", \"linecolor\": \"white\", \"minorgridcolor\": \"white\", \"startlinecolor\": \"#2a3f5f\"}, \"type\": \"carpet\"}], \"choropleth\": [{\"colorbar\": {\"outlinewidth\": 0, \"ticks\": \"\"}, \"type\": \"choropleth\"}], \"contour\": [{\"colorbar\": {\"outlinewidth\": 0, \"ticks\": \"\"}, \"colorscale\": [[0.0, \"#0d0887\"], [0.1111111111111111, \"#46039f\"], [0.2222222222222222, \"#7201a8\"], [0.3333333333333333, \"#9c179e\"], [0.4444444444444444, \"#bd3786\"], [0.5555555555555556, \"#d8576b\"], [0.6666666666666666, \"#ed7953\"], [0.7777777777777778, \"#fb9f3a\"], [0.8888888888888888, \"#fdca26\"], [1.0, \"#f0f921\"]], \"type\": \"contour\"}], \"contourcarpet\": [{\"colorbar\": {\"outlinewidth\": 0, \"ticks\": \"\"}, \"type\": \"contourcarpet\"}], \"heatmap\": [{\"colorbar\": {\"outlinewidth\": 0, \"ticks\": \"\"}, \"colorscale\": [[0.0, \"#0d0887\"], [0.1111111111111111, \"#46039f\"], [0.2222222222222222, \"#7201a8\"], [0.3333333333333333, \"#9c179e\"], [0.4444444444444444, \"#bd3786\"], [0.5555555555555556, \"#d8576b\"], [0.6666666666666666, \"#ed7953\"], [0.7777777777777778, \"#fb9f3a\"], [0.8888888888888888, \"#fdca26\"], [1.0, \"#f0f921\"]], \"type\": \"heatmap\"}], \"heatmapgl\": [{\"colorbar\": {\"outlinewidth\": 0, \"ticks\": \"\"}, \"colorscale\": [[0.0, \"#0d0887\"], [0.1111111111111111, \"#46039f\"], [0.2222222222222222, \"#7201a8\"], [0.3333333333333333, \"#9c179e\"], [0.4444444444444444, \"#bd3786\"], [0.5555555555555556, \"#d8576b\"], [0.6666666666666666, \"#ed7953\"], [0.7777777777777778, \"#fb9f3a\"], [0.8888888888888888, \"#fdca26\"], [1.0, \"#f0f921\"]], \"type\": \"heatmapgl\"}], \"histogram\": [{\"marker\": {\"colorbar\": {\"outlinewidth\": 0, \"ticks\": \"\"}}, \"type\": \"histogram\"}], \"histogram2d\": [{\"colorbar\": {\"outlinewidth\": 0, \"ticks\": \"\"}, \"colorscale\": [[0.0, \"#0d0887\"], [0.1111111111111111, \"#46039f\"], [0.2222222222222222, \"#7201a8\"], [0.3333333333333333, \"#9c179e\"], [0.4444444444444444, \"#bd3786\"], [0.5555555555555556, \"#d8576b\"], [0.6666666666666666, \"#ed7953\"], [0.7777777777777778, \"#fb9f3a\"], [0.8888888888888888, \"#fdca26\"], [1.0, \"#f0f921\"]], \"type\": \"histogram2d\"}], \"histogram2dcontour\": [{\"colorbar\": {\"outlinewidth\": 0, \"ticks\": \"\"}, \"colorscale\": [[0.0, \"#0d0887\"], [0.1111111111111111, \"#46039f\"], [0.2222222222222222, \"#7201a8\"], [0.3333333333333333, \"#9c179e\"], [0.4444444444444444, \"#bd3786\"], [0.5555555555555556, \"#d8576b\"], [0.6666666666666666, \"#ed7953\"], [0.7777777777777778, \"#fb9f3a\"], [0.8888888888888888, \"#fdca26\"], [1.0, \"#f0f921\"]], \"type\": \"histogram2dcontour\"}], \"mesh3d\": [{\"colorbar\": {\"outlinewidth\": 0, \"ticks\": \"\"}, \"type\": \"mesh3d\"}], \"parcoords\": [{\"line\": {\"colorbar\": {\"outlinewidth\": 0, \"ticks\": \"\"}}, \"type\": \"parcoords\"}], \"pie\": [{\"automargin\": true, \"type\": \"pie\"}], \"scatter\": [{\"marker\": {\"colorbar\": {\"outlinewidth\": 0, \"ticks\": \"\"}}, \"type\": \"scatter\"}], \"scatter3d\": [{\"line\": {\"colorbar\": {\"outlinewidth\": 0, \"ticks\": \"\"}}, \"marker\": {\"colorbar\": {\"outlinewidth\": 0, \"ticks\": \"\"}}, \"type\": \"scatter3d\"}], \"scattercarpet\": [{\"marker\": {\"colorbar\": {\"outlinewidth\": 0, \"ticks\": \"\"}}, \"type\": \"scattercarpet\"}], \"scattergeo\": [{\"marker\": {\"colorbar\": {\"outlinewidth\": 0, \"ticks\": \"\"}}, \"type\": \"scattergeo\"}], \"scattergl\": [{\"marker\": {\"colorbar\": {\"outlinewidth\": 0, \"ticks\": \"\"}}, \"type\": \"scattergl\"}], \"scattermapbox\": [{\"marker\": {\"colorbar\": {\"outlinewidth\": 0, \"ticks\": \"\"}}, \"type\": \"scattermapbox\"}], \"scatterpolar\": [{\"marker\": {\"colorbar\": {\"outlinewidth\": 0, \"ticks\": \"\"}}, \"type\": \"scatterpolar\"}], \"scatterpolargl\": [{\"marker\": {\"colorbar\": {\"outlinewidth\": 0, \"ticks\": \"\"}}, \"type\": \"scatterpolargl\"}], \"scatterternary\": [{\"marker\": {\"colorbar\": {\"outlinewidth\": 0, \"ticks\": \"\"}}, \"type\": \"scatterternary\"}], \"surface\": [{\"colorbar\": {\"outlinewidth\": 0, \"ticks\": \"\"}, \"colorscale\": [[0.0, \"#0d0887\"], [0.1111111111111111, \"#46039f\"], [0.2222222222222222, \"#7201a8\"], [0.3333333333333333, \"#9c179e\"], [0.4444444444444444, \"#bd3786\"], [0.5555555555555556, \"#d8576b\"], [0.6666666666666666, \"#ed7953\"], [0.7777777777777778, \"#fb9f3a\"], [0.8888888888888888, \"#fdca26\"], [1.0, \"#f0f921\"]], \"type\": \"surface\"}], \"table\": [{\"cells\": {\"fill\": {\"color\": \"#EBF0F8\"}, \"line\": {\"color\": \"white\"}}, \"header\": {\"fill\": {\"color\": \"#C8D4E3\"}, \"line\": {\"color\": \"white\"}}, \"type\": \"table\"}]}, \"layout\": {\"annotationdefaults\": {\"arrowcolor\": \"#2a3f5f\", \"arrowhead\": 0, \"arrowwidth\": 1}, \"coloraxis\": {\"colorbar\": {\"outlinewidth\": 0, \"ticks\": \"\"}}, \"colorscale\": {\"diverging\": [[0, \"#8e0152\"], [0.1, \"#c51b7d\"], [0.2, \"#de77ae\"], [0.3, \"#f1b6da\"], [0.4, \"#fde0ef\"], [0.5, \"#f7f7f7\"], [0.6, \"#e6f5d0\"], [0.7, \"#b8e186\"], [0.8, \"#7fbc41\"], [0.9, \"#4d9221\"], [1, \"#276419\"]], \"sequential\": [[0.0, \"#0d0887\"], [0.1111111111111111, \"#46039f\"], [0.2222222222222222, \"#7201a8\"], [0.3333333333333333, \"#9c179e\"], [0.4444444444444444, \"#bd3786\"], [0.5555555555555556, \"#d8576b\"], [0.6666666666666666, \"#ed7953\"], [0.7777777777777778, \"#fb9f3a\"], [0.8888888888888888, \"#fdca26\"], [1.0, \"#f0f921\"]], \"sequentialminus\": [[0.0, \"#0d0887\"], [0.1111111111111111, \"#46039f\"], [0.2222222222222222, \"#7201a8\"], [0.3333333333333333, \"#9c179e\"], [0.4444444444444444, \"#bd3786\"], [0.5555555555555556, \"#d8576b\"], [0.6666666666666666, \"#ed7953\"], [0.7777777777777778, \"#fb9f3a\"], [0.8888888888888888, \"#fdca26\"], [1.0, \"#f0f921\"]]}, \"colorway\": [\"#636efa\", \"#EF553B\", \"#00cc96\", \"#ab63fa\", \"#FFA15A\", \"#19d3f3\", \"#FF6692\", \"#B6E880\", \"#FF97FF\", \"#FECB52\"], \"font\": {\"color\": \"#2a3f5f\"}, \"geo\": {\"bgcolor\": \"white\", \"lakecolor\": \"white\", \"landcolor\": \"#E5ECF6\", \"showlakes\": true, \"showland\": true, \"subunitcolor\": \"white\"}, \"hoverlabel\": {\"align\": \"left\"}, \"hovermode\": \"closest\", \"mapbox\": {\"style\": \"light\"}, \"paper_bgcolor\": \"white\", \"plot_bgcolor\": \"#E5ECF6\", \"polar\": {\"angularaxis\": {\"gridcolor\": \"white\", \"linecolor\": \"white\", \"ticks\": \"\"}, \"bgcolor\": \"#E5ECF6\", \"radialaxis\": {\"gridcolor\": \"white\", \"linecolor\": \"white\", \"ticks\": \"\"}}, \"scene\": {\"xaxis\": {\"backgroundcolor\": \"#E5ECF6\", \"gridcolor\": \"white\", \"gridwidth\": 2, \"linecolor\": \"white\", \"showbackground\": true, \"ticks\": \"\", \"zerolinecolor\": \"white\"}, \"yaxis\": {\"backgroundcolor\": \"#E5ECF6\", \"gridcolor\": \"white\", \"gridwidth\": 2, \"linecolor\": \"white\", \"showbackground\": true, \"ticks\": \"\", \"zerolinecolor\": \"white\"}, \"zaxis\": {\"backgroundcolor\": \"#E5ECF6\", \"gridcolor\": \"white\", \"gridwidth\": 2, \"linecolor\": \"white\", \"showbackground\": true, \"ticks\": \"\", \"zerolinecolor\": \"white\"}}, \"shapedefaults\": {\"line\": {\"color\": \"#2a3f5f\"}}, \"ternary\": {\"aaxis\": {\"gridcolor\": \"white\", \"linecolor\": \"white\", \"ticks\": \"\"}, \"baxis\": {\"gridcolor\": \"white\", \"linecolor\": \"white\", \"ticks\": \"\"}, \"bgcolor\": \"#E5ECF6\", \"caxis\": {\"gridcolor\": \"white\", \"linecolor\": \"white\", \"ticks\": \"\"}}, \"title\": {\"x\": 0.05}, \"xaxis\": {\"automargin\": true, \"gridcolor\": \"white\", \"linecolor\": \"white\", \"ticks\": \"\", \"title\": {\"standoff\": 15}, \"zerolinecolor\": \"white\", \"zerolinewidth\": 2}, \"yaxis\": {\"automargin\": true, \"gridcolor\": \"white\", \"linecolor\": \"white\", \"ticks\": \"\", \"title\": {\"standoff\": 15}, \"zerolinecolor\": \"white\", \"zerolinewidth\": 2}}}, \"title\": {\"text\": \"Contour Plot\"}, \"xaxis\": {\"anchor\": \"y\", \"domain\": [0.0, 0.1183673469387755], \"matches\": \"x43\", \"range\": [0.40442728259101784, 0.9040272792077289], \"showticklabels\": false}, \"xaxis10\": {\"anchor\": \"y10\", \"domain\": [0.29387755102040813, 0.4122448979591836], \"matches\": \"x45\", \"range\": [0.04999999999999993, 20.95], \"showticklabels\": false}, \"xaxis11\": {\"anchor\": \"y11\", \"domain\": [0.4408163265306122, 0.5591836734693877], \"matches\": \"x46\", \"range\": [11.95, 101.05], \"showticklabels\": false}, \"xaxis12\": {\"anchor\": \"y12\", \"domain\": [0.5877551020408163, 0.7061224489795918], \"matches\": \"x47\", \"range\": [28.15, 222.85], \"showticklabels\": false}, \"xaxis13\": {\"anchor\": \"y13\", \"domain\": [0.7346938775510204, 0.8530612244897959], \"matches\": \"x48\", \"range\": [0.31387745887242086, 1.0103678956524655], \"showticklabels\": false}, \"xaxis14\": {\"anchor\": \"y14\", \"domain\": [0.8816326530612244, 0.9999999999999999], \"matches\": \"x49\", \"range\": [0.55, 10.45], \"showticklabels\": false}, \"xaxis15\": {\"anchor\": \"y15\", \"domain\": [0.0, 0.1183673469387755], \"matches\": \"x43\", \"range\": [0.40442728259101784, 0.9040272792077289], \"showticklabels\": false}, \"xaxis16\": {\"anchor\": \"y16\", \"domain\": [0.14693877551020407, 0.26530612244897955], \"matches\": \"x44\", \"range\": [248.5, 479.5], \"showticklabels\": false}, \"xaxis17\": {\"anchor\": \"y17\", \"domain\": [0.29387755102040813, 0.4122448979591836], \"matches\": \"x45\", \"range\": [0.04999999999999993, 20.95], \"showticklabels\": false}, \"xaxis18\": {\"anchor\": \"y18\", \"domain\": [0.4408163265306122, 0.5591836734693877], \"matches\": \"x46\", \"range\": [11.95, 101.05], \"showticklabels\": false}, \"xaxis19\": {\"anchor\": \"y19\", \"domain\": [0.5877551020408163, 0.7061224489795918], \"matches\": \"x47\", \"range\": [28.15, 222.85], \"showticklabels\": false}, \"xaxis2\": {\"anchor\": \"y2\", \"domain\": [0.14693877551020407, 0.26530612244897955], \"matches\": \"x44\", \"range\": [248.5, 479.5], \"showticklabels\": false}, \"xaxis20\": {\"anchor\": \"y20\", \"domain\": [0.7346938775510204, 0.8530612244897959], \"matches\": \"x48\", \"range\": [0.31387745887242086, 1.0103678956524655], \"showticklabels\": false}, \"xaxis21\": {\"anchor\": \"y21\", \"domain\": [0.8816326530612244, 0.9999999999999999], \"matches\": \"x49\", \"range\": [0.55, 10.45], \"showticklabels\": false}, \"xaxis22\": {\"anchor\": \"y22\", \"domain\": [0.0, 0.1183673469387755], \"matches\": \"x43\", \"range\": [0.40442728259101784, 0.9040272792077289], \"showticklabels\": false}, \"xaxis23\": {\"anchor\": \"y23\", \"domain\": [0.14693877551020407, 0.26530612244897955], \"matches\": \"x44\", \"range\": [248.5, 479.5], \"showticklabels\": false}, \"xaxis24\": {\"anchor\": \"y24\", \"domain\": [0.29387755102040813, 0.4122448979591836], \"matches\": \"x45\", \"range\": [0.04999999999999993, 20.95], \"showticklabels\": false}, \"xaxis25\": {\"anchor\": \"y25\", \"domain\": [0.4408163265306122, 0.5591836734693877], \"matches\": \"x46\", \"range\": [11.95, 101.05], \"showticklabels\": false}, \"xaxis26\": {\"anchor\": \"y26\", \"domain\": [0.5877551020408163, 0.7061224489795918], \"matches\": \"x47\", \"range\": [28.15, 222.85], \"showticklabels\": false}, \"xaxis27\": {\"anchor\": \"y27\", \"domain\": [0.7346938775510204, 0.8530612244897959], \"matches\": \"x48\", \"range\": [0.31387745887242086, 1.0103678956524655], \"showticklabels\": false}, \"xaxis28\": {\"anchor\": \"y28\", \"domain\": [0.8816326530612244, 0.9999999999999999], \"matches\": \"x49\", \"range\": [0.55, 10.45], \"showticklabels\": false}, \"xaxis29\": {\"anchor\": \"y29\", \"domain\": [0.0, 0.1183673469387755], \"matches\": \"x43\", \"range\": [0.40442728259101784, 0.9040272792077289], \"showticklabels\": false}, \"xaxis3\": {\"anchor\": \"y3\", \"domain\": [0.29387755102040813, 0.4122448979591836], \"matches\": \"x45\", \"range\": [0.04999999999999993, 20.95], \"showticklabels\": false}, \"xaxis30\": {\"anchor\": \"y30\", \"domain\": [0.14693877551020407, 0.26530612244897955], \"matches\": \"x44\", \"range\": [248.5, 479.5], \"showticklabels\": false}, \"xaxis31\": {\"anchor\": \"y31\", \"domain\": [0.29387755102040813, 0.4122448979591836], \"matches\": \"x45\", \"range\": [0.04999999999999993, 20.95], \"showticklabels\": false}, \"xaxis32\": {\"anchor\": \"y32\", \"domain\": [0.4408163265306122, 0.5591836734693877], \"matches\": \"x46\", \"range\": [11.95, 101.05], \"showticklabels\": false}, \"xaxis33\": {\"anchor\": \"y33\", \"domain\": [0.5877551020408163, 0.7061224489795918], \"matches\": \"x47\", \"range\": [28.15, 222.85], \"showticklabels\": false}, \"xaxis34\": {\"anchor\": \"y34\", \"domain\": [0.7346938775510204, 0.8530612244897959], \"matches\": \"x48\", \"range\": [0.31387745887242086, 1.0103678956524655], \"showticklabels\": false}, \"xaxis35\": {\"anchor\": \"y35\", \"domain\": [0.8816326530612244, 0.9999999999999999], \"matches\": \"x49\", \"range\": [0.55, 10.45], \"showticklabels\": false}, \"xaxis36\": {\"anchor\": \"y36\", \"domain\": [0.0, 0.1183673469387755], \"matches\": \"x43\", \"range\": [0.40442728259101784, 0.9040272792077289], \"showticklabels\": false}, \"xaxis37\": {\"anchor\": \"y37\", \"domain\": [0.14693877551020407, 0.26530612244897955], \"matches\": \"x44\", \"range\": [248.5, 479.5], \"showticklabels\": false}, \"xaxis38\": {\"anchor\": \"y38\", \"domain\": [0.29387755102040813, 0.4122448979591836], \"matches\": \"x45\", \"range\": [0.04999999999999993, 20.95], \"showticklabels\": false}, \"xaxis39\": {\"anchor\": \"y39\", \"domain\": [0.4408163265306122, 0.5591836734693877], \"matches\": \"x46\", \"range\": [11.95, 101.05], \"showticklabels\": false}, \"xaxis4\": {\"anchor\": \"y4\", \"domain\": [0.4408163265306122, 0.5591836734693877], \"matches\": \"x46\", \"range\": [11.95, 101.05], \"showticklabels\": false}, \"xaxis40\": {\"anchor\": \"y40\", \"domain\": [0.5877551020408163, 0.7061224489795918], \"matches\": \"x47\", \"range\": [28.15, 222.85], \"showticklabels\": false}, \"xaxis41\": {\"anchor\": \"y41\", \"domain\": [0.7346938775510204, 0.8530612244897959], \"matches\": \"x48\", \"range\": [0.31387745887242086, 1.0103678956524655], \"showticklabels\": false}, \"xaxis42\": {\"anchor\": \"y42\", \"domain\": [0.8816326530612244, 0.9999999999999999], \"matches\": \"x49\", \"range\": [0.55, 10.45], \"showticklabels\": false}, \"xaxis43\": {\"anchor\": \"y43\", \"domain\": [0.0, 0.1183673469387755], \"range\": [0.40442728259101784, 0.9040272792077289], \"title\": {\"text\": \"colsample_bytree\"}}, \"xaxis44\": {\"anchor\": \"y44\", \"domain\": [0.14693877551020407, 0.26530612244897955], \"range\": [248.5, 479.5], \"title\": {\"text\": \"max_bin\"}}, \"xaxis45\": {\"anchor\": \"y45\", \"domain\": [0.29387755102040813, 0.4122448979591836], \"range\": [0.04999999999999993, 20.95], \"title\": {\"text\": \"max_depth\"}}, \"xaxis46\": {\"anchor\": \"y46\", \"domain\": [0.4408163265306122, 0.5591836734693877], \"range\": [11.95, 101.05], \"title\": {\"text\": \"min_child_samples\"}}, \"xaxis47\": {\"anchor\": \"y47\", \"domain\": [0.5877551020408163, 0.7061224489795918], \"range\": [28.15, 222.85], \"title\": {\"text\": \"num_leaves\"}}, \"xaxis48\": {\"anchor\": \"y48\", \"domain\": [0.7346938775510204, 0.8530612244897959], \"range\": [0.31387745887242086, 1.0103678956524655], \"title\": {\"text\": \"subsample\"}}, \"xaxis49\": {\"anchor\": \"y49\", \"domain\": [0.8816326530612244, 0.9999999999999999], \"range\": [0.55, 10.45], \"title\": {\"text\": \"subsample_freq\"}}, \"xaxis5\": {\"anchor\": \"y5\", \"domain\": [0.5877551020408163, 0.7061224489795918], \"matches\": \"x47\", \"range\": [28.15, 222.85], \"showticklabels\": false}, \"xaxis6\": {\"anchor\": \"y6\", \"domain\": [0.7346938775510204, 0.8530612244897959], \"matches\": \"x48\", \"range\": [0.31387745887242086, 1.0103678956524655], \"showticklabels\": false}, \"xaxis7\": {\"anchor\": \"y7\", \"domain\": [0.8816326530612244, 0.9999999999999999], \"matches\": \"x49\", \"range\": [0.55, 10.45], \"showticklabels\": false}, \"xaxis8\": {\"anchor\": \"y8\", \"domain\": [0.0, 0.1183673469387755], \"matches\": \"x43\", \"range\": [0.40442728259101784, 0.9040272792077289], \"showticklabels\": false}, \"xaxis9\": {\"anchor\": \"y9\", \"domain\": [0.14693877551020407, 0.26530612244897955], \"matches\": \"x44\", \"range\": [248.5, 479.5], \"showticklabels\": false}, \"yaxis\": {\"anchor\": \"x\", \"domain\": [0.8938775510204082, 1.0], \"range\": [0.40442728259101784, 0.9040272792077289], \"title\": {\"text\": \"colsample_bytree\"}}, \"yaxis10\": {\"anchor\": \"x10\", \"domain\": [0.7448979591836735, 0.8510204081632654], \"matches\": \"y8\", \"range\": [248.5, 479.5], \"showticklabels\": false}, \"yaxis11\": {\"anchor\": \"x11\", \"domain\": [0.7448979591836735, 0.8510204081632654], \"matches\": \"y8\", \"range\": [248.5, 479.5], \"showticklabels\": false}, \"yaxis12\": {\"anchor\": \"x12\", \"domain\": [0.7448979591836735, 0.8510204081632654], \"matches\": \"y8\", \"range\": [248.5, 479.5], \"showticklabels\": false}, \"yaxis13\": {\"anchor\": \"x13\", \"domain\": [0.7448979591836735, 0.8510204081632654], \"matches\": \"y8\", \"range\": [248.5, 479.5], \"showticklabels\": false}, \"yaxis14\": {\"anchor\": \"x14\", \"domain\": [0.7448979591836735, 0.8510204081632654], \"matches\": \"y8\", \"range\": [248.5, 479.5], \"showticklabels\": false}, \"yaxis15\": {\"anchor\": \"x15\", \"domain\": [0.5959183673469388, 0.7020408163265307], \"range\": [0.04999999999999993, 20.95], \"title\": {\"text\": \"max_depth\"}}, \"yaxis16\": {\"anchor\": \"x16\", \"domain\": [0.5959183673469388, 0.7020408163265307], \"matches\": \"y15\", \"range\": [0.04999999999999993, 20.95], \"showticklabels\": false}, \"yaxis17\": {\"anchor\": \"x17\", \"domain\": [0.5959183673469388, 0.7020408163265307], \"matches\": \"y15\", \"range\": [0.04999999999999993, 20.95], \"showticklabels\": false}, \"yaxis18\": {\"anchor\": \"x18\", \"domain\": [0.5959183673469388, 0.7020408163265307], \"matches\": \"y15\", \"range\": [0.04999999999999993, 20.95], \"showticklabels\": false}, \"yaxis19\": {\"anchor\": \"x19\", \"domain\": [0.5959183673469388, 0.7020408163265307], \"matches\": \"y15\", \"range\": [0.04999999999999993, 20.95], \"showticklabels\": false}, \"yaxis2\": {\"anchor\": \"x2\", \"domain\": [0.8938775510204082, 1.0], \"matches\": \"y\", \"range\": [0.40442728259101784, 0.9040272792077289], \"showticklabels\": false}, \"yaxis20\": {\"anchor\": \"x20\", \"domain\": [0.5959183673469388, 0.7020408163265307], \"matches\": \"y15\", \"range\": [0.04999999999999993, 20.95], \"showticklabels\": false}, \"yaxis21\": {\"anchor\": \"x21\", \"domain\": [0.5959183673469388, 0.7020408163265307], \"matches\": \"y15\", \"range\": [0.04999999999999993, 20.95], \"showticklabels\": false}, \"yaxis22\": {\"anchor\": \"x22\", \"domain\": [0.4469387755102041, 0.553061224489796], \"range\": [11.95, 101.05], \"title\": {\"text\": \"min_child_samples\"}}, \"yaxis23\": {\"anchor\": \"x23\", \"domain\": [0.4469387755102041, 0.553061224489796], \"matches\": \"y22\", \"range\": [11.95, 101.05], \"showticklabels\": false}, \"yaxis24\": {\"anchor\": \"x24\", \"domain\": [0.4469387755102041, 0.553061224489796], \"matches\": \"y22\", \"range\": [11.95, 101.05], \"showticklabels\": false}, \"yaxis25\": {\"anchor\": \"x25\", \"domain\": [0.4469387755102041, 0.553061224489796], \"matches\": \"y22\", \"range\": [11.95, 101.05], \"showticklabels\": false}, \"yaxis26\": {\"anchor\": \"x26\", \"domain\": [0.4469387755102041, 0.553061224489796], \"matches\": \"y22\", \"range\": [11.95, 101.05], \"showticklabels\": false}, \"yaxis27\": {\"anchor\": \"x27\", \"domain\": [0.4469387755102041, 0.553061224489796], \"matches\": \"y22\", \"range\": [11.95, 101.05], \"showticklabels\": false}, \"yaxis28\": {\"anchor\": \"x28\", \"domain\": [0.4469387755102041, 0.553061224489796], \"matches\": \"y22\", \"range\": [11.95, 101.05], \"showticklabels\": false}, \"yaxis29\": {\"anchor\": \"x29\", \"domain\": [0.2979591836734694, 0.40408163265306124], \"range\": [28.15, 222.85], \"title\": {\"text\": \"num_leaves\"}}, \"yaxis3\": {\"anchor\": \"x3\", \"domain\": [0.8938775510204082, 1.0], \"matches\": \"y\", \"range\": [0.40442728259101784, 0.9040272792077289], \"showticklabels\": false}, \"yaxis30\": {\"anchor\": \"x30\", \"domain\": [0.2979591836734694, 0.40408163265306124], \"matches\": \"y29\", \"range\": [28.15, 222.85], \"showticklabels\": false}, \"yaxis31\": {\"anchor\": \"x31\", \"domain\": [0.2979591836734694, 0.40408163265306124], \"matches\": \"y29\", \"range\": [28.15, 222.85], \"showticklabels\": false}, \"yaxis32\": {\"anchor\": \"x32\", \"domain\": [0.2979591836734694, 0.40408163265306124], \"matches\": \"y29\", \"range\": [28.15, 222.85], \"showticklabels\": false}, \"yaxis33\": {\"anchor\": \"x33\", \"domain\": [0.2979591836734694, 0.40408163265306124], \"matches\": \"y29\", \"range\": [28.15, 222.85], \"showticklabels\": false}, \"yaxis34\": {\"anchor\": \"x34\", \"domain\": [0.2979591836734694, 0.40408163265306124], \"matches\": \"y29\", \"range\": [28.15, 222.85], \"showticklabels\": false}, \"yaxis35\": {\"anchor\": \"x35\", \"domain\": [0.2979591836734694, 0.40408163265306124], \"matches\": \"y29\", \"range\": [28.15, 222.85], \"showticklabels\": false}, \"yaxis36\": {\"anchor\": \"x36\", \"domain\": [0.1489795918367347, 0.25510204081632654], \"range\": [0.31387745887242086, 1.0103678956524655], \"title\": {\"text\": \"subsample\"}}, \"yaxis37\": {\"anchor\": \"x37\", \"domain\": [0.1489795918367347, 0.25510204081632654], \"matches\": \"y36\", \"range\": [0.31387745887242086, 1.0103678956524655], \"showticklabels\": false}, \"yaxis38\": {\"anchor\": \"x38\", \"domain\": [0.1489795918367347, 0.25510204081632654], \"matches\": \"y36\", \"range\": [0.31387745887242086, 1.0103678956524655], \"showticklabels\": false}, \"yaxis39\": {\"anchor\": \"x39\", \"domain\": [0.1489795918367347, 0.25510204081632654], \"matches\": \"y36\", \"range\": [0.31387745887242086, 1.0103678956524655], \"showticklabels\": false}, \"yaxis4\": {\"anchor\": \"x4\", \"domain\": [0.8938775510204082, 1.0], \"matches\": \"y\", \"range\": [0.40442728259101784, 0.9040272792077289], \"showticklabels\": false}, \"yaxis40\": {\"anchor\": \"x40\", \"domain\": [0.1489795918367347, 0.25510204081632654], \"matches\": \"y36\", \"range\": [0.31387745887242086, 1.0103678956524655], \"showticklabels\": false}, \"yaxis41\": {\"anchor\": \"x41\", \"domain\": [0.1489795918367347, 0.25510204081632654], \"matches\": \"y36\", \"range\": [0.31387745887242086, 1.0103678956524655], \"showticklabels\": false}, \"yaxis42\": {\"anchor\": \"x42\", \"domain\": [0.1489795918367347, 0.25510204081632654], \"matches\": \"y36\", \"range\": [0.31387745887242086, 1.0103678956524655], \"showticklabels\": false}, \"yaxis43\": {\"anchor\": \"x43\", \"domain\": [0.0, 0.10612244897959185], \"range\": [0.55, 10.45], \"title\": {\"text\": \"subsample_freq\"}}, \"yaxis44\": {\"anchor\": \"x44\", \"domain\": [0.0, 0.10612244897959185], \"matches\": \"y43\", \"range\": [0.55, 10.45], \"showticklabels\": false}, \"yaxis45\": {\"anchor\": \"x45\", \"domain\": [0.0, 0.10612244897959185], \"matches\": \"y43\", \"range\": [0.55, 10.45], \"showticklabels\": false}, \"yaxis46\": {\"anchor\": \"x46\", \"domain\": [0.0, 0.10612244897959185], \"matches\": \"y43\", \"range\": [0.55, 10.45], \"showticklabels\": false}, \"yaxis47\": {\"anchor\": \"x47\", \"domain\": [0.0, 0.10612244897959185], \"matches\": \"y43\", \"range\": [0.55, 10.45], \"showticklabels\": false}, \"yaxis48\": {\"anchor\": \"x48\", \"domain\": [0.0, 0.10612244897959185], \"matches\": \"y43\", \"range\": [0.55, 10.45], \"showticklabels\": false}, \"yaxis49\": {\"anchor\": \"x49\", \"domain\": [0.0, 0.10612244897959185], \"matches\": \"y43\", \"range\": [0.55, 10.45], \"showticklabels\": false}, \"yaxis5\": {\"anchor\": \"x5\", \"domain\": [0.8938775510204082, 1.0], \"matches\": \"y\", \"range\": [0.40442728259101784, 0.9040272792077289], \"showticklabels\": false}, \"yaxis6\": {\"anchor\": \"x6\", \"domain\": [0.8938775510204082, 1.0], \"matches\": \"y\", \"range\": [0.40442728259101784, 0.9040272792077289], \"showticklabels\": false}, \"yaxis7\": {\"anchor\": \"x7\", \"domain\": [0.8938775510204082, 1.0], \"matches\": \"y\", \"range\": [0.40442728259101784, 0.9040272792077289], \"showticklabels\": false}, \"yaxis8\": {\"anchor\": \"x8\", \"domain\": [0.7448979591836735, 0.8510204081632654], \"range\": [248.5, 479.5], \"title\": {\"text\": \"max_bin\"}}, \"yaxis9\": {\"anchor\": \"x9\", \"domain\": [0.7448979591836735, 0.8510204081632654], \"matches\": \"y8\", \"range\": [248.5, 479.5], \"showticklabels\": false}},\n",
              "                        {\"responsive\": true}\n",
              "                    ).then(function(){\n",
              "                            \n",
              "var gd = document.getElementById('0e5b8890-6ace-45b4-a4df-2a69e008245c');\n",
              "var x = new MutationObserver(function (mutations, observer) {{\n",
              "        var display = window.getComputedStyle(gd).display;\n",
              "        if (!display || display === 'none') {{\n",
              "            console.log([gd, 'removed!']);\n",
              "            Plotly.purge(gd);\n",
              "            observer.disconnect();\n",
              "        }}\n",
              "}});\n",
              "\n",
              "// Listen for the removal of the full notebook cells\n",
              "var notebookContainer = gd.closest('#notebook-container');\n",
              "if (notebookContainer) {{\n",
              "    x.observe(notebookContainer, {childList: true});\n",
              "}}\n",
              "\n",
              "// Listen for the clearing of the current output cell\n",
              "var outputEl = gd.closest('.output');\n",
              "if (outputEl) {{\n",
              "    x.observe(outputEl, {childList: true});\n",
              "}}\n",
              "\n",
              "                        })\n",
              "                };\n",
              "                \n",
              "            </script>\n",
              "        </div>\n",
              "</body>\n",
              "</html>"
            ]
          },
          "metadata": {
            "tags": []
          }
        }
      ]
    },
    {
      "cell_type": "code",
      "metadata": {
        "colab": {
          "base_uri": "https://localhost:8080/",
          "height": 542
        },
        "id": "TWLgWouD1Eso",
        "outputId": "e122d7a1-138c-4d26-8eb6-bf5a665f9ec7"
      },
      "source": [
        "# 하이퍼파라미터 중요도\n",
        "optuna.visualization.plot_param_importances(study)"
      ],
      "execution_count": null,
      "outputs": [
        {
          "output_type": "display_data",
          "data": {
            "text/html": [
              "<html>\n",
              "<head><meta charset=\"utf-8\" /></head>\n",
              "<body>\n",
              "    <div>\n",
              "            <script src=\"https://cdnjs.cloudflare.com/ajax/libs/mathjax/2.7.5/MathJax.js?config=TeX-AMS-MML_SVG\"></script><script type=\"text/javascript\">if (window.MathJax) {MathJax.Hub.Config({SVG: {font: \"STIX-Web\"}});}</script>\n",
              "                <script type=\"text/javascript\">window.PlotlyConfig = {MathJaxConfig: 'local'};</script>\n",
              "        <script src=\"https://cdn.plot.ly/plotly-latest.min.js\"></script>    \n",
              "            <div id=\"ed2ed207-7f55-4efd-9ef5-2a08c6600eb4\" class=\"plotly-graph-div\" style=\"height:525px; width:100%;\"></div>\n",
              "            <script type=\"text/javascript\">\n",
              "                \n",
              "                    window.PLOTLYENV=window.PLOTLYENV || {};\n",
              "                    \n",
              "                if (document.getElementById(\"ed2ed207-7f55-4efd-9ef5-2a08c6600eb4\")) {\n",
              "                    Plotly.newPlot(\n",
              "                        'ed2ed207-7f55-4efd-9ef5-2a08c6600eb4',\n",
              "                        [{\"cliponaxis\": false, \"hovertemplate\": [\"subsample_freq (IntUniformDistribution): 0.0017833323798527253<extra></extra>\", \"max_bin (IntUniformDistribution): 0.004444837446715308<extra></extra>\", \"num_leaves (IntUniformDistribution): 0.013400208865921378<extra></extra>\", \"subsample (UniformDistribution): 0.014441949960051574<extra></extra>\", \"min_child_samples (IntUniformDistribution): 0.03163488195578415<extra></extra>\", \"colsample_bytree (UniformDistribution): 0.05154456168248445<extra></extra>\", \"reg_alpha (UniformDistribution): 0.08005626289982634<extra></extra>\", \"reg_lambda (UniformDistribution): 0.10087457583601528<extra></extra>\", \"max_depth (IntUniformDistribution): 0.701819388973349<extra></extra>\"], \"marker\": {\"color\": [\"rgb(8,81,156)\", \"rgb(8,81,156)\", \"rgb(8,81,156)\", \"rgb(8,48,107)\", \"rgb(8,81,156)\", \"rgb(8,48,107)\", \"rgb(8,48,107)\", \"rgb(8,48,107)\", \"rgb(8,81,156)\"]}, \"orientation\": \"h\", \"text\": [\"0.0017833323798527253\", \"0.004444837446715308\", \"0.013400208865921378\", \"0.014441949960051574\", \"0.03163488195578415\", \"0.05154456168248445\", \"0.08005626289982634\", \"0.10087457583601528\", \"0.701819388973349\"], \"textposition\": \"outside\", \"texttemplate\": \"%{text:.2f}\", \"type\": \"bar\", \"x\": [0.0017833323798527253, 0.004444837446715308, 0.013400208865921378, 0.014441949960051574, 0.03163488195578415, 0.05154456168248445, 0.08005626289982634, 0.10087457583601528, 0.701819388973349], \"y\": [\"subsample_freq\", \"max_bin\", \"num_leaves\", \"subsample\", \"min_child_samples\", \"colsample_bytree\", \"reg_alpha\", \"reg_lambda\", \"max_depth\"]}],\n",
              "                        {\"showlegend\": false, \"template\": {\"data\": {\"bar\": [{\"error_x\": {\"color\": \"#2a3f5f\"}, \"error_y\": {\"color\": \"#2a3f5f\"}, \"marker\": {\"line\": {\"color\": \"#E5ECF6\", \"width\": 0.5}}, \"type\": \"bar\"}], \"barpolar\": [{\"marker\": {\"line\": {\"color\": \"#E5ECF6\", \"width\": 0.5}}, \"type\": \"barpolar\"}], \"carpet\": [{\"aaxis\": {\"endlinecolor\": \"#2a3f5f\", \"gridcolor\": \"white\", \"linecolor\": \"white\", \"minorgridcolor\": \"white\", \"startlinecolor\": \"#2a3f5f\"}, \"baxis\": {\"endlinecolor\": \"#2a3f5f\", \"gridcolor\": \"white\", \"linecolor\": \"white\", \"minorgridcolor\": \"white\", \"startlinecolor\": \"#2a3f5f\"}, \"type\": \"carpet\"}], \"choropleth\": [{\"colorbar\": {\"outlinewidth\": 0, \"ticks\": \"\"}, \"type\": \"choropleth\"}], \"contour\": [{\"colorbar\": {\"outlinewidth\": 0, \"ticks\": \"\"}, \"colorscale\": [[0.0, \"#0d0887\"], [0.1111111111111111, \"#46039f\"], [0.2222222222222222, \"#7201a8\"], [0.3333333333333333, \"#9c179e\"], [0.4444444444444444, \"#bd3786\"], [0.5555555555555556, \"#d8576b\"], [0.6666666666666666, \"#ed7953\"], [0.7777777777777778, \"#fb9f3a\"], [0.8888888888888888, \"#fdca26\"], [1.0, \"#f0f921\"]], \"type\": \"contour\"}], \"contourcarpet\": [{\"colorbar\": {\"outlinewidth\": 0, \"ticks\": \"\"}, \"type\": \"contourcarpet\"}], \"heatmap\": [{\"colorbar\": {\"outlinewidth\": 0, \"ticks\": \"\"}, \"colorscale\": [[0.0, \"#0d0887\"], [0.1111111111111111, \"#46039f\"], [0.2222222222222222, \"#7201a8\"], [0.3333333333333333, \"#9c179e\"], [0.4444444444444444, \"#bd3786\"], [0.5555555555555556, \"#d8576b\"], [0.6666666666666666, \"#ed7953\"], [0.7777777777777778, \"#fb9f3a\"], [0.8888888888888888, \"#fdca26\"], [1.0, \"#f0f921\"]], \"type\": \"heatmap\"}], \"heatmapgl\": [{\"colorbar\": {\"outlinewidth\": 0, \"ticks\": \"\"}, \"colorscale\": [[0.0, \"#0d0887\"], [0.1111111111111111, \"#46039f\"], [0.2222222222222222, \"#7201a8\"], [0.3333333333333333, \"#9c179e\"], [0.4444444444444444, \"#bd3786\"], [0.5555555555555556, \"#d8576b\"], [0.6666666666666666, \"#ed7953\"], [0.7777777777777778, \"#fb9f3a\"], [0.8888888888888888, \"#fdca26\"], [1.0, \"#f0f921\"]], \"type\": \"heatmapgl\"}], \"histogram\": [{\"marker\": {\"colorbar\": {\"outlinewidth\": 0, \"ticks\": \"\"}}, \"type\": \"histogram\"}], \"histogram2d\": [{\"colorbar\": {\"outlinewidth\": 0, \"ticks\": \"\"}, \"colorscale\": [[0.0, \"#0d0887\"], [0.1111111111111111, \"#46039f\"], [0.2222222222222222, \"#7201a8\"], [0.3333333333333333, \"#9c179e\"], [0.4444444444444444, \"#bd3786\"], [0.5555555555555556, \"#d8576b\"], [0.6666666666666666, \"#ed7953\"], [0.7777777777777778, \"#fb9f3a\"], [0.8888888888888888, \"#fdca26\"], [1.0, \"#f0f921\"]], \"type\": \"histogram2d\"}], \"histogram2dcontour\": [{\"colorbar\": {\"outlinewidth\": 0, \"ticks\": \"\"}, \"colorscale\": [[0.0, \"#0d0887\"], [0.1111111111111111, \"#46039f\"], [0.2222222222222222, \"#7201a8\"], [0.3333333333333333, \"#9c179e\"], [0.4444444444444444, \"#bd3786\"], [0.5555555555555556, \"#d8576b\"], [0.6666666666666666, \"#ed7953\"], [0.7777777777777778, \"#fb9f3a\"], [0.8888888888888888, \"#fdca26\"], [1.0, \"#f0f921\"]], \"type\": \"histogram2dcontour\"}], \"mesh3d\": [{\"colorbar\": {\"outlinewidth\": 0, \"ticks\": \"\"}, \"type\": \"mesh3d\"}], \"parcoords\": [{\"line\": {\"colorbar\": {\"outlinewidth\": 0, \"ticks\": \"\"}}, \"type\": \"parcoords\"}], \"pie\": [{\"automargin\": true, \"type\": \"pie\"}], \"scatter\": [{\"marker\": {\"colorbar\": {\"outlinewidth\": 0, \"ticks\": \"\"}}, \"type\": \"scatter\"}], \"scatter3d\": [{\"line\": {\"colorbar\": {\"outlinewidth\": 0, \"ticks\": \"\"}}, \"marker\": {\"colorbar\": {\"outlinewidth\": 0, \"ticks\": \"\"}}, \"type\": \"scatter3d\"}], \"scattercarpet\": [{\"marker\": {\"colorbar\": {\"outlinewidth\": 0, \"ticks\": \"\"}}, \"type\": \"scattercarpet\"}], \"scattergeo\": [{\"marker\": {\"colorbar\": {\"outlinewidth\": 0, \"ticks\": \"\"}}, \"type\": \"scattergeo\"}], \"scattergl\": [{\"marker\": {\"colorbar\": {\"outlinewidth\": 0, \"ticks\": \"\"}}, \"type\": \"scattergl\"}], \"scattermapbox\": [{\"marker\": {\"colorbar\": {\"outlinewidth\": 0, \"ticks\": \"\"}}, \"type\": \"scattermapbox\"}], \"scatterpolar\": [{\"marker\": {\"colorbar\": {\"outlinewidth\": 0, \"ticks\": \"\"}}, \"type\": \"scatterpolar\"}], \"scatterpolargl\": [{\"marker\": {\"colorbar\": {\"outlinewidth\": 0, \"ticks\": \"\"}}, \"type\": \"scatterpolargl\"}], \"scatterternary\": [{\"marker\": {\"colorbar\": {\"outlinewidth\": 0, \"ticks\": \"\"}}, \"type\": \"scatterternary\"}], \"surface\": [{\"colorbar\": {\"outlinewidth\": 0, \"ticks\": \"\"}, \"colorscale\": [[0.0, \"#0d0887\"], [0.1111111111111111, \"#46039f\"], [0.2222222222222222, \"#7201a8\"], [0.3333333333333333, \"#9c179e\"], [0.4444444444444444, \"#bd3786\"], [0.5555555555555556, \"#d8576b\"], [0.6666666666666666, \"#ed7953\"], [0.7777777777777778, \"#fb9f3a\"], [0.8888888888888888, \"#fdca26\"], [1.0, \"#f0f921\"]], \"type\": \"surface\"}], \"table\": [{\"cells\": {\"fill\": {\"color\": \"#EBF0F8\"}, \"line\": {\"color\": \"white\"}}, \"header\": {\"fill\": {\"color\": \"#C8D4E3\"}, \"line\": {\"color\": \"white\"}}, \"type\": \"table\"}]}, \"layout\": {\"annotationdefaults\": {\"arrowcolor\": \"#2a3f5f\", \"arrowhead\": 0, \"arrowwidth\": 1}, \"coloraxis\": {\"colorbar\": {\"outlinewidth\": 0, \"ticks\": \"\"}}, \"colorscale\": {\"diverging\": [[0, \"#8e0152\"], [0.1, \"#c51b7d\"], [0.2, \"#de77ae\"], [0.3, \"#f1b6da\"], [0.4, \"#fde0ef\"], [0.5, \"#f7f7f7\"], [0.6, \"#e6f5d0\"], [0.7, \"#b8e186\"], [0.8, \"#7fbc41\"], [0.9, \"#4d9221\"], [1, \"#276419\"]], \"sequential\": [[0.0, \"#0d0887\"], [0.1111111111111111, \"#46039f\"], [0.2222222222222222, \"#7201a8\"], [0.3333333333333333, \"#9c179e\"], [0.4444444444444444, \"#bd3786\"], [0.5555555555555556, \"#d8576b\"], [0.6666666666666666, \"#ed7953\"], [0.7777777777777778, \"#fb9f3a\"], [0.8888888888888888, \"#fdca26\"], [1.0, \"#f0f921\"]], \"sequentialminus\": [[0.0, \"#0d0887\"], [0.1111111111111111, \"#46039f\"], [0.2222222222222222, \"#7201a8\"], [0.3333333333333333, \"#9c179e\"], [0.4444444444444444, \"#bd3786\"], [0.5555555555555556, \"#d8576b\"], [0.6666666666666666, \"#ed7953\"], [0.7777777777777778, \"#fb9f3a\"], [0.8888888888888888, \"#fdca26\"], [1.0, \"#f0f921\"]]}, \"colorway\": [\"#636efa\", \"#EF553B\", \"#00cc96\", \"#ab63fa\", \"#FFA15A\", \"#19d3f3\", \"#FF6692\", \"#B6E880\", \"#FF97FF\", \"#FECB52\"], \"font\": {\"color\": \"#2a3f5f\"}, \"geo\": {\"bgcolor\": \"white\", \"lakecolor\": \"white\", \"landcolor\": \"#E5ECF6\", \"showlakes\": true, \"showland\": true, \"subunitcolor\": \"white\"}, \"hoverlabel\": {\"align\": \"left\"}, \"hovermode\": \"closest\", \"mapbox\": {\"style\": \"light\"}, \"paper_bgcolor\": \"white\", \"plot_bgcolor\": \"#E5ECF6\", \"polar\": {\"angularaxis\": {\"gridcolor\": \"white\", \"linecolor\": \"white\", \"ticks\": \"\"}, \"bgcolor\": \"#E5ECF6\", \"radialaxis\": {\"gridcolor\": \"white\", \"linecolor\": \"white\", \"ticks\": \"\"}}, \"scene\": {\"xaxis\": {\"backgroundcolor\": \"#E5ECF6\", \"gridcolor\": \"white\", \"gridwidth\": 2, \"linecolor\": \"white\", \"showbackground\": true, \"ticks\": \"\", \"zerolinecolor\": \"white\"}, \"yaxis\": {\"backgroundcolor\": \"#E5ECF6\", \"gridcolor\": \"white\", \"gridwidth\": 2, \"linecolor\": \"white\", \"showbackground\": true, \"ticks\": \"\", \"zerolinecolor\": \"white\"}, \"zaxis\": {\"backgroundcolor\": \"#E5ECF6\", \"gridcolor\": \"white\", \"gridwidth\": 2, \"linecolor\": \"white\", \"showbackground\": true, \"ticks\": \"\", \"zerolinecolor\": \"white\"}}, \"shapedefaults\": {\"line\": {\"color\": \"#2a3f5f\"}}, \"ternary\": {\"aaxis\": {\"gridcolor\": \"white\", \"linecolor\": \"white\", \"ticks\": \"\"}, \"baxis\": {\"gridcolor\": \"white\", \"linecolor\": \"white\", \"ticks\": \"\"}, \"bgcolor\": \"#E5ECF6\", \"caxis\": {\"gridcolor\": \"white\", \"linecolor\": \"white\", \"ticks\": \"\"}}, \"title\": {\"x\": 0.05}, \"xaxis\": {\"automargin\": true, \"gridcolor\": \"white\", \"linecolor\": \"white\", \"ticks\": \"\", \"title\": {\"standoff\": 15}, \"zerolinecolor\": \"white\", \"zerolinewidth\": 2}, \"yaxis\": {\"automargin\": true, \"gridcolor\": \"white\", \"linecolor\": \"white\", \"ticks\": \"\", \"title\": {\"standoff\": 15}, \"zerolinecolor\": \"white\", \"zerolinewidth\": 2}}}, \"title\": {\"text\": \"Hyperparameter Importances\"}, \"xaxis\": {\"title\": {\"text\": \"Importance for Objective Value\"}}, \"yaxis\": {\"title\": {\"text\": \"Hyperparameter\"}}},\n",
              "                        {\"responsive\": true}\n",
              "                    ).then(function(){\n",
              "                            \n",
              "var gd = document.getElementById('ed2ed207-7f55-4efd-9ef5-2a08c6600eb4');\n",
              "var x = new MutationObserver(function (mutations, observer) {{\n",
              "        var display = window.getComputedStyle(gd).display;\n",
              "        if (!display || display === 'none') {{\n",
              "            console.log([gd, 'removed!']);\n",
              "            Plotly.purge(gd);\n",
              "            observer.disconnect();\n",
              "        }}\n",
              "}});\n",
              "\n",
              "// Listen for the removal of the full notebook cells\n",
              "var notebookContainer = gd.closest('#notebook-container');\n",
              "if (notebookContainer) {{\n",
              "    x.observe(notebookContainer, {childList: true});\n",
              "}}\n",
              "\n",
              "// Listen for the clearing of the current output cell\n",
              "var outputEl = gd.closest('.output');\n",
              "if (outputEl) {{\n",
              "    x.observe(outputEl, {childList: true});\n",
              "}}\n",
              "\n",
              "                        })\n",
              "                };\n",
              "                \n",
              "            </script>\n",
              "        </div>\n",
              "</body>\n",
              "</html>"
            ]
          },
          "metadata": {
            "tags": []
          }
        }
      ]
    },
    {
      "cell_type": "markdown",
      "metadata": {
        "id": "I0RI6GBR8tRj"
      },
      "source": [
        "# 자체 모델"
      ]
    },
    {
      "cell_type": "code",
      "metadata": {
        "id": "0c-CYmCNHyNQ"
      },
      "source": [
        "{\"random_state\": 42,\"verbosity\": -1,\"learning_rate\": 0.01,\"n_estimators\": 150000,\"objective\": \"multiclass\",\"metric\": \"multi_logloss\",'reg_alpha': 2.1245096608103405e-05, 'reg_lambda': 0.0018526142807772773, 'max_depth': 20, 'num_leaves': 214, 'colsample_bytree': 0.5274034664069657, 'subsample': 0.42727747704497043, 'subsample_freq': 2, 'min_child_samples': 34, 'max_bin': 357}\n",
        "dacon_param = {\"random_state\": 42,\"verbosity\": -1,\"learning_rate\": 0.01,\"n_estimators\": 15000,\"objective\": \"multiclass\",\"metric\": \"multi_logloss\",'reg_alpha': 2.1245096608103405e-05, 'reg_lambda': 0.0018526142807772773, 'max_depth': 20, 'num_leaves': 214, 'colsample_bytree': 0.5274034664069657, 'subsample': 0.42727747704497043, 'subsample_freq': 2, 'min_child_samples': 34, 'max_bin': 357}"
      ],
      "execution_count": null,
      "outputs": []
    },
    {
      "cell_type": "code",
      "metadata": {
        "id": "-TO3QGF_8wB5"
      },
      "source": [
        "train_x=train.drop('credit', axis=1)\n",
        "train_y=train[['credit']]\n",
        "test_x=test"
      ],
      "execution_count": null,
      "outputs": []
    },
    {
      "cell_type": "code",
      "metadata": {
        "colab": {
          "base_uri": "https://localhost:8080/"
        },
        "id": "ateR8Lq38xvJ",
        "outputId": "a07923fd-d1ac-4490-9ae7-6ee47440c6a0"
      },
      "source": [
        "print(train_x.shape, train_y.shape, test.shape)"
      ],
      "execution_count": null,
      "outputs": [
        {
          "output_type": "stream",
          "text": [
            "(26457, 38) (26457, 1) (10000, 38)\n"
          ],
          "name": "stdout"
        }
      ]
    },
    {
      "cell_type": "code",
      "metadata": {
        "id": "4cQsIvJgklA1"
      },
      "source": [
        "import tensorflow as tf"
      ],
      "execution_count": null,
      "outputs": []
    },
    {
      "cell_type": "code",
      "metadata": {
        "colab": {
          "background_save": true
        },
        "id": "UijPKW1a80AZ",
        "outputId": "5d4e3445-b916-4536-e838-fb2e78565f0a"
      },
      "source": [
        "X_train, X_valid, y_train, y_valid = train_test_split(train_x, train_y, \n",
        "                                                    stratify=train_y, test_size=0.2,\n",
        "                                                    random_state = 42)\n",
        "\n",
        "clf = LGBMClassifier(**dacon_param)\n",
        "clf.fit(X_train,y_train,eval_set=[(X_train, y_train), (X_valid, y_valid)],early_stopping_rounds=900,verbose=False)\n",
        "clf.fit(X_train, y_train)\n",
        "y_pred=clf.predict_proba(X_valid)\n",
        "\n",
        "def run_kfold(clf):\n",
        "    folds=StratifiedKFold(n_splits=10, shuffle=True, random_state=42)\n",
        "    outcomes=[]\n",
        "    sub=np.zeros((test_x.shape[0], 3))  \n",
        "    for n_fold, (train_index, val_index) in enumerate(folds.split(train_x, train_y)):\n",
        "        X_train, X_val = train_x.iloc[train_index], train_x.iloc[val_index]\n",
        "        y_train, y_val = train_y.iloc[train_index], train_y.iloc[val_index]\n",
        "        clf.fit(X_train, y_train)\n",
        "        \n",
        "        predictions=clf.predict_proba(X_val)\n",
        "        \n",
        "        logloss=log_loss(tf.keras.utils.to_categorical(y_val['credit']), predictions)\n",
        "        outcomes.append(logloss)\n",
        "        print(f\"FOLD {n_fold} : logloss:{logloss}\")\n",
        "        \n",
        "        sub+=clf.predict_proba(test_x)\n",
        "        \n",
        "        \n",
        "    mean_outcome=np.mean(outcomes)\n",
        "    \n",
        "    print(\"Mean:{}\".format(mean_outcome))\n",
        "    return sub/folds.n_splits\n",
        "\n",
        "my_submission = run_kfold(clf)"
      ],
      "execution_count": null,
      "outputs": [
        {
          "output_type": "error",
          "ename": "KeyboardInterrupt",
          "evalue": "ignored",
          "traceback": [
            "\u001b[0;31m---------------------------------------------------------------------------\u001b[0m",
            "\u001b[0;31mKeyboardInterrupt\u001b[0m                         Traceback (most recent call last)",
            "\u001b[0;32m<ipython-input-146-979054206df2>\u001b[0m in \u001b[0;36m<module>\u001b[0;34m()\u001b[0m\n\u001b[1;32m      5\u001b[0m \u001b[0mclf\u001b[0m \u001b[0;34m=\u001b[0m \u001b[0mLGBMClassifier\u001b[0m\u001b[0;34m(\u001b[0m\u001b[0;34m**\u001b[0m\u001b[0mdacon_param\u001b[0m\u001b[0;34m)\u001b[0m\u001b[0;34m\u001b[0m\u001b[0;34m\u001b[0m\u001b[0m\n\u001b[1;32m      6\u001b[0m \u001b[0mclf\u001b[0m\u001b[0;34m.\u001b[0m\u001b[0mfit\u001b[0m\u001b[0;34m(\u001b[0m\u001b[0mX_train\u001b[0m\u001b[0;34m,\u001b[0m\u001b[0my_train\u001b[0m\u001b[0;34m,\u001b[0m\u001b[0meval_set\u001b[0m\u001b[0;34m=\u001b[0m\u001b[0;34m[\u001b[0m\u001b[0;34m(\u001b[0m\u001b[0mX_train\u001b[0m\u001b[0;34m,\u001b[0m \u001b[0my_train\u001b[0m\u001b[0;34m)\u001b[0m\u001b[0;34m,\u001b[0m \u001b[0;34m(\u001b[0m\u001b[0mX_valid\u001b[0m\u001b[0;34m,\u001b[0m \u001b[0my_valid\u001b[0m\u001b[0;34m)\u001b[0m\u001b[0;34m]\u001b[0m\u001b[0;34m,\u001b[0m\u001b[0mearly_stopping_rounds\u001b[0m\u001b[0;34m=\u001b[0m\u001b[0;36m900\u001b[0m\u001b[0;34m,\u001b[0m\u001b[0mverbose\u001b[0m\u001b[0;34m=\u001b[0m\u001b[0;32mFalse\u001b[0m\u001b[0;34m)\u001b[0m\u001b[0;34m\u001b[0m\u001b[0;34m\u001b[0m\u001b[0m\n\u001b[0;32m----> 7\u001b[0;31m \u001b[0mclf\u001b[0m\u001b[0;34m.\u001b[0m\u001b[0mfit\u001b[0m\u001b[0;34m(\u001b[0m\u001b[0mX_train\u001b[0m\u001b[0;34m,\u001b[0m \u001b[0my_train\u001b[0m\u001b[0;34m)\u001b[0m\u001b[0;34m\u001b[0m\u001b[0;34m\u001b[0m\u001b[0m\n\u001b[0m\u001b[1;32m      8\u001b[0m \u001b[0my_pred\u001b[0m\u001b[0;34m=\u001b[0m\u001b[0mclf\u001b[0m\u001b[0;34m.\u001b[0m\u001b[0mpredict_proba\u001b[0m\u001b[0;34m(\u001b[0m\u001b[0mX_valid\u001b[0m\u001b[0;34m)\u001b[0m\u001b[0;34m\u001b[0m\u001b[0;34m\u001b[0m\u001b[0m\n\u001b[1;32m      9\u001b[0m \u001b[0;34m\u001b[0m\u001b[0m\n",
            "\u001b[0;32m/usr/local/lib/python3.7/dist-packages/lightgbm/sklearn.py\u001b[0m in \u001b[0;36mfit\u001b[0;34m(self, X, y, sample_weight, init_score, eval_set, eval_names, eval_sample_weight, eval_class_weight, eval_init_score, eval_metric, early_stopping_rounds, verbose, feature_name, categorical_feature, callbacks)\u001b[0m\n\u001b[1;32m    742\u001b[0m                                         \u001b[0mverbose\u001b[0m\u001b[0;34m=\u001b[0m\u001b[0mverbose\u001b[0m\u001b[0;34m,\u001b[0m \u001b[0mfeature_name\u001b[0m\u001b[0;34m=\u001b[0m\u001b[0mfeature_name\u001b[0m\u001b[0;34m,\u001b[0m\u001b[0;34m\u001b[0m\u001b[0;34m\u001b[0m\u001b[0m\n\u001b[1;32m    743\u001b[0m                                         \u001b[0mcategorical_feature\u001b[0m\u001b[0;34m=\u001b[0m\u001b[0mcategorical_feature\u001b[0m\u001b[0;34m,\u001b[0m\u001b[0;34m\u001b[0m\u001b[0;34m\u001b[0m\u001b[0m\n\u001b[0;32m--> 744\u001b[0;31m                                         callbacks=callbacks)\n\u001b[0m\u001b[1;32m    745\u001b[0m         \u001b[0;32mreturn\u001b[0m \u001b[0mself\u001b[0m\u001b[0;34m\u001b[0m\u001b[0;34m\u001b[0m\u001b[0m\n\u001b[1;32m    746\u001b[0m \u001b[0;34m\u001b[0m\u001b[0m\n",
            "\u001b[0;32m/usr/local/lib/python3.7/dist-packages/lightgbm/sklearn.py\u001b[0m in \u001b[0;36mfit\u001b[0;34m(self, X, y, sample_weight, init_score, group, eval_set, eval_names, eval_sample_weight, eval_class_weight, eval_init_score, eval_group, eval_metric, early_stopping_rounds, verbose, feature_name, categorical_feature, callbacks)\u001b[0m\n\u001b[1;32m    542\u001b[0m                               \u001b[0mverbose_eval\u001b[0m\u001b[0;34m=\u001b[0m\u001b[0mverbose\u001b[0m\u001b[0;34m,\u001b[0m \u001b[0mfeature_name\u001b[0m\u001b[0;34m=\u001b[0m\u001b[0mfeature_name\u001b[0m\u001b[0;34m,\u001b[0m\u001b[0;34m\u001b[0m\u001b[0;34m\u001b[0m\u001b[0m\n\u001b[1;32m    543\u001b[0m                               \u001b[0mcategorical_feature\u001b[0m\u001b[0;34m=\u001b[0m\u001b[0mcategorical_feature\u001b[0m\u001b[0;34m,\u001b[0m\u001b[0;34m\u001b[0m\u001b[0;34m\u001b[0m\u001b[0m\n\u001b[0;32m--> 544\u001b[0;31m                               callbacks=callbacks)\n\u001b[0m\u001b[1;32m    545\u001b[0m \u001b[0;34m\u001b[0m\u001b[0m\n\u001b[1;32m    546\u001b[0m         \u001b[0;32mif\u001b[0m \u001b[0mevals_result\u001b[0m\u001b[0;34m:\u001b[0m\u001b[0;34m\u001b[0m\u001b[0;34m\u001b[0m\u001b[0m\n",
            "\u001b[0;32m/usr/local/lib/python3.7/dist-packages/lightgbm/engine.py\u001b[0m in \u001b[0;36mtrain\u001b[0;34m(params, train_set, num_boost_round, valid_sets, valid_names, fobj, feval, init_model, feature_name, categorical_feature, early_stopping_rounds, evals_result, verbose_eval, learning_rates, keep_training_booster, callbacks)\u001b[0m\n\u001b[1;32m    216\u001b[0m                                     evaluation_result_list=None))\n\u001b[1;32m    217\u001b[0m \u001b[0;34m\u001b[0m\u001b[0m\n\u001b[0;32m--> 218\u001b[0;31m         \u001b[0mbooster\u001b[0m\u001b[0;34m.\u001b[0m\u001b[0mupdate\u001b[0m\u001b[0;34m(\u001b[0m\u001b[0mfobj\u001b[0m\u001b[0;34m=\u001b[0m\u001b[0mfobj\u001b[0m\u001b[0;34m)\u001b[0m\u001b[0;34m\u001b[0m\u001b[0;34m\u001b[0m\u001b[0m\n\u001b[0m\u001b[1;32m    219\u001b[0m \u001b[0;34m\u001b[0m\u001b[0m\n\u001b[1;32m    220\u001b[0m         \u001b[0mevaluation_result_list\u001b[0m \u001b[0;34m=\u001b[0m \u001b[0;34m[\u001b[0m\u001b[0;34m]\u001b[0m\u001b[0;34m\u001b[0m\u001b[0;34m\u001b[0m\u001b[0m\n",
            "\u001b[0;32m/usr/local/lib/python3.7/dist-packages/lightgbm/basic.py\u001b[0m in \u001b[0;36mupdate\u001b[0;34m(self, train_set, fobj)\u001b[0m\n\u001b[1;32m   1800\u001b[0m             _safe_call(_LIB.LGBM_BoosterUpdateOneIter(\n\u001b[1;32m   1801\u001b[0m                 \u001b[0mself\u001b[0m\u001b[0;34m.\u001b[0m\u001b[0mhandle\u001b[0m\u001b[0;34m,\u001b[0m\u001b[0;34m\u001b[0m\u001b[0;34m\u001b[0m\u001b[0m\n\u001b[0;32m-> 1802\u001b[0;31m                 ctypes.byref(is_finished)))\n\u001b[0m\u001b[1;32m   1803\u001b[0m             \u001b[0mself\u001b[0m\u001b[0;34m.\u001b[0m\u001b[0m__is_predicted_cur_iter\u001b[0m \u001b[0;34m=\u001b[0m \u001b[0;34m[\u001b[0m\u001b[0;32mFalse\u001b[0m \u001b[0;32mfor\u001b[0m \u001b[0m_\u001b[0m \u001b[0;32min\u001b[0m \u001b[0mrange_\u001b[0m\u001b[0;34m(\u001b[0m\u001b[0mself\u001b[0m\u001b[0;34m.\u001b[0m\u001b[0m__num_dataset\u001b[0m\u001b[0;34m)\u001b[0m\u001b[0;34m]\u001b[0m\u001b[0;34m\u001b[0m\u001b[0;34m\u001b[0m\u001b[0m\n\u001b[1;32m   1804\u001b[0m             \u001b[0;32mreturn\u001b[0m \u001b[0mis_finished\u001b[0m\u001b[0;34m.\u001b[0m\u001b[0mvalue\u001b[0m \u001b[0;34m==\u001b[0m \u001b[0;36m1\u001b[0m\u001b[0;34m\u001b[0m\u001b[0;34m\u001b[0m\u001b[0m\n",
            "\u001b[0;31mKeyboardInterrupt\u001b[0m: "
          ]
        }
      ]
    },
    {
      "cell_type": "code",
      "metadata": {
        "id": "pYc3Qdg_9ASL"
      },
      "source": [
        "submission.loc[:,1:]=my_submission"
      ],
      "execution_count": null,
      "outputs": []
    },
    {
      "cell_type": "code",
      "metadata": {
        "id": "f6nI8OLD9EJP"
      },
      "source": [
        "submission.to_csv('[PAUL]]Day0_myselfKfold10.csv', index=False)"
      ],
      "execution_count": null,
      "outputs": []
    },
    {
      "cell_type": "markdown",
      "metadata": {
        "id": "zWGMJekME_zE"
      },
      "source": [
        "- scaler & 차원 축소"
      ]
    },
    {
      "cell_type": "code",
      "metadata": {
        "colab": {
          "base_uri": "https://localhost:8080/",
          "height": 141
        },
        "id": "ykYxP4FFFEUR",
        "outputId": "9c15bb09-226b-415f-9a78-4c83a6b7fc84"
      },
      "source": [
        "\"\"\"\n",
        "from sklearn.preprocessing import StandardScaler, RobustScaler\n",
        "from sklearn.preprocessing import StandardScaler\n",
        "\n",
        "scaler = StandardScaler()\n",
        "scaler.fit(train)\n",
        "train_scaled = scaler.transform(train)\n",
        "\n",
        "scaler.fit(test)\n",
        "test_scaled = scaler.transform(test)\n",
        "\n",
        "\n",
        "from sklearn.decomposition import PCA\n",
        "\n",
        "pca = PCA(n_components=31)\n",
        "pca1 = PCA(n_components=30)\n",
        "\n",
        "pca.fit(train_scaled)\n",
        "train_pca = pca.transform(train_scaled)\n",
        "\n",
        "pca1.fit(test_scaled)\n",
        "test_pca = pca1.transform(test_scaled)\n",
        "\n",
        "train_pca = pd.DataFrame(train_pca,columns = train.columns)\n",
        "test_pca = pd.DataFrame(test_pca,columns = test.columns)\n",
        "\"\"\""
      ],
      "execution_count": null,
      "outputs": [
        {
          "output_type": "execute_result",
          "data": {
            "application/vnd.google.colaboratory.intrinsic+json": {
              "type": "string"
            },
            "text/plain": [
              "'\\nfrom sklearn.preprocessing import StandardScaler, RobustScaler\\nfrom sklearn.preprocessing import StandardScaler\\n\\nscaler = StandardScaler()\\nscaler.fit(train)\\ntrain_scaled = scaler.transform(train)\\n\\nscaler.fit(test)\\ntest_scaled = scaler.transform(test)\\n\\n\\nfrom sklearn.decomposition import PCA\\n\\npca = PCA(n_components=31)\\npca1 = PCA(n_components=30)\\n\\npca.fit(train_scaled)\\ntrain_pca = pca.transform(train_scaled)\\n\\npca1.fit(test_scaled)\\ntest_pca = pca1.transform(test_scaled)\\n\\ntrain_pca = pd.DataFrame(train_pca,columns = train.columns)\\ntest_pca = pd.DataFrame(test_pca,columns = test.columns)\\n'"
            ]
          },
          "metadata": {
            "tags": []
          },
          "execution_count": 126
        }
      ]
    },
    {
      "cell_type": "markdown",
      "metadata": {
        "id": "BhEswOLKUTXo"
      },
      "source": [
        "- kmeans smote"
      ]
    },
    {
      "cell_type": "code",
      "metadata": {
        "id": "nV9bLvDZUESS"
      },
      "source": [
        "#KMeansSMOTE(random_state=42, cluster_balance_threshold=0.1)"
      ],
      "execution_count": null,
      "outputs": []
    },
    {
      "cell_type": "code",
      "metadata": {
        "id": "xXj-v0qDUHPc"
      },
      "source": [
        "#X_res, y_res = sm.fit_resample(X, y)"
      ],
      "execution_count": null,
      "outputs": []
    },
    {
      "cell_type": "markdown",
      "metadata": {
        "id": "bO8CCucGEWS1"
      },
      "source": [
        "# 모델1"
      ]
    },
    {
      "cell_type": "code",
      "metadata": {
        "id": "kCk-WR1d3NzQ"
      },
      "source": [
        "n_fold = 5\n",
        "seed = 20\n",
        "\n",
        "best_params = {'colsample_bytree': 0.5,\n",
        " 'learning_rate': 0.035,\n",
        " 'max_depth': 14,\n",
        " 'min_child_weight': 7,\n",
        " 'n_estimators': 150000,\n",
        " 'reg_alpha': 3,\n",
        " 'reg_lambda': 1,\n",
        " 'subsample': 0.9500000000000001,\n",
        " 'tree_learner': 'serial',\n",
        " 'objective': 'multiclass',\n",
        " 'boosting_type': 'goss',\n",
        " 'metrics': 'multi_logloss'\n",
        " }\n",
        "\n",
        "lgbm_params = {\n",
        "    'metric': 'multi_logloss',\n",
        "    'objective': 'multiclass',\n",
        "    'n_estimators': 50000,\n",
        "    'learning_rate': 0.01,\n",
        "    'max_depth': 21,\n",
        "    'boosting_type': 'goss',\n",
        "    'colsample_bytree': 0.7,\n",
        "    'subsample': 0.8,\n",
        "    'bagging_freq': 1,\n",
        "    'num_leaves': 189 ,\n",
        "    'subsample' :1,\n",
        "}\n",
        "\n",
        "lgbm_params1 = {'objective': 'multiclass',\n",
        "              'boosting_type': 'goss', # goss # dart #rf\n",
        "              'metrics': 'multi_logloss',\n",
        "              'n_estimators' : 150000 ,\n",
        "              'learning_rate':0.01,\n",
        "              'subsample':0.6,\n",
        "              'tree_learner': 'serial',\n",
        "              'colsample_bytree':0.5,\n",
        "              'bagging_freq': 1,\n",
        "              'num_leaves': 128 ,\n",
        "              #'reg_alpha' : 0.3,\n",
        "              #'reg_lambda' :0.5 \n",
        "              'subsample' :1\n",
        "            }            \n",
        "\n",
        "lgbm_params2 = {'objective': 'multiclass',\n",
        "              'boosting_type': 'gbdt',\n",
        "              'metrics': 'multi_logloss',\n",
        "              'n_estimators' : 150000,\n",
        "              'learning_rate':0.01,\n",
        "              'num_leaves':7,\n",
        "              'subsample':0.9,\n",
        "              'max_depth': 4,\n",
        "              'colsample_bytree':0.7,\n",
        "              'min_child_samples': 100,\n",
        "              'scale_pos_weight':150,\n",
        "              'bagging_freq': 1,\n",
        "            }\n",
        "\n",
        "lgbm_params3 = {'objective': 'multiclass',\n",
        "              'boosting_type': 'gbdt', # goss\n",
        "              'metrics': 'multi_logloss',\n",
        "              'n_estimators' : 50000 ,\n",
        "              'learning_rate':0.01,\n",
        "              'subsample':0.7,\n",
        "              'tree_learner': 'serial',\n",
        "              'colsample_bytree':0.8,\n",
        "              'bagging_freq': 1,\n",
        "              'num_leaves': 181 ,\n",
        "              'reg_alpha' : 0.3,\n",
        "              'reg_lambda' :0.5,\n",
        "              #'subsample' :0.95\n",
        "            }\n",
        "\n",
        "cat_param = {'n_estimators' : 100000,\n",
        "             'learning_rate': 0.01,\n",
        "             #'depth':12,\n",
        "             'random_seed':31,\n",
        "             #'od_type':'Iter',\n",
        "             #'od_wait':100,\n",
        "             'bootstrap_type' :'Bernoulli',\n",
        "             }\n",
        "\n",
        "opt_param = {'reg_alpha': 2.1245096608103405e-05, 'reg_lambda': 0.0018526142807772773, 'max_depth': 20, 'num_leaves': 214, 'colsample_bytree': 0.5274034664069657, 'subsample': 0.42727747704497043, 'subsample_freq': 2, 'min_child_samples': 34, 'max_bin': 357}"
      ],
      "execution_count": null,
      "outputs": []
    },
    {
      "cell_type": "code",
      "metadata": {
        "id": "WgGjKAkB3bAF"
      },
      "source": [
        "skf = StratifiedKFold(n_splits=10, shuffle=True, random_state=42)\n",
        "folds=[]\n",
        "for train_idx, valid_idx in skf.split(train, train['credit']):\n",
        "    folds.append((train_idx, valid_idx))"
      ],
      "execution_count": null,
      "outputs": []
    },
    {
      "cell_type": "code",
      "metadata": {
        "id": "EK3a0Blz7t7l"
      },
      "source": [
        "from catboost import CatBoostClassifier\n",
        "from lightgbm import LGBMRegressor\n",
        "from sklearn.ensemble import GradientBoostingClassifier\n",
        "from xgboost import XGBClassifier\n",
        "from sklearn.ensemble import RandomForestClassifier, ExtraTreesClassifier, VotingClassifier\n",
        "from imblearn.over_sampling import SMOTE"
      ],
      "execution_count": null,
      "outputs": []
    },
    {
      "cell_type": "code",
      "metadata": {
        "colab": {
          "base_uri": "https://localhost:8080/"
        },
        "id": "PryIarQ43cch",
        "outputId": "9a4b621f-7dd4-47a9-a16a-a05792b2de89"
      },
      "source": [
        "random.seed(seed)\n",
        "kfold_models={}\n",
        "for fold in range(10):\n",
        "    print(f'===================================={fold+1}============================================')\n",
        "    train_idx, valid_idx = folds[fold]\n",
        "    X_train, X_valid, y_train, y_valid = train.drop(['credit'],axis=1).iloc[train_idx].values, train.drop(['credit'],axis=1).iloc[valid_idx].values,train['credit'][train_idx].values, train['credit'][valid_idx].values \n",
        "    #smote = SMOTE(random_state=0)\n",
        "    #X_train,y_train = smote.fit_sample(X_train,y_train)\n",
        "    model = LGBMClassifier(**opt_param) #**lgbm_params, **lgbm_params1, **best_params\n",
        "    #model = LGBMClassifier(n_estimators=15000,num_leaves=64,boosting_type='goss',max_depth=22,learning_rate=0.01,n_jobs=-1,boost_from_average=False)\n",
        "    #model = CatBoostClassifier(**cat_param)\n",
        "    #model = CatBoostClassifier(random_state=20,learning_rate= 0.01,iterations=100000,depth=10,bootstrap_type ='Bernoulli')\n",
        "    #model = LGBMClassifier(metrics='multi_logloss',objective='multiclass',n_estimators=150,learning_rate=0.1,boosting_type ='dart',max_depth=5,min_child_weight=0.1, num_leaves=30,random_state=9697,n_jobs=-1)\n",
        "    model.fit(X_train, y_train,eval_set=[(X_train, y_train),(X_valid, y_valid)],early_stopping_rounds=900,verbose=100)\n",
        "    kfold_models[fold]=model\n",
        "    print(f'========================================================================================')"
      ],
      "execution_count": null,
      "outputs": [
        {
          "output_type": "stream",
          "text": [
            "====================================1============================================\n",
            "Training until validation scores don't improve for 900 rounds.\n",
            "[100]\ttraining's multi_logloss: 0.755442\tvalid_1's multi_logloss: 0.791429\n",
            "[200]\ttraining's multi_logloss: 0.681082\tvalid_1's multi_logloss: 0.751294\n",
            "[300]\ttraining's multi_logloss: 0.626241\tvalid_1's multi_logloss: 0.728766\n",
            "[400]\ttraining's multi_logloss: 0.581786\tvalid_1's multi_logloss: 0.712473\n",
            "[500]\ttraining's multi_logloss: 0.545308\tvalid_1's multi_logloss: 0.702489\n",
            "[600]\ttraining's multi_logloss: 0.5135\tvalid_1's multi_logloss: 0.696037\n",
            "[700]\ttraining's multi_logloss: 0.485897\tvalid_1's multi_logloss: 0.691478\n",
            "[800]\ttraining's multi_logloss: 0.461152\tvalid_1's multi_logloss: 0.68762\n",
            "[900]\ttraining's multi_logloss: 0.439505\tvalid_1's multi_logloss: 0.685957\n",
            "[1000]\ttraining's multi_logloss: 0.419394\tvalid_1's multi_logloss: 0.686056\n",
            "[1100]\ttraining's multi_logloss: 0.401079\tvalid_1's multi_logloss: 0.686985\n",
            "[1200]\ttraining's multi_logloss: 0.383906\tvalid_1's multi_logloss: 0.688651\n",
            "[1300]\ttraining's multi_logloss: 0.368338\tvalid_1's multi_logloss: 0.690114\n",
            "[1400]\ttraining's multi_logloss: 0.353954\tvalid_1's multi_logloss: 0.691078\n",
            "[1500]\ttraining's multi_logloss: 0.340373\tvalid_1's multi_logloss: 0.692779\n",
            "[1600]\ttraining's multi_logloss: 0.32753\tvalid_1's multi_logloss: 0.695223\n",
            "[1700]\ttraining's multi_logloss: 0.315703\tvalid_1's multi_logloss: 0.697876\n",
            "[1800]\ttraining's multi_logloss: 0.304545\tvalid_1's multi_logloss: 0.700963\n",
            "Early stopping, best iteration is:\n",
            "[984]\ttraining's multi_logloss: 0.422555\tvalid_1's multi_logloss: 0.685835\n",
            "========================================================================================\n",
            "====================================2============================================\n",
            "Training until validation scores don't improve for 900 rounds.\n",
            "[100]\ttraining's multi_logloss: 0.753876\tvalid_1's multi_logloss: 0.801685\n",
            "[200]\ttraining's multi_logloss: 0.679315\tvalid_1's multi_logloss: 0.765934\n",
            "[300]\ttraining's multi_logloss: 0.624442\tvalid_1's multi_logloss: 0.743587\n",
            "[400]\ttraining's multi_logloss: 0.580633\tvalid_1's multi_logloss: 0.72759\n",
            "[500]\ttraining's multi_logloss: 0.543997\tvalid_1's multi_logloss: 0.71702\n",
            "[600]\ttraining's multi_logloss: 0.512287\tvalid_1's multi_logloss: 0.708548\n",
            "[700]\ttraining's multi_logloss: 0.484524\tvalid_1's multi_logloss: 0.701747\n",
            "[800]\ttraining's multi_logloss: 0.459981\tvalid_1's multi_logloss: 0.697845\n",
            "[900]\ttraining's multi_logloss: 0.438116\tvalid_1's multi_logloss: 0.69457\n",
            "[1000]\ttraining's multi_logloss: 0.418006\tvalid_1's multi_logloss: 0.692456\n",
            "[1100]\ttraining's multi_logloss: 0.399773\tvalid_1's multi_logloss: 0.691227\n",
            "[1200]\ttraining's multi_logloss: 0.383001\tvalid_1's multi_logloss: 0.691663\n",
            "[1300]\ttraining's multi_logloss: 0.367475\tvalid_1's multi_logloss: 0.69231\n",
            "[1400]\ttraining's multi_logloss: 0.35307\tvalid_1's multi_logloss: 0.693068\n",
            "[1500]\ttraining's multi_logloss: 0.339497\tvalid_1's multi_logloss: 0.695455\n",
            "[1600]\ttraining's multi_logloss: 0.326805\tvalid_1's multi_logloss: 0.697289\n",
            "[1700]\ttraining's multi_logloss: 0.314847\tvalid_1's multi_logloss: 0.699263\n",
            "[1800]\ttraining's multi_logloss: 0.303788\tvalid_1's multi_logloss: 0.702099\n",
            "[1900]\ttraining's multi_logloss: 0.293224\tvalid_1's multi_logloss: 0.705025\n",
            "[2000]\ttraining's multi_logloss: 0.283455\tvalid_1's multi_logloss: 0.707947\n",
            "Early stopping, best iteration is:\n",
            "[1104]\ttraining's multi_logloss: 0.39903\tvalid_1's multi_logloss: 0.69119\n",
            "========================================================================================\n",
            "====================================3============================================\n",
            "Training until validation scores don't improve for 900 rounds.\n",
            "[100]\ttraining's multi_logloss: 0.753941\tvalid_1's multi_logloss: 0.801533\n",
            "[200]\ttraining's multi_logloss: 0.678785\tvalid_1's multi_logloss: 0.766436\n",
            "[300]\ttraining's multi_logloss: 0.623673\tvalid_1's multi_logloss: 0.745519\n",
            "[400]\ttraining's multi_logloss: 0.579722\tvalid_1's multi_logloss: 0.73229\n",
            "[500]\ttraining's multi_logloss: 0.542528\tvalid_1's multi_logloss: 0.72287\n",
            "[600]\ttraining's multi_logloss: 0.51072\tvalid_1's multi_logloss: 0.716768\n",
            "[700]\ttraining's multi_logloss: 0.482923\tvalid_1's multi_logloss: 0.712344\n",
            "[800]\ttraining's multi_logloss: 0.45839\tvalid_1's multi_logloss: 0.709832\n",
            "[900]\ttraining's multi_logloss: 0.436668\tvalid_1's multi_logloss: 0.709062\n",
            "[1000]\ttraining's multi_logloss: 0.416376\tvalid_1's multi_logloss: 0.709919\n",
            "[1100]\ttraining's multi_logloss: 0.397957\tvalid_1's multi_logloss: 0.710964\n",
            "[1200]\ttraining's multi_logloss: 0.380792\tvalid_1's multi_logloss: 0.71351\n",
            "[1300]\ttraining's multi_logloss: 0.365368\tvalid_1's multi_logloss: 0.715313\n",
            "[1400]\ttraining's multi_logloss: 0.350932\tvalid_1's multi_logloss: 0.717931\n",
            "[1500]\ttraining's multi_logloss: 0.337204\tvalid_1's multi_logloss: 0.721286\n",
            "[1600]\ttraining's multi_logloss: 0.324703\tvalid_1's multi_logloss: 0.724787\n",
            "[1700]\ttraining's multi_logloss: 0.312805\tvalid_1's multi_logloss: 0.728693\n",
            "Early stopping, best iteration is:\n",
            "[898]\ttraining's multi_logloss: 0.437052\tvalid_1's multi_logloss: 0.709022\n",
            "========================================================================================\n",
            "====================================4============================================\n",
            "Training until validation scores don't improve for 900 rounds.\n",
            "[100]\ttraining's multi_logloss: 0.753953\tvalid_1's multi_logloss: 0.804841\n",
            "[200]\ttraining's multi_logloss: 0.678257\tvalid_1's multi_logloss: 0.769682\n",
            "[300]\ttraining's multi_logloss: 0.623033\tvalid_1's multi_logloss: 0.749922\n",
            "[400]\ttraining's multi_logloss: 0.579\tvalid_1's multi_logloss: 0.737289\n",
            "[500]\ttraining's multi_logloss: 0.542338\tvalid_1's multi_logloss: 0.729542\n",
            "[600]\ttraining's multi_logloss: 0.510448\tvalid_1's multi_logloss: 0.723695\n",
            "[700]\ttraining's multi_logloss: 0.482675\tvalid_1's multi_logloss: 0.719984\n",
            "[800]\ttraining's multi_logloss: 0.457882\tvalid_1's multi_logloss: 0.718535\n",
            "[900]\ttraining's multi_logloss: 0.435667\tvalid_1's multi_logloss: 0.717907\n",
            "[1000]\ttraining's multi_logloss: 0.415572\tvalid_1's multi_logloss: 0.718129\n",
            "[1100]\ttraining's multi_logloss: 0.397215\tvalid_1's multi_logloss: 0.719541\n",
            "[1200]\ttraining's multi_logloss: 0.380116\tvalid_1's multi_logloss: 0.721463\n",
            "[1300]\ttraining's multi_logloss: 0.364674\tvalid_1's multi_logloss: 0.724008\n",
            "[1400]\ttraining's multi_logloss: 0.35014\tvalid_1's multi_logloss: 0.726796\n",
            "[1500]\ttraining's multi_logloss: 0.336744\tvalid_1's multi_logloss: 0.730133\n",
            "[1600]\ttraining's multi_logloss: 0.324141\tvalid_1's multi_logloss: 0.733169\n",
            "[1700]\ttraining's multi_logloss: 0.312266\tvalid_1's multi_logloss: 0.737682\n",
            "[1800]\ttraining's multi_logloss: 0.30113\tvalid_1's multi_logloss: 0.74246\n",
            "Early stopping, best iteration is:\n",
            "[917]\ttraining's multi_logloss: 0.432089\tvalid_1's multi_logloss: 0.717502\n",
            "========================================================================================\n",
            "====================================5============================================\n",
            "Training until validation scores don't improve for 900 rounds.\n",
            "[100]\ttraining's multi_logloss: 0.754429\tvalid_1's multi_logloss: 0.799861\n",
            "[200]\ttraining's multi_logloss: 0.679006\tvalid_1's multi_logloss: 0.764054\n",
            "[300]\ttraining's multi_logloss: 0.623753\tvalid_1's multi_logloss: 0.743716\n",
            "[400]\ttraining's multi_logloss: 0.579642\tvalid_1's multi_logloss: 0.730898\n",
            "[500]\ttraining's multi_logloss: 0.542523\tvalid_1's multi_logloss: 0.722117\n",
            "[600]\ttraining's multi_logloss: 0.510681\tvalid_1's multi_logloss: 0.716886\n",
            "[700]\ttraining's multi_logloss: 0.483181\tvalid_1's multi_logloss: 0.712737\n",
            "[800]\ttraining's multi_logloss: 0.458307\tvalid_1's multi_logloss: 0.710177\n",
            "[900]\ttraining's multi_logloss: 0.436348\tvalid_1's multi_logloss: 0.708786\n",
            "[1000]\ttraining's multi_logloss: 0.416001\tvalid_1's multi_logloss: 0.709263\n",
            "[1100]\ttraining's multi_logloss: 0.397744\tvalid_1's multi_logloss: 0.709043\n",
            "[1200]\ttraining's multi_logloss: 0.380857\tvalid_1's multi_logloss: 0.710473\n",
            "[1300]\ttraining's multi_logloss: 0.365347\tvalid_1's multi_logloss: 0.712264\n",
            "[1400]\ttraining's multi_logloss: 0.351004\tvalid_1's multi_logloss: 0.714593\n",
            "[1500]\ttraining's multi_logloss: 0.337385\tvalid_1's multi_logloss: 0.717858\n",
            "[1600]\ttraining's multi_logloss: 0.324609\tvalid_1's multi_logloss: 0.721434\n",
            "[1700]\ttraining's multi_logloss: 0.31288\tvalid_1's multi_logloss: 0.725195\n",
            "[1800]\ttraining's multi_logloss: 0.3016\tvalid_1's multi_logloss: 0.729427\n",
            "Early stopping, best iteration is:\n",
            "[905]\ttraining's multi_logloss: 0.435245\tvalid_1's multi_logloss: 0.708692\n",
            "========================================================================================\n",
            "====================================6============================================\n",
            "Training until validation scores don't improve for 900 rounds.\n",
            "[100]\ttraining's multi_logloss: 0.753306\tvalid_1's multi_logloss: 0.80494\n",
            "[200]\ttraining's multi_logloss: 0.678198\tvalid_1's multi_logloss: 0.768602\n",
            "[300]\ttraining's multi_logloss: 0.623606\tvalid_1's multi_logloss: 0.748175\n",
            "[400]\ttraining's multi_logloss: 0.57958\tvalid_1's multi_logloss: 0.733951\n",
            "[500]\ttraining's multi_logloss: 0.542345\tvalid_1's multi_logloss: 0.724718\n",
            "[600]\ttraining's multi_logloss: 0.510845\tvalid_1's multi_logloss: 0.719344\n",
            "[700]\ttraining's multi_logloss: 0.48289\tvalid_1's multi_logloss: 0.715899\n",
            "[800]\ttraining's multi_logloss: 0.458289\tvalid_1's multi_logloss: 0.713677\n",
            "[900]\ttraining's multi_logloss: 0.436633\tvalid_1's multi_logloss: 0.712457\n",
            "[1000]\ttraining's multi_logloss: 0.416238\tvalid_1's multi_logloss: 0.713162\n",
            "[1100]\ttraining's multi_logloss: 0.397706\tvalid_1's multi_logloss: 0.713909\n",
            "[1200]\ttraining's multi_logloss: 0.380766\tvalid_1's multi_logloss: 0.71628\n",
            "[1300]\ttraining's multi_logloss: 0.365103\tvalid_1's multi_logloss: 0.718462\n",
            "[1400]\ttraining's multi_logloss: 0.350563\tvalid_1's multi_logloss: 0.72077\n",
            "[1500]\ttraining's multi_logloss: 0.336873\tvalid_1's multi_logloss: 0.723031\n",
            "[1600]\ttraining's multi_logloss: 0.32426\tvalid_1's multi_logloss: 0.726525\n",
            "[1700]\ttraining's multi_logloss: 0.312575\tvalid_1's multi_logloss: 0.731023\n",
            "[1800]\ttraining's multi_logloss: 0.301493\tvalid_1's multi_logloss: 0.735412\n",
            "Early stopping, best iteration is:\n",
            "[929]\ttraining's multi_logloss: 0.430501\tvalid_1's multi_logloss: 0.712126\n",
            "========================================================================================\n",
            "====================================7============================================\n",
            "Training until validation scores don't improve for 900 rounds.\n",
            "[100]\ttraining's multi_logloss: 0.754378\tvalid_1's multi_logloss: 0.801278\n",
            "[200]\ttraining's multi_logloss: 0.679286\tvalid_1's multi_logloss: 0.763932\n",
            "[300]\ttraining's multi_logloss: 0.624083\tvalid_1's multi_logloss: 0.742281\n",
            "[400]\ttraining's multi_logloss: 0.580495\tvalid_1's multi_logloss: 0.727464\n",
            "[500]\ttraining's multi_logloss: 0.543696\tvalid_1's multi_logloss: 0.716948\n",
            "[600]\ttraining's multi_logloss: 0.511671\tvalid_1's multi_logloss: 0.709582\n",
            "[700]\ttraining's multi_logloss: 0.484341\tvalid_1's multi_logloss: 0.704682\n",
            "[800]\ttraining's multi_logloss: 0.459712\tvalid_1's multi_logloss: 0.700719\n",
            "[900]\ttraining's multi_logloss: 0.437784\tvalid_1's multi_logloss: 0.698796\n",
            "[1000]\ttraining's multi_logloss: 0.417366\tvalid_1's multi_logloss: 0.697372\n",
            "[1100]\ttraining's multi_logloss: 0.399183\tvalid_1's multi_logloss: 0.696542\n",
            "[1200]\ttraining's multi_logloss: 0.382082\tvalid_1's multi_logloss: 0.696572\n",
            "[1300]\ttraining's multi_logloss: 0.366278\tvalid_1's multi_logloss: 0.697284\n",
            "[1400]\ttraining's multi_logloss: 0.351722\tvalid_1's multi_logloss: 0.698779\n",
            "[1500]\ttraining's multi_logloss: 0.338269\tvalid_1's multi_logloss: 0.701112\n",
            "[1600]\ttraining's multi_logloss: 0.325664\tvalid_1's multi_logloss: 0.703688\n",
            "[1700]\ttraining's multi_logloss: 0.313732\tvalid_1's multi_logloss: 0.706085\n",
            "[1800]\ttraining's multi_logloss: 0.302574\tvalid_1's multi_logloss: 0.709103\n",
            "[1900]\ttraining's multi_logloss: 0.292012\tvalid_1's multi_logloss: 0.712651\n",
            "[2000]\ttraining's multi_logloss: 0.2824\tvalid_1's multi_logloss: 0.715741\n",
            "[2100]\ttraining's multi_logloss: 0.272926\tvalid_1's multi_logloss: 0.719417\n",
            "Early stopping, best iteration is:\n",
            "[1212]\ttraining's multi_logloss: 0.380095\tvalid_1's multi_logloss: 0.696438\n",
            "========================================================================================\n",
            "====================================8============================================\n",
            "Training until validation scores don't improve for 900 rounds.\n",
            "[100]\ttraining's multi_logloss: 0.753839\tvalid_1's multi_logloss: 0.802912\n",
            "[200]\ttraining's multi_logloss: 0.678684\tvalid_1's multi_logloss: 0.767649\n",
            "[300]\ttraining's multi_logloss: 0.623537\tvalid_1's multi_logloss: 0.747215\n",
            "[400]\ttraining's multi_logloss: 0.579361\tvalid_1's multi_logloss: 0.734801\n",
            "[500]\ttraining's multi_logloss: 0.542319\tvalid_1's multi_logloss: 0.726366\n",
            "[600]\ttraining's multi_logloss: 0.510464\tvalid_1's multi_logloss: 0.720247\n",
            "[700]\ttraining's multi_logloss: 0.482416\tvalid_1's multi_logloss: 0.716348\n",
            "[800]\ttraining's multi_logloss: 0.457829\tvalid_1's multi_logloss: 0.713971\n",
            "[900]\ttraining's multi_logloss: 0.435848\tvalid_1's multi_logloss: 0.713205\n",
            "[1000]\ttraining's multi_logloss: 0.415698\tvalid_1's multi_logloss: 0.71451\n",
            "[1100]\ttraining's multi_logloss: 0.397212\tvalid_1's multi_logloss: 0.716334\n",
            "[1200]\ttraining's multi_logloss: 0.380187\tvalid_1's multi_logloss: 0.718664\n",
            "[1300]\ttraining's multi_logloss: 0.364555\tvalid_1's multi_logloss: 0.720388\n",
            "[1400]\ttraining's multi_logloss: 0.350098\tvalid_1's multi_logloss: 0.723046\n",
            "[1500]\ttraining's multi_logloss: 0.336286\tvalid_1's multi_logloss: 0.726473\n",
            "[1600]\ttraining's multi_logloss: 0.323652\tvalid_1's multi_logloss: 0.731238\n",
            "[1700]\ttraining's multi_logloss: 0.311635\tvalid_1's multi_logloss: 0.735905\n",
            "Early stopping, best iteration is:\n",
            "[857]\ttraining's multi_logloss: 0.445166\tvalid_1's multi_logloss: 0.712965\n",
            "========================================================================================\n",
            "====================================9============================================\n",
            "Training until validation scores don't improve for 900 rounds.\n",
            "[100]\ttraining's multi_logloss: 0.753407\tvalid_1's multi_logloss: 0.804559\n",
            "[200]\ttraining's multi_logloss: 0.678362\tvalid_1's multi_logloss: 0.770082\n",
            "[300]\ttraining's multi_logloss: 0.623282\tvalid_1's multi_logloss: 0.75021\n",
            "[400]\ttraining's multi_logloss: 0.579309\tvalid_1's multi_logloss: 0.736896\n",
            "[500]\ttraining's multi_logloss: 0.542442\tvalid_1's multi_logloss: 0.727902\n",
            "[600]\ttraining's multi_logloss: 0.510534\tvalid_1's multi_logloss: 0.721789\n",
            "[700]\ttraining's multi_logloss: 0.482519\tvalid_1's multi_logloss: 0.718155\n",
            "[800]\ttraining's multi_logloss: 0.457743\tvalid_1's multi_logloss: 0.716373\n",
            "[900]\ttraining's multi_logloss: 0.43574\tvalid_1's multi_logloss: 0.715445\n",
            "[1000]\ttraining's multi_logloss: 0.415467\tvalid_1's multi_logloss: 0.71509\n",
            "[1100]\ttraining's multi_logloss: 0.397109\tvalid_1's multi_logloss: 0.715652\n",
            "[1200]\ttraining's multi_logloss: 0.380002\tvalid_1's multi_logloss: 0.717028\n",
            "[1300]\ttraining's multi_logloss: 0.364332\tvalid_1's multi_logloss: 0.718665\n",
            "[1400]\ttraining's multi_logloss: 0.350052\tvalid_1's multi_logloss: 0.721347\n",
            "[1500]\ttraining's multi_logloss: 0.336397\tvalid_1's multi_logloss: 0.723875\n",
            "[1600]\ttraining's multi_logloss: 0.323584\tvalid_1's multi_logloss: 0.726891\n",
            "[1700]\ttraining's multi_logloss: 0.311604\tvalid_1's multi_logloss: 0.730699\n",
            "[1800]\ttraining's multi_logloss: 0.300514\tvalid_1's multi_logloss: 0.734688\n",
            "Early stopping, best iteration is:\n",
            "[957]\ttraining's multi_logloss: 0.423971\tvalid_1's multi_logloss: 0.714647\n",
            "========================================================================================\n",
            "====================================10============================================\n",
            "Training until validation scores don't improve for 900 rounds.\n",
            "[100]\ttraining's multi_logloss: 0.754633\tvalid_1's multi_logloss: 0.791917\n",
            "[200]\ttraining's multi_logloss: 0.679938\tvalid_1's multi_logloss: 0.754626\n",
            "[300]\ttraining's multi_logloss: 0.624978\tvalid_1's multi_logloss: 0.732667\n",
            "[400]\ttraining's multi_logloss: 0.580543\tvalid_1's multi_logloss: 0.718807\n",
            "[500]\ttraining's multi_logloss: 0.542766\tvalid_1's multi_logloss: 0.710374\n",
            "[600]\ttraining's multi_logloss: 0.510683\tvalid_1's multi_logloss: 0.703902\n",
            "[700]\ttraining's multi_logloss: 0.482745\tvalid_1's multi_logloss: 0.700843\n",
            "[800]\ttraining's multi_logloss: 0.458038\tvalid_1's multi_logloss: 0.699314\n",
            "[900]\ttraining's multi_logloss: 0.436117\tvalid_1's multi_logloss: 0.698728\n",
            "[1000]\ttraining's multi_logloss: 0.416304\tvalid_1's multi_logloss: 0.699917\n",
            "[1100]\ttraining's multi_logloss: 0.397886\tvalid_1's multi_logloss: 0.702118\n",
            "[1200]\ttraining's multi_logloss: 0.380772\tvalid_1's multi_logloss: 0.70422\n",
            "[1300]\ttraining's multi_logloss: 0.365153\tvalid_1's multi_logloss: 0.706724\n",
            "[1400]\ttraining's multi_logloss: 0.350746\tvalid_1's multi_logloss: 0.709627\n",
            "[1500]\ttraining's multi_logloss: 0.337195\tvalid_1's multi_logloss: 0.713385\n",
            "[1600]\ttraining's multi_logloss: 0.324335\tvalid_1's multi_logloss: 0.717429\n",
            "[1700]\ttraining's multi_logloss: 0.312683\tvalid_1's multi_logloss: 0.720952\n",
            "Early stopping, best iteration is:\n",
            "[882]\ttraining's multi_logloss: 0.439979\tvalid_1's multi_logloss: 0.698641\n",
            "========================================================================================\n"
          ],
          "name": "stdout"
        }
      ]
    },
    {
      "cell_type": "code",
      "metadata": {
        "id": "kRv3SbLd3hoo"
      },
      "source": [
        "submission.iloc[:,1:]=0\n",
        "for fold in range(10):\n",
        "    submission.iloc[:,1:] += kfold_models[fold].predict_proba(test)/10"
      ],
      "execution_count": null,
      "outputs": []
    },
    {
      "cell_type": "code",
      "metadata": {
        "id": "WWypgJZdudAH"
      },
      "source": [
        "submission.to_csv('[FINAL]DAY0_KFOLD10_BESTLGBM.csv', index=False)"
      ],
      "execution_count": null,
      "outputs": []
    },
    {
      "cell_type": "code",
      "metadata": {
        "colab": {
          "base_uri": "https://localhost:8080/",
          "height": 399
        },
        "id": "FUU59mVI3lHZ",
        "outputId": "a1f384e5-3ea0-4aeb-bc14-8e6c13cfe8f0"
      },
      "source": [
        "submission"
      ],
      "execution_count": null,
      "outputs": [
        {
          "output_type": "execute_result",
          "data": {
            "text/html": [
              "<div>\n",
              "<style scoped>\n",
              "    .dataframe tbody tr th:only-of-type {\n",
              "        vertical-align: middle;\n",
              "    }\n",
              "\n",
              "    .dataframe tbody tr th {\n",
              "        vertical-align: top;\n",
              "    }\n",
              "\n",
              "    .dataframe thead th {\n",
              "        text-align: right;\n",
              "    }\n",
              "</style>\n",
              "<table border=\"1\" class=\"dataframe\">\n",
              "  <thead>\n",
              "    <tr style=\"text-align: right;\">\n",
              "      <th></th>\n",
              "      <th>index</th>\n",
              "      <th>0</th>\n",
              "      <th>1</th>\n",
              "      <th>2</th>\n",
              "    </tr>\n",
              "  </thead>\n",
              "  <tbody>\n",
              "    <tr>\n",
              "      <th>0</th>\n",
              "      <td>26457</td>\n",
              "      <td>0.070888</td>\n",
              "      <td>0.257616</td>\n",
              "      <td>0.671496</td>\n",
              "    </tr>\n",
              "    <tr>\n",
              "      <th>1</th>\n",
              "      <td>26458</td>\n",
              "      <td>0.373937</td>\n",
              "      <td>0.241988</td>\n",
              "      <td>0.384075</td>\n",
              "    </tr>\n",
              "    <tr>\n",
              "      <th>2</th>\n",
              "      <td>26459</td>\n",
              "      <td>0.029219</td>\n",
              "      <td>0.068567</td>\n",
              "      <td>0.902215</td>\n",
              "    </tr>\n",
              "    <tr>\n",
              "      <th>3</th>\n",
              "      <td>26460</td>\n",
              "      <td>0.172539</td>\n",
              "      <td>0.118555</td>\n",
              "      <td>0.708906</td>\n",
              "    </tr>\n",
              "    <tr>\n",
              "      <th>4</th>\n",
              "      <td>26461</td>\n",
              "      <td>0.161346</td>\n",
              "      <td>0.340681</td>\n",
              "      <td>0.497973</td>\n",
              "    </tr>\n",
              "    <tr>\n",
              "      <th>...</th>\n",
              "      <td>...</td>\n",
              "      <td>...</td>\n",
              "      <td>...</td>\n",
              "      <td>...</td>\n",
              "    </tr>\n",
              "    <tr>\n",
              "      <th>9995</th>\n",
              "      <td>36452</td>\n",
              "      <td>0.082697</td>\n",
              "      <td>0.427754</td>\n",
              "      <td>0.489550</td>\n",
              "    </tr>\n",
              "    <tr>\n",
              "      <th>9996</th>\n",
              "      <td>36453</td>\n",
              "      <td>0.237062</td>\n",
              "      <td>0.216969</td>\n",
              "      <td>0.545969</td>\n",
              "    </tr>\n",
              "    <tr>\n",
              "      <th>9997</th>\n",
              "      <td>36454</td>\n",
              "      <td>0.044444</td>\n",
              "      <td>0.112166</td>\n",
              "      <td>0.843390</td>\n",
              "    </tr>\n",
              "    <tr>\n",
              "      <th>9998</th>\n",
              "      <td>36455</td>\n",
              "      <td>0.181580</td>\n",
              "      <td>0.368841</td>\n",
              "      <td>0.449578</td>\n",
              "    </tr>\n",
              "    <tr>\n",
              "      <th>9999</th>\n",
              "      <td>36456</td>\n",
              "      <td>0.073425</td>\n",
              "      <td>0.334420</td>\n",
              "      <td>0.592155</td>\n",
              "    </tr>\n",
              "  </tbody>\n",
              "</table>\n",
              "<p>10000 rows × 4 columns</p>\n",
              "</div>"
            ],
            "text/plain": [
              "      index         0         1         2\n",
              "0     26457  0.070888  0.257616  0.671496\n",
              "1     26458  0.373937  0.241988  0.384075\n",
              "2     26459  0.029219  0.068567  0.902215\n",
              "3     26460  0.172539  0.118555  0.708906\n",
              "4     26461  0.161346  0.340681  0.497973\n",
              "...     ...       ...       ...       ...\n",
              "9995  36452  0.082697  0.427754  0.489550\n",
              "9996  36453  0.237062  0.216969  0.545969\n",
              "9997  36454  0.044444  0.112166  0.843390\n",
              "9998  36455  0.181580  0.368841  0.449578\n",
              "9999  36456  0.073425  0.334420  0.592155\n",
              "\n",
              "[10000 rows x 4 columns]"
            ]
          },
          "metadata": {
            "tags": []
          },
          "execution_count": 214
        }
      ]
    },
    {
      "cell_type": "markdown",
      "metadata": {
        "id": "8e_fffMlsIm4"
      },
      "source": [
        "# 앙상블"
      ]
    },
    {
      "cell_type": "markdown",
      "metadata": {
        "id": "LmYAIdSIsKDz"
      },
      "source": [
        "- voting classification"
      ]
    },
    {
      "cell_type": "code",
      "metadata": {
        "id": "S-s9040QlYW-"
      },
      "source": [
        "meta_voting = VotingClassifier(estimators = [('s_lgbm',s_lgbm ), ('s_ext', s_ext),('s_xgb',s_xgb)], voting='soft')\n",
        "meta_voting.fit(S_train, y_train)\n",
        "meta_pred = meta_voting.predict_proba(S_test)"
      ],
      "execution_count": null,
      "outputs": []
    }
  ]
}